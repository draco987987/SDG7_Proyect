{
  "cells": [
    {
      "cell_type": "markdown",
      "metadata": {
        "id": "0aStgWSO0E0E"
      },
      "source": [
        "# **Prediction model**"
      ]
    },
    {
      "cell_type": "markdown",
      "metadata": {
        "id": "1eLEkw5O0ECa"
      },
      "source": [
        "## Objectives\n",
        "\n",
        "* Predict future trends in access to electricity, access to clean fuels, and CO₂ emissions by 2030.\n",
        "\n",
        "* Use linear regression models per country based on historical data (2000–2020) to estimate realistic, explainable future scenarios aligned with SDG 7 targets.\n",
        "\n",
        "* Ensure interpretability and transparency in the prediction process to support policy communication and public understanding.\n",
        "\n",
        "## Inputs\n",
        "\n",
        "* Cleaned dataset from: the previous ETL stage (global-data-on-sustainable-energy-processed.csv)\n",
        "\n",
        "* Variables used:\n",
        "\n",
        "*   Time series per country for each target variable\n",
        "\n",
        "*   Historical values from 2000 to 2020 (at least 5 valid data points per country/target)\n",
        "\n",
        "*   No socioeconomic projections beyond 2020 are assumed (trend-based forecasting only)\n",
        "\n",
        "## Outputs\n",
        "\n",
        "*   Linear Regression models trained individually per country and target variable\n",
        "\n",
        "*   Forecasted values for the year 2030, exported to:\n",
        "\n",
        "        * data/predictions_linear_2030.csv\n",
        "\n",
        "*   Visualisations showing:\n",
        "\n",
        "    * Predicted distributions per variable\n",
        "\n",
        "    * Country-level comparison between current and projected values\n",
        "\n",
        "   \n",
        "\n",
        "\n"
      ]
    },
    {
      "cell_type": "markdown",
      "metadata": {
        "id": "9uWZXH9LwoQg"
      },
      "source": [
        "---"
      ]
    },
    {
      "cell_type": "markdown",
      "metadata": {
        "id": "cqP-UeN-z3i2"
      },
      "source": [
        "# Change working directory"
      ]
    },
    {
      "cell_type": "markdown",
      "metadata": {},
      "source": [
        "* We are assuming you will store the notebooks in a subfolder, therefore when running the notebook in the editor, you will need to change the working directory"
      ]
    },
    {
      "cell_type": "markdown",
      "metadata": {
        "id": "aOGIGS-uz3i2"
      },
      "source": [
        "We need to change the working directory from its current folder to its parent folder\n",
        "* We access the current directory with os.getcwd()"
      ]
    },
    {
      "cell_type": "code",
      "execution_count": null,
      "metadata": {
        "id": "wZfF_j-Bz3i4",
        "outputId": "66943449-1436-4c3d-85c7-b85f9f78349b"
      },
      "outputs": [],
      "source": [
        "import os\n",
        "current_dir = os.getcwd()\n",
        "current_dir"
      ]
    },
    {
      "cell_type": "markdown",
      "metadata": {
        "id": "9MWW8E7lz3i7"
      },
      "source": [
        "We want to make the parent of the current directory the new current directory\n",
        "* os.path.dirname() gets the parent directory\n",
        "* os.chir() defines the new current directory"
      ]
    },
    {
      "cell_type": "code",
      "execution_count": null,
      "metadata": {
        "id": "TwHsQRWjz3i9",
        "outputId": "86849db3-cd2f-4cc5-ebb8-2d0caafa1a2c"
      },
      "outputs": [],
      "source": [
        "os.chdir(os.path.dirname(current_dir))\n",
        "print(\"You set a new current directory\")"
      ]
    },
    {
      "cell_type": "markdown",
      "metadata": {
        "id": "M_xPk_Ijz3i-"
      },
      "source": [
        "Confirm the new current directory"
      ]
    },
    {
      "cell_type": "code",
      "execution_count": null,
      "metadata": {
        "id": "vz3S-_kjz3jA",
        "outputId": "00b79ae4-75d0-4a96-d193-ac9ef9847ea2"
      },
      "outputs": [],
      "source": [
        "current_dir = os.getcwd()\n",
        "current_dir"
      ]
    },
    {
      "cell_type": "markdown",
      "metadata": {
        "id": "-mavJ8DibrcQ"
      },
      "source": [
        "# Import Libraries and Build the model"
      ]
    },
    {
      "cell_type": "code",
      "execution_count": null,
      "metadata": {},
      "outputs": [],
      "source": [
        "import pandas as pd\n",
        "import numpy as np\n",
        "from sklearn.model_selection import train_test_split\n",
        "from sklearn.ensemble import RandomForestRegressor\n",
        "from sklearn.metrics import r2_score, mean_absolute_error, mean_squared_error\n",
        "from sklearn.linear_model import LinearRegression\n",
        "import matplotlib.pyplot as plt\n",
        "import seaborn as sns"
      ]
    },
    {
      "cell_type": "code",
      "execution_count": null,
      "metadata": {},
      "outputs": [],
      "source": [
        "df = pd.read_csv('Data\\Processed\\global-data-on-sustainable-energy-processed.csv')"
      ]
    },
    {
      "cell_type": "code",
      "execution_count": null,
      "metadata": {},
      "outputs": [],
      "source": [
        "df.dtypes"
      ]
    },
    {
      "cell_type": "markdown",
      "metadata": {},
      "source": [
        "# Create a predictive model using linear regresion"
      ]
    },
    {
      "cell_type": "code",
      "execution_count": null,
      "metadata": {},
      "outputs": [],
      "source": [
        "sns.set_style(\"whitegrid\")\n",
        "\n",
        "# Variables to predict\n",
        "target_vars = [\n",
        "    'access_to_electricity',\n",
        "    'access_to_clean_fuels',\n",
        "    'co2_emissions_kt',\n",
        "    'renewable_capacity_per_capita'  \n",
        "]\n",
        "year_future = 2030\n",
        "\n",
        "# Prepare predictions and metrics\n",
        "predictions = []\n",
        "metrics = []\n",
        "\n",
        "# Loop through countries and predict each target\n",
        "for country in df['country'].unique():\n",
        "    df_country = df[df['country'] == country]\n",
        "\n",
        "    for target in target_vars:\n",
        "        df_target = df_country[['year', target]].dropna()\n",
        "\n",
        "        if len(df_target) >= 5:  # Ensure minimum data points\n",
        "            X = df_target[['year']]\n",
        "            y = df_target[target]\n",
        "\n",
        "            model = LinearRegression()\n",
        "            model.fit(X, y)\n",
        "            y_pred = model.predict(X)\n",
        "\n",
        "            # Predict future\n",
        "            future_input = pd.DataFrame({'year': [year_future]})\n",
        "            future_pred = model.predict(future_input)[0]\n",
        "\n",
        "            # Apply bounds for % variables\n",
        "            if target in ['access_to_electricity', 'access_to_clean_fuels']:\n",
        "                future_pred = min(100, max(0, future_pred))\n",
        "            elif target == 'renewable_capacity_per_capita':\n",
        "                future_pred = max(0, future_pred)  # prevent negative capacity\n",
        "\n",
        "            predictions.append({\n",
        "                'country': country,\n",
        "                'target': target,\n",
        "                'predicted_value_2030': future_pred\n",
        "            })\n",
        "\n",
        "            # Metrics\n",
        "            r2 = r2_score(y, y_pred)\n",
        "            mae = mean_absolute_error(y, y_pred)\n",
        "            metrics.append({\n",
        "                'country': country,\n",
        "                'target': target,\n",
        "                'r2': r2,\n",
        "                'mae': mae\n",
        "            })\n",
        "\n",
        "# Convert to DataFrame\n",
        "df_predictions = pd.DataFrame(predictions)\n",
        "df_metrics = pd.DataFrame(metrics)\n",
        "\n",
        "# Pivot to wide format for exporting or dashboard\n",
        "df_2030 = df_predictions.pivot(index='country', columns='target', values='predicted_value_2030').reset_index()\n",
        "df_2030['year'] = year_future\n",
        "\n",
        "# Save to CSV\n",
        "df_2030.to_csv(\"Data/Predictions/predictions_linear_2030.csv\", index=False)\n",
        "\n",
        "# Print metrics summary\n",
        "print(\"Performance Metrics promedio por variable:\")\n",
        "for target in target_vars:\n",
        "    sub_df = df_metrics[df_metrics['target'] == target]\n",
        "\n",
        "    if sub_df.empty:\n",
        "        print(f\"\\n{target}: no hay métricas registradas.\")\n",
        "        continue\n",
        "\n",
        "    mae_avg = sub_df['mae'].mean()\n",
        "    r2_avg = sub_df['r2'].mean()\n",
        "\n",
        "    print(f\"\\n{target}:\")\n",
        "    print(f\"  MAE promedio: {mae_avg:.2f}\")\n",
        "    print(f\"  R² promedio : {r2_avg:.2f}\")\n",
        "\n",
        "\n",
        "\n"
      ]
    },
    {
      "cell_type": "code",
      "execution_count": null,
      "metadata": {},
      "outputs": [],
      "source": [
        "# Histograms of predictions\n",
        "for target in target_vars:\n",
        "    plt.figure(figsize=(10, 6))\n",
        "    sns.histplot(df_2030[target], kde=True, bins=30)\n",
        "    plt.title(f\"Distribution of Predicted {target} in 2030\")\n",
        "    plt.xlabel(target)\n",
        "    plt.ylabel(\"Count of Countries\")\n",
        "    plt.grid(True)\n",
        "    plt.tight_layout()\n",
        "    plt.show()\n"
      ]
    },
    {
      "cell_type": "code",
      "execution_count": null,
      "metadata": {},
      "outputs": [],
      "source": [
        "# Save results\n",
        "df_pred = pd.DataFrame(predictions)\n",
        "df_2030 = df_pred.pivot(index='country', columns='target', values='predicted_value_2030').reset_index()\n",
        "df_2030['year'] = year_future\n",
        "df_2030.to_csv(\"data/Predictions/predictions_linear_2030.csv\", index=False)\n",
        "print(\"Predictions saved to data/predictions_linear_2030.csv\")\n"
      ]
    },
    {
      "cell_type": "markdown",
      "metadata": {},
      "source": [
        "## Model Justification: Linear Regression per Country (2030 Predictions)"
      ]
    },
    {
      "cell_type": "markdown",
      "metadata": {},
      "source": [
        "For this project, I used **simple linear regression models** applied **individually per country and per target variable** (`access_to_electricity`, `access_to_clean_fuels`, `co2_emissions_kt`). This approach was chosen based on the following reasons:\n",
        "\n",
        " **Interpretability**: Linear regression is transparent and easy to explain. Each country has its own model, making it straightforward to analyze and validate.\n",
        "\n",
        " **Data Availability**: The dataset contains historical time series per country from ~2000 to 2020, making linear trends a reasonable first assumption.\n",
        "\n",
        " **Project Requirements**: The model provides clear numerical predictions for 2030, aligned with the SDG 7 goal year.\n",
        " \n",
        " **Simplicity and Scalability**: Running many small linear models is computationally light and allows prediction coverage for over 170 countries.\n"
      ]
    },
    {
      "cell_type": "markdown",
      "metadata": {},
      "source": [
        "### Limitations of the Model\n",
        "\n",
        "While linear regression offers clarity and speed, it has some key limitations:\n",
        "\n",
        "**Oversimplification**: It assumes a linear relationship between the year and the target variable, which may not hold true for all countries or contexts.\n",
        "\n",
        "**Univariate Dependence**: The model only uses the year as an explanatory variable, ignoring other important factors (e.g., GDP, energy policy, urbanization).\n",
        "\n",
        "**Low Reliability in CO₂ Predictions**: The model for `co2_emissions_kt` shows weak performance (average R² ≈ 0.47), meaning the predictions should be interpreted with caution.\n",
        "\n",
        " **Data Gaps and Quality**: Countries with less than 5 data points were excluded to maintain a minimal baseline of reliability, but this introduces uneven coverage."
      ]
    },
    {
      "cell_type": "markdown",
      "metadata": {},
      "source": [
        "### Ethical Considerations\n",
        "\n",
        "**Transparency**: The model and its metrics are shared openly, and limitations are documented. No hidden logic or black-box modeling was used.\n",
        "\n",
        "**Fair Representation**: Each country is modeled independently to avoid biasing predictions in favor of higher-income nations.\n",
        "\n",
        "**No Policy Forecasting**: These predictions are statistical extrapolations, **not forecasts** based on political, environmental, or technological changes. Misinterpreting them as such could lead to flawed conclusions.\n",
        "\n",
        "**Avoiding Misuse**: The predictions should not be used to rank countries' efforts or assign blame. They reflect historical trends, not intent or capability.\n"
      ]
    },
    {
      "cell_type": "markdown",
      "metadata": {
        "id": "ZY3l0-AxO93d"
      },
      "source": [
        "---"
      ]
    },
    {
      "cell_type": "markdown",
      "metadata": {},
      "source": [
        "---"
      ]
    }
  ],
  "metadata": {
    "accelerator": "GPU",
    "colab": {
      "name": "Data Practitioner Jupyter Notebook.ipynb",
      "provenance": [],
      "toc_visible": true
    },
    "kernelspec": {
      "display_name": ".venv",
      "language": "python",
      "name": "python3"
    },
    "language_info": {
      "codemirror_mode": {
        "name": "ipython",
        "version": 3
      },
      "file_extension": ".py",
      "mimetype": "text/x-python",
      "name": "python",
      "nbconvert_exporter": "python",
      "pygments_lexer": "ipython3",
      "version": "3.12.10"
    },
    "orig_nbformat": 2
  },
  "nbformat": 4,
  "nbformat_minor": 2
}
