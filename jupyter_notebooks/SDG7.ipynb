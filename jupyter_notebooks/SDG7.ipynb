{
  "cells": [
    {
      "cell_type": "markdown",
      "metadata": {
        "id": "0aStgWSO0E0E"
      },
      "source": [
        "# **(ADD THE NOTEBOOK NAME HERE)**"
      ]
    },
    {
      "cell_type": "markdown",
      "metadata": {
        "id": "1eLEkw5O0ECa"
      },
      "source": [
        "## Objectives\n",
        "\n",
        "* Write your notebook objective here, for example, \"Fetch data from Kaggle and save as raw data\", or \"engineer features for modelling\"\n",
        "\n",
        "## Inputs\n",
        "\n",
        "* Write down which data or information you need to run the notebook \n",
        "\n",
        "## Outputs\n",
        "\n",
        "* Write here which files, code or artefacts you generate by the end of the notebook \n",
        "\n",
        "## Additional Comments\n",
        "\n",
        "* If you have any additional comments that don't fit in the previous bullets, please state them here. \n",
        "\n"
      ]
    },
    {
      "cell_type": "markdown",
      "metadata": {
        "id": "9uWZXH9LwoQg"
      },
      "source": [
        "---"
      ]
    },
    {
      "cell_type": "markdown",
      "metadata": {
        "id": "cqP-UeN-z3i2"
      },
      "source": [
        "# Change working directory"
      ]
    },
    {
      "cell_type": "markdown",
      "metadata": {},
      "source": [
        "* We are assuming you will store the notebooks in a subfolder, therefore when running the notebook in the editor, you will need to change the working directory"
      ]
    },
    {
      "cell_type": "markdown",
      "metadata": {
        "id": "aOGIGS-uz3i2"
      },
      "source": [
        "We need to change the working directory from its current folder to its parent folder\n",
        "* We access the current directory with os.getcwd()"
      ]
    },
    {
      "cell_type": "code",
      "execution_count": null,
      "metadata": {
        "id": "wZfF_j-Bz3i4",
        "outputId": "66943449-1436-4c3d-85c7-b85f9f78349b"
      },
      "outputs": [],
      "source": [
        "import os\n",
        "current_dir = os.getcwd()\n",
        "current_dir"
      ]
    },
    {
      "cell_type": "markdown",
      "metadata": {
        "id": "9MWW8E7lz3i7"
      },
      "source": [
        "We want to make the parent of the current directory the new current directory\n",
        "* os.path.dirname() gets the parent directory\n",
        "* os.chir() defines the new current directory"
      ]
    },
    {
      "cell_type": "code",
      "execution_count": null,
      "metadata": {
        "id": "TwHsQRWjz3i9",
        "outputId": "86849db3-cd2f-4cc5-ebb8-2d0caafa1a2c"
      },
      "outputs": [],
      "source": [
        "os.chdir(os.path.dirname(current_dir))\n",
        "print(\"You set a new current directory\")"
      ]
    },
    {
      "cell_type": "markdown",
      "metadata": {
        "id": "M_xPk_Ijz3i-"
      },
      "source": [
        "Confirm the new current directory"
      ]
    },
    {
      "cell_type": "code",
      "execution_count": null,
      "metadata": {
        "id": "vz3S-_kjz3jA",
        "outputId": "00b79ae4-75d0-4a96-d193-ac9ef9847ea2"
      },
      "outputs": [],
      "source": [
        "current_dir = os.getcwd()\n",
        "current_dir"
      ]
    },
    {
      "cell_type": "markdown",
      "metadata": {},
      "source": [
        "**Import Libraries**"
      ]
    },
    {
      "cell_type": "code",
      "execution_count": null,
      "metadata": {},
      "outputs": [],
      "source": [
        "import pandas as pd\n",
        "import numpy as np\n",
        "import matplotlib.pyplot as plt\n",
        "import seaborn as sns\n",
        "import plotly.express as px\n"
      ]
    },
    {
      "cell_type": "markdown",
      "metadata": {},
      "source": [
        "**Load Dataset and test it**"
      ]
    },
    {
      "cell_type": "code",
      "execution_count": null,
      "metadata": {},
      "outputs": [],
      "source": [
        "raw_path = \"Data\\Raw\\global-data-on-sustainable-energy.csv\"\n",
        "df = pd.read_csv(raw_path, encoding='latin1')\n",
        "df.head()"
      ]
    },
    {
      "cell_type": "markdown",
      "metadata": {},
      "source": [
        "***ETL***"
      ]
    },
    {
      "cell_type": "markdown",
      "metadata": {},
      "source": [
        "**Rename the colums for easier access**"
      ]
    },
    {
      "cell_type": "code",
      "execution_count": null,
      "metadata": {},
      "outputs": [],
      "source": [
        "df.rename(columns={\n",
        "    'Entity': 'country',\n",
        "    'Access to electricity (% of population)': 'access_to_electricity',\n",
        "    'Access to clean fuels for cooking': 'access_to_clean_fuels',\n",
        "    'Renewable-electricity-generating-capacity-per-capita': 'renewable_capacity_per_capita',\n",
        "    'Financial flows to developing countries (US $)': 'financial_flows',\n",
        "    'Renewable energy share in the total final energy consumption (%)': 'renewable_energy_share',\n",
        "    'Electricity from fossil fuels (TWh)': 'fossil_electricity',\n",
        "    'Electricity from nuclear (TWh)': 'nuclear_electricity',\n",
        "    'Electricity from renewables (TWh)': 'renewable_electricity',\n",
        "    'Low-carbon electricity (% electricity)': 'low_carbon_electricity_pct',\n",
        "    'Primary energy consumption per capita (kWh/person)': 'primary_energy_per_capita',\n",
        "    'Energy intensity level of primary energy (MJ/$2017 PPP GDP)': 'energy_intensity',\n",
        "    'Value_co2_emissions_kt_by_country': 'co2_emissions_kt',\n",
        "    'density\\\\np/km2': 'density'\n",
        "}, inplace=True)\n",
        "# Cleaning column names\n",
        "df.columns = df.columns.str.strip().str.lower().str.replace('\\n', '_').str.replace(' ', '_').str.replace('(', '').str.replace(')', '')\n",
        "df.rename(columns={\n",
        "    'density\\\\np/km2': 'density'\n",
        "}, inplace=True)\n",
        "df.head()"
      ]
    },
    {
      "cell_type": "markdown",
      "metadata": {},
      "source": [
        "**Check types**"
      ]
    },
    {
      "cell_type": "code",
      "execution_count": null,
      "metadata": {},
      "outputs": [],
      "source": [
        "df.dtypes"
      ]
    },
    {
      "cell_type": "markdown",
      "metadata": {},
      "source": [
        "**Check Null values**"
      ]
    },
    {
      "cell_type": "code",
      "execution_count": null,
      "metadata": {},
      "outputs": [],
      "source": [
        "null_columns = df.isnull().sum()\n",
        "null_columns = null_columns[null_columns > 0]\n",
        "print(null_columns)\n"
      ]
    },
    {
      "cell_type": "markdown",
      "metadata": {},
      "source": [
        "**Eliminate columns with too many null values and redundant data**"
      ]
    },
    {
      "cell_type": "code",
      "execution_count": null,
      "metadata": {},
      "outputs": [],
      "source": [
        "columns_to_drop = ['density', 'land_areakm2', 'latitude', 'longitude', 'renewables_%_equivalent_primary_energy', 'financial_flows']\n",
        "df.drop(columns=columns_to_drop, inplace=True)\n",
        "print(\"Dropped columns:\", columns_to_drop)"
      ]
    },
    {
      "cell_type": "code",
      "execution_count": null,
      "metadata": {},
      "outputs": [],
      "source": [
        "null_columns = df.isnull().sum()\n",
        "print(null_columns)"
      ]
    },
    {
      "cell_type": "markdown",
      "metadata": {},
      "source": [
        "**Use interpolate to fill the null values**"
      ]
    },
    {
      "cell_type": "code",
      "execution_count": null,
      "metadata": {},
      "outputs": [],
      "source": [
        "df.interpolate(method='linear', inplace=True)\n",
        "df = df.sort_values(by=['country', 'year'])\n",
        "df = df.groupby('country').apply(lambda group: group.interpolate(method='linear', limit_direction='both'))\n",
        "null_columns = df.isnull().sum()\n",
        "print(null_columns)"
      ]
    },
    {
      "cell_type": "markdown",
      "metadata": {},
      "source": [
        "**Save the dataset as a clean csv**"
      ]
    },
    {
      "cell_type": "code",
      "execution_count": null,
      "metadata": {},
      "outputs": [],
      "source": [
        "processed_path = \"Data/Processed/global-data-on-sustainable-energy-processed.csv\"\n",
        "df.to_csv(processed_path, index=False)\n",
        "print(\"Processed data saved to:\", processed_path)"
      ]
    },
    {
      "cell_type": "code",
      "execution_count": null,
      "metadata": {},
      "outputs": [],
      "source": [
        "processed_df = pd.read_csv(processed_path)\n",
        "print(\"Processed data loaded successfully.\")\n",
        "processed_df.head()"
      ]
    },
    {
      "cell_type": "markdown",
      "metadata": {
        "id": "-mavJ8DibrcQ"
      },
      "source": [
        "# EDA"
      ]
    },
    {
      "cell_type": "markdown",
      "metadata": {},
      "source": [
        "Visual check"
      ]
    },
    {
      "cell_type": "code",
      "execution_count": 58,
      "metadata": {},
      "outputs": [
        {
          "name": "stdout",
          "output_type": "stream",
          "text": [
            "<class 'pandas.core.frame.DataFrame'>\n",
            "RangeIndex: 3649 entries, 0 to 3648\n",
            "Data columns (total 15 columns):\n",
            " #   Column                         Non-Null Count  Dtype  \n",
            "---  ------                         --------------  -----  \n",
            " 0   country                        3649 non-null   object \n",
            " 1   year                           3649 non-null   int64  \n",
            " 2   access_to_electricity          3649 non-null   float64\n",
            " 3   access_to_clean_fuels          3649 non-null   float64\n",
            " 4   renewable_capacity_per_capita  3649 non-null   float64\n",
            " 5   renewable_energy_share         3649 non-null   float64\n",
            " 6   fossil_electricity             3649 non-null   float64\n",
            " 7   nuclear_electricity            3649 non-null   float64\n",
            " 8   renewable_electricity          3649 non-null   float64\n",
            " 9   low_carbon_electricity_pct     3649 non-null   float64\n",
            " 10  primary_energy_per_capita      3649 non-null   float64\n",
            " 11  energy_intensity               3649 non-null   float64\n",
            " 12  co2_emissions_kt               3649 non-null   float64\n",
            " 13  gdp_growth                     3649 non-null   float64\n",
            " 14  gdp_per_capita                 3649 non-null   float64\n",
            "dtypes: float64(13), int64(1), object(1)\n",
            "memory usage: 427.7+ KB\n"
          ]
        }
      ],
      "source": [
        "processed_df.info()\n"
      ]
    },
    {
      "cell_type": "markdown",
      "metadata": {},
      "source": [
        "Basic statistics"
      ]
    },
    {
      "cell_type": "code",
      "execution_count": null,
      "metadata": {},
      "outputs": [],
      "source": [
        "processed_df.describe().T"
      ]
    },
    {
      "cell_type": "markdown",
      "metadata": {},
      "source": [
        "### 1. Global Trend in Access to Electricity"
      ]
    },
    {
      "cell_type": "markdown",
      "metadata": {},
      "source": [
        "This plot shows the average global access to electricity from 2000 to 2020. The trend is upward, which reflects the overall global effort toward achieving SDG 7 targets.\n"
      ]
    },
    {
      "cell_type": "code",
      "execution_count": null,
      "metadata": {},
      "outputs": [],
      "source": [
        "global_access = processed_df.groupby('year')['access_to_electricity'].mean().reset_index()\n",
        "\n",
        "plt.plot(global_access['year'], global_access['access_to_electricity'], marker='o')\n",
        "plt.title('Global Access to Electricity Over Time')\n",
        "plt.xlabel('Year')\n",
        "plt.ylabel('Access to Electricity (% of Population)')\n",
        "plt.grid()\n",
        "plt.show()"
      ]
    },
    {
      "cell_type": "markdown",
      "metadata": {},
      "source": [
        "We can observe a steady global improvement, from approximately 73% in 2000 to over 85% by 2020. However, this global average may hide severe disparities among regions and countries.\n"
      ]
    },
    {
      "cell_type": "markdown",
      "metadata": {},
      "source": [
        "### 2. Countries with the Lowest Electricity Access in 2020\n",
        "\n",
        "This horizontal bar chart displays the bottom 10 countries in terms of electricity access percentage. All values are below 30%, highlighting critical energy poverty.\n"
      ]
    },
    {
      "cell_type": "code",
      "execution_count": null,
      "metadata": {},
      "outputs": [],
      "source": [
        "latest_year = processed_df['year'].max()\n",
        "bottom_10_countries = processed_df[processed_df['year'] == latest_year].nsmallest(10, 'access_to_electricity')\n",
        "\n",
        "sns.barplot(data=bottom_10_countries, x='access_to_electricity', y='country', palette='viridis')\n",
        "plt.title(f'Bottom 10 Countries by Access to Electricity in {latest_year}')\n",
        "plt.xlabel('Access to Electricity (% of Population)')\n",
        "plt.ylabel('Country')\n",
        "plt.show()"
      ]
    },
    {
      "cell_type": "markdown",
      "metadata": {},
      "source": [
        "South Sudan, Chad, and Burundi have the lowest access rates, many below 10%. These countries are in Sub-Saharan Africa, where infrastructure and political instability are major limiting factors.\n"
      ]
    },
    {
      "cell_type": "markdown",
      "metadata": {},
      "source": [
        "### 3. Correlation Between Key Energy and Development Indicators\n",
        "\n",
        "This correlation matrix helps us understand the relationships between electricity access, clean fuels, renewables, energy intensity, emissions, and GDP per capita."
      ]
    },
    {
      "cell_type": "code",
      "execution_count": null,
      "metadata": {},
      "outputs": [],
      "source": [
        "correlation_cols = ['access_to_electricity', 'access_to_clean_fuels', 'renewable_capacity_per_capita',\n",
        "                    'renewable_energy_share', 'fossil_electricity', 'nuclear_electricity',\n",
        "                    'energy_intensity', 'co2_emissions_kt', 'gdp_per_capita']\n",
        "\n",
        "correlation_matrix = processed_df[correlation_cols].corr()\n",
        "sns.heatmap(correlation_matrix, annot=True, fmt='.2f', cmap='coolwarm', square=True)\n",
        "plt.title('Correlation Matrix of Key Variables')\n",
        "plt.show()"
      ]
    },
    {
      "cell_type": "markdown",
      "metadata": {},
      "source": [
        "There is a strong positive correlation between access to electricity and clean fuels (0.84), as expected. Interestingly, renewable energy share has a strong **negative correlation** with access indicators, which may suggest that countries with high renewables still struggle with universal access — potentially due to underdeveloped grids. GDP per capita shows a moderate positive correlation with electricity access (0.41).\n"
      ]
    },
    {
      "cell_type": "markdown",
      "metadata": {
        "id": "ZY3l0-AxO93d"
      },
      "source": [
        "---"
      ]
    },
    {
      "cell_type": "markdown",
      "metadata": {},
      "source": [
        "### 4. Choropleth Map: Access to Electricity by Country (2020)\n",
        "\n",
        "This interactive choropleth map displays global disparities in access to electricity. Each country is shaded according to the percentage of its population with access to electricity in the year 2020.\n",
        "\n",
        "The map helps identify geographic patterns of energy inequality. Sub-Saharan Africa shows notably lower access levels, while most developed regions are above 95%.\n"
      ]
    },
    {
      "cell_type": "code",
      "execution_count": null,
      "metadata": {},
      "outputs": [],
      "source": [
        "# filter by year\n",
        "\n",
        "for year in [2000, 2010, 2020]:\n",
        "    df_year = df[df[\"year\"] == year]\n",
        "    fig = px.choropleth(\n",
        "        df_year,\n",
        "        locations=\"country\",\n",
        "        locationmode=\"country names\",\n",
        "        color=\"access_to_electricity\",\n",
        "        hover_name=\"country\",\n",
        "        color_continuous_scale=\"YlGnBu\",\n",
        "        title=f\"Global Electricity Access – {year}\",\n",
        "        labels={'access_to_electricity': '% Electricity Access'}\n",
        "    )\n",
        "    fig.show()\n",
        "\n",
        "fig.update_layout(\n",
        "    geo=dict(showframe=False, showcoastlines=True, coastlinecolor='Black'),\n",
        "    margin=dict(l=0, r=0, t=50, b=0),\n",
        "    coloraxis_colorbar=dict(title='Access to Electricity (%)') )"
      ]
    },
    {
      "cell_type": "markdown",
      "metadata": {},
      "source": [
        "The visualization confirms the critical need for investment in electricity infrastructure across many African countries. This spatial insight supports the focus of SDG 7 on closing energy access gaps globally. The countries that did not appear on the map are missing due to the absence of data.\n",
        "\n"
      ]
    },
    {
      "cell_type": "markdown",
      "metadata": {
        "id": "uFQo3ycuO-v6"
      },
      "source": [
        "# Hypothesis"
      ]
    },
    {
      "cell_type": "markdown",
      "metadata": {},
      "source": [
        "### GDP per Capita vs Access to clean Energy\n",
        "\n",
        "countries with lower GDP per capita tend to have lower access to clean energy\n",
        "- Access to electriciy\n",
        "- access to clean fuels for cooking\n",
        "\n",
        "this will be analysed using scatter plots and correlation coefficients.\n"
      ]
    },
    {
      "cell_type": "code",
      "execution_count": null,
      "metadata": {},
      "outputs": [],
      "source": [
        "# Filter by year\n",
        "latest_year = processed_df['year'].max()\n",
        "\n",
        "\n",
        "# Scatter plot: GDP per capita vs Access to Electricity\n",
        "sns.scatterplot(\n",
        "    data=df_year,\n",
        "    x='gdp_per_capita',\n",
        "    y='access_to_electricity'\n",
        ")\n",
        "plt.title('GDP per Capita vs Access to Electricity (2020)')\n",
        "plt.xlabel('GDP per Capita (USD)')\n",
        "plt.ylabel('Access to Electricity (%)')\n",
        "plt.grid(True)\n",
        "plt.show()"
      ]
    },
    {
      "cell_type": "code",
      "execution_count": null,
      "metadata": {},
      "outputs": [],
      "source": [
        "# Filter by year\n",
        "year = 2020\n",
        "df_year = df[df[\"year\"] == year]\n",
        "\n",
        "# 5 countries with lowest access to electricity\n",
        "bottom5 = df_year.sort_values(\"access_to_electricity\").head(5)[\"country\"].unique()\n",
        "\n",
        "# Filter the DataFrame for the bottom 5 countries\n",
        "df_violin = df[df[\"country\"].isin(bottom5)]\n",
        "\n",
        "# Create a violin plot for GDP per capita in the bottom 5 countries\n",
        "plt.figure(figsize=(10, 6))\n",
        "sns.violinplot(\n",
        "    data=df_violin,\n",
        "    x=\"country\",\n",
        "    y=\"gdp_per_capita\",\n",
        "    palette=\"Set2\"\n",
        ")\n",
        "\n",
        "plt.title(\"GDP per Capita Distribution in Countries with Lowest Electricity Access\")\n",
        "plt.xlabel(\"Country\")\n",
        "plt.ylabel(\"GDP per Capita (USD)\")\n",
        "plt.grid(True)\n",
        "plt.tight_layout()\n",
        "plt.show()"
      ]
    },
    {
      "cell_type": "code",
      "execution_count": null,
      "metadata": {},
      "outputs": [],
      "source": [
        "# scatter plot: gdp per capita vs access to clean fuels\n",
        "sns.scatterplot(\n",
        "    data=df_year,\n",
        "    x='gdp_per_capita',\n",
        "    y='access_to_clean_fuels'\n",
        ")\n",
        "plt.title('GDP per Capita vs Access to Clean Fuels (2020)')\n",
        "plt.xlabel('GDP per Capita (USD)')  \n",
        "plt.ylabel('Access to Clean Fuels (%)')\n",
        "plt.grid(True)\n",
        "plt.show()"
      ]
    },
    {
      "cell_type": "code",
      "execution_count": null,
      "metadata": {},
      "outputs": [],
      "source": [
        "# correlation between gdp per capita and access to electricity\n",
        "gdp_access_corr = df_year[['gdp_per_capita', 'access_to_electricity']].corr().iloc[0, 1]\n",
        "fuels_access_corr = df_year[['gdp_per_capita', 'access_to_clean_fuels']].corr().iloc[0, 1]\n",
        "print(f\"Correlation between GDP per Capita and Access to Electricity: {gdp_access_corr:.2f}\")\n",
        "print(f\"Correlation between GDP per Capita and Access to Clean Fuels: {fuels_access_corr:.2f}\")"
      ]
    },
    {
      "cell_type": "markdown",
      "metadata": {},
      "source": [
        "**Interpretation of Hypothesis 1:**\n",
        "\n",
        "The scatter plots and correlation analysis suggest a moderate positive relationship between GDP per capita and access to clean energy resources (electricity and clean fuels). \n",
        "\n",
        "- Countries with very low income levels tend to have poorer energy access.\n",
        "- However, some low-income countries still achieve high access levels, indicating that GDP alone is not a perfect predictor.\n",
        "\n",
        "**Correlation values:**\n",
        "- GDP vs Access to Electricity: **0.36**\n",
        "- GDP vs Access to Clean Fuels: **0.38**\n",
        "\n",
        "These values support the hypothesis partially — GDP per capita is an important factor, but not the only one influencing clean energy access.\n"
      ]
    },
    {
      "cell_type": "markdown",
      "metadata": {},
      "source": [
        "### Hypothesis 2: Renewable Growth vs Electricity Access Improvement\n",
        "\n",
        "This analysis compares the percentage growth in renewable electricity capacity per capita and the growth in access to electricity between 2000 and 2020.\n",
        "\n",
        "Note: Countries with 100% electricity access in the base year (2000) are going to be excluded from this analysis\n",
        "\n",
        "A scatter plot and correlation are used to evaluate whether increasing renewable capacity leads to better electricity access.\n"
      ]
    },
    {
      "cell_type": "code",
      "execution_count": null,
      "metadata": {},
      "outputs": [],
      "source": [
        "# select initial and final years\n",
        "initial_year = 2000\n",
        "final_year = 2020\n",
        "\n",
        "df_start = processed_df[processed_df['year'] == initial_year]\n",
        "df_end = processed_df[processed_df['year'] == final_year]\n",
        "\n",
        "# Merge the two DataFrames on 'country'\n",
        "df_merged = pd.merge(df_start[['country', 'access_to_electricity', 'renewable_capacity_per_capita']],\n",
        "                     df_end[['country', 'access_to_electricity', 'renewable_capacity_per_capita']],\n",
        "                     on='country', suffixes=('_start', '_end')\n",
        ")\n",
        "\n",
        "# filter out countries with 100% acess to electricity \n",
        "df_merged = df_merged[df_merged['access_to_electricity_start'] < 100]\n",
        "\n",
        "# calculate grow porcentage\n",
        "df_merged['access_to_electricity_growth'] = (\n",
        "    df_merged['access_to_electricity_end'] - df_merged['access_to_electricity_start']\n",
        ") / df_merged['access_to_electricity_start'] * 100\n",
        "\n",
        "df_merged['renewable_capacity_growth'] = (\n",
        "    df_merged['renewable_capacity_per_capita_end'] - df_merged['renewable_capacity_per_capita_start']\n",
        ") / df_merged['renewable_capacity_per_capita_start'] * 100\n",
        "\n",
        "# select top 10 countries with highest growth in access to electricity\n",
        "top10 = df_merged.sort_values(\"access_to_electricity_growth\", ascending=False).head(10)\n",
        "\n",
        "sns.scatterplot(\n",
        "    data=top10,\n",
        "    x='renewable_capacity_growth',\n",
        "    y='access_to_electricity_growth',\n",
        "    hue='country',\n",
        "    s=100,\n",
        "    palette='tab10'\n",
        ")\n",
        "\n",
        "# correlation\n",
        "correlation = df_merged[['renewable_capacity_growth', 'access_to_electricity_growth']].corr().iloc[0, 1]\n",
        "print(f\"Correlation between renewable capacity growth and electricity access growth: {correlation:.2f}\")"
      ]
    },
    {
      "cell_type": "markdown",
      "metadata": {},
      "source": [
        "### Interpretation of Hypothesis 2:\n",
        "\n",
        "Althought the correlation matrix showed a weak positive correlation (0.25), the long term growth analysis reveals almost no linear \n",
        "relationships (-0.03)\n",
        "\n",
        "this suggest that renewable infrastructure growth alone does not explain improvements in electricity access. Many countries achieved significant gains in access without major renewable expansion, indicating the influence of other factors (e.g., diesel, coal, infrastructure aid, grid policy)"
      ]
    },
    {
      "cell_type": "markdown",
      "metadata": {},
      "source": [
        "### Hypothesis 3: Renewable energy share vs energy intensity\n",
        "\n",
        "This Hypothesis explores wether countries with a higher share of renewable energy tend to have lower intensity levels. \n",
        "Energy intensity measures how much energy is required to generate one unit of GDP. A lower value Indicates higher efficiency\n",
        "\n",
        "We use 2020 data and perform both visual and statistical analysis"
      ]
    },
    {
      "cell_type": "code",
      "execution_count": null,
      "metadata": {},
      "outputs": [],
      "source": [
        "# filter data for the selected year\n",
        "df_year = processed_df[processed_df['year'] == year]\n",
        "\n",
        "# Calculate correlation between renewable energy share and energy intensity\n",
        "correlation = df_year['renewable_energy_share'].corr(df_year['energy_intensity'])\n",
        "print(f\"Correlation between renewable energy share and energy intensity: {correlation:.2f}\")\n",
        "\n",
        "# filter 10 random countries\n",
        "df_year = df_year.sample(n=10, random_state=42)\n",
        "\n",
        "# Create a scatter plot for renewable energy share  vs energy intensity\n",
        "plt.title(f'Renewable Energy Share vs Energy Intensity ({year})')\n",
        "sns.scatterplot(\n",
        "    data=df_year,\n",
        "    x='renewable_energy_share',\n",
        "    y='energy_intensity',\n",
        "    hue='country',\n",
        "    palette='viridis',\n",
        "    s=100\n",
        ")\n",
        "plt.xlabel('Renewable Energy Share (%)')\n",
        "plt.ylabel('Energy Intensity (MJ/$2017 PPP GDP)')\n",
        "plt.grid(True)\n",
        "plt.tight_layout()\n",
        "plt.show()\n",
        "\n"
      ]
    },
    {
      "cell_type": "markdown",
      "metadata": {},
      "source": [
        "**Interpretation of Hypothesis 3 (Global Data):**\n",
        "\n",
        "Using all available countries in 2020, the correlation between renewable energy share and energy intensity is **positive but weak (0.29)**.\n",
        "\n",
        "This contradicts the original hypothesis, which assumed that higher renewable share would correlate with lower energy intensity (greater efficiency). The data instead suggests that many countries with a strong renewable presence still consume relatively high energy per unit of GDP, likely due to structural or economic inefficiencies.\n",
        "\n",
        "*Note:* The visualization is limited to 10 countries \n",
        "\n",
        "The hypothesis is **not supported** by global data.\n"
      ]
    },
    {
      "cell_type": "markdown",
      "metadata": {},
      "source": []
    },
    {
      "cell_type": "code",
      "execution_count": null,
      "metadata": {},
      "outputs": [
        {
          "name": "stdout",
          "output_type": "stream",
          "text": [
            "Correlation between renewable capacity growth and CO2 emissions growth: 0.00\n"
          ]
        },
        {
          "data": {
            "image/png": "[encoded data removed]",
            "text/plain": [
              "<Figure size 640x480 with 1 Axes>"
            ]
          },
          "metadata": {},
          "output_type": "display_data"
        },
        {
          "data": {
            "image/png": "[encoded data removed]",
            "text/plain": [
              "<Figure size 1000x600 with 1 Axes>"
            ]
          },
          "metadata": {},
          "output_type": "display_data"
        },
        {
          "name": "stdout",
          "output_type": "stream",
          "text": [
            "Correlation between renewable capacity growth and CO2 emissions growth: 0.00\n"
          ]
        }
      ],
      "source": [
        "# select initial and final years\n",
        "initial_year = 2000\n",
        "final_year = 2020\n",
        "\n",
        "# filter data for initial and final years\n",
        "df_start = processed_df[processed_df['year'] == initial_year]\n",
        "df_end = processed_df[processed_df['year'] == final_year]\n",
        "\n",
        "\n",
        "\n",
        "\n",
        "# Merge the two DataFrames on 'country'\n",
        "df_merged = pd.merge(df_start[['country', 'renewable_capacity_per_capita', 'co2_emissions_kt']],\n",
        "                     df_end[['country', 'renewable_capacity_per_capita', 'co2_emissions_kt']],\n",
        "                     on='country', suffixes=('_start', '_end')\n",
        ")\n",
        "\n",
        "# There is a problem with the data, some countries have 0 renewable capacity per capita in the initial year and \n",
        "# this causes division by zero in the growth calculation. We will filter these out.\n",
        "df_merged = df_merged[df_merged['renewable_capacity_per_capita_start'] > 0]\n",
        "\n",
        "# calculate growth percentage\n",
        "df_merged['renewable_capacity_growth'] = (\n",
        "    df_merged['renewable_capacity_per_capita_end'] - df_merged['renewable_capacity_per_capita_start']\n",
        ") / df_merged['renewable_capacity_per_capita_start'] * 100\n",
        "\n",
        "df_merged['co2_emissions_growth'] = (\n",
        "    df_merged['co2_emissions_kt_end'] - df_merged['co2_emissions_kt_start']\n",
        ") / df_merged['co2_emissions_kt_start'] * 100\n",
        "\n",
        "# Calculate correlation between renewable capacity growth and CO2 emissions growth\n",
        "correlation = df_merged[['renewable_capacity_growth', 'co2_emissions_growth']].corr().iloc[0, 1]\n",
        "print(f\"Correlation between renewable capacity growth and CO2 emissions growth: {correlation:.2f}\")\n",
        "\n",
        "# select top 10 countries with highest growth in renewable capacity\n",
        "top10 = df_merged.sort_values(\"renewable_capacity_growth\", ascending=False).head(10)\n",
        "sns.scatterplot(\n",
        "    data=top10,\n",
        "    x='renewable_capacity_growth',\n",
        "    y='co2_emissions_growth',\n",
        "    hue='country',\n",
        "    s=100,\n",
        "    palette='tab10'\n",
        ")\n",
        "plt.title('Renewable Capacity Growth vs CO2 Emissions Growth (2000-2020)')\n",
        "plt.xlabel('Renewable Capacity Growth (%)')\n",
        "plt.ylabel('CO2 Emissions Growth (%)')\n",
        "plt.grid(True)\n",
        "plt.tight_layout()\n",
        "plt.show()\n",
        "\n",
        "# Create a scatter plot for renewable capacity growth vs CO2 emissions growth\n",
        "plt.figure(figsize=(10, 6))\n",
        "sns.scatterplot(\n",
        "    data=df_merged,\n",
        "    x='renewable_capacity_growth',\n",
        "    y='co2_emissions_growth',\n",
        "    s=80,\n",
        "    color='dodgerblue',\n",
        "    edgecolor='black'\n",
        ")\n",
        "plt.title('Renewable Capacity Growth vs CO₂ Emissions Growth (2000–2020)')\n",
        "plt.xlabel('Renewable Capacity Growth (%)')\n",
        "plt.ylabel('CO₂ Emissions Growth (%)')\n",
        "plt.grid(True)\n",
        "plt.tight_layout()\n",
        "plt.show()\n",
        "\n",
        "\n",
        "# Calculate correlation between renewable capacity growth and CO2 emissions growth\n",
        "correlation = df_merged[['renewable_capacity_growth', 'co2_emissions_growth']].corr().iloc[0, 1]\n",
        "print(f\"Correlation between renewable capacity growth and CO2 emissions growth: {correlation:.2f}\")"
      ]
    },
    {
      "cell_type": "markdown",
      "metadata": {},
      "source": [
        "### Hypothesis 4: Renewable Growth vs CO₂ Emissions Reduction\n",
        "\n",
        "This hypothesis proposed that countries increasing their renewable electricity capacity per capita would also reduce their CO₂ emissions over time.\n",
        "\n",
        "However, analysis of data from 2000 to 2020 shows **no meaningful correlation** between these two variables (r = 0.00). Many countries that expanded renewable infrastructure also increased emissions, likely due to:\n",
        "\n",
        "- Parallel expansion of fossil fuel energy,\n",
        "- Industrial growth outpacing decarbonization,\n",
        "- Or use of renewables without displacing carbon-intensive sources.\n",
        "\n",
        "Therefore, the hypothesis is **not supported** by the global data. A renewable energy transition alone does not guarantee reduced emissions — broader systemic changes are needed.\n"
      ]
    },
    {
      "cell_type": "markdown",
      "metadata": {},
      "source": [
        "---"
      ]
    },
    {
      "cell_type": "markdown",
      "metadata": {},
      "source": [
        "NOTE"
      ]
    },
    {
      "cell_type": "markdown",
      "metadata": {},
      "source": [
        "* You may add as many sections as you want, as long as it supports your project workflow.\n",
        "* All notebook's cells should be run top-down (you can't create a dynamic wherein a given point you need to go back to a previous cell to execute some task, like go back to a previous cell and refresh a variable content)"
      ]
    },
    {
      "cell_type": "markdown",
      "metadata": {},
      "source": [
        "---"
      ]
    },
    {
      "cell_type": "markdown",
      "metadata": {
        "id": "ltNetd085qHf"
      },
      "source": [
        "# Push files to Repo"
      ]
    },
    {
      "cell_type": "markdown",
      "metadata": {},
      "source": [
        "* In cases where you don't need to push files to Repo, you may replace this section with \"Conclusions and Next Steps\" and state your conclusions and next steps."
      ]
    },
    {
      "cell_type": "code",
      "execution_count": null,
      "metadata": {
        "id": "aKlnIozA4eQO",
        "outputId": "fd09bc1f-adb1-4511-f6ce-492a6af570c0"
      },
      "outputs": [],
      "source": [
        "import os\n",
        "try:\n",
        "  # create your folder here\n",
        "  # os.makedirs(name='')\n",
        "except Exception as e:\n",
        "  print(e)\n"
      ]
    }
  ],
  "metadata": {
    "accelerator": "GPU",
    "colab": {
      "name": "Data Practitioner Jupyter Notebook.ipynb",
      "provenance": [],
      "toc_visible": true
    },
    "kernelspec": {
      "display_name": ".venv",
      "language": "python",
      "name": "python3"
    },
    "language_info": {
      "codemirror_mode": {
        "name": "ipython",
        "version": 3
      },
      "file_extension": ".py",
      "mimetype": "text/x-python",
      "name": "python",
      "nbconvert_exporter": "python",
      "pygments_lexer": "ipython3",
      "version": "3.12.10"
    },
    "orig_nbformat": 2
  },
  "nbformat": 4,
  "nbformat_minor": 2
}
