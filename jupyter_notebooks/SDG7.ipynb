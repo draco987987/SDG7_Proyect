{
  "cells": [
    {
      "cell_type": "markdown",
      "metadata": {
        "id": "0aStgWSO0E0E"
      },
      "source": [
        "# **(ADD THE NOTEBOOK NAME HERE)**"
      ]
    },
    {
      "cell_type": "markdown",
      "metadata": {
        "id": "1eLEkw5O0ECa"
      },
      "source": [
        "## Objectives\n",
        "\n",
        "* Write your notebook objective here, for example, \"Fetch data from Kaggle and save as raw data\", or \"engineer features for modelling\"\n",
        "\n",
        "## Inputs\n",
        "\n",
        "* Write down which data or information you need to run the notebook \n",
        "\n",
        "## Outputs\n",
        "\n",
        "* Write here which files, code or artefacts you generate by the end of the notebook \n",
        "\n",
        "## Additional Comments\n",
        "\n",
        "* If you have any additional comments that don't fit in the previous bullets, please state them here. \n",
        "\n"
      ]
    },
    {
      "cell_type": "markdown",
      "metadata": {
        "id": "9uWZXH9LwoQg"
      },
      "source": [
        "---"
      ]
    },
    {
      "cell_type": "markdown",
      "metadata": {
        "id": "cqP-UeN-z3i2"
      },
      "source": [
        "# Change working directory"
      ]
    },
    {
      "cell_type": "markdown",
      "metadata": {},
      "source": [
        "* We are assuming you will store the notebooks in a subfolder, therefore when running the notebook in the editor, you will need to change the working directory"
      ]
    },
    {
      "cell_type": "markdown",
      "metadata": {
        "id": "aOGIGS-uz3i2"
      },
      "source": [
        "We need to change the working directory from its current folder to its parent folder\n",
        "* We access the current directory with os.getcwd()"
      ]
    },
    {
      "cell_type": "code",
      "execution_count": 1,
      "metadata": {
        "id": "wZfF_j-Bz3i4",
        "outputId": "66943449-1436-4c3d-85c7-b85f9f78349b"
      },
      "outputs": [
        {
          "data": {
            "text/plain": [
              "'c:\\\\Users\\\\organ\\\\Desktop\\\\Code institute\\\\FINALPROYECTCODE\\\\SDG7_Proyect\\\\jupyter_notebooks'"
            ]
          },
          "execution_count": 1,
          "metadata": {},
          "output_type": "execute_result"
        }
      ],
      "source": [
        "import os\n",
        "current_dir = os.getcwd()\n",
        "current_dir"
      ]
    },
    {
      "cell_type": "markdown",
      "metadata": {
        "id": "9MWW8E7lz3i7"
      },
      "source": [
        "We want to make the parent of the current directory the new current directory\n",
        "* os.path.dirname() gets the parent directory\n",
        "* os.chir() defines the new current directory"
      ]
    },
    {
      "cell_type": "code",
      "execution_count": 2,
      "metadata": {
        "id": "TwHsQRWjz3i9",
        "outputId": "86849db3-cd2f-4cc5-ebb8-2d0caafa1a2c"
      },
      "outputs": [
        {
          "name": "stdout",
          "output_type": "stream",
          "text": [
            "You set a new current directory\n"
          ]
        }
      ],
      "source": [
        "os.chdir(os.path.dirname(current_dir))\n",
        "print(\"You set a new current directory\")"
      ]
    },
    {
      "cell_type": "markdown",
      "metadata": {
        "id": "M_xPk_Ijz3i-"
      },
      "source": [
        "Confirm the new current directory"
      ]
    },
    {
      "cell_type": "code",
      "execution_count": 3,
      "metadata": {
        "id": "vz3S-_kjz3jA",
        "outputId": "00b79ae4-75d0-4a96-d193-ac9ef9847ea2"
      },
      "outputs": [
        {
          "data": {
            "text/plain": [
              "'c:\\\\Users\\\\organ\\\\Desktop\\\\Code institute\\\\FINALPROYECTCODE\\\\SDG7_Proyect'"
            ]
          },
          "execution_count": 3,
          "metadata": {},
          "output_type": "execute_result"
        }
      ],
      "source": [
        "current_dir = os.getcwd()\n",
        "current_dir"
      ]
    },
    {
      "cell_type": "markdown",
      "metadata": {},
      "source": []
    },
    {
      "cell_type": "markdown",
      "metadata": {},
      "source": [
        "**Import Libraries**"
      ]
    },
    {
      "cell_type": "code",
      "execution_count": 4,
      "metadata": {},
      "outputs": [],
      "source": [
        "import pandas as pd\n",
        "import numpy as np\n",
        "import matplotlib.pyplot as plt\n",
        "import seaborn as sns\n"
      ]
    },
    {
      "cell_type": "markdown",
      "metadata": {},
      "source": [
        "**Load Dataset and test it**"
      ]
    },
    {
      "cell_type": "code",
      "execution_count": 5,
      "metadata": {},
      "outputs": [
        {
          "name": "stderr",
          "output_type": "stream",
          "text": [
            "<>:1: SyntaxWarning: invalid escape sequence '\\R'\n",
            "<>:1: SyntaxWarning: invalid escape sequence '\\R'\n",
            "C:\\Users\\organ\\AppData\\Local\\Temp\\ipykernel_14716\\1918513345.py:1: SyntaxWarning: invalid escape sequence '\\R'\n",
            "  raw_path = \"Data\\Raw\\global-data-on-sustainable-energy.csv\"\n"
          ]
        },
        {
          "data": {
            "text/html": [
              "<div>\n",
              "<style scoped>\n",
              "    .dataframe tbody tr th:only-of-type {\n",
              "        vertical-align: middle;\n",
              "    }\n",
              "\n",
              "    .dataframe tbody tr th {\n",
              "        vertical-align: top;\n",
              "    }\n",
              "\n",
              "    .dataframe thead th {\n",
              "        text-align: right;\n",
              "    }\n",
              "</style>\n",
              "<table border=\"1\" class=\"dataframe\">\n",
              "  <thead>\n",
              "    <tr style=\"text-align: right;\">\n",
              "      <th></th>\n",
              "      <th>Entity</th>\n",
              "      <th>Year</th>\n",
              "      <th>Access to electricity (% of population)</th>\n",
              "      <th>Access to clean fuels for cooking</th>\n",
              "      <th>Renewable-electricity-generating-capacity-per-capita</th>\n",
              "      <th>Financial flows to developing countries (US $)</th>\n",
              "      <th>Renewable energy share in the total final energy consumption (%)</th>\n",
              "      <th>Electricity from fossil fuels (TWh)</th>\n",
              "      <th>Electricity from nuclear (TWh)</th>\n",
              "      <th>Electricity from renewables (TWh)</th>\n",
              "      <th>...</th>\n",
              "      <th>Primary energy consumption per capita (kWh/person)</th>\n",
              "      <th>Energy intensity level of primary energy (MJ/$2017 PPP GDP)</th>\n",
              "      <th>Value_co2_emissions_kt_by_country</th>\n",
              "      <th>Renewables (% equivalent primary energy)</th>\n",
              "      <th>gdp_growth</th>\n",
              "      <th>gdp_per_capita</th>\n",
              "      <th>Density\\n(P/Km2)</th>\n",
              "      <th>Land Area(Km2)</th>\n",
              "      <th>Latitude</th>\n",
              "      <th>Longitude</th>\n",
              "    </tr>\n",
              "  </thead>\n",
              "  <tbody>\n",
              "    <tr>\n",
              "      <th>0</th>\n",
              "      <td>Afghanistan</td>\n",
              "      <td>2000</td>\n",
              "      <td>1.613591</td>\n",
              "      <td>6.2</td>\n",
              "      <td>9.22</td>\n",
              "      <td>20000.0</td>\n",
              "      <td>44.99</td>\n",
              "      <td>0.16</td>\n",
              "      <td>0.0</td>\n",
              "      <td>0.31</td>\n",
              "      <td>...</td>\n",
              "      <td>302.59482</td>\n",
              "      <td>1.64</td>\n",
              "      <td>760.000000</td>\n",
              "      <td>NaN</td>\n",
              "      <td>NaN</td>\n",
              "      <td>NaN</td>\n",
              "      <td>60</td>\n",
              "      <td>652230.0</td>\n",
              "      <td>33.93911</td>\n",
              "      <td>67.709953</td>\n",
              "    </tr>\n",
              "    <tr>\n",
              "      <th>1</th>\n",
              "      <td>Afghanistan</td>\n",
              "      <td>2001</td>\n",
              "      <td>4.074574</td>\n",
              "      <td>7.2</td>\n",
              "      <td>8.86</td>\n",
              "      <td>130000.0</td>\n",
              "      <td>45.60</td>\n",
              "      <td>0.09</td>\n",
              "      <td>0.0</td>\n",
              "      <td>0.50</td>\n",
              "      <td>...</td>\n",
              "      <td>236.89185</td>\n",
              "      <td>1.74</td>\n",
              "      <td>730.000000</td>\n",
              "      <td>NaN</td>\n",
              "      <td>NaN</td>\n",
              "      <td>NaN</td>\n",
              "      <td>60</td>\n",
              "      <td>652230.0</td>\n",
              "      <td>33.93911</td>\n",
              "      <td>67.709953</td>\n",
              "    </tr>\n",
              "    <tr>\n",
              "      <th>2</th>\n",
              "      <td>Afghanistan</td>\n",
              "      <td>2002</td>\n",
              "      <td>9.409158</td>\n",
              "      <td>8.2</td>\n",
              "      <td>8.47</td>\n",
              "      <td>3950000.0</td>\n",
              "      <td>37.83</td>\n",
              "      <td>0.13</td>\n",
              "      <td>0.0</td>\n",
              "      <td>0.56</td>\n",
              "      <td>...</td>\n",
              "      <td>210.86215</td>\n",
              "      <td>1.40</td>\n",
              "      <td>1029.999971</td>\n",
              "      <td>NaN</td>\n",
              "      <td>NaN</td>\n",
              "      <td>179.426579</td>\n",
              "      <td>60</td>\n",
              "      <td>652230.0</td>\n",
              "      <td>33.93911</td>\n",
              "      <td>67.709953</td>\n",
              "    </tr>\n",
              "    <tr>\n",
              "      <th>3</th>\n",
              "      <td>Afghanistan</td>\n",
              "      <td>2003</td>\n",
              "      <td>14.738506</td>\n",
              "      <td>9.5</td>\n",
              "      <td>8.09</td>\n",
              "      <td>25970000.0</td>\n",
              "      <td>36.66</td>\n",
              "      <td>0.31</td>\n",
              "      <td>0.0</td>\n",
              "      <td>0.63</td>\n",
              "      <td>...</td>\n",
              "      <td>229.96822</td>\n",
              "      <td>1.40</td>\n",
              "      <td>1220.000029</td>\n",
              "      <td>NaN</td>\n",
              "      <td>8.832278</td>\n",
              "      <td>190.683814</td>\n",
              "      <td>60</td>\n",
              "      <td>652230.0</td>\n",
              "      <td>33.93911</td>\n",
              "      <td>67.709953</td>\n",
              "    </tr>\n",
              "    <tr>\n",
              "      <th>4</th>\n",
              "      <td>Afghanistan</td>\n",
              "      <td>2004</td>\n",
              "      <td>20.064968</td>\n",
              "      <td>10.9</td>\n",
              "      <td>7.75</td>\n",
              "      <td>NaN</td>\n",
              "      <td>44.24</td>\n",
              "      <td>0.33</td>\n",
              "      <td>0.0</td>\n",
              "      <td>0.56</td>\n",
              "      <td>...</td>\n",
              "      <td>204.23125</td>\n",
              "      <td>1.20</td>\n",
              "      <td>1029.999971</td>\n",
              "      <td>NaN</td>\n",
              "      <td>1.414118</td>\n",
              "      <td>211.382074</td>\n",
              "      <td>60</td>\n",
              "      <td>652230.0</td>\n",
              "      <td>33.93911</td>\n",
              "      <td>67.709953</td>\n",
              "    </tr>\n",
              "  </tbody>\n",
              "</table>\n",
              "<p>5 rows × 21 columns</p>\n",
              "</div>"
            ],
            "text/plain": [
              "        Entity  Year  Access to electricity (% of population)  \\\n",
              "0  Afghanistan  2000                                 1.613591   \n",
              "1  Afghanistan  2001                                 4.074574   \n",
              "2  Afghanistan  2002                                 9.409158   \n",
              "3  Afghanistan  2003                                14.738506   \n",
              "4  Afghanistan  2004                                20.064968   \n",
              "\n",
              "   Access to clean fuels for cooking  \\\n",
              "0                                6.2   \n",
              "1                                7.2   \n",
              "2                                8.2   \n",
              "3                                9.5   \n",
              "4                               10.9   \n",
              "\n",
              "   Renewable-electricity-generating-capacity-per-capita  \\\n",
              "0                                               9.22      \n",
              "1                                               8.86      \n",
              "2                                               8.47      \n",
              "3                                               8.09      \n",
              "4                                               7.75      \n",
              "\n",
              "   Financial flows to developing countries (US $)  \\\n",
              "0                                         20000.0   \n",
              "1                                        130000.0   \n",
              "2                                       3950000.0   \n",
              "3                                      25970000.0   \n",
              "4                                             NaN   \n",
              "\n",
              "   Renewable energy share in the total final energy consumption (%)  \\\n",
              "0                                              44.99                  \n",
              "1                                              45.60                  \n",
              "2                                              37.83                  \n",
              "3                                              36.66                  \n",
              "4                                              44.24                  \n",
              "\n",
              "   Electricity from fossil fuels (TWh)  Electricity from nuclear (TWh)  \\\n",
              "0                                 0.16                             0.0   \n",
              "1                                 0.09                             0.0   \n",
              "2                                 0.13                             0.0   \n",
              "3                                 0.31                             0.0   \n",
              "4                                 0.33                             0.0   \n",
              "\n",
              "   Electricity from renewables (TWh)  ...  \\\n",
              "0                               0.31  ...   \n",
              "1                               0.50  ...   \n",
              "2                               0.56  ...   \n",
              "3                               0.63  ...   \n",
              "4                               0.56  ...   \n",
              "\n",
              "   Primary energy consumption per capita (kWh/person)  \\\n",
              "0                                          302.59482    \n",
              "1                                          236.89185    \n",
              "2                                          210.86215    \n",
              "3                                          229.96822    \n",
              "4                                          204.23125    \n",
              "\n",
              "   Energy intensity level of primary energy (MJ/$2017 PPP GDP)  \\\n",
              "0                                               1.64             \n",
              "1                                               1.74             \n",
              "2                                               1.40             \n",
              "3                                               1.40             \n",
              "4                                               1.20             \n",
              "\n",
              "   Value_co2_emissions_kt_by_country  \\\n",
              "0                         760.000000   \n",
              "1                         730.000000   \n",
              "2                        1029.999971   \n",
              "3                        1220.000029   \n",
              "4                        1029.999971   \n",
              "\n",
              "   Renewables (% equivalent primary energy)  gdp_growth  gdp_per_capita  \\\n",
              "0                                       NaN         NaN             NaN   \n",
              "1                                       NaN         NaN             NaN   \n",
              "2                                       NaN         NaN      179.426579   \n",
              "3                                       NaN    8.832278      190.683814   \n",
              "4                                       NaN    1.414118      211.382074   \n",
              "\n",
              "   Density\\n(P/Km2) Land Area(Km2)  Latitude  Longitude  \n",
              "0                60       652230.0  33.93911  67.709953  \n",
              "1                60       652230.0  33.93911  67.709953  \n",
              "2                60       652230.0  33.93911  67.709953  \n",
              "3                60       652230.0  33.93911  67.709953  \n",
              "4                60       652230.0  33.93911  67.709953  \n",
              "\n",
              "[5 rows x 21 columns]"
            ]
          },
          "execution_count": 5,
          "metadata": {},
          "output_type": "execute_result"
        }
      ],
      "source": [
        "raw_path = \"Data\\Raw\\global-data-on-sustainable-energy.csv\"\n",
        "df = pd.read_csv(raw_path, encoding='latin1')\n",
        "df.head()"
      ]
    },
    {
      "cell_type": "markdown",
      "metadata": {},
      "source": [
        "***ETL***"
      ]
    },
    {
      "cell_type": "markdown",
      "metadata": {},
      "source": [
        "**Rename the colums for easier access**"
      ]
    },
    {
      "cell_type": "code",
      "execution_count": 6,
      "metadata": {},
      "outputs": [
        {
          "data": {
            "text/html": [
              "<div>\n",
              "<style scoped>\n",
              "    .dataframe tbody tr th:only-of-type {\n",
              "        vertical-align: middle;\n",
              "    }\n",
              "\n",
              "    .dataframe tbody tr th {\n",
              "        vertical-align: top;\n",
              "    }\n",
              "\n",
              "    .dataframe thead th {\n",
              "        text-align: right;\n",
              "    }\n",
              "</style>\n",
              "<table border=\"1\" class=\"dataframe\">\n",
              "  <thead>\n",
              "    <tr style=\"text-align: right;\">\n",
              "      <th></th>\n",
              "      <th>country</th>\n",
              "      <th>year</th>\n",
              "      <th>access_to_electricity</th>\n",
              "      <th>access_to_clean_fuels</th>\n",
              "      <th>renewable_capacity_per_capita</th>\n",
              "      <th>financial_flows</th>\n",
              "      <th>renewable_energy_share</th>\n",
              "      <th>fossil_electricity</th>\n",
              "      <th>nuclear_electricity</th>\n",
              "      <th>renewable_electricity</th>\n",
              "      <th>...</th>\n",
              "      <th>primary_energy_per_capita</th>\n",
              "      <th>energy_intensity</th>\n",
              "      <th>co2_emissions_kt</th>\n",
              "      <th>renewables_%_equivalent_primary_energy</th>\n",
              "      <th>gdp_growth</th>\n",
              "      <th>gdp_per_capita</th>\n",
              "      <th>density</th>\n",
              "      <th>land_areakm2</th>\n",
              "      <th>latitude</th>\n",
              "      <th>longitude</th>\n",
              "    </tr>\n",
              "  </thead>\n",
              "  <tbody>\n",
              "    <tr>\n",
              "      <th>0</th>\n",
              "      <td>Afghanistan</td>\n",
              "      <td>2000</td>\n",
              "      <td>1.613591</td>\n",
              "      <td>6.2</td>\n",
              "      <td>9.22</td>\n",
              "      <td>20000.0</td>\n",
              "      <td>44.99</td>\n",
              "      <td>0.16</td>\n",
              "      <td>0.0</td>\n",
              "      <td>0.31</td>\n",
              "      <td>...</td>\n",
              "      <td>302.59482</td>\n",
              "      <td>1.64</td>\n",
              "      <td>760.000000</td>\n",
              "      <td>NaN</td>\n",
              "      <td>NaN</td>\n",
              "      <td>NaN</td>\n",
              "      <td>60</td>\n",
              "      <td>652230.0</td>\n",
              "      <td>33.93911</td>\n",
              "      <td>67.709953</td>\n",
              "    </tr>\n",
              "    <tr>\n",
              "      <th>1</th>\n",
              "      <td>Afghanistan</td>\n",
              "      <td>2001</td>\n",
              "      <td>4.074574</td>\n",
              "      <td>7.2</td>\n",
              "      <td>8.86</td>\n",
              "      <td>130000.0</td>\n",
              "      <td>45.60</td>\n",
              "      <td>0.09</td>\n",
              "      <td>0.0</td>\n",
              "      <td>0.50</td>\n",
              "      <td>...</td>\n",
              "      <td>236.89185</td>\n",
              "      <td>1.74</td>\n",
              "      <td>730.000000</td>\n",
              "      <td>NaN</td>\n",
              "      <td>NaN</td>\n",
              "      <td>NaN</td>\n",
              "      <td>60</td>\n",
              "      <td>652230.0</td>\n",
              "      <td>33.93911</td>\n",
              "      <td>67.709953</td>\n",
              "    </tr>\n",
              "    <tr>\n",
              "      <th>2</th>\n",
              "      <td>Afghanistan</td>\n",
              "      <td>2002</td>\n",
              "      <td>9.409158</td>\n",
              "      <td>8.2</td>\n",
              "      <td>8.47</td>\n",
              "      <td>3950000.0</td>\n",
              "      <td>37.83</td>\n",
              "      <td>0.13</td>\n",
              "      <td>0.0</td>\n",
              "      <td>0.56</td>\n",
              "      <td>...</td>\n",
              "      <td>210.86215</td>\n",
              "      <td>1.40</td>\n",
              "      <td>1029.999971</td>\n",
              "      <td>NaN</td>\n",
              "      <td>NaN</td>\n",
              "      <td>179.426579</td>\n",
              "      <td>60</td>\n",
              "      <td>652230.0</td>\n",
              "      <td>33.93911</td>\n",
              "      <td>67.709953</td>\n",
              "    </tr>\n",
              "    <tr>\n",
              "      <th>3</th>\n",
              "      <td>Afghanistan</td>\n",
              "      <td>2003</td>\n",
              "      <td>14.738506</td>\n",
              "      <td>9.5</td>\n",
              "      <td>8.09</td>\n",
              "      <td>25970000.0</td>\n",
              "      <td>36.66</td>\n",
              "      <td>0.31</td>\n",
              "      <td>0.0</td>\n",
              "      <td>0.63</td>\n",
              "      <td>...</td>\n",
              "      <td>229.96822</td>\n",
              "      <td>1.40</td>\n",
              "      <td>1220.000029</td>\n",
              "      <td>NaN</td>\n",
              "      <td>8.832278</td>\n",
              "      <td>190.683814</td>\n",
              "      <td>60</td>\n",
              "      <td>652230.0</td>\n",
              "      <td>33.93911</td>\n",
              "      <td>67.709953</td>\n",
              "    </tr>\n",
              "    <tr>\n",
              "      <th>4</th>\n",
              "      <td>Afghanistan</td>\n",
              "      <td>2004</td>\n",
              "      <td>20.064968</td>\n",
              "      <td>10.9</td>\n",
              "      <td>7.75</td>\n",
              "      <td>NaN</td>\n",
              "      <td>44.24</td>\n",
              "      <td>0.33</td>\n",
              "      <td>0.0</td>\n",
              "      <td>0.56</td>\n",
              "      <td>...</td>\n",
              "      <td>204.23125</td>\n",
              "      <td>1.20</td>\n",
              "      <td>1029.999971</td>\n",
              "      <td>NaN</td>\n",
              "      <td>1.414118</td>\n",
              "      <td>211.382074</td>\n",
              "      <td>60</td>\n",
              "      <td>652230.0</td>\n",
              "      <td>33.93911</td>\n",
              "      <td>67.709953</td>\n",
              "    </tr>\n",
              "  </tbody>\n",
              "</table>\n",
              "<p>5 rows × 21 columns</p>\n",
              "</div>"
            ],
            "text/plain": [
              "       country  year  access_to_electricity  access_to_clean_fuels  \\\n",
              "0  Afghanistan  2000               1.613591                    6.2   \n",
              "1  Afghanistan  2001               4.074574                    7.2   \n",
              "2  Afghanistan  2002               9.409158                    8.2   \n",
              "3  Afghanistan  2003              14.738506                    9.5   \n",
              "4  Afghanistan  2004              20.064968                   10.9   \n",
              "\n",
              "   renewable_capacity_per_capita  financial_flows  renewable_energy_share  \\\n",
              "0                           9.22          20000.0                   44.99   \n",
              "1                           8.86         130000.0                   45.60   \n",
              "2                           8.47        3950000.0                   37.83   \n",
              "3                           8.09       25970000.0                   36.66   \n",
              "4                           7.75              NaN                   44.24   \n",
              "\n",
              "   fossil_electricity  nuclear_electricity  renewable_electricity  ...  \\\n",
              "0                0.16                  0.0                   0.31  ...   \n",
              "1                0.09                  0.0                   0.50  ...   \n",
              "2                0.13                  0.0                   0.56  ...   \n",
              "3                0.31                  0.0                   0.63  ...   \n",
              "4                0.33                  0.0                   0.56  ...   \n",
              "\n",
              "   primary_energy_per_capita  energy_intensity  co2_emissions_kt  \\\n",
              "0                  302.59482              1.64        760.000000   \n",
              "1                  236.89185              1.74        730.000000   \n",
              "2                  210.86215              1.40       1029.999971   \n",
              "3                  229.96822              1.40       1220.000029   \n",
              "4                  204.23125              1.20       1029.999971   \n",
              "\n",
              "   renewables_%_equivalent_primary_energy  gdp_growth  gdp_per_capita  \\\n",
              "0                                     NaN         NaN             NaN   \n",
              "1                                     NaN         NaN             NaN   \n",
              "2                                     NaN         NaN      179.426579   \n",
              "3                                     NaN    8.832278      190.683814   \n",
              "4                                     NaN    1.414118      211.382074   \n",
              "\n",
              "   density land_areakm2  latitude  longitude  \n",
              "0       60     652230.0  33.93911  67.709953  \n",
              "1       60     652230.0  33.93911  67.709953  \n",
              "2       60     652230.0  33.93911  67.709953  \n",
              "3       60     652230.0  33.93911  67.709953  \n",
              "4       60     652230.0  33.93911  67.709953  \n",
              "\n",
              "[5 rows x 21 columns]"
            ]
          },
          "execution_count": 6,
          "metadata": {},
          "output_type": "execute_result"
        }
      ],
      "source": [
        "df.rename(columns={\n",
        "    'Entity': 'country',\n",
        "    'Access to electricity (% of population)': 'access_to_electricity',\n",
        "    'Access to clean fuels for cooking': 'access_to_clean_fuels',\n",
        "    'Renewable-electricity-generating-capacity-per-capita': 'renewable_capacity_per_capita',\n",
        "    'Financial flows to developing countries (US $)': 'financial_flows',\n",
        "    'Renewable energy share in the total final energy consumption (%)': 'renewable_energy_share',\n",
        "    'Electricity from fossil fuels (TWh)': 'fossil_electricity',\n",
        "    'Electricity from nuclear (TWh)': 'nuclear_electricity',\n",
        "    'Electricity from renewables (TWh)': 'renewable_electricity',\n",
        "    'Low-carbon electricity (% electricity)': 'low_carbon_electricity_pct',\n",
        "    'Primary energy consumption per capita (kWh/person)': 'primary_energy_per_capita',\n",
        "    'Energy intensity level of primary energy (MJ/$2017 PPP GDP)': 'energy_intensity',\n",
        "    'Value_co2_emissions_kt_by_country': 'co2_emissions_kt',\n",
        "    'density\\\\np/km2': 'density'\n",
        "}, inplace=True)\n",
        "# Cleaning column names\n",
        "df.columns = df.columns.str.strip().str.lower().str.replace('\\n', '_').str.replace(' ', '_').str.replace('(', '').str.replace(')', '')\n",
        "df.rename(columns={\n",
        "    'density\\\\np/km2': 'density'\n",
        "}, inplace=True)\n",
        "df.head()"
      ]
    },
    {
      "cell_type": "markdown",
      "metadata": {},
      "source": [
        "**Check types**"
      ]
    },
    {
      "cell_type": "code",
      "execution_count": 7,
      "metadata": {},
      "outputs": [
        {
          "data": {
            "text/plain": [
              "country                                    object\n",
              "year                                        int64\n",
              "access_to_electricity                     float64\n",
              "access_to_clean_fuels                     float64\n",
              "renewable_capacity_per_capita             float64\n",
              "financial_flows                           float64\n",
              "renewable_energy_share                    float64\n",
              "fossil_electricity                        float64\n",
              "nuclear_electricity                       float64\n",
              "renewable_electricity                     float64\n",
              "low_carbon_electricity_pct                float64\n",
              "primary_energy_per_capita                 float64\n",
              "energy_intensity                          float64\n",
              "co2_emissions_kt                          float64\n",
              "renewables_%_equivalent_primary_energy    float64\n",
              "gdp_growth                                float64\n",
              "gdp_per_capita                            float64\n",
              "density                                    object\n",
              "land_areakm2                              float64\n",
              "latitude                                  float64\n",
              "longitude                                 float64\n",
              "dtype: object"
            ]
          },
          "execution_count": 7,
          "metadata": {},
          "output_type": "execute_result"
        }
      ],
      "source": [
        "df.dtypes"
      ]
    },
    {
      "cell_type": "markdown",
      "metadata": {},
      "source": [
        "**Check Null values**"
      ]
    },
    {
      "cell_type": "code",
      "execution_count": 8,
      "metadata": {},
      "outputs": [
        {
          "name": "stdout",
          "output_type": "stream",
          "text": [
            "access_to_electricity                       10\n",
            "access_to_clean_fuels                      169\n",
            "renewable_capacity_per_capita              931\n",
            "financial_flows                           2089\n",
            "renewable_energy_share                     194\n",
            "fossil_electricity                          21\n",
            "nuclear_electricity                        126\n",
            "renewable_electricity                       21\n",
            "low_carbon_electricity_pct                  42\n",
            "energy_intensity                           207\n",
            "co2_emissions_kt                           428\n",
            "renewables_%_equivalent_primary_energy    2137\n",
            "gdp_growth                                 317\n",
            "gdp_per_capita                             282\n",
            "density                                      1\n",
            "land_areakm2                                 1\n",
            "latitude                                     1\n",
            "longitude                                    1\n",
            "dtype: int64\n"
          ]
        }
      ],
      "source": [
        "null_columns = df.isnull().sum()\n",
        "null_columns = null_columns[null_columns > 0]\n",
        "print(null_columns)\n"
      ]
    },
    {
      "cell_type": "markdown",
      "metadata": {},
      "source": [
        "**Eliminate columns with too many null values and redundant data**"
      ]
    },
    {
      "cell_type": "code",
      "execution_count": 9,
      "metadata": {},
      "outputs": [
        {
          "name": "stdout",
          "output_type": "stream",
          "text": [
            "Dropped columns: ['density', 'land_areakm2', 'latitude', 'longitude', 'renewables_%_equivalent_primary_energy', 'financial_flows']\n"
          ]
        }
      ],
      "source": [
        "columns_to_drop = ['density', 'land_areakm2', 'latitude', 'longitude', 'renewables_%_equivalent_primary_energy', 'financial_flows']\n",
        "df.drop(columns=columns_to_drop, inplace=True)\n",
        "print(\"Dropped columns:\", columns_to_drop)"
      ]
    },
    {
      "cell_type": "code",
      "execution_count": 10,
      "metadata": {},
      "outputs": [
        {
          "name": "stdout",
          "output_type": "stream",
          "text": [
            "country                            0\n",
            "year                               0\n",
            "access_to_electricity             10\n",
            "access_to_clean_fuels            169\n",
            "renewable_capacity_per_capita    931\n",
            "renewable_energy_share           194\n",
            "fossil_electricity                21\n",
            "nuclear_electricity              126\n",
            "renewable_electricity             21\n",
            "low_carbon_electricity_pct        42\n",
            "primary_energy_per_capita          0\n",
            "energy_intensity                 207\n",
            "co2_emissions_kt                 428\n",
            "gdp_growth                       317\n",
            "gdp_per_capita                   282\n",
            "dtype: int64\n"
          ]
        }
      ],
      "source": [
        "null_columns = df.isnull().sum()\n",
        "print(null_columns)"
      ]
    },
    {
      "cell_type": "markdown",
      "metadata": {},
      "source": [
        "**Use interpolate to fill the null values**"
      ]
    },
    {
      "cell_type": "code",
      "execution_count": 11,
      "metadata": {},
      "outputs": [
        {
          "name": "stdout",
          "output_type": "stream",
          "text": [
            "country                          0\n",
            "year                             0\n",
            "access_to_electricity            0\n",
            "access_to_clean_fuels            0\n",
            "renewable_capacity_per_capita    0\n",
            "renewable_energy_share           0\n",
            "fossil_electricity               0\n",
            "nuclear_electricity              0\n",
            "renewable_electricity            0\n",
            "low_carbon_electricity_pct       0\n",
            "primary_energy_per_capita        0\n",
            "energy_intensity                 0\n",
            "co2_emissions_kt                 0\n",
            "gdp_growth                       0\n",
            "gdp_per_capita                   0\n",
            "dtype: int64\n"
          ]
        },
        {
          "name": "stderr",
          "output_type": "stream",
          "text": [
            "C:\\Users\\organ\\AppData\\Local\\Temp\\ipykernel_14716\\1778600730.py:1: FutureWarning: DataFrame.interpolate with object dtype is deprecated and will raise in a future version. Call obj.infer_objects(copy=False) before interpolating instead.\n",
            "  df.interpolate(method='linear', inplace=True)\n",
            "C:\\Users\\organ\\AppData\\Local\\Temp\\ipykernel_14716\\1778600730.py:3: FutureWarning: DataFrame.interpolate with object dtype is deprecated and will raise in a future version. Call obj.infer_objects(copy=False) before interpolating instead.\n",
            "  df = df.groupby('country').apply(lambda group: group.interpolate(method='linear', limit_direction='both'))\n",
            "C:\\Users\\organ\\AppData\\Local\\Temp\\ipykernel_14716\\1778600730.py:3: FutureWarning: DataFrame.interpolate with object dtype is deprecated and will raise in a future version. Call obj.infer_objects(copy=False) before interpolating instead.\n",
            "  df = df.groupby('country').apply(lambda group: group.interpolate(method='linear', limit_direction='both'))\n",
            "C:\\Users\\organ\\AppData\\Local\\Temp\\ipykernel_14716\\1778600730.py:3: FutureWarning: DataFrame.interpolate with object dtype is deprecated and will raise in a future version. Call obj.infer_objects(copy=False) before interpolating instead.\n",
            "  df = df.groupby('country').apply(lambda group: group.interpolate(method='linear', limit_direction='both'))\n",
            "C:\\Users\\organ\\AppData\\Local\\Temp\\ipykernel_14716\\1778600730.py:3: FutureWarning: DataFrame.interpolate with object dtype is deprecated and will raise in a future version. Call obj.infer_objects(copy=False) before interpolating instead.\n",
            "  df = df.groupby('country').apply(lambda group: group.interpolate(method='linear', limit_direction='both'))\n",
            "C:\\Users\\organ\\AppData\\Local\\Temp\\ipykernel_14716\\1778600730.py:3: FutureWarning: DataFrame.interpolate with object dtype is deprecated and will raise in a future version. Call obj.infer_objects(copy=False) before interpolating instead.\n",
            "  df = df.groupby('country').apply(lambda group: group.interpolate(method='linear', limit_direction='both'))\n",
            "C:\\Users\\organ\\AppData\\Local\\Temp\\ipykernel_14716\\1778600730.py:3: FutureWarning: DataFrame.interpolate with object dtype is deprecated and will raise in a future version. Call obj.infer_objects(copy=False) before interpolating instead.\n",
            "  df = df.groupby('country').apply(lambda group: group.interpolate(method='linear', limit_direction='both'))\n",
            "C:\\Users\\organ\\AppData\\Local\\Temp\\ipykernel_14716\\1778600730.py:3: FutureWarning: DataFrame.interpolate with object dtype is deprecated and will raise in a future version. Call obj.infer_objects(copy=False) before interpolating instead.\n",
            "  df = df.groupby('country').apply(lambda group: group.interpolate(method='linear', limit_direction='both'))\n",
            "C:\\Users\\organ\\AppData\\Local\\Temp\\ipykernel_14716\\1778600730.py:3: FutureWarning: DataFrame.interpolate with object dtype is deprecated and will raise in a future version. Call obj.infer_objects(copy=False) before interpolating instead.\n",
            "  df = df.groupby('country').apply(lambda group: group.interpolate(method='linear', limit_direction='both'))\n",
            "C:\\Users\\organ\\AppData\\Local\\Temp\\ipykernel_14716\\1778600730.py:3: FutureWarning: DataFrame.interpolate with object dtype is deprecated and will raise in a future version. Call obj.infer_objects(copy=False) before interpolating instead.\n",
            "  df = df.groupby('country').apply(lambda group: group.interpolate(method='linear', limit_direction='both'))\n",
            "C:\\Users\\organ\\AppData\\Local\\Temp\\ipykernel_14716\\1778600730.py:3: FutureWarning: DataFrame.interpolate with object dtype is deprecated and will raise in a future version. Call obj.infer_objects(copy=False) before interpolating instead.\n",
            "  df = df.groupby('country').apply(lambda group: group.interpolate(method='linear', limit_direction='both'))\n",
            "C:\\Users\\organ\\AppData\\Local\\Temp\\ipykernel_14716\\1778600730.py:3: FutureWarning: DataFrame.interpolate with object dtype is deprecated and will raise in a future version. Call obj.infer_objects(copy=False) before interpolating instead.\n",
            "  df = df.groupby('country').apply(lambda group: group.interpolate(method='linear', limit_direction='both'))\n",
            "C:\\Users\\organ\\AppData\\Local\\Temp\\ipykernel_14716\\1778600730.py:3: FutureWarning: DataFrame.interpolate with object dtype is deprecated and will raise in a future version. Call obj.infer_objects(copy=False) before interpolating instead.\n",
            "  df = df.groupby('country').apply(lambda group: group.interpolate(method='linear', limit_direction='both'))\n",
            "C:\\Users\\organ\\AppData\\Local\\Temp\\ipykernel_14716\\1778600730.py:3: FutureWarning: DataFrame.interpolate with object dtype is deprecated and will raise in a future version. Call obj.infer_objects(copy=False) before interpolating instead.\n",
            "  df = df.groupby('country').apply(lambda group: group.interpolate(method='linear', limit_direction='both'))\n",
            "C:\\Users\\organ\\AppData\\Local\\Temp\\ipykernel_14716\\1778600730.py:3: FutureWarning: DataFrame.interpolate with object dtype is deprecated and will raise in a future version. Call obj.infer_objects(copy=False) before interpolating instead.\n",
            "  df = df.groupby('country').apply(lambda group: group.interpolate(method='linear', limit_direction='both'))\n",
            "C:\\Users\\organ\\AppData\\Local\\Temp\\ipykernel_14716\\1778600730.py:3: FutureWarning: DataFrame.interpolate with object dtype is deprecated and will raise in a future version. Call obj.infer_objects(copy=False) before interpolating instead.\n",
            "  df = df.groupby('country').apply(lambda group: group.interpolate(method='linear', limit_direction='both'))\n",
            "C:\\Users\\organ\\AppData\\Local\\Temp\\ipykernel_14716\\1778600730.py:3: FutureWarning: DataFrame.interpolate with object dtype is deprecated and will raise in a future version. Call obj.infer_objects(copy=False) before interpolating instead.\n",
            "  df = df.groupby('country').apply(lambda group: group.interpolate(method='linear', limit_direction='both'))\n",
            "C:\\Users\\organ\\AppData\\Local\\Temp\\ipykernel_14716\\1778600730.py:3: FutureWarning: DataFrame.interpolate with object dtype is deprecated and will raise in a future version. Call obj.infer_objects(copy=False) before interpolating instead.\n",
            "  df = df.groupby('country').apply(lambda group: group.interpolate(method='linear', limit_direction='both'))\n",
            "C:\\Users\\organ\\AppData\\Local\\Temp\\ipykernel_14716\\1778600730.py:3: FutureWarning: DataFrame.interpolate with object dtype is deprecated and will raise in a future version. Call obj.infer_objects(copy=False) before interpolating instead.\n",
            "  df = df.groupby('country').apply(lambda group: group.interpolate(method='linear', limit_direction='both'))\n",
            "C:\\Users\\organ\\AppData\\Local\\Temp\\ipykernel_14716\\1778600730.py:3: FutureWarning: DataFrame.interpolate with object dtype is deprecated and will raise in a future version. Call obj.infer_objects(copy=False) before interpolating instead.\n",
            "  df = df.groupby('country').apply(lambda group: group.interpolate(method='linear', limit_direction='both'))\n",
            "C:\\Users\\organ\\AppData\\Local\\Temp\\ipykernel_14716\\1778600730.py:3: FutureWarning: DataFrame.interpolate with object dtype is deprecated and will raise in a future version. Call obj.infer_objects(copy=False) before interpolating instead.\n",
            "  df = df.groupby('country').apply(lambda group: group.interpolate(method='linear', limit_direction='both'))\n",
            "C:\\Users\\organ\\AppData\\Local\\Temp\\ipykernel_14716\\1778600730.py:3: FutureWarning: DataFrame.interpolate with object dtype is deprecated and will raise in a future version. Call obj.infer_objects(copy=False) before interpolating instead.\n",
            "  df = df.groupby('country').apply(lambda group: group.interpolate(method='linear', limit_direction='both'))\n",
            "C:\\Users\\organ\\AppData\\Local\\Temp\\ipykernel_14716\\1778600730.py:3: FutureWarning: DataFrame.interpolate with object dtype is deprecated and will raise in a future version. Call obj.infer_objects(copy=False) before interpolating instead.\n",
            "  df = df.groupby('country').apply(lambda group: group.interpolate(method='linear', limit_direction='both'))\n",
            "C:\\Users\\organ\\AppData\\Local\\Temp\\ipykernel_14716\\1778600730.py:3: FutureWarning: DataFrame.interpolate with object dtype is deprecated and will raise in a future version. Call obj.infer_objects(copy=False) before interpolating instead.\n",
            "  df = df.groupby('country').apply(lambda group: group.interpolate(method='linear', limit_direction='both'))\n",
            "C:\\Users\\organ\\AppData\\Local\\Temp\\ipykernel_14716\\1778600730.py:3: FutureWarning: DataFrame.interpolate with object dtype is deprecated and will raise in a future version. Call obj.infer_objects(copy=False) before interpolating instead.\n",
            "  df = df.groupby('country').apply(lambda group: group.interpolate(method='linear', limit_direction='both'))\n",
            "C:\\Users\\organ\\AppData\\Local\\Temp\\ipykernel_14716\\1778600730.py:3: FutureWarning: DataFrame.interpolate with object dtype is deprecated and will raise in a future version. Call obj.infer_objects(copy=False) before interpolating instead.\n",
            "  df = df.groupby('country').apply(lambda group: group.interpolate(method='linear', limit_direction='both'))\n",
            "C:\\Users\\organ\\AppData\\Local\\Temp\\ipykernel_14716\\1778600730.py:3: FutureWarning: DataFrame.interpolate with object dtype is deprecated and will raise in a future version. Call obj.infer_objects(copy=False) before interpolating instead.\n",
            "  df = df.groupby('country').apply(lambda group: group.interpolate(method='linear', limit_direction='both'))\n",
            "C:\\Users\\organ\\AppData\\Local\\Temp\\ipykernel_14716\\1778600730.py:3: FutureWarning: DataFrame.interpolate with object dtype is deprecated and will raise in a future version. Call obj.infer_objects(copy=False) before interpolating instead.\n",
            "  df = df.groupby('country').apply(lambda group: group.interpolate(method='linear', limit_direction='both'))\n",
            "C:\\Users\\organ\\AppData\\Local\\Temp\\ipykernel_14716\\1778600730.py:3: FutureWarning: DataFrame.interpolate with object dtype is deprecated and will raise in a future version. Call obj.infer_objects(copy=False) before interpolating instead.\n",
            "  df = df.groupby('country').apply(lambda group: group.interpolate(method='linear', limit_direction='both'))\n",
            "C:\\Users\\organ\\AppData\\Local\\Temp\\ipykernel_14716\\1778600730.py:3: FutureWarning: DataFrame.interpolate with object dtype is deprecated and will raise in a future version. Call obj.infer_objects(copy=False) before interpolating instead.\n",
            "  df = df.groupby('country').apply(lambda group: group.interpolate(method='linear', limit_direction='both'))\n",
            "C:\\Users\\organ\\AppData\\Local\\Temp\\ipykernel_14716\\1778600730.py:3: FutureWarning: DataFrame.interpolate with object dtype is deprecated and will raise in a future version. Call obj.infer_objects(copy=False) before interpolating instead.\n",
            "  df = df.groupby('country').apply(lambda group: group.interpolate(method='linear', limit_direction='both'))\n",
            "C:\\Users\\organ\\AppData\\Local\\Temp\\ipykernel_14716\\1778600730.py:3: FutureWarning: DataFrame.interpolate with object dtype is deprecated and will raise in a future version. Call obj.infer_objects(copy=False) before interpolating instead.\n",
            "  df = df.groupby('country').apply(lambda group: group.interpolate(method='linear', limit_direction='both'))\n",
            "C:\\Users\\organ\\AppData\\Local\\Temp\\ipykernel_14716\\1778600730.py:3: FutureWarning: DataFrame.interpolate with object dtype is deprecated and will raise in a future version. Call obj.infer_objects(copy=False) before interpolating instead.\n",
            "  df = df.groupby('country').apply(lambda group: group.interpolate(method='linear', limit_direction='both'))\n",
            "C:\\Users\\organ\\AppData\\Local\\Temp\\ipykernel_14716\\1778600730.py:3: FutureWarning: DataFrame.interpolate with object dtype is deprecated and will raise in a future version. Call obj.infer_objects(copy=False) before interpolating instead.\n",
            "  df = df.groupby('country').apply(lambda group: group.interpolate(method='linear', limit_direction='both'))\n",
            "C:\\Users\\organ\\AppData\\Local\\Temp\\ipykernel_14716\\1778600730.py:3: FutureWarning: DataFrame.interpolate with object dtype is deprecated and will raise in a future version. Call obj.infer_objects(copy=False) before interpolating instead.\n",
            "  df = df.groupby('country').apply(lambda group: group.interpolate(method='linear', limit_direction='both'))\n",
            "C:\\Users\\organ\\AppData\\Local\\Temp\\ipykernel_14716\\1778600730.py:3: FutureWarning: DataFrame.interpolate with object dtype is deprecated and will raise in a future version. Call obj.infer_objects(copy=False) before interpolating instead.\n",
            "  df = df.groupby('country').apply(lambda group: group.interpolate(method='linear', limit_direction='both'))\n",
            "C:\\Users\\organ\\AppData\\Local\\Temp\\ipykernel_14716\\1778600730.py:3: FutureWarning: DataFrame.interpolate with object dtype is deprecated and will raise in a future version. Call obj.infer_objects(copy=False) before interpolating instead.\n",
            "  df = df.groupby('country').apply(lambda group: group.interpolate(method='linear', limit_direction='both'))\n",
            "C:\\Users\\organ\\AppData\\Local\\Temp\\ipykernel_14716\\1778600730.py:3: FutureWarning: DataFrame.interpolate with object dtype is deprecated and will raise in a future version. Call obj.infer_objects(copy=False) before interpolating instead.\n",
            "  df = df.groupby('country').apply(lambda group: group.interpolate(method='linear', limit_direction='both'))\n",
            "C:\\Users\\organ\\AppData\\Local\\Temp\\ipykernel_14716\\1778600730.py:3: FutureWarning: DataFrame.interpolate with object dtype is deprecated and will raise in a future version. Call obj.infer_objects(copy=False) before interpolating instead.\n",
            "  df = df.groupby('country').apply(lambda group: group.interpolate(method='linear', limit_direction='both'))\n",
            "C:\\Users\\organ\\AppData\\Local\\Temp\\ipykernel_14716\\1778600730.py:3: FutureWarning: DataFrame.interpolate with object dtype is deprecated and will raise in a future version. Call obj.infer_objects(copy=False) before interpolating instead.\n",
            "  df = df.groupby('country').apply(lambda group: group.interpolate(method='linear', limit_direction='both'))\n",
            "C:\\Users\\organ\\AppData\\Local\\Temp\\ipykernel_14716\\1778600730.py:3: FutureWarning: DataFrame.interpolate with object dtype is deprecated and will raise in a future version. Call obj.infer_objects(copy=False) before interpolating instead.\n",
            "  df = df.groupby('country').apply(lambda group: group.interpolate(method='linear', limit_direction='both'))\n",
            "C:\\Users\\organ\\AppData\\Local\\Temp\\ipykernel_14716\\1778600730.py:3: FutureWarning: DataFrame.interpolate with object dtype is deprecated and will raise in a future version. Call obj.infer_objects(copy=False) before interpolating instead.\n",
            "  df = df.groupby('country').apply(lambda group: group.interpolate(method='linear', limit_direction='both'))\n",
            "C:\\Users\\organ\\AppData\\Local\\Temp\\ipykernel_14716\\1778600730.py:3: FutureWarning: DataFrame.interpolate with object dtype is deprecated and will raise in a future version. Call obj.infer_objects(copy=False) before interpolating instead.\n",
            "  df = df.groupby('country').apply(lambda group: group.interpolate(method='linear', limit_direction='both'))\n",
            "C:\\Users\\organ\\AppData\\Local\\Temp\\ipykernel_14716\\1778600730.py:3: FutureWarning: DataFrame.interpolate with object dtype is deprecated and will raise in a future version. Call obj.infer_objects(copy=False) before interpolating instead.\n",
            "  df = df.groupby('country').apply(lambda group: group.interpolate(method='linear', limit_direction='both'))\n",
            "C:\\Users\\organ\\AppData\\Local\\Temp\\ipykernel_14716\\1778600730.py:3: FutureWarning: DataFrame.interpolate with object dtype is deprecated and will raise in a future version. Call obj.infer_objects(copy=False) before interpolating instead.\n",
            "  df = df.groupby('country').apply(lambda group: group.interpolate(method='linear', limit_direction='both'))\n",
            "C:\\Users\\organ\\AppData\\Local\\Temp\\ipykernel_14716\\1778600730.py:3: FutureWarning: DataFrame.interpolate with object dtype is deprecated and will raise in a future version. Call obj.infer_objects(copy=False) before interpolating instead.\n",
            "  df = df.groupby('country').apply(lambda group: group.interpolate(method='linear', limit_direction='both'))\n",
            "C:\\Users\\organ\\AppData\\Local\\Temp\\ipykernel_14716\\1778600730.py:3: FutureWarning: DataFrame.interpolate with object dtype is deprecated and will raise in a future version. Call obj.infer_objects(copy=False) before interpolating instead.\n",
            "  df = df.groupby('country').apply(lambda group: group.interpolate(method='linear', limit_direction='both'))\n",
            "C:\\Users\\organ\\AppData\\Local\\Temp\\ipykernel_14716\\1778600730.py:3: FutureWarning: DataFrame.interpolate with object dtype is deprecated and will raise in a future version. Call obj.infer_objects(copy=False) before interpolating instead.\n",
            "  df = df.groupby('country').apply(lambda group: group.interpolate(method='linear', limit_direction='both'))\n",
            "C:\\Users\\organ\\AppData\\Local\\Temp\\ipykernel_14716\\1778600730.py:3: FutureWarning: DataFrame.interpolate with object dtype is deprecated and will raise in a future version. Call obj.infer_objects(copy=False) before interpolating instead.\n",
            "  df = df.groupby('country').apply(lambda group: group.interpolate(method='linear', limit_direction='both'))\n",
            "C:\\Users\\organ\\AppData\\Local\\Temp\\ipykernel_14716\\1778600730.py:3: FutureWarning: DataFrame.interpolate with object dtype is deprecated and will raise in a future version. Call obj.infer_objects(copy=False) before interpolating instead.\n",
            "  df = df.groupby('country').apply(lambda group: group.interpolate(method='linear', limit_direction='both'))\n",
            "C:\\Users\\organ\\AppData\\Local\\Temp\\ipykernel_14716\\1778600730.py:3: FutureWarning: DataFrame.interpolate with object dtype is deprecated and will raise in a future version. Call obj.infer_objects(copy=False) before interpolating instead.\n",
            "  df = df.groupby('country').apply(lambda group: group.interpolate(method='linear', limit_direction='both'))\n",
            "C:\\Users\\organ\\AppData\\Local\\Temp\\ipykernel_14716\\1778600730.py:3: FutureWarning: DataFrame.interpolate with object dtype is deprecated and will raise in a future version. Call obj.infer_objects(copy=False) before interpolating instead.\n",
            "  df = df.groupby('country').apply(lambda group: group.interpolate(method='linear', limit_direction='both'))\n",
            "C:\\Users\\organ\\AppData\\Local\\Temp\\ipykernel_14716\\1778600730.py:3: FutureWarning: DataFrame.interpolate with object dtype is deprecated and will raise in a future version. Call obj.infer_objects(copy=False) before interpolating instead.\n",
            "  df = df.groupby('country').apply(lambda group: group.interpolate(method='linear', limit_direction='both'))\n",
            "C:\\Users\\organ\\AppData\\Local\\Temp\\ipykernel_14716\\1778600730.py:3: FutureWarning: DataFrame.interpolate with object dtype is deprecated and will raise in a future version. Call obj.infer_objects(copy=False) before interpolating instead.\n",
            "  df = df.groupby('country').apply(lambda group: group.interpolate(method='linear', limit_direction='both'))\n",
            "C:\\Users\\organ\\AppData\\Local\\Temp\\ipykernel_14716\\1778600730.py:3: FutureWarning: DataFrame.interpolate with object dtype is deprecated and will raise in a future version. Call obj.infer_objects(copy=False) before interpolating instead.\n",
            "  df = df.groupby('country').apply(lambda group: group.interpolate(method='linear', limit_direction='both'))\n",
            "C:\\Users\\organ\\AppData\\Local\\Temp\\ipykernel_14716\\1778600730.py:3: FutureWarning: DataFrame.interpolate with object dtype is deprecated and will raise in a future version. Call obj.infer_objects(copy=False) before interpolating instead.\n",
            "  df = df.groupby('country').apply(lambda group: group.interpolate(method='linear', limit_direction='both'))\n",
            "C:\\Users\\organ\\AppData\\Local\\Temp\\ipykernel_14716\\1778600730.py:3: FutureWarning: DataFrame.interpolate with object dtype is deprecated and will raise in a future version. Call obj.infer_objects(copy=False) before interpolating instead.\n",
            "  df = df.groupby('country').apply(lambda group: group.interpolate(method='linear', limit_direction='both'))\n",
            "C:\\Users\\organ\\AppData\\Local\\Temp\\ipykernel_14716\\1778600730.py:3: FutureWarning: DataFrame.interpolate with object dtype is deprecated and will raise in a future version. Call obj.infer_objects(copy=False) before interpolating instead.\n",
            "  df = df.groupby('country').apply(lambda group: group.interpolate(method='linear', limit_direction='both'))\n",
            "C:\\Users\\organ\\AppData\\Local\\Temp\\ipykernel_14716\\1778600730.py:3: FutureWarning: DataFrame.interpolate with object dtype is deprecated and will raise in a future version. Call obj.infer_objects(copy=False) before interpolating instead.\n",
            "  df = df.groupby('country').apply(lambda group: group.interpolate(method='linear', limit_direction='both'))\n",
            "C:\\Users\\organ\\AppData\\Local\\Temp\\ipykernel_14716\\1778600730.py:3: FutureWarning: DataFrame.interpolate with object dtype is deprecated and will raise in a future version. Call obj.infer_objects(copy=False) before interpolating instead.\n",
            "  df = df.groupby('country').apply(lambda group: group.interpolate(method='linear', limit_direction='both'))\n",
            "C:\\Users\\organ\\AppData\\Local\\Temp\\ipykernel_14716\\1778600730.py:3: FutureWarning: DataFrame.interpolate with object dtype is deprecated and will raise in a future version. Call obj.infer_objects(copy=False) before interpolating instead.\n",
            "  df = df.groupby('country').apply(lambda group: group.interpolate(method='linear', limit_direction='both'))\n",
            "C:\\Users\\organ\\AppData\\Local\\Temp\\ipykernel_14716\\1778600730.py:3: FutureWarning: DataFrame.interpolate with object dtype is deprecated and will raise in a future version. Call obj.infer_objects(copy=False) before interpolating instead.\n",
            "  df = df.groupby('country').apply(lambda group: group.interpolate(method='linear', limit_direction='both'))\n",
            "C:\\Users\\organ\\AppData\\Local\\Temp\\ipykernel_14716\\1778600730.py:3: FutureWarning: DataFrame.interpolate with object dtype is deprecated and will raise in a future version. Call obj.infer_objects(copy=False) before interpolating instead.\n",
            "  df = df.groupby('country').apply(lambda group: group.interpolate(method='linear', limit_direction='both'))\n",
            "C:\\Users\\organ\\AppData\\Local\\Temp\\ipykernel_14716\\1778600730.py:3: FutureWarning: DataFrame.interpolate with object dtype is deprecated and will raise in a future version. Call obj.infer_objects(copy=False) before interpolating instead.\n",
            "  df = df.groupby('country').apply(lambda group: group.interpolate(method='linear', limit_direction='both'))\n",
            "C:\\Users\\organ\\AppData\\Local\\Temp\\ipykernel_14716\\1778600730.py:3: FutureWarning: DataFrame.interpolate with object dtype is deprecated and will raise in a future version. Call obj.infer_objects(copy=False) before interpolating instead.\n",
            "  df = df.groupby('country').apply(lambda group: group.interpolate(method='linear', limit_direction='both'))\n",
            "C:\\Users\\organ\\AppData\\Local\\Temp\\ipykernel_14716\\1778600730.py:3: FutureWarning: DataFrame.interpolate with object dtype is deprecated and will raise in a future version. Call obj.infer_objects(copy=False) before interpolating instead.\n",
            "  df = df.groupby('country').apply(lambda group: group.interpolate(method='linear', limit_direction='both'))\n",
            "C:\\Users\\organ\\AppData\\Local\\Temp\\ipykernel_14716\\1778600730.py:3: FutureWarning: DataFrame.interpolate with object dtype is deprecated and will raise in a future version. Call obj.infer_objects(copy=False) before interpolating instead.\n",
            "  df = df.groupby('country').apply(lambda group: group.interpolate(method='linear', limit_direction='both'))\n",
            "C:\\Users\\organ\\AppData\\Local\\Temp\\ipykernel_14716\\1778600730.py:3: FutureWarning: DataFrame.interpolate with object dtype is deprecated and will raise in a future version. Call obj.infer_objects(copy=False) before interpolating instead.\n",
            "  df = df.groupby('country').apply(lambda group: group.interpolate(method='linear', limit_direction='both'))\n",
            "C:\\Users\\organ\\AppData\\Local\\Temp\\ipykernel_14716\\1778600730.py:3: FutureWarning: DataFrame.interpolate with object dtype is deprecated and will raise in a future version. Call obj.infer_objects(copy=False) before interpolating instead.\n",
            "  df = df.groupby('country').apply(lambda group: group.interpolate(method='linear', limit_direction='both'))\n",
            "C:\\Users\\organ\\AppData\\Local\\Temp\\ipykernel_14716\\1778600730.py:3: FutureWarning: DataFrame.interpolate with object dtype is deprecated and will raise in a future version. Call obj.infer_objects(copy=False) before interpolating instead.\n",
            "  df = df.groupby('country').apply(lambda group: group.interpolate(method='linear', limit_direction='both'))\n",
            "C:\\Users\\organ\\AppData\\Local\\Temp\\ipykernel_14716\\1778600730.py:3: FutureWarning: DataFrame.interpolate with object dtype is deprecated and will raise in a future version. Call obj.infer_objects(copy=False) before interpolating instead.\n",
            "  df = df.groupby('country').apply(lambda group: group.interpolate(method='linear', limit_direction='both'))\n",
            "C:\\Users\\organ\\AppData\\Local\\Temp\\ipykernel_14716\\1778600730.py:3: FutureWarning: DataFrame.interpolate with object dtype is deprecated and will raise in a future version. Call obj.infer_objects(copy=False) before interpolating instead.\n",
            "  df = df.groupby('country').apply(lambda group: group.interpolate(method='linear', limit_direction='both'))\n",
            "C:\\Users\\organ\\AppData\\Local\\Temp\\ipykernel_14716\\1778600730.py:3: FutureWarning: DataFrame.interpolate with object dtype is deprecated and will raise in a future version. Call obj.infer_objects(copy=False) before interpolating instead.\n",
            "  df = df.groupby('country').apply(lambda group: group.interpolate(method='linear', limit_direction='both'))\n",
            "C:\\Users\\organ\\AppData\\Local\\Temp\\ipykernel_14716\\1778600730.py:3: FutureWarning: DataFrame.interpolate with object dtype is deprecated and will raise in a future version. Call obj.infer_objects(copy=False) before interpolating instead.\n",
            "  df = df.groupby('country').apply(lambda group: group.interpolate(method='linear', limit_direction='both'))\n",
            "C:\\Users\\organ\\AppData\\Local\\Temp\\ipykernel_14716\\1778600730.py:3: FutureWarning: DataFrame.interpolate with object dtype is deprecated and will raise in a future version. Call obj.infer_objects(copy=False) before interpolating instead.\n",
            "  df = df.groupby('country').apply(lambda group: group.interpolate(method='linear', limit_direction='both'))\n",
            "C:\\Users\\organ\\AppData\\Local\\Temp\\ipykernel_14716\\1778600730.py:3: FutureWarning: DataFrame.interpolate with object dtype is deprecated and will raise in a future version. Call obj.infer_objects(copy=False) before interpolating instead.\n",
            "  df = df.groupby('country').apply(lambda group: group.interpolate(method='linear', limit_direction='both'))\n",
            "C:\\Users\\organ\\AppData\\Local\\Temp\\ipykernel_14716\\1778600730.py:3: FutureWarning: DataFrame.interpolate with object dtype is deprecated and will raise in a future version. Call obj.infer_objects(copy=False) before interpolating instead.\n",
            "  df = df.groupby('country').apply(lambda group: group.interpolate(method='linear', limit_direction='both'))\n",
            "C:\\Users\\organ\\AppData\\Local\\Temp\\ipykernel_14716\\1778600730.py:3: FutureWarning: DataFrame.interpolate with object dtype is deprecated and will raise in a future version. Call obj.infer_objects(copy=False) before interpolating instead.\n",
            "  df = df.groupby('country').apply(lambda group: group.interpolate(method='linear', limit_direction='both'))\n",
            "C:\\Users\\organ\\AppData\\Local\\Temp\\ipykernel_14716\\1778600730.py:3: FutureWarning: DataFrame.interpolate with object dtype is deprecated and will raise in a future version. Call obj.infer_objects(copy=False) before interpolating instead.\n",
            "  df = df.groupby('country').apply(lambda group: group.interpolate(method='linear', limit_direction='both'))\n",
            "C:\\Users\\organ\\AppData\\Local\\Temp\\ipykernel_14716\\1778600730.py:3: FutureWarning: DataFrame.interpolate with object dtype is deprecated and will raise in a future version. Call obj.infer_objects(copy=False) before interpolating instead.\n",
            "  df = df.groupby('country').apply(lambda group: group.interpolate(method='linear', limit_direction='both'))\n",
            "C:\\Users\\organ\\AppData\\Local\\Temp\\ipykernel_14716\\1778600730.py:3: FutureWarning: DataFrame.interpolate with object dtype is deprecated and will raise in a future version. Call obj.infer_objects(copy=False) before interpolating instead.\n",
            "  df = df.groupby('country').apply(lambda group: group.interpolate(method='linear', limit_direction='both'))\n",
            "C:\\Users\\organ\\AppData\\Local\\Temp\\ipykernel_14716\\1778600730.py:3: FutureWarning: DataFrame.interpolate with object dtype is deprecated and will raise in a future version. Call obj.infer_objects(copy=False) before interpolating instead.\n",
            "  df = df.groupby('country').apply(lambda group: group.interpolate(method='linear', limit_direction='both'))\n",
            "C:\\Users\\organ\\AppData\\Local\\Temp\\ipykernel_14716\\1778600730.py:3: FutureWarning: DataFrame.interpolate with object dtype is deprecated and will raise in a future version. Call obj.infer_objects(copy=False) before interpolating instead.\n",
            "  df = df.groupby('country').apply(lambda group: group.interpolate(method='linear', limit_direction='both'))\n",
            "C:\\Users\\organ\\AppData\\Local\\Temp\\ipykernel_14716\\1778600730.py:3: FutureWarning: DataFrame.interpolate with object dtype is deprecated and will raise in a future version. Call obj.infer_objects(copy=False) before interpolating instead.\n",
            "  df = df.groupby('country').apply(lambda group: group.interpolate(method='linear', limit_direction='both'))\n",
            "C:\\Users\\organ\\AppData\\Local\\Temp\\ipykernel_14716\\1778600730.py:3: FutureWarning: DataFrame.interpolate with object dtype is deprecated and will raise in a future version. Call obj.infer_objects(copy=False) before interpolating instead.\n",
            "  df = df.groupby('country').apply(lambda group: group.interpolate(method='linear', limit_direction='both'))\n",
            "C:\\Users\\organ\\AppData\\Local\\Temp\\ipykernel_14716\\1778600730.py:3: FutureWarning: DataFrame.interpolate with object dtype is deprecated and will raise in a future version. Call obj.infer_objects(copy=False) before interpolating instead.\n",
            "  df = df.groupby('country').apply(lambda group: group.interpolate(method='linear', limit_direction='both'))\n",
            "C:\\Users\\organ\\AppData\\Local\\Temp\\ipykernel_14716\\1778600730.py:3: FutureWarning: DataFrame.interpolate with object dtype is deprecated and will raise in a future version. Call obj.infer_objects(copy=False) before interpolating instead.\n",
            "  df = df.groupby('country').apply(lambda group: group.interpolate(method='linear', limit_direction='both'))\n",
            "C:\\Users\\organ\\AppData\\Local\\Temp\\ipykernel_14716\\1778600730.py:3: FutureWarning: DataFrame.interpolate with object dtype is deprecated and will raise in a future version. Call obj.infer_objects(copy=False) before interpolating instead.\n",
            "  df = df.groupby('country').apply(lambda group: group.interpolate(method='linear', limit_direction='both'))\n",
            "C:\\Users\\organ\\AppData\\Local\\Temp\\ipykernel_14716\\1778600730.py:3: FutureWarning: DataFrame.interpolate with object dtype is deprecated and will raise in a future version. Call obj.infer_objects(copy=False) before interpolating instead.\n",
            "  df = df.groupby('country').apply(lambda group: group.interpolate(method='linear', limit_direction='both'))\n",
            "C:\\Users\\organ\\AppData\\Local\\Temp\\ipykernel_14716\\1778600730.py:3: FutureWarning: DataFrame.interpolate with object dtype is deprecated and will raise in a future version. Call obj.infer_objects(copy=False) before interpolating instead.\n",
            "  df = df.groupby('country').apply(lambda group: group.interpolate(method='linear', limit_direction='both'))\n",
            "C:\\Users\\organ\\AppData\\Local\\Temp\\ipykernel_14716\\1778600730.py:3: FutureWarning: DataFrame.interpolate with object dtype is deprecated and will raise in a future version. Call obj.infer_objects(copy=False) before interpolating instead.\n",
            "  df = df.groupby('country').apply(lambda group: group.interpolate(method='linear', limit_direction='both'))\n",
            "C:\\Users\\organ\\AppData\\Local\\Temp\\ipykernel_14716\\1778600730.py:3: FutureWarning: DataFrame.interpolate with object dtype is deprecated and will raise in a future version. Call obj.infer_objects(copy=False) before interpolating instead.\n",
            "  df = df.groupby('country').apply(lambda group: group.interpolate(method='linear', limit_direction='both'))\n",
            "C:\\Users\\organ\\AppData\\Local\\Temp\\ipykernel_14716\\1778600730.py:3: FutureWarning: DataFrame.interpolate with object dtype is deprecated and will raise in a future version. Call obj.infer_objects(copy=False) before interpolating instead.\n",
            "  df = df.groupby('country').apply(lambda group: group.interpolate(method='linear', limit_direction='both'))\n",
            "C:\\Users\\organ\\AppData\\Local\\Temp\\ipykernel_14716\\1778600730.py:3: FutureWarning: DataFrame.interpolate with object dtype is deprecated and will raise in a future version. Call obj.infer_objects(copy=False) before interpolating instead.\n",
            "  df = df.groupby('country').apply(lambda group: group.interpolate(method='linear', limit_direction='both'))\n",
            "C:\\Users\\organ\\AppData\\Local\\Temp\\ipykernel_14716\\1778600730.py:3: FutureWarning: DataFrame.interpolate with object dtype is deprecated and will raise in a future version. Call obj.infer_objects(copy=False) before interpolating instead.\n",
            "  df = df.groupby('country').apply(lambda group: group.interpolate(method='linear', limit_direction='both'))\n",
            "C:\\Users\\organ\\AppData\\Local\\Temp\\ipykernel_14716\\1778600730.py:3: FutureWarning: DataFrame.interpolate with object dtype is deprecated and will raise in a future version. Call obj.infer_objects(copy=False) before interpolating instead.\n",
            "  df = df.groupby('country').apply(lambda group: group.interpolate(method='linear', limit_direction='both'))\n",
            "C:\\Users\\organ\\AppData\\Local\\Temp\\ipykernel_14716\\1778600730.py:3: FutureWarning: DataFrame.interpolate with object dtype is deprecated and will raise in a future version. Call obj.infer_objects(copy=False) before interpolating instead.\n",
            "  df = df.groupby('country').apply(lambda group: group.interpolate(method='linear', limit_direction='both'))\n",
            "C:\\Users\\organ\\AppData\\Local\\Temp\\ipykernel_14716\\1778600730.py:3: FutureWarning: DataFrame.interpolate with object dtype is deprecated and will raise in a future version. Call obj.infer_objects(copy=False) before interpolating instead.\n",
            "  df = df.groupby('country').apply(lambda group: group.interpolate(method='linear', limit_direction='both'))\n",
            "C:\\Users\\organ\\AppData\\Local\\Temp\\ipykernel_14716\\1778600730.py:3: FutureWarning: DataFrame.interpolate with object dtype is deprecated and will raise in a future version. Call obj.infer_objects(copy=False) before interpolating instead.\n",
            "  df = df.groupby('country').apply(lambda group: group.interpolate(method='linear', limit_direction='both'))\n",
            "C:\\Users\\organ\\AppData\\Local\\Temp\\ipykernel_14716\\1778600730.py:3: FutureWarning: DataFrame.interpolate with object dtype is deprecated and will raise in a future version. Call obj.infer_objects(copy=False) before interpolating instead.\n",
            "  df = df.groupby('country').apply(lambda group: group.interpolate(method='linear', limit_direction='both'))\n",
            "C:\\Users\\organ\\AppData\\Local\\Temp\\ipykernel_14716\\1778600730.py:3: FutureWarning: DataFrame.interpolate with object dtype is deprecated and will raise in a future version. Call obj.infer_objects(copy=False) before interpolating instead.\n",
            "  df = df.groupby('country').apply(lambda group: group.interpolate(method='linear', limit_direction='both'))\n",
            "C:\\Users\\organ\\AppData\\Local\\Temp\\ipykernel_14716\\1778600730.py:3: FutureWarning: DataFrame.interpolate with object dtype is deprecated and will raise in a future version. Call obj.infer_objects(copy=False) before interpolating instead.\n",
            "  df = df.groupby('country').apply(lambda group: group.interpolate(method='linear', limit_direction='both'))\n",
            "C:\\Users\\organ\\AppData\\Local\\Temp\\ipykernel_14716\\1778600730.py:3: FutureWarning: DataFrame.interpolate with object dtype is deprecated and will raise in a future version. Call obj.infer_objects(copy=False) before interpolating instead.\n",
            "  df = df.groupby('country').apply(lambda group: group.interpolate(method='linear', limit_direction='both'))\n",
            "C:\\Users\\organ\\AppData\\Local\\Temp\\ipykernel_14716\\1778600730.py:3: FutureWarning: DataFrame.interpolate with object dtype is deprecated and will raise in a future version. Call obj.infer_objects(copy=False) before interpolating instead.\n",
            "  df = df.groupby('country').apply(lambda group: group.interpolate(method='linear', limit_direction='both'))\n",
            "C:\\Users\\organ\\AppData\\Local\\Temp\\ipykernel_14716\\1778600730.py:3: FutureWarning: DataFrame.interpolate with object dtype is deprecated and will raise in a future version. Call obj.infer_objects(copy=False) before interpolating instead.\n",
            "  df = df.groupby('country').apply(lambda group: group.interpolate(method='linear', limit_direction='both'))\n",
            "C:\\Users\\organ\\AppData\\Local\\Temp\\ipykernel_14716\\1778600730.py:3: FutureWarning: DataFrame.interpolate with object dtype is deprecated and will raise in a future version. Call obj.infer_objects(copy=False) before interpolating instead.\n",
            "  df = df.groupby('country').apply(lambda group: group.interpolate(method='linear', limit_direction='both'))\n",
            "C:\\Users\\organ\\AppData\\Local\\Temp\\ipykernel_14716\\1778600730.py:3: FutureWarning: DataFrame.interpolate with object dtype is deprecated and will raise in a future version. Call obj.infer_objects(copy=False) before interpolating instead.\n",
            "  df = df.groupby('country').apply(lambda group: group.interpolate(method='linear', limit_direction='both'))\n",
            "C:\\Users\\organ\\AppData\\Local\\Temp\\ipykernel_14716\\1778600730.py:3: FutureWarning: DataFrame.interpolate with object dtype is deprecated and will raise in a future version. Call obj.infer_objects(copy=False) before interpolating instead.\n",
            "  df = df.groupby('country').apply(lambda group: group.interpolate(method='linear', limit_direction='both'))\n",
            "C:\\Users\\organ\\AppData\\Local\\Temp\\ipykernel_14716\\1778600730.py:3: FutureWarning: DataFrame.interpolate with object dtype is deprecated and will raise in a future version. Call obj.infer_objects(copy=False) before interpolating instead.\n",
            "  df = df.groupby('country').apply(lambda group: group.interpolate(method='linear', limit_direction='both'))\n",
            "C:\\Users\\organ\\AppData\\Local\\Temp\\ipykernel_14716\\1778600730.py:3: FutureWarning: DataFrame.interpolate with object dtype is deprecated and will raise in a future version. Call obj.infer_objects(copy=False) before interpolating instead.\n",
            "  df = df.groupby('country').apply(lambda group: group.interpolate(method='linear', limit_direction='both'))\n",
            "C:\\Users\\organ\\AppData\\Local\\Temp\\ipykernel_14716\\1778600730.py:3: FutureWarning: DataFrame.interpolate with object dtype is deprecated and will raise in a future version. Call obj.infer_objects(copy=False) before interpolating instead.\n",
            "  df = df.groupby('country').apply(lambda group: group.interpolate(method='linear', limit_direction='both'))\n",
            "C:\\Users\\organ\\AppData\\Local\\Temp\\ipykernel_14716\\1778600730.py:3: FutureWarning: DataFrame.interpolate with object dtype is deprecated and will raise in a future version. Call obj.infer_objects(copy=False) before interpolating instead.\n",
            "  df = df.groupby('country').apply(lambda group: group.interpolate(method='linear', limit_direction='both'))\n",
            "C:\\Users\\organ\\AppData\\Local\\Temp\\ipykernel_14716\\1778600730.py:3: FutureWarning: DataFrame.interpolate with object dtype is deprecated and will raise in a future version. Call obj.infer_objects(copy=False) before interpolating instead.\n",
            "  df = df.groupby('country').apply(lambda group: group.interpolate(method='linear', limit_direction='both'))\n",
            "C:\\Users\\organ\\AppData\\Local\\Temp\\ipykernel_14716\\1778600730.py:3: FutureWarning: DataFrame.interpolate with object dtype is deprecated and will raise in a future version. Call obj.infer_objects(copy=False) before interpolating instead.\n",
            "  df = df.groupby('country').apply(lambda group: group.interpolate(method='linear', limit_direction='both'))\n",
            "C:\\Users\\organ\\AppData\\Local\\Temp\\ipykernel_14716\\1778600730.py:3: FutureWarning: DataFrame.interpolate with object dtype is deprecated and will raise in a future version. Call obj.infer_objects(copy=False) before interpolating instead.\n",
            "  df = df.groupby('country').apply(lambda group: group.interpolate(method='linear', limit_direction='both'))\n",
            "C:\\Users\\organ\\AppData\\Local\\Temp\\ipykernel_14716\\1778600730.py:3: FutureWarning: DataFrame.interpolate with object dtype is deprecated and will raise in a future version. Call obj.infer_objects(copy=False) before interpolating instead.\n",
            "  df = df.groupby('country').apply(lambda group: group.interpolate(method='linear', limit_direction='both'))\n",
            "C:\\Users\\organ\\AppData\\Local\\Temp\\ipykernel_14716\\1778600730.py:3: FutureWarning: DataFrame.interpolate with object dtype is deprecated and will raise in a future version. Call obj.infer_objects(copy=False) before interpolating instead.\n",
            "  df = df.groupby('country').apply(lambda group: group.interpolate(method='linear', limit_direction='both'))\n",
            "C:\\Users\\organ\\AppData\\Local\\Temp\\ipykernel_14716\\1778600730.py:3: FutureWarning: DataFrame.interpolate with object dtype is deprecated and will raise in a future version. Call obj.infer_objects(copy=False) before interpolating instead.\n",
            "  df = df.groupby('country').apply(lambda group: group.interpolate(method='linear', limit_direction='both'))\n",
            "C:\\Users\\organ\\AppData\\Local\\Temp\\ipykernel_14716\\1778600730.py:3: FutureWarning: DataFrame.interpolate with object dtype is deprecated and will raise in a future version. Call obj.infer_objects(copy=False) before interpolating instead.\n",
            "  df = df.groupby('country').apply(lambda group: group.interpolate(method='linear', limit_direction='both'))\n",
            "C:\\Users\\organ\\AppData\\Local\\Temp\\ipykernel_14716\\1778600730.py:3: FutureWarning: DataFrame.interpolate with object dtype is deprecated and will raise in a future version. Call obj.infer_objects(copy=False) before interpolating instead.\n",
            "  df = df.groupby('country').apply(lambda group: group.interpolate(method='linear', limit_direction='both'))\n",
            "C:\\Users\\organ\\AppData\\Local\\Temp\\ipykernel_14716\\1778600730.py:3: FutureWarning: DataFrame.interpolate with object dtype is deprecated and will raise in a future version. Call obj.infer_objects(copy=False) before interpolating instead.\n",
            "  df = df.groupby('country').apply(lambda group: group.interpolate(method='linear', limit_direction='both'))\n",
            "C:\\Users\\organ\\AppData\\Local\\Temp\\ipykernel_14716\\1778600730.py:3: FutureWarning: DataFrame.interpolate with object dtype is deprecated and will raise in a future version. Call obj.infer_objects(copy=False) before interpolating instead.\n",
            "  df = df.groupby('country').apply(lambda group: group.interpolate(method='linear', limit_direction='both'))\n",
            "C:\\Users\\organ\\AppData\\Local\\Temp\\ipykernel_14716\\1778600730.py:3: FutureWarning: DataFrame.interpolate with object dtype is deprecated and will raise in a future version. Call obj.infer_objects(copy=False) before interpolating instead.\n",
            "  df = df.groupby('country').apply(lambda group: group.interpolate(method='linear', limit_direction='both'))\n",
            "C:\\Users\\organ\\AppData\\Local\\Temp\\ipykernel_14716\\1778600730.py:3: FutureWarning: DataFrame.interpolate with object dtype is deprecated and will raise in a future version. Call obj.infer_objects(copy=False) before interpolating instead.\n",
            "  df = df.groupby('country').apply(lambda group: group.interpolate(method='linear', limit_direction='both'))\n",
            "C:\\Users\\organ\\AppData\\Local\\Temp\\ipykernel_14716\\1778600730.py:3: FutureWarning: DataFrame.interpolate with object dtype is deprecated and will raise in a future version. Call obj.infer_objects(copy=False) before interpolating instead.\n",
            "  df = df.groupby('country').apply(lambda group: group.interpolate(method='linear', limit_direction='both'))\n",
            "C:\\Users\\organ\\AppData\\Local\\Temp\\ipykernel_14716\\1778600730.py:3: FutureWarning: DataFrame.interpolate with object dtype is deprecated and will raise in a future version. Call obj.infer_objects(copy=False) before interpolating instead.\n",
            "  df = df.groupby('country').apply(lambda group: group.interpolate(method='linear', limit_direction='both'))\n",
            "C:\\Users\\organ\\AppData\\Local\\Temp\\ipykernel_14716\\1778600730.py:3: FutureWarning: DataFrame.interpolate with object dtype is deprecated and will raise in a future version. Call obj.infer_objects(copy=False) before interpolating instead.\n",
            "  df = df.groupby('country').apply(lambda group: group.interpolate(method='linear', limit_direction='both'))\n",
            "C:\\Users\\organ\\AppData\\Local\\Temp\\ipykernel_14716\\1778600730.py:3: FutureWarning: DataFrame.interpolate with object dtype is deprecated and will raise in a future version. Call obj.infer_objects(copy=False) before interpolating instead.\n",
            "  df = df.groupby('country').apply(lambda group: group.interpolate(method='linear', limit_direction='both'))\n",
            "C:\\Users\\organ\\AppData\\Local\\Temp\\ipykernel_14716\\1778600730.py:3: FutureWarning: DataFrame.interpolate with object dtype is deprecated and will raise in a future version. Call obj.infer_objects(copy=False) before interpolating instead.\n",
            "  df = df.groupby('country').apply(lambda group: group.interpolate(method='linear', limit_direction='both'))\n",
            "C:\\Users\\organ\\AppData\\Local\\Temp\\ipykernel_14716\\1778600730.py:3: FutureWarning: DataFrame.interpolate with object dtype is deprecated and will raise in a future version. Call obj.infer_objects(copy=False) before interpolating instead.\n",
            "  df = df.groupby('country').apply(lambda group: group.interpolate(method='linear', limit_direction='both'))\n",
            "C:\\Users\\organ\\AppData\\Local\\Temp\\ipykernel_14716\\1778600730.py:3: FutureWarning: DataFrame.interpolate with object dtype is deprecated and will raise in a future version. Call obj.infer_objects(copy=False) before interpolating instead.\n",
            "  df = df.groupby('country').apply(lambda group: group.interpolate(method='linear', limit_direction='both'))\n",
            "C:\\Users\\organ\\AppData\\Local\\Temp\\ipykernel_14716\\1778600730.py:3: FutureWarning: DataFrame.interpolate with object dtype is deprecated and will raise in a future version. Call obj.infer_objects(copy=False) before interpolating instead.\n",
            "  df = df.groupby('country').apply(lambda group: group.interpolate(method='linear', limit_direction='both'))\n",
            "C:\\Users\\organ\\AppData\\Local\\Temp\\ipykernel_14716\\1778600730.py:3: FutureWarning: DataFrame.interpolate with object dtype is deprecated and will raise in a future version. Call obj.infer_objects(copy=False) before interpolating instead.\n",
            "  df = df.groupby('country').apply(lambda group: group.interpolate(method='linear', limit_direction='both'))\n",
            "C:\\Users\\organ\\AppData\\Local\\Temp\\ipykernel_14716\\1778600730.py:3: FutureWarning: DataFrame.interpolate with object dtype is deprecated and will raise in a future version. Call obj.infer_objects(copy=False) before interpolating instead.\n",
            "  df = df.groupby('country').apply(lambda group: group.interpolate(method='linear', limit_direction='both'))\n",
            "C:\\Users\\organ\\AppData\\Local\\Temp\\ipykernel_14716\\1778600730.py:3: FutureWarning: DataFrame.interpolate with object dtype is deprecated and will raise in a future version. Call obj.infer_objects(copy=False) before interpolating instead.\n",
            "  df = df.groupby('country').apply(lambda group: group.interpolate(method='linear', limit_direction='both'))\n",
            "C:\\Users\\organ\\AppData\\Local\\Temp\\ipykernel_14716\\1778600730.py:3: FutureWarning: DataFrame.interpolate with object dtype is deprecated and will raise in a future version. Call obj.infer_objects(copy=False) before interpolating instead.\n",
            "  df = df.groupby('country').apply(lambda group: group.interpolate(method='linear', limit_direction='both'))\n",
            "C:\\Users\\organ\\AppData\\Local\\Temp\\ipykernel_14716\\1778600730.py:3: FutureWarning: DataFrame.interpolate with object dtype is deprecated and will raise in a future version. Call obj.infer_objects(copy=False) before interpolating instead.\n",
            "  df = df.groupby('country').apply(lambda group: group.interpolate(method='linear', limit_direction='both'))\n",
            "C:\\Users\\organ\\AppData\\Local\\Temp\\ipykernel_14716\\1778600730.py:3: FutureWarning: DataFrame.interpolate with object dtype is deprecated and will raise in a future version. Call obj.infer_objects(copy=False) before interpolating instead.\n",
            "  df = df.groupby('country').apply(lambda group: group.interpolate(method='linear', limit_direction='both'))\n",
            "C:\\Users\\organ\\AppData\\Local\\Temp\\ipykernel_14716\\1778600730.py:3: FutureWarning: DataFrame.interpolate with object dtype is deprecated and will raise in a future version. Call obj.infer_objects(copy=False) before interpolating instead.\n",
            "  df = df.groupby('country').apply(lambda group: group.interpolate(method='linear', limit_direction='both'))\n",
            "C:\\Users\\organ\\AppData\\Local\\Temp\\ipykernel_14716\\1778600730.py:3: FutureWarning: DataFrame.interpolate with object dtype is deprecated and will raise in a future version. Call obj.infer_objects(copy=False) before interpolating instead.\n",
            "  df = df.groupby('country').apply(lambda group: group.interpolate(method='linear', limit_direction='both'))\n",
            "C:\\Users\\organ\\AppData\\Local\\Temp\\ipykernel_14716\\1778600730.py:3: FutureWarning: DataFrame.interpolate with object dtype is deprecated and will raise in a future version. Call obj.infer_objects(copy=False) before interpolating instead.\n",
            "  df = df.groupby('country').apply(lambda group: group.interpolate(method='linear', limit_direction='both'))\n",
            "C:\\Users\\organ\\AppData\\Local\\Temp\\ipykernel_14716\\1778600730.py:3: FutureWarning: DataFrame.interpolate with object dtype is deprecated and will raise in a future version. Call obj.infer_objects(copy=False) before interpolating instead.\n",
            "  df = df.groupby('country').apply(lambda group: group.interpolate(method='linear', limit_direction='both'))\n",
            "C:\\Users\\organ\\AppData\\Local\\Temp\\ipykernel_14716\\1778600730.py:3: FutureWarning: DataFrame.interpolate with object dtype is deprecated and will raise in a future version. Call obj.infer_objects(copy=False) before interpolating instead.\n",
            "  df = df.groupby('country').apply(lambda group: group.interpolate(method='linear', limit_direction='both'))\n",
            "C:\\Users\\organ\\AppData\\Local\\Temp\\ipykernel_14716\\1778600730.py:3: FutureWarning: DataFrame.interpolate with object dtype is deprecated and will raise in a future version. Call obj.infer_objects(copy=False) before interpolating instead.\n",
            "  df = df.groupby('country').apply(lambda group: group.interpolate(method='linear', limit_direction='both'))\n",
            "C:\\Users\\organ\\AppData\\Local\\Temp\\ipykernel_14716\\1778600730.py:3: FutureWarning: DataFrame.interpolate with object dtype is deprecated and will raise in a future version. Call obj.infer_objects(copy=False) before interpolating instead.\n",
            "  df = df.groupby('country').apply(lambda group: group.interpolate(method='linear', limit_direction='both'))\n",
            "C:\\Users\\organ\\AppData\\Local\\Temp\\ipykernel_14716\\1778600730.py:3: FutureWarning: DataFrame.interpolate with object dtype is deprecated and will raise in a future version. Call obj.infer_objects(copy=False) before interpolating instead.\n",
            "  df = df.groupby('country').apply(lambda group: group.interpolate(method='linear', limit_direction='both'))\n",
            "C:\\Users\\organ\\AppData\\Local\\Temp\\ipykernel_14716\\1778600730.py:3: FutureWarning: DataFrame.interpolate with object dtype is deprecated and will raise in a future version. Call obj.infer_objects(copy=False) before interpolating instead.\n",
            "  df = df.groupby('country').apply(lambda group: group.interpolate(method='linear', limit_direction='both'))\n",
            "C:\\Users\\organ\\AppData\\Local\\Temp\\ipykernel_14716\\1778600730.py:3: FutureWarning: DataFrame.interpolate with object dtype is deprecated and will raise in a future version. Call obj.infer_objects(copy=False) before interpolating instead.\n",
            "  df = df.groupby('country').apply(lambda group: group.interpolate(method='linear', limit_direction='both'))\n",
            "C:\\Users\\organ\\AppData\\Local\\Temp\\ipykernel_14716\\1778600730.py:3: FutureWarning: DataFrame.interpolate with object dtype is deprecated and will raise in a future version. Call obj.infer_objects(copy=False) before interpolating instead.\n",
            "  df = df.groupby('country').apply(lambda group: group.interpolate(method='linear', limit_direction='both'))\n",
            "C:\\Users\\organ\\AppData\\Local\\Temp\\ipykernel_14716\\1778600730.py:3: FutureWarning: DataFrame.interpolate with object dtype is deprecated and will raise in a future version. Call obj.infer_objects(copy=False) before interpolating instead.\n",
            "  df = df.groupby('country').apply(lambda group: group.interpolate(method='linear', limit_direction='both'))\n",
            "C:\\Users\\organ\\AppData\\Local\\Temp\\ipykernel_14716\\1778600730.py:3: FutureWarning: DataFrame.interpolate with object dtype is deprecated and will raise in a future version. Call obj.infer_objects(copy=False) before interpolating instead.\n",
            "  df = df.groupby('country').apply(lambda group: group.interpolate(method='linear', limit_direction='both'))\n",
            "C:\\Users\\organ\\AppData\\Local\\Temp\\ipykernel_14716\\1778600730.py:3: FutureWarning: DataFrame.interpolate with object dtype is deprecated and will raise in a future version. Call obj.infer_objects(copy=False) before interpolating instead.\n",
            "  df = df.groupby('country').apply(lambda group: group.interpolate(method='linear', limit_direction='both'))\n",
            "C:\\Users\\organ\\AppData\\Local\\Temp\\ipykernel_14716\\1778600730.py:3: FutureWarning: DataFrame.interpolate with object dtype is deprecated and will raise in a future version. Call obj.infer_objects(copy=False) before interpolating instead.\n",
            "  df = df.groupby('country').apply(lambda group: group.interpolate(method='linear', limit_direction='both'))\n",
            "C:\\Users\\organ\\AppData\\Local\\Temp\\ipykernel_14716\\1778600730.py:3: FutureWarning: DataFrame.interpolate with object dtype is deprecated and will raise in a future version. Call obj.infer_objects(copy=False) before interpolating instead.\n",
            "  df = df.groupby('country').apply(lambda group: group.interpolate(method='linear', limit_direction='both'))\n",
            "C:\\Users\\organ\\AppData\\Local\\Temp\\ipykernel_14716\\1778600730.py:3: FutureWarning: DataFrame.interpolate with object dtype is deprecated and will raise in a future version. Call obj.infer_objects(copy=False) before interpolating instead.\n",
            "  df = df.groupby('country').apply(lambda group: group.interpolate(method='linear', limit_direction='both'))\n",
            "C:\\Users\\organ\\AppData\\Local\\Temp\\ipykernel_14716\\1778600730.py:3: FutureWarning: DataFrame.interpolate with object dtype is deprecated and will raise in a future version. Call obj.infer_objects(copy=False) before interpolating instead.\n",
            "  df = df.groupby('country').apply(lambda group: group.interpolate(method='linear', limit_direction='both'))\n",
            "C:\\Users\\organ\\AppData\\Local\\Temp\\ipykernel_14716\\1778600730.py:3: FutureWarning: DataFrame.interpolate with object dtype is deprecated and will raise in a future version. Call obj.infer_objects(copy=False) before interpolating instead.\n",
            "  df = df.groupby('country').apply(lambda group: group.interpolate(method='linear', limit_direction='both'))\n",
            "C:\\Users\\organ\\AppData\\Local\\Temp\\ipykernel_14716\\1778600730.py:3: FutureWarning: DataFrame.interpolate with object dtype is deprecated and will raise in a future version. Call obj.infer_objects(copy=False) before interpolating instead.\n",
            "  df = df.groupby('country').apply(lambda group: group.interpolate(method='linear', limit_direction='both'))\n",
            "C:\\Users\\organ\\AppData\\Local\\Temp\\ipykernel_14716\\1778600730.py:3: FutureWarning: DataFrame.interpolate with object dtype is deprecated and will raise in a future version. Call obj.infer_objects(copy=False) before interpolating instead.\n",
            "  df = df.groupby('country').apply(lambda group: group.interpolate(method='linear', limit_direction='both'))\n",
            "C:\\Users\\organ\\AppData\\Local\\Temp\\ipykernel_14716\\1778600730.py:3: FutureWarning: DataFrame.interpolate with object dtype is deprecated and will raise in a future version. Call obj.infer_objects(copy=False) before interpolating instead.\n",
            "  df = df.groupby('country').apply(lambda group: group.interpolate(method='linear', limit_direction='both'))\n",
            "C:\\Users\\organ\\AppData\\Local\\Temp\\ipykernel_14716\\1778600730.py:3: FutureWarning: DataFrame.interpolate with object dtype is deprecated and will raise in a future version. Call obj.infer_objects(copy=False) before interpolating instead.\n",
            "  df = df.groupby('country').apply(lambda group: group.interpolate(method='linear', limit_direction='both'))\n",
            "C:\\Users\\organ\\AppData\\Local\\Temp\\ipykernel_14716\\1778600730.py:3: FutureWarning: DataFrame.interpolate with object dtype is deprecated and will raise in a future version. Call obj.infer_objects(copy=False) before interpolating instead.\n",
            "  df = df.groupby('country').apply(lambda group: group.interpolate(method='linear', limit_direction='both'))\n",
            "C:\\Users\\organ\\AppData\\Local\\Temp\\ipykernel_14716\\1778600730.py:3: FutureWarning: DataFrame.interpolate with object dtype is deprecated and will raise in a future version. Call obj.infer_objects(copy=False) before interpolating instead.\n",
            "  df = df.groupby('country').apply(lambda group: group.interpolate(method='linear', limit_direction='both'))\n",
            "C:\\Users\\organ\\AppData\\Local\\Temp\\ipykernel_14716\\1778600730.py:3: FutureWarning: DataFrame.interpolate with object dtype is deprecated and will raise in a future version. Call obj.infer_objects(copy=False) before interpolating instead.\n",
            "  df = df.groupby('country').apply(lambda group: group.interpolate(method='linear', limit_direction='both'))\n",
            "C:\\Users\\organ\\AppData\\Local\\Temp\\ipykernel_14716\\1778600730.py:3: FutureWarning: DataFrame.interpolate with object dtype is deprecated and will raise in a future version. Call obj.infer_objects(copy=False) before interpolating instead.\n",
            "  df = df.groupby('country').apply(lambda group: group.interpolate(method='linear', limit_direction='both'))\n",
            "C:\\Users\\organ\\AppData\\Local\\Temp\\ipykernel_14716\\1778600730.py:3: FutureWarning: DataFrame.interpolate with object dtype is deprecated and will raise in a future version. Call obj.infer_objects(copy=False) before interpolating instead.\n",
            "  df = df.groupby('country').apply(lambda group: group.interpolate(method='linear', limit_direction='both'))\n",
            "C:\\Users\\organ\\AppData\\Local\\Temp\\ipykernel_14716\\1778600730.py:3: FutureWarning: DataFrame.interpolate with object dtype is deprecated and will raise in a future version. Call obj.infer_objects(copy=False) before interpolating instead.\n",
            "  df = df.groupby('country').apply(lambda group: group.interpolate(method='linear', limit_direction='both'))\n",
            "C:\\Users\\organ\\AppData\\Local\\Temp\\ipykernel_14716\\1778600730.py:3: FutureWarning: DataFrame.interpolate with object dtype is deprecated and will raise in a future version. Call obj.infer_objects(copy=False) before interpolating instead.\n",
            "  df = df.groupby('country').apply(lambda group: group.interpolate(method='linear', limit_direction='both'))\n",
            "C:\\Users\\organ\\AppData\\Local\\Temp\\ipykernel_14716\\1778600730.py:3: FutureWarning: DataFrame.interpolate with object dtype is deprecated and will raise in a future version. Call obj.infer_objects(copy=False) before interpolating instead.\n",
            "  df = df.groupby('country').apply(lambda group: group.interpolate(method='linear', limit_direction='both'))\n",
            "C:\\Users\\organ\\AppData\\Local\\Temp\\ipykernel_14716\\1778600730.py:3: FutureWarning: DataFrame.interpolate with object dtype is deprecated and will raise in a future version. Call obj.infer_objects(copy=False) before interpolating instead.\n",
            "  df = df.groupby('country').apply(lambda group: group.interpolate(method='linear', limit_direction='both'))\n",
            "C:\\Users\\organ\\AppData\\Local\\Temp\\ipykernel_14716\\1778600730.py:3: FutureWarning: DataFrame.interpolate with object dtype is deprecated and will raise in a future version. Call obj.infer_objects(copy=False) before interpolating instead.\n",
            "  df = df.groupby('country').apply(lambda group: group.interpolate(method='linear', limit_direction='both'))\n",
            "C:\\Users\\organ\\AppData\\Local\\Temp\\ipykernel_14716\\1778600730.py:3: FutureWarning: DataFrame.interpolate with object dtype is deprecated and will raise in a future version. Call obj.infer_objects(copy=False) before interpolating instead.\n",
            "  df = df.groupby('country').apply(lambda group: group.interpolate(method='linear', limit_direction='both'))\n",
            "C:\\Users\\organ\\AppData\\Local\\Temp\\ipykernel_14716\\1778600730.py:3: FutureWarning: DataFrame.interpolate with object dtype is deprecated and will raise in a future version. Call obj.infer_objects(copy=False) before interpolating instead.\n",
            "  df = df.groupby('country').apply(lambda group: group.interpolate(method='linear', limit_direction='both'))\n",
            "C:\\Users\\organ\\AppData\\Local\\Temp\\ipykernel_14716\\1778600730.py:3: FutureWarning: DataFrame.interpolate with object dtype is deprecated and will raise in a future version. Call obj.infer_objects(copy=False) before interpolating instead.\n",
            "  df = df.groupby('country').apply(lambda group: group.interpolate(method='linear', limit_direction='both'))\n",
            "C:\\Users\\organ\\AppData\\Local\\Temp\\ipykernel_14716\\1778600730.py:3: FutureWarning: DataFrame.interpolate with object dtype is deprecated and will raise in a future version. Call obj.infer_objects(copy=False) before interpolating instead.\n",
            "  df = df.groupby('country').apply(lambda group: group.interpolate(method='linear', limit_direction='both'))\n",
            "C:\\Users\\organ\\AppData\\Local\\Temp\\ipykernel_14716\\1778600730.py:3: FutureWarning: DataFrame.interpolate with object dtype is deprecated and will raise in a future version. Call obj.infer_objects(copy=False) before interpolating instead.\n",
            "  df = df.groupby('country').apply(lambda group: group.interpolate(method='linear', limit_direction='both'))\n",
            "C:\\Users\\organ\\AppData\\Local\\Temp\\ipykernel_14716\\1778600730.py:3: FutureWarning: DataFrame.interpolate with object dtype is deprecated and will raise in a future version. Call obj.infer_objects(copy=False) before interpolating instead.\n",
            "  df = df.groupby('country').apply(lambda group: group.interpolate(method='linear', limit_direction='both'))\n"
          ]
        }
      ],
      "source": [
        "df.interpolate(method='linear', inplace=True)\n",
        "df = df.sort_values(by=['country', 'year'])\n",
        "df = df.groupby('country').apply(lambda group: group.interpolate(method='linear', limit_direction='both'))\n",
        "null_columns = df.isnull().sum()\n",
        "print(null_columns)"
      ]
    },
    {
      "cell_type": "markdown",
      "metadata": {},
      "source": [
        "**Save the dataset as a clean csv**"
      ]
    },
    {
      "cell_type": "code",
      "execution_count": 13,
      "metadata": {},
      "outputs": [
        {
          "name": "stdout",
          "output_type": "stream",
          "text": [
            "Processed data saved to: Data/Processed/global-data-on-sustainable-energy-processed.csv\n"
          ]
        }
      ],
      "source": [
        "processed_path = \"Data/Processed/global-data-on-sustainable-energy-processed.csv\"\n",
        "df.to_csv(processed_path, index=False)\n",
        "print(\"Processed data saved to:\", processed_path)"
      ]
    },
    {
      "cell_type": "markdown",
      "metadata": {
        "id": "-mavJ8DibrcQ"
      },
      "source": [
        "# Section 1"
      ]
    },
    {
      "cell_type": "markdown",
      "metadata": {},
      "source": [
        "Section 1 content"
      ]
    },
    {
      "cell_type": "code",
      "execution_count": null,
      "metadata": {},
      "outputs": [],
      "source": []
    },
    {
      "cell_type": "markdown",
      "metadata": {
        "id": "ZY3l0-AxO93d"
      },
      "source": [
        "---"
      ]
    },
    {
      "cell_type": "markdown",
      "metadata": {
        "id": "uFQo3ycuO-v6"
      },
      "source": [
        "# Section 2"
      ]
    },
    {
      "cell_type": "markdown",
      "metadata": {},
      "source": [
        "Section 2 content"
      ]
    },
    {
      "cell_type": "code",
      "execution_count": null,
      "metadata": {},
      "outputs": [],
      "source": []
    },
    {
      "cell_type": "markdown",
      "metadata": {},
      "source": [
        "---"
      ]
    },
    {
      "cell_type": "markdown",
      "metadata": {},
      "source": [
        "NOTE"
      ]
    },
    {
      "cell_type": "markdown",
      "metadata": {},
      "source": [
        "* You may add as many sections as you want, as long as it supports your project workflow.\n",
        "* All notebook's cells should be run top-down (you can't create a dynamic wherein a given point you need to go back to a previous cell to execute some task, like go back to a previous cell and refresh a variable content)"
      ]
    },
    {
      "cell_type": "markdown",
      "metadata": {},
      "source": [
        "---"
      ]
    },
    {
      "cell_type": "markdown",
      "metadata": {
        "id": "ltNetd085qHf"
      },
      "source": [
        "# Push files to Repo"
      ]
    },
    {
      "cell_type": "markdown",
      "metadata": {},
      "source": [
        "* In cases where you don't need to push files to Repo, you may replace this section with \"Conclusions and Next Steps\" and state your conclusions and next steps."
      ]
    },
    {
      "cell_type": "code",
      "execution_count": 12,
      "metadata": {
        "id": "aKlnIozA4eQO",
        "outputId": "fd09bc1f-adb1-4511-f6ce-492a6af570c0"
      },
      "outputs": [
        {
          "ename": "IndentationError",
          "evalue": "expected an indented block after 'try' statement on line 2 (553063055.py, line 5)",
          "output_type": "error",
          "traceback": [
            "  \u001b[36mCell\u001b[39m\u001b[36m \u001b[39m\u001b[32mIn[12]\u001b[39m\u001b[32m, line 5\u001b[39m\n\u001b[31m    \u001b[39m\u001b[31mexcept Exception as e:\u001b[39m\n    ^\n\u001b[31mIndentationError\u001b[39m\u001b[31m:\u001b[39m expected an indented block after 'try' statement on line 2\n"
          ]
        }
      ],
      "source": [
        "import os\n",
        "try:\n",
        "  # create your folder here\n",
        "  # os.makedirs(name='')\n",
        "except Exception as e:\n",
        "  print(e)\n"
      ]
    }
  ],
  "metadata": {
    "accelerator": "GPU",
    "colab": {
      "name": "Data Practitioner Jupyter Notebook.ipynb",
      "provenance": [],
      "toc_visible": true
    },
    "kernelspec": {
      "display_name": ".venv",
      "language": "python",
      "name": "python3"
    },
    "language_info": {
      "codemirror_mode": {
        "name": "ipython",
        "version": 3
      },
      "file_extension": ".py",
      "mimetype": "text/x-python",
      "name": "python",
      "nbconvert_exporter": "python",
      "pygments_lexer": "ipython3",
      "version": "3.12.10"
    },
    "orig_nbformat": 2
  },
  "nbformat": 4,
  "nbformat_minor": 2
}
