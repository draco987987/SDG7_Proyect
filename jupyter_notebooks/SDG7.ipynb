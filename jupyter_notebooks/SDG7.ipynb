{
  "cells": [
    {
      "cell_type": "markdown",
      "metadata": {
        "id": "0aStgWSO0E0E"
      },
      "source": [
        "# **SDG 7 - Energy access Prediction and Analysis**"
      ]
    },
    {
      "cell_type": "markdown",
      "metadata": {
        "id": "1eLEkw5O0ECa"
      },
      "source": [
        "## Objectives\n",
        "\n",
        "* Analyse global trends in access to sustainable nergy.\n",
        "\n",
        "## Inputs\n",
        "\n",
        "* Dataset: Global-Data-On-Sustainable-Energy\n",
        "* Colums: Country, year, access_to electricity etc\n",
        "\n",
        "## Outputs\n",
        "\n",
        "* Visualizations of trends and forecasts\n",
        "* Exported CSV for dashboards or reports\n",
        "\n",
        "## Additional Comments\n",
        "\n",
        "* This notebook forms part of the final project for the Data Analytics Course\n",
        "\n"
      ]
    },
    {
      "cell_type": "markdown",
      "metadata": {
        "id": "9uWZXH9LwoQg"
      },
      "source": [
        "---"
      ]
    },
    {
      "cell_type": "markdown",
      "metadata": {
        "id": "cqP-UeN-z3i2"
      },
      "source": [
        "# Change working directory"
      ]
    },
    {
      "cell_type": "markdown",
      "metadata": {},
      "source": [
        "* We are assuming you will store the notebooks in a subfolder, therefore when running the notebook in the editor, you will need to change the working directory"
      ]
    },
    {
      "cell_type": "markdown",
      "metadata": {
        "id": "aOGIGS-uz3i2"
      },
      "source": [
        "We need to change the working directory from its current folder to its parent folder\n",
        "* We access the current directory with os.getcwd()"
      ]
    },
    {
      "cell_type": "code",
      "execution_count": 23,
      "metadata": {
        "id": "wZfF_j-Bz3i4",
        "outputId": "66943449-1436-4c3d-85c7-b85f9f78349b"
      },
      "outputs": [
        {
          "data": {
            "text/plain": [
              "'c:\\\\Users\\\\organ\\\\Desktop\\\\Code institute\\\\FINALPROYECTCODE\\\\SDG7_Proyect'"
            ]
          },
          "execution_count": 23,
          "metadata": {},
          "output_type": "execute_result"
        }
      ],
      "source": [
        "import os\n",
        "current_dir = os.getcwd()\n",
        "current_dir"
      ]
    },
    {
      "cell_type": "markdown",
      "metadata": {
        "id": "9MWW8E7lz3i7"
      },
      "source": [
        "We want to make the parent of the current directory the new current directory\n",
        "* os.path.dirname() gets the parent directory\n",
        "* os.chir() defines the new current directory"
      ]
    },
    {
      "cell_type": "code",
      "execution_count": 24,
      "metadata": {
        "id": "TwHsQRWjz3i9",
        "outputId": "86849db3-cd2f-4cc5-ebb8-2d0caafa1a2c"
      },
      "outputs": [
        {
          "name": "stdout",
          "output_type": "stream",
          "text": [
            "You set a new current directory\n"
          ]
        }
      ],
      "source": [
        "os.chdir(os.path.dirname(current_dir))\n",
        "print(\"You set a new current directory\")"
      ]
    },
    {
      "cell_type": "markdown",
      "metadata": {
        "id": "M_xPk_Ijz3i-"
      },
      "source": [
        "Confirm the new current directory"
      ]
    },
    {
      "cell_type": "code",
      "execution_count": 25,
      "metadata": {
        "id": "vz3S-_kjz3jA",
        "outputId": "00b79ae4-75d0-4a96-d193-ac9ef9847ea2"
      },
      "outputs": [
        {
          "data": {
            "text/plain": [
              "'c:\\\\Users\\\\organ\\\\Desktop\\\\Code institute\\\\FINALPROYECTCODE'"
            ]
          },
          "execution_count": 25,
          "metadata": {},
          "output_type": "execute_result"
        }
      ],
      "source": [
        "current_dir = os.getcwd()\n",
        "current_dir"
      ]
    },
    {
      "cell_type": "markdown",
      "metadata": {},
      "source": [
        "**Import Libraries**"
      ]
    },
    {
      "cell_type": "code",
      "execution_count": 26,
      "metadata": {},
      "outputs": [],
      "source": [
        "import pandas as pd  #for data manipulation\n",
        "import numpy as np #for numerical operations\n",
        "import matplotlib.pyplot as plt #for plotting\n",
        "import seaborn as sns #for statistical data visualization\n",
        "import plotly.express as px #for interactive plotting\n"
      ]
    },
    {
      "cell_type": "markdown",
      "metadata": {},
      "source": [
        "**Load Dataset and test it**"
      ]
    },
    {
      "cell_type": "code",
      "execution_count": 27,
      "metadata": {},
      "outputs": [
        {
          "name": "stderr",
          "output_type": "stream",
          "text": [
            "<>:1: SyntaxWarning:\n",
            "\n",
            "invalid escape sequence '\\R'\n",
            "\n",
            "<>:1: SyntaxWarning:\n",
            "\n",
            "invalid escape sequence '\\R'\n",
            "\n",
            "C:\\Users\\organ\\AppData\\Local\\Temp\\ipykernel_18720\\1918513345.py:1: SyntaxWarning:\n",
            "\n",
            "invalid escape sequence '\\R'\n",
            "\n",
            "C:\\Users\\organ\\AppData\\Local\\Temp\\ipykernel_18720\\1918513345.py:1: SyntaxWarning:\n",
            "\n",
            "invalid escape sequence '\\R'\n",
            "\n"
          ]
        },
        {
          "ename": "FileNotFoundError",
          "evalue": "[Errno 2] No such file or directory: 'Data\\\\Raw\\\\global-data-on-sustainable-energy.csv'",
          "output_type": "error",
          "traceback": [
            "\u001b[31m---------------------------------------------------------------------------\u001b[39m",
            "\u001b[31mFileNotFoundError\u001b[39m                         Traceback (most recent call last)",
            "\u001b[36mCell\u001b[39m\u001b[36m \u001b[39m\u001b[32mIn[27]\u001b[39m\u001b[32m, line 2\u001b[39m\n\u001b[32m      1\u001b[39m raw_path = \u001b[33m\"\u001b[39m\u001b[33mData\u001b[39m\u001b[33m\\\u001b[39m\u001b[33mRaw\u001b[39m\u001b[33m\\\u001b[39m\u001b[33mglobal-data-on-sustainable-energy.csv\u001b[39m\u001b[33m\"\u001b[39m\n\u001b[32m----> \u001b[39m\u001b[32m2\u001b[39m df = \u001b[43mpd\u001b[49m\u001b[43m.\u001b[49m\u001b[43mread_csv\u001b[49m\u001b[43m(\u001b[49m\u001b[43mraw_path\u001b[49m\u001b[43m,\u001b[49m\u001b[43m \u001b[49m\u001b[43mencoding\u001b[49m\u001b[43m=\u001b[49m\u001b[33;43m'\u001b[39;49m\u001b[33;43mlatin1\u001b[39;49m\u001b[33;43m'\u001b[39;49m\u001b[43m)\u001b[49m\n\u001b[32m      3\u001b[39m df.head()\n",
            "\u001b[36mFile \u001b[39m\u001b[32mc:\\Users\\organ\\Desktop\\Code institute\\FINALPROYECTCODE\\SDG7_Proyect\\.venv\\Lib\\site-packages\\pandas\\io\\parsers\\readers.py:948\u001b[39m, in \u001b[36mread_csv\u001b[39m\u001b[34m(filepath_or_buffer, sep, delimiter, header, names, index_col, usecols, dtype, engine, converters, true_values, false_values, skipinitialspace, skiprows, skipfooter, nrows, na_values, keep_default_na, na_filter, verbose, skip_blank_lines, parse_dates, infer_datetime_format, keep_date_col, date_parser, date_format, dayfirst, cache_dates, iterator, chunksize, compression, thousands, decimal, lineterminator, quotechar, quoting, doublequote, escapechar, comment, encoding, encoding_errors, dialect, on_bad_lines, delim_whitespace, low_memory, memory_map, float_precision, storage_options, dtype_backend)\u001b[39m\n\u001b[32m    935\u001b[39m kwds_defaults = _refine_defaults_read(\n\u001b[32m    936\u001b[39m     dialect,\n\u001b[32m    937\u001b[39m     delimiter,\n\u001b[32m   (...)\u001b[39m\u001b[32m    944\u001b[39m     dtype_backend=dtype_backend,\n\u001b[32m    945\u001b[39m )\n\u001b[32m    946\u001b[39m kwds.update(kwds_defaults)\n\u001b[32m--> \u001b[39m\u001b[32m948\u001b[39m \u001b[38;5;28;01mreturn\u001b[39;00m \u001b[43m_read\u001b[49m\u001b[43m(\u001b[49m\u001b[43mfilepath_or_buffer\u001b[49m\u001b[43m,\u001b[49m\u001b[43m \u001b[49m\u001b[43mkwds\u001b[49m\u001b[43m)\u001b[49m\n",
            "\u001b[36mFile \u001b[39m\u001b[32mc:\\Users\\organ\\Desktop\\Code institute\\FINALPROYECTCODE\\SDG7_Proyect\\.venv\\Lib\\site-packages\\pandas\\io\\parsers\\readers.py:611\u001b[39m, in \u001b[36m_read\u001b[39m\u001b[34m(filepath_or_buffer, kwds)\u001b[39m\n\u001b[32m    608\u001b[39m _validate_names(kwds.get(\u001b[33m\"\u001b[39m\u001b[33mnames\u001b[39m\u001b[33m\"\u001b[39m, \u001b[38;5;28;01mNone\u001b[39;00m))\n\u001b[32m    610\u001b[39m \u001b[38;5;66;03m# Create the parser.\u001b[39;00m\n\u001b[32m--> \u001b[39m\u001b[32m611\u001b[39m parser = \u001b[43mTextFileReader\u001b[49m\u001b[43m(\u001b[49m\u001b[43mfilepath_or_buffer\u001b[49m\u001b[43m,\u001b[49m\u001b[43m \u001b[49m\u001b[43m*\u001b[49m\u001b[43m*\u001b[49m\u001b[43mkwds\u001b[49m\u001b[43m)\u001b[49m\n\u001b[32m    613\u001b[39m \u001b[38;5;28;01mif\u001b[39;00m chunksize \u001b[38;5;129;01mor\u001b[39;00m iterator:\n\u001b[32m    614\u001b[39m     \u001b[38;5;28;01mreturn\u001b[39;00m parser\n",
            "\u001b[36mFile \u001b[39m\u001b[32mc:\\Users\\organ\\Desktop\\Code institute\\FINALPROYECTCODE\\SDG7_Proyect\\.venv\\Lib\\site-packages\\pandas\\io\\parsers\\readers.py:1448\u001b[39m, in \u001b[36mTextFileReader.__init__\u001b[39m\u001b[34m(self, f, engine, **kwds)\u001b[39m\n\u001b[32m   1445\u001b[39m     \u001b[38;5;28mself\u001b[39m.options[\u001b[33m\"\u001b[39m\u001b[33mhas_index_names\u001b[39m\u001b[33m\"\u001b[39m] = kwds[\u001b[33m\"\u001b[39m\u001b[33mhas_index_names\u001b[39m\u001b[33m\"\u001b[39m]\n\u001b[32m   1447\u001b[39m \u001b[38;5;28mself\u001b[39m.handles: IOHandles | \u001b[38;5;28;01mNone\u001b[39;00m = \u001b[38;5;28;01mNone\u001b[39;00m\n\u001b[32m-> \u001b[39m\u001b[32m1448\u001b[39m \u001b[38;5;28mself\u001b[39m._engine = \u001b[38;5;28;43mself\u001b[39;49m\u001b[43m.\u001b[49m\u001b[43m_make_engine\u001b[49m\u001b[43m(\u001b[49m\u001b[43mf\u001b[49m\u001b[43m,\u001b[49m\u001b[43m \u001b[49m\u001b[38;5;28;43mself\u001b[39;49m\u001b[43m.\u001b[49m\u001b[43mengine\u001b[49m\u001b[43m)\u001b[49m\n",
            "\u001b[36mFile \u001b[39m\u001b[32mc:\\Users\\organ\\Desktop\\Code institute\\FINALPROYECTCODE\\SDG7_Proyect\\.venv\\Lib\\site-packages\\pandas\\io\\parsers\\readers.py:1705\u001b[39m, in \u001b[36mTextFileReader._make_engine\u001b[39m\u001b[34m(self, f, engine)\u001b[39m\n\u001b[32m   1703\u001b[39m     \u001b[38;5;28;01mif\u001b[39;00m \u001b[33m\"\u001b[39m\u001b[33mb\u001b[39m\u001b[33m\"\u001b[39m \u001b[38;5;129;01mnot\u001b[39;00m \u001b[38;5;129;01min\u001b[39;00m mode:\n\u001b[32m   1704\u001b[39m         mode += \u001b[33m\"\u001b[39m\u001b[33mb\u001b[39m\u001b[33m\"\u001b[39m\n\u001b[32m-> \u001b[39m\u001b[32m1705\u001b[39m \u001b[38;5;28mself\u001b[39m.handles = \u001b[43mget_handle\u001b[49m\u001b[43m(\u001b[49m\n\u001b[32m   1706\u001b[39m \u001b[43m    \u001b[49m\u001b[43mf\u001b[49m\u001b[43m,\u001b[49m\n\u001b[32m   1707\u001b[39m \u001b[43m    \u001b[49m\u001b[43mmode\u001b[49m\u001b[43m,\u001b[49m\n\u001b[32m   1708\u001b[39m \u001b[43m    \u001b[49m\u001b[43mencoding\u001b[49m\u001b[43m=\u001b[49m\u001b[38;5;28;43mself\u001b[39;49m\u001b[43m.\u001b[49m\u001b[43moptions\u001b[49m\u001b[43m.\u001b[49m\u001b[43mget\u001b[49m\u001b[43m(\u001b[49m\u001b[33;43m\"\u001b[39;49m\u001b[33;43mencoding\u001b[39;49m\u001b[33;43m\"\u001b[39;49m\u001b[43m,\u001b[49m\u001b[43m \u001b[49m\u001b[38;5;28;43;01mNone\u001b[39;49;00m\u001b[43m)\u001b[49m\u001b[43m,\u001b[49m\n\u001b[32m   1709\u001b[39m \u001b[43m    \u001b[49m\u001b[43mcompression\u001b[49m\u001b[43m=\u001b[49m\u001b[38;5;28;43mself\u001b[39;49m\u001b[43m.\u001b[49m\u001b[43moptions\u001b[49m\u001b[43m.\u001b[49m\u001b[43mget\u001b[49m\u001b[43m(\u001b[49m\u001b[33;43m\"\u001b[39;49m\u001b[33;43mcompression\u001b[39;49m\u001b[33;43m\"\u001b[39;49m\u001b[43m,\u001b[49m\u001b[43m \u001b[49m\u001b[38;5;28;43;01mNone\u001b[39;49;00m\u001b[43m)\u001b[49m\u001b[43m,\u001b[49m\n\u001b[32m   1710\u001b[39m \u001b[43m    \u001b[49m\u001b[43mmemory_map\u001b[49m\u001b[43m=\u001b[49m\u001b[38;5;28;43mself\u001b[39;49m\u001b[43m.\u001b[49m\u001b[43moptions\u001b[49m\u001b[43m.\u001b[49m\u001b[43mget\u001b[49m\u001b[43m(\u001b[49m\u001b[33;43m\"\u001b[39;49m\u001b[33;43mmemory_map\u001b[39;49m\u001b[33;43m\"\u001b[39;49m\u001b[43m,\u001b[49m\u001b[43m \u001b[49m\u001b[38;5;28;43;01mFalse\u001b[39;49;00m\u001b[43m)\u001b[49m\u001b[43m,\u001b[49m\n\u001b[32m   1711\u001b[39m \u001b[43m    \u001b[49m\u001b[43mis_text\u001b[49m\u001b[43m=\u001b[49m\u001b[43mis_text\u001b[49m\u001b[43m,\u001b[49m\n\u001b[32m   1712\u001b[39m \u001b[43m    \u001b[49m\u001b[43merrors\u001b[49m\u001b[43m=\u001b[49m\u001b[38;5;28;43mself\u001b[39;49m\u001b[43m.\u001b[49m\u001b[43moptions\u001b[49m\u001b[43m.\u001b[49m\u001b[43mget\u001b[49m\u001b[43m(\u001b[49m\u001b[33;43m\"\u001b[39;49m\u001b[33;43mencoding_errors\u001b[39;49m\u001b[33;43m\"\u001b[39;49m\u001b[43m,\u001b[49m\u001b[43m \u001b[49m\u001b[33;43m\"\u001b[39;49m\u001b[33;43mstrict\u001b[39;49m\u001b[33;43m\"\u001b[39;49m\u001b[43m)\u001b[49m\u001b[43m,\u001b[49m\n\u001b[32m   1713\u001b[39m \u001b[43m    \u001b[49m\u001b[43mstorage_options\u001b[49m\u001b[43m=\u001b[49m\u001b[38;5;28;43mself\u001b[39;49m\u001b[43m.\u001b[49m\u001b[43moptions\u001b[49m\u001b[43m.\u001b[49m\u001b[43mget\u001b[49m\u001b[43m(\u001b[49m\u001b[33;43m\"\u001b[39;49m\u001b[33;43mstorage_options\u001b[39;49m\u001b[33;43m\"\u001b[39;49m\u001b[43m,\u001b[49m\u001b[43m \u001b[49m\u001b[38;5;28;43;01mNone\u001b[39;49;00m\u001b[43m)\u001b[49m\u001b[43m,\u001b[49m\n\u001b[32m   1714\u001b[39m \u001b[43m\u001b[49m\u001b[43m)\u001b[49m\n\u001b[32m   1715\u001b[39m \u001b[38;5;28;01massert\u001b[39;00m \u001b[38;5;28mself\u001b[39m.handles \u001b[38;5;129;01mis\u001b[39;00m \u001b[38;5;129;01mnot\u001b[39;00m \u001b[38;5;28;01mNone\u001b[39;00m\n\u001b[32m   1716\u001b[39m f = \u001b[38;5;28mself\u001b[39m.handles.handle\n",
            "\u001b[36mFile \u001b[39m\u001b[32mc:\\Users\\organ\\Desktop\\Code institute\\FINALPROYECTCODE\\SDG7_Proyect\\.venv\\Lib\\site-packages\\pandas\\io\\common.py:863\u001b[39m, in \u001b[36mget_handle\u001b[39m\u001b[34m(path_or_buf, mode, encoding, compression, memory_map, is_text, errors, storage_options)\u001b[39m\n\u001b[32m    858\u001b[39m \u001b[38;5;28;01melif\u001b[39;00m \u001b[38;5;28misinstance\u001b[39m(handle, \u001b[38;5;28mstr\u001b[39m):\n\u001b[32m    859\u001b[39m     \u001b[38;5;66;03m# Check whether the filename is to be opened in binary mode.\u001b[39;00m\n\u001b[32m    860\u001b[39m     \u001b[38;5;66;03m# Binary mode does not support 'encoding' and 'newline'.\u001b[39;00m\n\u001b[32m    861\u001b[39m     \u001b[38;5;28;01mif\u001b[39;00m ioargs.encoding \u001b[38;5;129;01mand\u001b[39;00m \u001b[33m\"\u001b[39m\u001b[33mb\u001b[39m\u001b[33m\"\u001b[39m \u001b[38;5;129;01mnot\u001b[39;00m \u001b[38;5;129;01min\u001b[39;00m ioargs.mode:\n\u001b[32m    862\u001b[39m         \u001b[38;5;66;03m# Encoding\u001b[39;00m\n\u001b[32m--> \u001b[39m\u001b[32m863\u001b[39m         handle = \u001b[38;5;28;43mopen\u001b[39;49m\u001b[43m(\u001b[49m\n\u001b[32m    864\u001b[39m \u001b[43m            \u001b[49m\u001b[43mhandle\u001b[49m\u001b[43m,\u001b[49m\n\u001b[32m    865\u001b[39m \u001b[43m            \u001b[49m\u001b[43mioargs\u001b[49m\u001b[43m.\u001b[49m\u001b[43mmode\u001b[49m\u001b[43m,\u001b[49m\n\u001b[32m    866\u001b[39m \u001b[43m            \u001b[49m\u001b[43mencoding\u001b[49m\u001b[43m=\u001b[49m\u001b[43mioargs\u001b[49m\u001b[43m.\u001b[49m\u001b[43mencoding\u001b[49m\u001b[43m,\u001b[49m\n\u001b[32m    867\u001b[39m \u001b[43m            \u001b[49m\u001b[43merrors\u001b[49m\u001b[43m=\u001b[49m\u001b[43merrors\u001b[49m\u001b[43m,\u001b[49m\n\u001b[32m    868\u001b[39m \u001b[43m            \u001b[49m\u001b[43mnewline\u001b[49m\u001b[43m=\u001b[49m\u001b[33;43m\"\u001b[39;49m\u001b[33;43m\"\u001b[39;49m\u001b[43m,\u001b[49m\n\u001b[32m    869\u001b[39m \u001b[43m        \u001b[49m\u001b[43m)\u001b[49m\n\u001b[32m    870\u001b[39m     \u001b[38;5;28;01melse\u001b[39;00m:\n\u001b[32m    871\u001b[39m         \u001b[38;5;66;03m# Binary mode\u001b[39;00m\n\u001b[32m    872\u001b[39m         handle = \u001b[38;5;28mopen\u001b[39m(handle, ioargs.mode)\n",
            "\u001b[31mFileNotFoundError\u001b[39m: [Errno 2] No such file or directory: 'Data\\\\Raw\\\\global-data-on-sustainable-energy.csv'"
          ]
        }
      ],
      "source": [
        "raw_path = \"Data\\Raw\\global-data-on-sustainable-energy.csv\"\n",
        "df = pd.read_csv(raw_path, encoding='latin1')\n",
        "df.head()"
      ]
    },
    {
      "cell_type": "markdown",
      "metadata": {},
      "source": [
        "### ***ETL***"
      ]
    },
    {
      "cell_type": "markdown",
      "metadata": {},
      "source": [
        "This section performs data cleaning and preparation for further modeling. Steps include renaming colums,\n",
        "handling missing values and exporting a clean dataset."
      ]
    },
    {
      "cell_type": "markdown",
      "metadata": {},
      "source": [
        "**Rename the colums for easier access**"
      ]
    },
    {
      "cell_type": "code",
      "execution_count": null,
      "metadata": {},
      "outputs": [
        {
          "data": {
            "text/html": [
              "<div>\n",
              "<style scoped>\n",
              "    .dataframe tbody tr th:only-of-type {\n",
              "        vertical-align: middle;\n",
              "    }\n",
              "\n",
              "    .dataframe tbody tr th {\n",
              "        vertical-align: top;\n",
              "    }\n",
              "\n",
              "    .dataframe thead th {\n",
              "        text-align: right;\n",
              "    }\n",
              "</style>\n",
              "<table border=\"1\" class=\"dataframe\">\n",
              "  <thead>\n",
              "    <tr style=\"text-align: right;\">\n",
              "      <th></th>\n",
              "      <th>country</th>\n",
              "      <th>year</th>\n",
              "      <th>access_to_electricity</th>\n",
              "      <th>access_to_clean_fuels</th>\n",
              "      <th>renewable_capacity_per_capita</th>\n",
              "      <th>financial_flows</th>\n",
              "      <th>renewable_energy_share</th>\n",
              "      <th>fossil_electricity</th>\n",
              "      <th>nuclear_electricity</th>\n",
              "      <th>renewable_electricity</th>\n",
              "      <th>...</th>\n",
              "      <th>primary_energy_per_capita</th>\n",
              "      <th>energy_intensity</th>\n",
              "      <th>co2_emissions_kt</th>\n",
              "      <th>renewables_%_equivalent_primary_energy</th>\n",
              "      <th>gdp_growth</th>\n",
              "      <th>gdp_per_capita</th>\n",
              "      <th>density</th>\n",
              "      <th>land_areakm2</th>\n",
              "      <th>latitude</th>\n",
              "      <th>longitude</th>\n",
              "    </tr>\n",
              "  </thead>\n",
              "  <tbody>\n",
              "    <tr>\n",
              "      <th>0</th>\n",
              "      <td>Afghanistan</td>\n",
              "      <td>2000</td>\n",
              "      <td>1.613591</td>\n",
              "      <td>6.2</td>\n",
              "      <td>9.22</td>\n",
              "      <td>20000.0</td>\n",
              "      <td>44.99</td>\n",
              "      <td>0.16</td>\n",
              "      <td>0.0</td>\n",
              "      <td>0.31</td>\n",
              "      <td>...</td>\n",
              "      <td>302.59482</td>\n",
              "      <td>1.64</td>\n",
              "      <td>760.000000</td>\n",
              "      <td>NaN</td>\n",
              "      <td>NaN</td>\n",
              "      <td>NaN</td>\n",
              "      <td>60</td>\n",
              "      <td>652230.0</td>\n",
              "      <td>33.93911</td>\n",
              "      <td>67.709953</td>\n",
              "    </tr>\n",
              "    <tr>\n",
              "      <th>1</th>\n",
              "      <td>Afghanistan</td>\n",
              "      <td>2001</td>\n",
              "      <td>4.074574</td>\n",
              "      <td>7.2</td>\n",
              "      <td>8.86</td>\n",
              "      <td>130000.0</td>\n",
              "      <td>45.60</td>\n",
              "      <td>0.09</td>\n",
              "      <td>0.0</td>\n",
              "      <td>0.50</td>\n",
              "      <td>...</td>\n",
              "      <td>236.89185</td>\n",
              "      <td>1.74</td>\n",
              "      <td>730.000000</td>\n",
              "      <td>NaN</td>\n",
              "      <td>NaN</td>\n",
              "      <td>NaN</td>\n",
              "      <td>60</td>\n",
              "      <td>652230.0</td>\n",
              "      <td>33.93911</td>\n",
              "      <td>67.709953</td>\n",
              "    </tr>\n",
              "    <tr>\n",
              "      <th>2</th>\n",
              "      <td>Afghanistan</td>\n",
              "      <td>2002</td>\n",
              "      <td>9.409158</td>\n",
              "      <td>8.2</td>\n",
              "      <td>8.47</td>\n",
              "      <td>3950000.0</td>\n",
              "      <td>37.83</td>\n",
              "      <td>0.13</td>\n",
              "      <td>0.0</td>\n",
              "      <td>0.56</td>\n",
              "      <td>...</td>\n",
              "      <td>210.86215</td>\n",
              "      <td>1.40</td>\n",
              "      <td>1029.999971</td>\n",
              "      <td>NaN</td>\n",
              "      <td>NaN</td>\n",
              "      <td>179.426579</td>\n",
              "      <td>60</td>\n",
              "      <td>652230.0</td>\n",
              "      <td>33.93911</td>\n",
              "      <td>67.709953</td>\n",
              "    </tr>\n",
              "    <tr>\n",
              "      <th>3</th>\n",
              "      <td>Afghanistan</td>\n",
              "      <td>2003</td>\n",
              "      <td>14.738506</td>\n",
              "      <td>9.5</td>\n",
              "      <td>8.09</td>\n",
              "      <td>25970000.0</td>\n",
              "      <td>36.66</td>\n",
              "      <td>0.31</td>\n",
              "      <td>0.0</td>\n",
              "      <td>0.63</td>\n",
              "      <td>...</td>\n",
              "      <td>229.96822</td>\n",
              "      <td>1.40</td>\n",
              "      <td>1220.000029</td>\n",
              "      <td>NaN</td>\n",
              "      <td>8.832278</td>\n",
              "      <td>190.683814</td>\n",
              "      <td>60</td>\n",
              "      <td>652230.0</td>\n",
              "      <td>33.93911</td>\n",
              "      <td>67.709953</td>\n",
              "    </tr>\n",
              "    <tr>\n",
              "      <th>4</th>\n",
              "      <td>Afghanistan</td>\n",
              "      <td>2004</td>\n",
              "      <td>20.064968</td>\n",
              "      <td>10.9</td>\n",
              "      <td>7.75</td>\n",
              "      <td>NaN</td>\n",
              "      <td>44.24</td>\n",
              "      <td>0.33</td>\n",
              "      <td>0.0</td>\n",
              "      <td>0.56</td>\n",
              "      <td>...</td>\n",
              "      <td>204.23125</td>\n",
              "      <td>1.20</td>\n",
              "      <td>1029.999971</td>\n",
              "      <td>NaN</td>\n",
              "      <td>1.414118</td>\n",
              "      <td>211.382074</td>\n",
              "      <td>60</td>\n",
              "      <td>652230.0</td>\n",
              "      <td>33.93911</td>\n",
              "      <td>67.709953</td>\n",
              "    </tr>\n",
              "  </tbody>\n",
              "</table>\n",
              "<p>5 rows × 21 columns</p>\n",
              "</div>"
            ],
            "text/plain": [
              "       country  year  access_to_electricity  access_to_clean_fuels  \\\n",
              "0  Afghanistan  2000               1.613591                    6.2   \n",
              "1  Afghanistan  2001               4.074574                    7.2   \n",
              "2  Afghanistan  2002               9.409158                    8.2   \n",
              "3  Afghanistan  2003              14.738506                    9.5   \n",
              "4  Afghanistan  2004              20.064968                   10.9   \n",
              "\n",
              "   renewable_capacity_per_capita  financial_flows  renewable_energy_share  \\\n",
              "0                           9.22          20000.0                   44.99   \n",
              "1                           8.86         130000.0                   45.60   \n",
              "2                           8.47        3950000.0                   37.83   \n",
              "3                           8.09       25970000.0                   36.66   \n",
              "4                           7.75              NaN                   44.24   \n",
              "\n",
              "   fossil_electricity  nuclear_electricity  renewable_electricity  ...  \\\n",
              "0                0.16                  0.0                   0.31  ...   \n",
              "1                0.09                  0.0                   0.50  ...   \n",
              "2                0.13                  0.0                   0.56  ...   \n",
              "3                0.31                  0.0                   0.63  ...   \n",
              "4                0.33                  0.0                   0.56  ...   \n",
              "\n",
              "   primary_energy_per_capita  energy_intensity  co2_emissions_kt  \\\n",
              "0                  302.59482              1.64        760.000000   \n",
              "1                  236.89185              1.74        730.000000   \n",
              "2                  210.86215              1.40       1029.999971   \n",
              "3                  229.96822              1.40       1220.000029   \n",
              "4                  204.23125              1.20       1029.999971   \n",
              "\n",
              "   renewables_%_equivalent_primary_energy  gdp_growth  gdp_per_capita  \\\n",
              "0                                     NaN         NaN             NaN   \n",
              "1                                     NaN         NaN             NaN   \n",
              "2                                     NaN         NaN      179.426579   \n",
              "3                                     NaN    8.832278      190.683814   \n",
              "4                                     NaN    1.414118      211.382074   \n",
              "\n",
              "   density land_areakm2  latitude  longitude  \n",
              "0       60     652230.0  33.93911  67.709953  \n",
              "1       60     652230.0  33.93911  67.709953  \n",
              "2       60     652230.0  33.93911  67.709953  \n",
              "3       60     652230.0  33.93911  67.709953  \n",
              "4       60     652230.0  33.93911  67.709953  \n",
              "\n",
              "[5 rows x 21 columns]"
            ]
          },
          "execution_count": 6,
          "metadata": {},
          "output_type": "execute_result"
        }
      ],
      "source": [
        "df.rename(columns={\n",
        "    'Entity': 'country',\n",
        "    'Access to electricity (% of population)': 'access_to_electricity',\n",
        "    'Access to clean fuels for cooking': 'access_to_clean_fuels',\n",
        "    'Renewable-electricity-generating-capacity-per-capita': 'renewable_capacity_per_capita',\n",
        "    'Financial flows to developing countries (US $)': 'financial_flows',\n",
        "    'Renewable energy share in the total final energy consumption (%)': 'renewable_energy_share',\n",
        "    'Electricity from fossil fuels (TWh)': 'fossil_electricity',\n",
        "    'Electricity from nuclear (TWh)': 'nuclear_electricity',\n",
        "    'Electricity from renewables (TWh)': 'renewable_electricity',\n",
        "    'Low-carbon electricity (% electricity)': 'low_carbon_electricity_pct',\n",
        "    'Primary energy consumption per capita (kWh/person)': 'primary_energy_per_capita',\n",
        "    'Energy intensity level of primary energy (MJ/$2017 PPP GDP)': 'energy_intensity',\n",
        "    'Value_co2_emissions_kt_by_country': 'co2_emissions_kt',\n",
        "    'density\\\\np/km2': 'density'\n",
        "}, inplace=True)\n",
        "# Cleaning column names\n",
        "df.columns = df.columns.str.strip().str.lower().str.replace('\\n', '_').str.replace(' ', '_').str.replace('(', '').str.replace(')', '')\n",
        "df.rename(columns={\n",
        "    'density\\\\np/km2': 'density'\n",
        "}, inplace=True)\n",
        "df.head()"
      ]
    },
    {
      "cell_type": "markdown",
      "metadata": {},
      "source": [
        "**Check types**"
      ]
    },
    {
      "cell_type": "code",
      "execution_count": null,
      "metadata": {},
      "outputs": [
        {
          "data": {
            "text/plain": [
              "country                                    object\n",
              "year                                        int64\n",
              "access_to_electricity                     float64\n",
              "access_to_clean_fuels                     float64\n",
              "renewable_capacity_per_capita             float64\n",
              "financial_flows                           float64\n",
              "renewable_energy_share                    float64\n",
              "fossil_electricity                        float64\n",
              "nuclear_electricity                       float64\n",
              "renewable_electricity                     float64\n",
              "low_carbon_electricity_pct                float64\n",
              "primary_energy_per_capita                 float64\n",
              "energy_intensity                          float64\n",
              "co2_emissions_kt                          float64\n",
              "renewables_%_equivalent_primary_energy    float64\n",
              "gdp_growth                                float64\n",
              "gdp_per_capita                            float64\n",
              "density                                    object\n",
              "land_areakm2                              float64\n",
              "latitude                                  float64\n",
              "longitude                                 float64\n",
              "dtype: object"
            ]
          },
          "execution_count": 7,
          "metadata": {},
          "output_type": "execute_result"
        }
      ],
      "source": [
        "df.dtypes"
      ]
    },
    {
      "cell_type": "markdown",
      "metadata": {},
      "source": [
        "**Check Null values**"
      ]
    },
    {
      "cell_type": "code",
      "execution_count": null,
      "metadata": {},
      "outputs": [
        {
          "name": "stdout",
          "output_type": "stream",
          "text": [
            "access_to_electricity                       10\n",
            "access_to_clean_fuels                      169\n",
            "renewable_capacity_per_capita              931\n",
            "financial_flows                           2089\n",
            "renewable_energy_share                     194\n",
            "fossil_electricity                          21\n",
            "nuclear_electricity                        126\n",
            "renewable_electricity                       21\n",
            "low_carbon_electricity_pct                  42\n",
            "energy_intensity                           207\n",
            "co2_emissions_kt                           428\n",
            "renewables_%_equivalent_primary_energy    2137\n",
            "gdp_growth                                 317\n",
            "gdp_per_capita                             282\n",
            "density                                      1\n",
            "land_areakm2                                 1\n",
            "latitude                                     1\n",
            "longitude                                    1\n",
            "dtype: int64\n"
          ]
        }
      ],
      "source": [
        "null_columns = df.isnull().sum()\n",
        "null_columns = null_columns[null_columns > 0]\n",
        "print(null_columns)\n"
      ]
    },
    {
      "cell_type": "markdown",
      "metadata": {},
      "source": [
        "**Eliminate columns with too many null values and redundant data**"
      ]
    },
    {
      "cell_type": "code",
      "execution_count": null,
      "metadata": {},
      "outputs": [
        {
          "name": "stdout",
          "output_type": "stream",
          "text": [
            "Dropped columns: ['density', 'land_areakm2', 'latitude', 'longitude', 'renewables_%_equivalent_primary_energy', 'financial_flows']\n"
          ]
        }
      ],
      "source": [
        "columns_to_drop = ['density', 'land_areakm2', 'latitude', 'longitude', 'renewables_%_equivalent_primary_energy', 'financial_flows',\n",
        "                   'electricity from nuclear (twh)']\n",
        "df.drop(columns=columns_to_drop, inplace=True)\n",
        "print(\"Dropped columns:\", columns_to_drop)"
      ]
    },
    {
      "cell_type": "code",
      "execution_count": null,
      "metadata": {},
      "outputs": [
        {
          "name": "stdout",
          "output_type": "stream",
          "text": [
            "country                            0\n",
            "year                               0\n",
            "access_to_electricity             10\n",
            "access_to_clean_fuels            169\n",
            "renewable_capacity_per_capita    931\n",
            "renewable_energy_share           194\n",
            "fossil_electricity                21\n",
            "nuclear_electricity              126\n",
            "renewable_electricity             21\n",
            "low_carbon_electricity_pct        42\n",
            "primary_energy_per_capita          0\n",
            "energy_intensity                 207\n",
            "co2_emissions_kt                 428\n",
            "gdp_growth                       317\n",
            "gdp_per_capita                   282\n",
            "dtype: int64\n"
          ]
        }
      ],
      "source": [
        "null_columns = df.isnull().sum()\n",
        "print(null_columns)"
      ]
    },
    {
      "cell_type": "markdown",
      "metadata": {},
      "source": [
        "**Use interpolate to fill the null values**"
      ]
    },
    {
      "cell_type": "code",
      "execution_count": null,
      "metadata": {},
      "outputs": [
        {
          "name": "stderr",
          "output_type": "stream",
          "text": [
            "C:\\Users\\organ\\AppData\\Local\\Temp\\ipykernel_18720\\1778600730.py:1: FutureWarning: DataFrame.interpolate with object dtype is deprecated and will raise in a future version. Call obj.infer_objects(copy=False) before interpolating instead.\n",
            "  df.interpolate(method='linear', inplace=True)\n",
            "C:\\Users\\organ\\AppData\\Local\\Temp\\ipykernel_18720\\1778600730.py:3: FutureWarning: DataFrame.interpolate with object dtype is deprecated and will raise in a future version. Call obj.infer_objects(copy=False) before interpolating instead.\n",
            "  df = df.groupby('country').apply(lambda group: group.interpolate(method='linear', limit_direction='both'))\n",
            "C:\\Users\\organ\\AppData\\Local\\Temp\\ipykernel_18720\\1778600730.py:3: FutureWarning: DataFrame.interpolate with object dtype is deprecated and will raise in a future version. Call obj.infer_objects(copy=False) before interpolating instead.\n",
            "  df = df.groupby('country').apply(lambda group: group.interpolate(method='linear', limit_direction='both'))\n",
            "C:\\Users\\organ\\AppData\\Local\\Temp\\ipykernel_18720\\1778600730.py:3: FutureWarning: DataFrame.interpolate with object dtype is deprecated and will raise in a future version. Call obj.infer_objects(copy=False) before interpolating instead.\n",
            "  df = df.groupby('country').apply(lambda group: group.interpolate(method='linear', limit_direction='both'))\n",
            "C:\\Users\\organ\\AppData\\Local\\Temp\\ipykernel_18720\\1778600730.py:3: FutureWarning: DataFrame.interpolate with object dtype is deprecated and will raise in a future version. Call obj.infer_objects(copy=False) before interpolating instead.\n",
            "  df = df.groupby('country').apply(lambda group: group.interpolate(method='linear', limit_direction='both'))\n",
            "C:\\Users\\organ\\AppData\\Local\\Temp\\ipykernel_18720\\1778600730.py:3: FutureWarning: DataFrame.interpolate with object dtype is deprecated and will raise in a future version. Call obj.infer_objects(copy=False) before interpolating instead.\n",
            "  df = df.groupby('country').apply(lambda group: group.interpolate(method='linear', limit_direction='both'))\n",
            "C:\\Users\\organ\\AppData\\Local\\Temp\\ipykernel_18720\\1778600730.py:3: FutureWarning: DataFrame.interpolate with object dtype is deprecated and will raise in a future version. Call obj.infer_objects(copy=False) before interpolating instead.\n",
            "  df = df.groupby('country').apply(lambda group: group.interpolate(method='linear', limit_direction='both'))\n",
            "C:\\Users\\organ\\AppData\\Local\\Temp\\ipykernel_18720\\1778600730.py:3: FutureWarning: DataFrame.interpolate with object dtype is deprecated and will raise in a future version. Call obj.infer_objects(copy=False) before interpolating instead.\n",
            "  df = df.groupby('country').apply(lambda group: group.interpolate(method='linear', limit_direction='both'))\n",
            "C:\\Users\\organ\\AppData\\Local\\Temp\\ipykernel_18720\\1778600730.py:3: FutureWarning: DataFrame.interpolate with object dtype is deprecated and will raise in a future version. Call obj.infer_objects(copy=False) before interpolating instead.\n",
            "  df = df.groupby('country').apply(lambda group: group.interpolate(method='linear', limit_direction='both'))\n",
            "C:\\Users\\organ\\AppData\\Local\\Temp\\ipykernel_18720\\1778600730.py:3: FutureWarning: DataFrame.interpolate with object dtype is deprecated and will raise in a future version. Call obj.infer_objects(copy=False) before interpolating instead.\n",
            "  df = df.groupby('country').apply(lambda group: group.interpolate(method='linear', limit_direction='both'))\n",
            "C:\\Users\\organ\\AppData\\Local\\Temp\\ipykernel_18720\\1778600730.py:3: FutureWarning: DataFrame.interpolate with object dtype is deprecated and will raise in a future version. Call obj.infer_objects(copy=False) before interpolating instead.\n",
            "  df = df.groupby('country').apply(lambda group: group.interpolate(method='linear', limit_direction='both'))\n",
            "C:\\Users\\organ\\AppData\\Local\\Temp\\ipykernel_18720\\1778600730.py:3: FutureWarning: DataFrame.interpolate with object dtype is deprecated and will raise in a future version. Call obj.infer_objects(copy=False) before interpolating instead.\n",
            "  df = df.groupby('country').apply(lambda group: group.interpolate(method='linear', limit_direction='both'))\n",
            "C:\\Users\\organ\\AppData\\Local\\Temp\\ipykernel_18720\\1778600730.py:3: FutureWarning: DataFrame.interpolate with object dtype is deprecated and will raise in a future version. Call obj.infer_objects(copy=False) before interpolating instead.\n",
            "  df = df.groupby('country').apply(lambda group: group.interpolate(method='linear', limit_direction='both'))\n",
            "C:\\Users\\organ\\AppData\\Local\\Temp\\ipykernel_18720\\1778600730.py:3: FutureWarning: DataFrame.interpolate with object dtype is deprecated and will raise in a future version. Call obj.infer_objects(copy=False) before interpolating instead.\n",
            "  df = df.groupby('country').apply(lambda group: group.interpolate(method='linear', limit_direction='both'))\n",
            "C:\\Users\\organ\\AppData\\Local\\Temp\\ipykernel_18720\\1778600730.py:3: FutureWarning: DataFrame.interpolate with object dtype is deprecated and will raise in a future version. Call obj.infer_objects(copy=False) before interpolating instead.\n",
            "  df = df.groupby('country').apply(lambda group: group.interpolate(method='linear', limit_direction='both'))\n",
            "C:\\Users\\organ\\AppData\\Local\\Temp\\ipykernel_18720\\1778600730.py:3: FutureWarning: DataFrame.interpolate with object dtype is deprecated and will raise in a future version. Call obj.infer_objects(copy=False) before interpolating instead.\n",
            "  df = df.groupby('country').apply(lambda group: group.interpolate(method='linear', limit_direction='both'))\n",
            "C:\\Users\\organ\\AppData\\Local\\Temp\\ipykernel_18720\\1778600730.py:3: FutureWarning: DataFrame.interpolate with object dtype is deprecated and will raise in a future version. Call obj.infer_objects(copy=False) before interpolating instead.\n",
            "  df = df.groupby('country').apply(lambda group: group.interpolate(method='linear', limit_direction='both'))\n",
            "C:\\Users\\organ\\AppData\\Local\\Temp\\ipykernel_18720\\1778600730.py:3: FutureWarning: DataFrame.interpolate with object dtype is deprecated and will raise in a future version. Call obj.infer_objects(copy=False) before interpolating instead.\n",
            "  df = df.groupby('country').apply(lambda group: group.interpolate(method='linear', limit_direction='both'))\n",
            "C:\\Users\\organ\\AppData\\Local\\Temp\\ipykernel_18720\\1778600730.py:3: FutureWarning: DataFrame.interpolate with object dtype is deprecated and will raise in a future version. Call obj.infer_objects(copy=False) before interpolating instead.\n",
            "  df = df.groupby('country').apply(lambda group: group.interpolate(method='linear', limit_direction='both'))\n",
            "C:\\Users\\organ\\AppData\\Local\\Temp\\ipykernel_18720\\1778600730.py:3: FutureWarning: DataFrame.interpolate with object dtype is deprecated and will raise in a future version. Call obj.infer_objects(copy=False) before interpolating instead.\n",
            "  df = df.groupby('country').apply(lambda group: group.interpolate(method='linear', limit_direction='both'))\n",
            "C:\\Users\\organ\\AppData\\Local\\Temp\\ipykernel_18720\\1778600730.py:3: FutureWarning: DataFrame.interpolate with object dtype is deprecated and will raise in a future version. Call obj.infer_objects(copy=False) before interpolating instead.\n",
            "  df = df.groupby('country').apply(lambda group: group.interpolate(method='linear', limit_direction='both'))\n",
            "C:\\Users\\organ\\AppData\\Local\\Temp\\ipykernel_18720\\1778600730.py:3: FutureWarning: DataFrame.interpolate with object dtype is deprecated and will raise in a future version. Call obj.infer_objects(copy=False) before interpolating instead.\n",
            "  df = df.groupby('country').apply(lambda group: group.interpolate(method='linear', limit_direction='both'))\n",
            "C:\\Users\\organ\\AppData\\Local\\Temp\\ipykernel_18720\\1778600730.py:3: FutureWarning: DataFrame.interpolate with object dtype is deprecated and will raise in a future version. Call obj.infer_objects(copy=False) before interpolating instead.\n",
            "  df = df.groupby('country').apply(lambda group: group.interpolate(method='linear', limit_direction='both'))\n",
            "C:\\Users\\organ\\AppData\\Local\\Temp\\ipykernel_18720\\1778600730.py:3: FutureWarning: DataFrame.interpolate with object dtype is deprecated and will raise in a future version. Call obj.infer_objects(copy=False) before interpolating instead.\n",
            "  df = df.groupby('country').apply(lambda group: group.interpolate(method='linear', limit_direction='both'))\n",
            "C:\\Users\\organ\\AppData\\Local\\Temp\\ipykernel_18720\\1778600730.py:3: FutureWarning: DataFrame.interpolate with object dtype is deprecated and will raise in a future version. Call obj.infer_objects(copy=False) before interpolating instead.\n",
            "  df = df.groupby('country').apply(lambda group: group.interpolate(method='linear', limit_direction='both'))\n",
            "C:\\Users\\organ\\AppData\\Local\\Temp\\ipykernel_18720\\1778600730.py:3: FutureWarning: DataFrame.interpolate with object dtype is deprecated and will raise in a future version. Call obj.infer_objects(copy=False) before interpolating instead.\n",
            "  df = df.groupby('country').apply(lambda group: group.interpolate(method='linear', limit_direction='both'))\n",
            "C:\\Users\\organ\\AppData\\Local\\Temp\\ipykernel_18720\\1778600730.py:3: FutureWarning: DataFrame.interpolate with object dtype is deprecated and will raise in a future version. Call obj.infer_objects(copy=False) before interpolating instead.\n",
            "  df = df.groupby('country').apply(lambda group: group.interpolate(method='linear', limit_direction='both'))\n",
            "C:\\Users\\organ\\AppData\\Local\\Temp\\ipykernel_18720\\1778600730.py:3: FutureWarning: DataFrame.interpolate with object dtype is deprecated and will raise in a future version. Call obj.infer_objects(copy=False) before interpolating instead.\n",
            "  df = df.groupby('country').apply(lambda group: group.interpolate(method='linear', limit_direction='both'))\n",
            "C:\\Users\\organ\\AppData\\Local\\Temp\\ipykernel_18720\\1778600730.py:3: FutureWarning: DataFrame.interpolate with object dtype is deprecated and will raise in a future version. Call obj.infer_objects(copy=False) before interpolating instead.\n",
            "  df = df.groupby('country').apply(lambda group: group.interpolate(method='linear', limit_direction='both'))\n",
            "C:\\Users\\organ\\AppData\\Local\\Temp\\ipykernel_18720\\1778600730.py:3: FutureWarning: DataFrame.interpolate with object dtype is deprecated and will raise in a future version. Call obj.infer_objects(copy=False) before interpolating instead.\n",
            "  df = df.groupby('country').apply(lambda group: group.interpolate(method='linear', limit_direction='both'))\n",
            "C:\\Users\\organ\\AppData\\Local\\Temp\\ipykernel_18720\\1778600730.py:3: FutureWarning: DataFrame.interpolate with object dtype is deprecated and will raise in a future version. Call obj.infer_objects(copy=False) before interpolating instead.\n",
            "  df = df.groupby('country').apply(lambda group: group.interpolate(method='linear', limit_direction='both'))\n",
            "C:\\Users\\organ\\AppData\\Local\\Temp\\ipykernel_18720\\1778600730.py:3: FutureWarning: DataFrame.interpolate with object dtype is deprecated and will raise in a future version. Call obj.infer_objects(copy=False) before interpolating instead.\n",
            "  df = df.groupby('country').apply(lambda group: group.interpolate(method='linear', limit_direction='both'))\n",
            "C:\\Users\\organ\\AppData\\Local\\Temp\\ipykernel_18720\\1778600730.py:3: FutureWarning: DataFrame.interpolate with object dtype is deprecated and will raise in a future version. Call obj.infer_objects(copy=False) before interpolating instead.\n",
            "  df = df.groupby('country').apply(lambda group: group.interpolate(method='linear', limit_direction='both'))\n",
            "C:\\Users\\organ\\AppData\\Local\\Temp\\ipykernel_18720\\1778600730.py:3: FutureWarning: DataFrame.interpolate with object dtype is deprecated and will raise in a future version. Call obj.infer_objects(copy=False) before interpolating instead.\n",
            "  df = df.groupby('country').apply(lambda group: group.interpolate(method='linear', limit_direction='both'))\n",
            "C:\\Users\\organ\\AppData\\Local\\Temp\\ipykernel_18720\\1778600730.py:3: FutureWarning: DataFrame.interpolate with object dtype is deprecated and will raise in a future version. Call obj.infer_objects(copy=False) before interpolating instead.\n",
            "  df = df.groupby('country').apply(lambda group: group.interpolate(method='linear', limit_direction='both'))\n",
            "C:\\Users\\organ\\AppData\\Local\\Temp\\ipykernel_18720\\1778600730.py:3: FutureWarning: DataFrame.interpolate with object dtype is deprecated and will raise in a future version. Call obj.infer_objects(copy=False) before interpolating instead.\n",
            "  df = df.groupby('country').apply(lambda group: group.interpolate(method='linear', limit_direction='both'))\n",
            "C:\\Users\\organ\\AppData\\Local\\Temp\\ipykernel_18720\\1778600730.py:3: FutureWarning: DataFrame.interpolate with object dtype is deprecated and will raise in a future version. Call obj.infer_objects(copy=False) before interpolating instead.\n",
            "  df = df.groupby('country').apply(lambda group: group.interpolate(method='linear', limit_direction='both'))\n",
            "C:\\Users\\organ\\AppData\\Local\\Temp\\ipykernel_18720\\1778600730.py:3: FutureWarning: DataFrame.interpolate with object dtype is deprecated and will raise in a future version. Call obj.infer_objects(copy=False) before interpolating instead.\n",
            "  df = df.groupby('country').apply(lambda group: group.interpolate(method='linear', limit_direction='both'))\n",
            "C:\\Users\\organ\\AppData\\Local\\Temp\\ipykernel_18720\\1778600730.py:3: FutureWarning: DataFrame.interpolate with object dtype is deprecated and will raise in a future version. Call obj.infer_objects(copy=False) before interpolating instead.\n",
            "  df = df.groupby('country').apply(lambda group: group.interpolate(method='linear', limit_direction='both'))\n",
            "C:\\Users\\organ\\AppData\\Local\\Temp\\ipykernel_18720\\1778600730.py:3: FutureWarning: DataFrame.interpolate with object dtype is deprecated and will raise in a future version. Call obj.infer_objects(copy=False) before interpolating instead.\n",
            "  df = df.groupby('country').apply(lambda group: group.interpolate(method='linear', limit_direction='both'))\n",
            "C:\\Users\\organ\\AppData\\Local\\Temp\\ipykernel_18720\\1778600730.py:3: FutureWarning: DataFrame.interpolate with object dtype is deprecated and will raise in a future version. Call obj.infer_objects(copy=False) before interpolating instead.\n",
            "  df = df.groupby('country').apply(lambda group: group.interpolate(method='linear', limit_direction='both'))\n",
            "C:\\Users\\organ\\AppData\\Local\\Temp\\ipykernel_18720\\1778600730.py:3: FutureWarning: DataFrame.interpolate with object dtype is deprecated and will raise in a future version. Call obj.infer_objects(copy=False) before interpolating instead.\n",
            "  df = df.groupby('country').apply(lambda group: group.interpolate(method='linear', limit_direction='both'))\n",
            "C:\\Users\\organ\\AppData\\Local\\Temp\\ipykernel_18720\\1778600730.py:3: FutureWarning: DataFrame.interpolate with object dtype is deprecated and will raise in a future version. Call obj.infer_objects(copy=False) before interpolating instead.\n",
            "  df = df.groupby('country').apply(lambda group: group.interpolate(method='linear', limit_direction='both'))\n",
            "C:\\Users\\organ\\AppData\\Local\\Temp\\ipykernel_18720\\1778600730.py:3: FutureWarning: DataFrame.interpolate with object dtype is deprecated and will raise in a future version. Call obj.infer_objects(copy=False) before interpolating instead.\n",
            "  df = df.groupby('country').apply(lambda group: group.interpolate(method='linear', limit_direction='both'))\n",
            "C:\\Users\\organ\\AppData\\Local\\Temp\\ipykernel_18720\\1778600730.py:3: FutureWarning: DataFrame.interpolate with object dtype is deprecated and will raise in a future version. Call obj.infer_objects(copy=False) before interpolating instead.\n",
            "  df = df.groupby('country').apply(lambda group: group.interpolate(method='linear', limit_direction='both'))\n",
            "C:\\Users\\organ\\AppData\\Local\\Temp\\ipykernel_18720\\1778600730.py:3: FutureWarning: DataFrame.interpolate with object dtype is deprecated and will raise in a future version. Call obj.infer_objects(copy=False) before interpolating instead.\n",
            "  df = df.groupby('country').apply(lambda group: group.interpolate(method='linear', limit_direction='both'))\n",
            "C:\\Users\\organ\\AppData\\Local\\Temp\\ipykernel_18720\\1778600730.py:3: FutureWarning: DataFrame.interpolate with object dtype is deprecated and will raise in a future version. Call obj.infer_objects(copy=False) before interpolating instead.\n",
            "  df = df.groupby('country').apply(lambda group: group.interpolate(method='linear', limit_direction='both'))\n",
            "C:\\Users\\organ\\AppData\\Local\\Temp\\ipykernel_18720\\1778600730.py:3: FutureWarning: DataFrame.interpolate with object dtype is deprecated and will raise in a future version. Call obj.infer_objects(copy=False) before interpolating instead.\n",
            "  df = df.groupby('country').apply(lambda group: group.interpolate(method='linear', limit_direction='both'))\n",
            "C:\\Users\\organ\\AppData\\Local\\Temp\\ipykernel_18720\\1778600730.py:3: FutureWarning: DataFrame.interpolate with object dtype is deprecated and will raise in a future version. Call obj.infer_objects(copy=False) before interpolating instead.\n",
            "  df = df.groupby('country').apply(lambda group: group.interpolate(method='linear', limit_direction='both'))\n",
            "C:\\Users\\organ\\AppData\\Local\\Temp\\ipykernel_18720\\1778600730.py:3: FutureWarning: DataFrame.interpolate with object dtype is deprecated and will raise in a future version. Call obj.infer_objects(copy=False) before interpolating instead.\n",
            "  df = df.groupby('country').apply(lambda group: group.interpolate(method='linear', limit_direction='both'))\n",
            "C:\\Users\\organ\\AppData\\Local\\Temp\\ipykernel_18720\\1778600730.py:3: FutureWarning: DataFrame.interpolate with object dtype is deprecated and will raise in a future version. Call obj.infer_objects(copy=False) before interpolating instead.\n",
            "  df = df.groupby('country').apply(lambda group: group.interpolate(method='linear', limit_direction='both'))\n",
            "C:\\Users\\organ\\AppData\\Local\\Temp\\ipykernel_18720\\1778600730.py:3: FutureWarning: DataFrame.interpolate with object dtype is deprecated and will raise in a future version. Call obj.infer_objects(copy=False) before interpolating instead.\n",
            "  df = df.groupby('country').apply(lambda group: group.interpolate(method='linear', limit_direction='both'))\n",
            "C:\\Users\\organ\\AppData\\Local\\Temp\\ipykernel_18720\\1778600730.py:3: FutureWarning: DataFrame.interpolate with object dtype is deprecated and will raise in a future version. Call obj.infer_objects(copy=False) before interpolating instead.\n",
            "  df = df.groupby('country').apply(lambda group: group.interpolate(method='linear', limit_direction='both'))\n",
            "C:\\Users\\organ\\AppData\\Local\\Temp\\ipykernel_18720\\1778600730.py:3: FutureWarning: DataFrame.interpolate with object dtype is deprecated and will raise in a future version. Call obj.infer_objects(copy=False) before interpolating instead.\n",
            "  df = df.groupby('country').apply(lambda group: group.interpolate(method='linear', limit_direction='both'))\n",
            "C:\\Users\\organ\\AppData\\Local\\Temp\\ipykernel_18720\\1778600730.py:3: FutureWarning: DataFrame.interpolate with object dtype is deprecated and will raise in a future version. Call obj.infer_objects(copy=False) before interpolating instead.\n",
            "  df = df.groupby('country').apply(lambda group: group.interpolate(method='linear', limit_direction='both'))\n",
            "C:\\Users\\organ\\AppData\\Local\\Temp\\ipykernel_18720\\1778600730.py:3: FutureWarning: DataFrame.interpolate with object dtype is deprecated and will raise in a future version. Call obj.infer_objects(copy=False) before interpolating instead.\n",
            "  df = df.groupby('country').apply(lambda group: group.interpolate(method='linear', limit_direction='both'))\n",
            "C:\\Users\\organ\\AppData\\Local\\Temp\\ipykernel_18720\\1778600730.py:3: FutureWarning: DataFrame.interpolate with object dtype is deprecated and will raise in a future version. Call obj.infer_objects(copy=False) before interpolating instead.\n",
            "  df = df.groupby('country').apply(lambda group: group.interpolate(method='linear', limit_direction='both'))\n",
            "C:\\Users\\organ\\AppData\\Local\\Temp\\ipykernel_18720\\1778600730.py:3: FutureWarning: DataFrame.interpolate with object dtype is deprecated and will raise in a future version. Call obj.infer_objects(copy=False) before interpolating instead.\n",
            "  df = df.groupby('country').apply(lambda group: group.interpolate(method='linear', limit_direction='both'))\n",
            "C:\\Users\\organ\\AppData\\Local\\Temp\\ipykernel_18720\\1778600730.py:3: FutureWarning: DataFrame.interpolate with object dtype is deprecated and will raise in a future version. Call obj.infer_objects(copy=False) before interpolating instead.\n",
            "  df = df.groupby('country').apply(lambda group: group.interpolate(method='linear', limit_direction='both'))\n",
            "C:\\Users\\organ\\AppData\\Local\\Temp\\ipykernel_18720\\1778600730.py:3: FutureWarning: DataFrame.interpolate with object dtype is deprecated and will raise in a future version. Call obj.infer_objects(copy=False) before interpolating instead.\n",
            "  df = df.groupby('country').apply(lambda group: group.interpolate(method='linear', limit_direction='both'))\n",
            "C:\\Users\\organ\\AppData\\Local\\Temp\\ipykernel_18720\\1778600730.py:3: FutureWarning: DataFrame.interpolate with object dtype is deprecated and will raise in a future version. Call obj.infer_objects(copy=False) before interpolating instead.\n",
            "  df = df.groupby('country').apply(lambda group: group.interpolate(method='linear', limit_direction='both'))\n",
            "C:\\Users\\organ\\AppData\\Local\\Temp\\ipykernel_18720\\1778600730.py:3: FutureWarning: DataFrame.interpolate with object dtype is deprecated and will raise in a future version. Call obj.infer_objects(copy=False) before interpolating instead.\n",
            "  df = df.groupby('country').apply(lambda group: group.interpolate(method='linear', limit_direction='both'))\n",
            "C:\\Users\\organ\\AppData\\Local\\Temp\\ipykernel_18720\\1778600730.py:3: FutureWarning: DataFrame.interpolate with object dtype is deprecated and will raise in a future version. Call obj.infer_objects(copy=False) before interpolating instead.\n",
            "  df = df.groupby('country').apply(lambda group: group.interpolate(method='linear', limit_direction='both'))\n",
            "C:\\Users\\organ\\AppData\\Local\\Temp\\ipykernel_18720\\1778600730.py:3: FutureWarning: DataFrame.interpolate with object dtype is deprecated and will raise in a future version. Call obj.infer_objects(copy=False) before interpolating instead.\n",
            "  df = df.groupby('country').apply(lambda group: group.interpolate(method='linear', limit_direction='both'))\n",
            "C:\\Users\\organ\\AppData\\Local\\Temp\\ipykernel_18720\\1778600730.py:3: FutureWarning: DataFrame.interpolate with object dtype is deprecated and will raise in a future version. Call obj.infer_objects(copy=False) before interpolating instead.\n",
            "  df = df.groupby('country').apply(lambda group: group.interpolate(method='linear', limit_direction='both'))\n",
            "C:\\Users\\organ\\AppData\\Local\\Temp\\ipykernel_18720\\1778600730.py:3: FutureWarning: DataFrame.interpolate with object dtype is deprecated and will raise in a future version. Call obj.infer_objects(copy=False) before interpolating instead.\n",
            "  df = df.groupby('country').apply(lambda group: group.interpolate(method='linear', limit_direction='both'))\n",
            "C:\\Users\\organ\\AppData\\Local\\Temp\\ipykernel_18720\\1778600730.py:3: FutureWarning: DataFrame.interpolate with object dtype is deprecated and will raise in a future version. Call obj.infer_objects(copy=False) before interpolating instead.\n",
            "  df = df.groupby('country').apply(lambda group: group.interpolate(method='linear', limit_direction='both'))\n",
            "C:\\Users\\organ\\AppData\\Local\\Temp\\ipykernel_18720\\1778600730.py:3: FutureWarning: DataFrame.interpolate with object dtype is deprecated and will raise in a future version. Call obj.infer_objects(copy=False) before interpolating instead.\n",
            "  df = df.groupby('country').apply(lambda group: group.interpolate(method='linear', limit_direction='both'))\n",
            "C:\\Users\\organ\\AppData\\Local\\Temp\\ipykernel_18720\\1778600730.py:3: FutureWarning: DataFrame.interpolate with object dtype is deprecated and will raise in a future version. Call obj.infer_objects(copy=False) before interpolating instead.\n",
            "  df = df.groupby('country').apply(lambda group: group.interpolate(method='linear', limit_direction='both'))\n",
            "C:\\Users\\organ\\AppData\\Local\\Temp\\ipykernel_18720\\1778600730.py:3: FutureWarning: DataFrame.interpolate with object dtype is deprecated and will raise in a future version. Call obj.infer_objects(copy=False) before interpolating instead.\n",
            "  df = df.groupby('country').apply(lambda group: group.interpolate(method='linear', limit_direction='both'))\n",
            "C:\\Users\\organ\\AppData\\Local\\Temp\\ipykernel_18720\\1778600730.py:3: FutureWarning: DataFrame.interpolate with object dtype is deprecated and will raise in a future version. Call obj.infer_objects(copy=False) before interpolating instead.\n",
            "  df = df.groupby('country').apply(lambda group: group.interpolate(method='linear', limit_direction='both'))\n",
            "C:\\Users\\organ\\AppData\\Local\\Temp\\ipykernel_18720\\1778600730.py:3: FutureWarning: DataFrame.interpolate with object dtype is deprecated and will raise in a future version. Call obj.infer_objects(copy=False) before interpolating instead.\n",
            "  df = df.groupby('country').apply(lambda group: group.interpolate(method='linear', limit_direction='both'))\n",
            "C:\\Users\\organ\\AppData\\Local\\Temp\\ipykernel_18720\\1778600730.py:3: FutureWarning: DataFrame.interpolate with object dtype is deprecated and will raise in a future version. Call obj.infer_objects(copy=False) before interpolating instead.\n",
            "  df = df.groupby('country').apply(lambda group: group.interpolate(method='linear', limit_direction='both'))\n",
            "C:\\Users\\organ\\AppData\\Local\\Temp\\ipykernel_18720\\1778600730.py:3: FutureWarning: DataFrame.interpolate with object dtype is deprecated and will raise in a future version. Call obj.infer_objects(copy=False) before interpolating instead.\n",
            "  df = df.groupby('country').apply(lambda group: group.interpolate(method='linear', limit_direction='both'))\n",
            "C:\\Users\\organ\\AppData\\Local\\Temp\\ipykernel_18720\\1778600730.py:3: FutureWarning: DataFrame.interpolate with object dtype is deprecated and will raise in a future version. Call obj.infer_objects(copy=False) before interpolating instead.\n",
            "  df = df.groupby('country').apply(lambda group: group.interpolate(method='linear', limit_direction='both'))\n",
            "C:\\Users\\organ\\AppData\\Local\\Temp\\ipykernel_18720\\1778600730.py:3: FutureWarning: DataFrame.interpolate with object dtype is deprecated and will raise in a future version. Call obj.infer_objects(copy=False) before interpolating instead.\n",
            "  df = df.groupby('country').apply(lambda group: group.interpolate(method='linear', limit_direction='both'))\n",
            "C:\\Users\\organ\\AppData\\Local\\Temp\\ipykernel_18720\\1778600730.py:3: FutureWarning: DataFrame.interpolate with object dtype is deprecated and will raise in a future version. Call obj.infer_objects(copy=False) before interpolating instead.\n",
            "  df = df.groupby('country').apply(lambda group: group.interpolate(method='linear', limit_direction='both'))\n",
            "C:\\Users\\organ\\AppData\\Local\\Temp\\ipykernel_18720\\1778600730.py:3: FutureWarning: DataFrame.interpolate with object dtype is deprecated and will raise in a future version. Call obj.infer_objects(copy=False) before interpolating instead.\n",
            "  df = df.groupby('country').apply(lambda group: group.interpolate(method='linear', limit_direction='both'))\n",
            "C:\\Users\\organ\\AppData\\Local\\Temp\\ipykernel_18720\\1778600730.py:3: FutureWarning: DataFrame.interpolate with object dtype is deprecated and will raise in a future version. Call obj.infer_objects(copy=False) before interpolating instead.\n",
            "  df = df.groupby('country').apply(lambda group: group.interpolate(method='linear', limit_direction='both'))\n",
            "C:\\Users\\organ\\AppData\\Local\\Temp\\ipykernel_18720\\1778600730.py:3: FutureWarning: DataFrame.interpolate with object dtype is deprecated and will raise in a future version. Call obj.infer_objects(copy=False) before interpolating instead.\n",
            "  df = df.groupby('country').apply(lambda group: group.interpolate(method='linear', limit_direction='both'))\n",
            "C:\\Users\\organ\\AppData\\Local\\Temp\\ipykernel_18720\\1778600730.py:3: FutureWarning: DataFrame.interpolate with object dtype is deprecated and will raise in a future version. Call obj.infer_objects(copy=False) before interpolating instead.\n",
            "  df = df.groupby('country').apply(lambda group: group.interpolate(method='linear', limit_direction='both'))\n",
            "C:\\Users\\organ\\AppData\\Local\\Temp\\ipykernel_18720\\1778600730.py:3: FutureWarning: DataFrame.interpolate with object dtype is deprecated and will raise in a future version. Call obj.infer_objects(copy=False) before interpolating instead.\n",
            "  df = df.groupby('country').apply(lambda group: group.interpolate(method='linear', limit_direction='both'))\n",
            "C:\\Users\\organ\\AppData\\Local\\Temp\\ipykernel_18720\\1778600730.py:3: FutureWarning: DataFrame.interpolate with object dtype is deprecated and will raise in a future version. Call obj.infer_objects(copy=False) before interpolating instead.\n",
            "  df = df.groupby('country').apply(lambda group: group.interpolate(method='linear', limit_direction='both'))\n",
            "C:\\Users\\organ\\AppData\\Local\\Temp\\ipykernel_18720\\1778600730.py:3: FutureWarning: DataFrame.interpolate with object dtype is deprecated and will raise in a future version. Call obj.infer_objects(copy=False) before interpolating instead.\n",
            "  df = df.groupby('country').apply(lambda group: group.interpolate(method='linear', limit_direction='both'))\n",
            "C:\\Users\\organ\\AppData\\Local\\Temp\\ipykernel_18720\\1778600730.py:3: FutureWarning: DataFrame.interpolate with object dtype is deprecated and will raise in a future version. Call obj.infer_objects(copy=False) before interpolating instead.\n",
            "  df = df.groupby('country').apply(lambda group: group.interpolate(method='linear', limit_direction='both'))\n",
            "C:\\Users\\organ\\AppData\\Local\\Temp\\ipykernel_18720\\1778600730.py:3: FutureWarning: DataFrame.interpolate with object dtype is deprecated and will raise in a future version. Call obj.infer_objects(copy=False) before interpolating instead.\n",
            "  df = df.groupby('country').apply(lambda group: group.interpolate(method='linear', limit_direction='both'))\n",
            "C:\\Users\\organ\\AppData\\Local\\Temp\\ipykernel_18720\\1778600730.py:3: FutureWarning: DataFrame.interpolate with object dtype is deprecated and will raise in a future version. Call obj.infer_objects(copy=False) before interpolating instead.\n",
            "  df = df.groupby('country').apply(lambda group: group.interpolate(method='linear', limit_direction='both'))\n",
            "C:\\Users\\organ\\AppData\\Local\\Temp\\ipykernel_18720\\1778600730.py:3: FutureWarning: DataFrame.interpolate with object dtype is deprecated and will raise in a future version. Call obj.infer_objects(copy=False) before interpolating instead.\n",
            "  df = df.groupby('country').apply(lambda group: group.interpolate(method='linear', limit_direction='both'))\n",
            "C:\\Users\\organ\\AppData\\Local\\Temp\\ipykernel_18720\\1778600730.py:3: FutureWarning: DataFrame.interpolate with object dtype is deprecated and will raise in a future version. Call obj.infer_objects(copy=False) before interpolating instead.\n",
            "  df = df.groupby('country').apply(lambda group: group.interpolate(method='linear', limit_direction='both'))\n",
            "C:\\Users\\organ\\AppData\\Local\\Temp\\ipykernel_18720\\1778600730.py:3: FutureWarning: DataFrame.interpolate with object dtype is deprecated and will raise in a future version. Call obj.infer_objects(copy=False) before interpolating instead.\n",
            "  df = df.groupby('country').apply(lambda group: group.interpolate(method='linear', limit_direction='both'))\n",
            "C:\\Users\\organ\\AppData\\Local\\Temp\\ipykernel_18720\\1778600730.py:3: FutureWarning: DataFrame.interpolate with object dtype is deprecated and will raise in a future version. Call obj.infer_objects(copy=False) before interpolating instead.\n",
            "  df = df.groupby('country').apply(lambda group: group.interpolate(method='linear', limit_direction='both'))\n",
            "C:\\Users\\organ\\AppData\\Local\\Temp\\ipykernel_18720\\1778600730.py:3: FutureWarning: DataFrame.interpolate with object dtype is deprecated and will raise in a future version. Call obj.infer_objects(copy=False) before interpolating instead.\n",
            "  df = df.groupby('country').apply(lambda group: group.interpolate(method='linear', limit_direction='both'))\n",
            "C:\\Users\\organ\\AppData\\Local\\Temp\\ipykernel_18720\\1778600730.py:3: FutureWarning: DataFrame.interpolate with object dtype is deprecated and will raise in a future version. Call obj.infer_objects(copy=False) before interpolating instead.\n",
            "  df = df.groupby('country').apply(lambda group: group.interpolate(method='linear', limit_direction='both'))\n",
            "C:\\Users\\organ\\AppData\\Local\\Temp\\ipykernel_18720\\1778600730.py:3: FutureWarning: DataFrame.interpolate with object dtype is deprecated and will raise in a future version. Call obj.infer_objects(copy=False) before interpolating instead.\n",
            "  df = df.groupby('country').apply(lambda group: group.interpolate(method='linear', limit_direction='both'))\n",
            "C:\\Users\\organ\\AppData\\Local\\Temp\\ipykernel_18720\\1778600730.py:3: FutureWarning: DataFrame.interpolate with object dtype is deprecated and will raise in a future version. Call obj.infer_objects(copy=False) before interpolating instead.\n",
            "  df = df.groupby('country').apply(lambda group: group.interpolate(method='linear', limit_direction='both'))\n",
            "C:\\Users\\organ\\AppData\\Local\\Temp\\ipykernel_18720\\1778600730.py:3: FutureWarning: DataFrame.interpolate with object dtype is deprecated and will raise in a future version. Call obj.infer_objects(copy=False) before interpolating instead.\n",
            "  df = df.groupby('country').apply(lambda group: group.interpolate(method='linear', limit_direction='both'))\n",
            "C:\\Users\\organ\\AppData\\Local\\Temp\\ipykernel_18720\\1778600730.py:3: FutureWarning: DataFrame.interpolate with object dtype is deprecated and will raise in a future version. Call obj.infer_objects(copy=False) before interpolating instead.\n",
            "  df = df.groupby('country').apply(lambda group: group.interpolate(method='linear', limit_direction='both'))\n",
            "C:\\Users\\organ\\AppData\\Local\\Temp\\ipykernel_18720\\1778600730.py:3: FutureWarning: DataFrame.interpolate with object dtype is deprecated and will raise in a future version. Call obj.infer_objects(copy=False) before interpolating instead.\n",
            "  df = df.groupby('country').apply(lambda group: group.interpolate(method='linear', limit_direction='both'))\n",
            "C:\\Users\\organ\\AppData\\Local\\Temp\\ipykernel_18720\\1778600730.py:3: FutureWarning: DataFrame.interpolate with object dtype is deprecated and will raise in a future version. Call obj.infer_objects(copy=False) before interpolating instead.\n",
            "  df = df.groupby('country').apply(lambda group: group.interpolate(method='linear', limit_direction='both'))\n",
            "C:\\Users\\organ\\AppData\\Local\\Temp\\ipykernel_18720\\1778600730.py:3: FutureWarning: DataFrame.interpolate with object dtype is deprecated and will raise in a future version. Call obj.infer_objects(copy=False) before interpolating instead.\n",
            "  df = df.groupby('country').apply(lambda group: group.interpolate(method='linear', limit_direction='both'))\n",
            "C:\\Users\\organ\\AppData\\Local\\Temp\\ipykernel_18720\\1778600730.py:3: FutureWarning: DataFrame.interpolate with object dtype is deprecated and will raise in a future version. Call obj.infer_objects(copy=False) before interpolating instead.\n",
            "  df = df.groupby('country').apply(lambda group: group.interpolate(method='linear', limit_direction='both'))\n",
            "C:\\Users\\organ\\AppData\\Local\\Temp\\ipykernel_18720\\1778600730.py:3: FutureWarning: DataFrame.interpolate with object dtype is deprecated and will raise in a future version. Call obj.infer_objects(copy=False) before interpolating instead.\n",
            "  df = df.groupby('country').apply(lambda group: group.interpolate(method='linear', limit_direction='both'))\n",
            "C:\\Users\\organ\\AppData\\Local\\Temp\\ipykernel_18720\\1778600730.py:3: FutureWarning: DataFrame.interpolate with object dtype is deprecated and will raise in a future version. Call obj.infer_objects(copy=False) before interpolating instead.\n",
            "  df = df.groupby('country').apply(lambda group: group.interpolate(method='linear', limit_direction='both'))\n",
            "C:\\Users\\organ\\AppData\\Local\\Temp\\ipykernel_18720\\1778600730.py:3: FutureWarning: DataFrame.interpolate with object dtype is deprecated and will raise in a future version. Call obj.infer_objects(copy=False) before interpolating instead.\n",
            "  df = df.groupby('country').apply(lambda group: group.interpolate(method='linear', limit_direction='both'))\n",
            "C:\\Users\\organ\\AppData\\Local\\Temp\\ipykernel_18720\\1778600730.py:3: FutureWarning: DataFrame.interpolate with object dtype is deprecated and will raise in a future version. Call obj.infer_objects(copy=False) before interpolating instead.\n",
            "  df = df.groupby('country').apply(lambda group: group.interpolate(method='linear', limit_direction='both'))\n",
            "C:\\Users\\organ\\AppData\\Local\\Temp\\ipykernel_18720\\1778600730.py:3: FutureWarning: DataFrame.interpolate with object dtype is deprecated and will raise in a future version. Call obj.infer_objects(copy=False) before interpolating instead.\n",
            "  df = df.groupby('country').apply(lambda group: group.interpolate(method='linear', limit_direction='both'))\n",
            "C:\\Users\\organ\\AppData\\Local\\Temp\\ipykernel_18720\\1778600730.py:3: FutureWarning: DataFrame.interpolate with object dtype is deprecated and will raise in a future version. Call obj.infer_objects(copy=False) before interpolating instead.\n",
            "  df = df.groupby('country').apply(lambda group: group.interpolate(method='linear', limit_direction='both'))\n",
            "C:\\Users\\organ\\AppData\\Local\\Temp\\ipykernel_18720\\1778600730.py:3: FutureWarning: DataFrame.interpolate with object dtype is deprecated and will raise in a future version. Call obj.infer_objects(copy=False) before interpolating instead.\n",
            "  df = df.groupby('country').apply(lambda group: group.interpolate(method='linear', limit_direction='both'))\n",
            "C:\\Users\\organ\\AppData\\Local\\Temp\\ipykernel_18720\\1778600730.py:3: FutureWarning: DataFrame.interpolate with object dtype is deprecated and will raise in a future version. Call obj.infer_objects(copy=False) before interpolating instead.\n",
            "  df = df.groupby('country').apply(lambda group: group.interpolate(method='linear', limit_direction='both'))\n",
            "C:\\Users\\organ\\AppData\\Local\\Temp\\ipykernel_18720\\1778600730.py:3: FutureWarning: DataFrame.interpolate with object dtype is deprecated and will raise in a future version. Call obj.infer_objects(copy=False) before interpolating instead.\n",
            "  df = df.groupby('country').apply(lambda group: group.interpolate(method='linear', limit_direction='both'))\n",
            "C:\\Users\\organ\\AppData\\Local\\Temp\\ipykernel_18720\\1778600730.py:3: FutureWarning: DataFrame.interpolate with object dtype is deprecated and will raise in a future version. Call obj.infer_objects(copy=False) before interpolating instead.\n",
            "  df = df.groupby('country').apply(lambda group: group.interpolate(method='linear', limit_direction='both'))\n",
            "C:\\Users\\organ\\AppData\\Local\\Temp\\ipykernel_18720\\1778600730.py:3: FutureWarning: DataFrame.interpolate with object dtype is deprecated and will raise in a future version. Call obj.infer_objects(copy=False) before interpolating instead.\n",
            "  df = df.groupby('country').apply(lambda group: group.interpolate(method='linear', limit_direction='both'))\n",
            "C:\\Users\\organ\\AppData\\Local\\Temp\\ipykernel_18720\\1778600730.py:3: FutureWarning: DataFrame.interpolate with object dtype is deprecated and will raise in a future version. Call obj.infer_objects(copy=False) before interpolating instead.\n",
            "  df = df.groupby('country').apply(lambda group: group.interpolate(method='linear', limit_direction='both'))\n",
            "C:\\Users\\organ\\AppData\\Local\\Temp\\ipykernel_18720\\1778600730.py:3: FutureWarning: DataFrame.interpolate with object dtype is deprecated and will raise in a future version. Call obj.infer_objects(copy=False) before interpolating instead.\n",
            "  df = df.groupby('country').apply(lambda group: group.interpolate(method='linear', limit_direction='both'))\n",
            "C:\\Users\\organ\\AppData\\Local\\Temp\\ipykernel_18720\\1778600730.py:3: FutureWarning: DataFrame.interpolate with object dtype is deprecated and will raise in a future version. Call obj.infer_objects(copy=False) before interpolating instead.\n",
            "  df = df.groupby('country').apply(lambda group: group.interpolate(method='linear', limit_direction='both'))\n",
            "C:\\Users\\organ\\AppData\\Local\\Temp\\ipykernel_18720\\1778600730.py:3: FutureWarning: DataFrame.interpolate with object dtype is deprecated and will raise in a future version. Call obj.infer_objects(copy=False) before interpolating instead.\n",
            "  df = df.groupby('country').apply(lambda group: group.interpolate(method='linear', limit_direction='both'))\n",
            "C:\\Users\\organ\\AppData\\Local\\Temp\\ipykernel_18720\\1778600730.py:3: FutureWarning: DataFrame.interpolate with object dtype is deprecated and will raise in a future version. Call obj.infer_objects(copy=False) before interpolating instead.\n",
            "  df = df.groupby('country').apply(lambda group: group.interpolate(method='linear', limit_direction='both'))\n",
            "C:\\Users\\organ\\AppData\\Local\\Temp\\ipykernel_18720\\1778600730.py:3: FutureWarning: DataFrame.interpolate with object dtype is deprecated and will raise in a future version. Call obj.infer_objects(copy=False) before interpolating instead.\n",
            "  df = df.groupby('country').apply(lambda group: group.interpolate(method='linear', limit_direction='both'))\n",
            "C:\\Users\\organ\\AppData\\Local\\Temp\\ipykernel_18720\\1778600730.py:3: FutureWarning: DataFrame.interpolate with object dtype is deprecated and will raise in a future version. Call obj.infer_objects(copy=False) before interpolating instead.\n",
            "  df = df.groupby('country').apply(lambda group: group.interpolate(method='linear', limit_direction='both'))\n",
            "C:\\Users\\organ\\AppData\\Local\\Temp\\ipykernel_18720\\1778600730.py:3: FutureWarning: DataFrame.interpolate with object dtype is deprecated and will raise in a future version. Call obj.infer_objects(copy=False) before interpolating instead.\n",
            "  df = df.groupby('country').apply(lambda group: group.interpolate(method='linear', limit_direction='both'))\n",
            "C:\\Users\\organ\\AppData\\Local\\Temp\\ipykernel_18720\\1778600730.py:3: FutureWarning: DataFrame.interpolate with object dtype is deprecated and will raise in a future version. Call obj.infer_objects(copy=False) before interpolating instead.\n",
            "  df = df.groupby('country').apply(lambda group: group.interpolate(method='linear', limit_direction='both'))\n",
            "C:\\Users\\organ\\AppData\\Local\\Temp\\ipykernel_18720\\1778600730.py:3: FutureWarning: DataFrame.interpolate with object dtype is deprecated and will raise in a future version. Call obj.infer_objects(copy=False) before interpolating instead.\n",
            "  df = df.groupby('country').apply(lambda group: group.interpolate(method='linear', limit_direction='both'))\n",
            "C:\\Users\\organ\\AppData\\Local\\Temp\\ipykernel_18720\\1778600730.py:3: FutureWarning: DataFrame.interpolate with object dtype is deprecated and will raise in a future version. Call obj.infer_objects(copy=False) before interpolating instead.\n",
            "  df = df.groupby('country').apply(lambda group: group.interpolate(method='linear', limit_direction='both'))\n",
            "C:\\Users\\organ\\AppData\\Local\\Temp\\ipykernel_18720\\1778600730.py:3: FutureWarning: DataFrame.interpolate with object dtype is deprecated and will raise in a future version. Call obj.infer_objects(copy=False) before interpolating instead.\n",
            "  df = df.groupby('country').apply(lambda group: group.interpolate(method='linear', limit_direction='both'))\n",
            "C:\\Users\\organ\\AppData\\Local\\Temp\\ipykernel_18720\\1778600730.py:3: FutureWarning: DataFrame.interpolate with object dtype is deprecated and will raise in a future version. Call obj.infer_objects(copy=False) before interpolating instead.\n",
            "  df = df.groupby('country').apply(lambda group: group.interpolate(method='linear', limit_direction='both'))\n",
            "C:\\Users\\organ\\AppData\\Local\\Temp\\ipykernel_18720\\1778600730.py:3: FutureWarning: DataFrame.interpolate with object dtype is deprecated and will raise in a future version. Call obj.infer_objects(copy=False) before interpolating instead.\n",
            "  df = df.groupby('country').apply(lambda group: group.interpolate(method='linear', limit_direction='both'))\n",
            "C:\\Users\\organ\\AppData\\Local\\Temp\\ipykernel_18720\\1778600730.py:3: FutureWarning: DataFrame.interpolate with object dtype is deprecated and will raise in a future version. Call obj.infer_objects(copy=False) before interpolating instead.\n",
            "  df = df.groupby('country').apply(lambda group: group.interpolate(method='linear', limit_direction='both'))\n",
            "C:\\Users\\organ\\AppData\\Local\\Temp\\ipykernel_18720\\1778600730.py:3: FutureWarning: DataFrame.interpolate with object dtype is deprecated and will raise in a future version. Call obj.infer_objects(copy=False) before interpolating instead.\n",
            "  df = df.groupby('country').apply(lambda group: group.interpolate(method='linear', limit_direction='both'))\n",
            "C:\\Users\\organ\\AppData\\Local\\Temp\\ipykernel_18720\\1778600730.py:3: FutureWarning: DataFrame.interpolate with object dtype is deprecated and will raise in a future version. Call obj.infer_objects(copy=False) before interpolating instead.\n",
            "  df = df.groupby('country').apply(lambda group: group.interpolate(method='linear', limit_direction='both'))\n",
            "C:\\Users\\organ\\AppData\\Local\\Temp\\ipykernel_18720\\1778600730.py:3: FutureWarning: DataFrame.interpolate with object dtype is deprecated and will raise in a future version. Call obj.infer_objects(copy=False) before interpolating instead.\n",
            "  df = df.groupby('country').apply(lambda group: group.interpolate(method='linear', limit_direction='both'))\n",
            "C:\\Users\\organ\\AppData\\Local\\Temp\\ipykernel_18720\\1778600730.py:3: FutureWarning: DataFrame.interpolate with object dtype is deprecated and will raise in a future version. Call obj.infer_objects(copy=False) before interpolating instead.\n",
            "  df = df.groupby('country').apply(lambda group: group.interpolate(method='linear', limit_direction='both'))\n",
            "C:\\Users\\organ\\AppData\\Local\\Temp\\ipykernel_18720\\1778600730.py:3: FutureWarning: DataFrame.interpolate with object dtype is deprecated and will raise in a future version. Call obj.infer_objects(copy=False) before interpolating instead.\n",
            "  df = df.groupby('country').apply(lambda group: group.interpolate(method='linear', limit_direction='both'))\n",
            "C:\\Users\\organ\\AppData\\Local\\Temp\\ipykernel_18720\\1778600730.py:3: FutureWarning: DataFrame.interpolate with object dtype is deprecated and will raise in a future version. Call obj.infer_objects(copy=False) before interpolating instead.\n",
            "  df = df.groupby('country').apply(lambda group: group.interpolate(method='linear', limit_direction='both'))\n",
            "C:\\Users\\organ\\AppData\\Local\\Temp\\ipykernel_18720\\1778600730.py:3: FutureWarning: DataFrame.interpolate with object dtype is deprecated and will raise in a future version. Call obj.infer_objects(copy=False) before interpolating instead.\n",
            "  df = df.groupby('country').apply(lambda group: group.interpolate(method='linear', limit_direction='both'))\n",
            "C:\\Users\\organ\\AppData\\Local\\Temp\\ipykernel_18720\\1778600730.py:3: FutureWarning: DataFrame.interpolate with object dtype is deprecated and will raise in a future version. Call obj.infer_objects(copy=False) before interpolating instead.\n",
            "  df = df.groupby('country').apply(lambda group: group.interpolate(method='linear', limit_direction='both'))\n",
            "C:\\Users\\organ\\AppData\\Local\\Temp\\ipykernel_18720\\1778600730.py:3: FutureWarning: DataFrame.interpolate with object dtype is deprecated and will raise in a future version. Call obj.infer_objects(copy=False) before interpolating instead.\n",
            "  df = df.groupby('country').apply(lambda group: group.interpolate(method='linear', limit_direction='both'))\n",
            "C:\\Users\\organ\\AppData\\Local\\Temp\\ipykernel_18720\\1778600730.py:3: FutureWarning: DataFrame.interpolate with object dtype is deprecated and will raise in a future version. Call obj.infer_objects(copy=False) before interpolating instead.\n",
            "  df = df.groupby('country').apply(lambda group: group.interpolate(method='linear', limit_direction='both'))\n",
            "C:\\Users\\organ\\AppData\\Local\\Temp\\ipykernel_18720\\1778600730.py:3: FutureWarning: DataFrame.interpolate with object dtype is deprecated and will raise in a future version. Call obj.infer_objects(copy=False) before interpolating instead.\n",
            "  df = df.groupby('country').apply(lambda group: group.interpolate(method='linear', limit_direction='both'))\n",
            "C:\\Users\\organ\\AppData\\Local\\Temp\\ipykernel_18720\\1778600730.py:3: FutureWarning: DataFrame.interpolate with object dtype is deprecated and will raise in a future version. Call obj.infer_objects(copy=False) before interpolating instead.\n",
            "  df = df.groupby('country').apply(lambda group: group.interpolate(method='linear', limit_direction='both'))\n",
            "C:\\Users\\organ\\AppData\\Local\\Temp\\ipykernel_18720\\1778600730.py:3: FutureWarning: DataFrame.interpolate with object dtype is deprecated and will raise in a future version. Call obj.infer_objects(copy=False) before interpolating instead.\n",
            "  df = df.groupby('country').apply(lambda group: group.interpolate(method='linear', limit_direction='both'))\n",
            "C:\\Users\\organ\\AppData\\Local\\Temp\\ipykernel_18720\\1778600730.py:3: FutureWarning: DataFrame.interpolate with object dtype is deprecated and will raise in a future version. Call obj.infer_objects(copy=False) before interpolating instead.\n",
            "  df = df.groupby('country').apply(lambda group: group.interpolate(method='linear', limit_direction='both'))\n",
            "C:\\Users\\organ\\AppData\\Local\\Temp\\ipykernel_18720\\1778600730.py:3: FutureWarning: DataFrame.interpolate with object dtype is deprecated and will raise in a future version. Call obj.infer_objects(copy=False) before interpolating instead.\n",
            "  df = df.groupby('country').apply(lambda group: group.interpolate(method='linear', limit_direction='both'))\n",
            "C:\\Users\\organ\\AppData\\Local\\Temp\\ipykernel_18720\\1778600730.py:3: FutureWarning: DataFrame.interpolate with object dtype is deprecated and will raise in a future version. Call obj.infer_objects(copy=False) before interpolating instead.\n",
            "  df = df.groupby('country').apply(lambda group: group.interpolate(method='linear', limit_direction='both'))\n",
            "C:\\Users\\organ\\AppData\\Local\\Temp\\ipykernel_18720\\1778600730.py:3: FutureWarning: DataFrame.interpolate with object dtype is deprecated and will raise in a future version. Call obj.infer_objects(copy=False) before interpolating instead.\n",
            "  df = df.groupby('country').apply(lambda group: group.interpolate(method='linear', limit_direction='both'))\n",
            "C:\\Users\\organ\\AppData\\Local\\Temp\\ipykernel_18720\\1778600730.py:3: FutureWarning: DataFrame.interpolate with object dtype is deprecated and will raise in a future version. Call obj.infer_objects(copy=False) before interpolating instead.\n",
            "  df = df.groupby('country').apply(lambda group: group.interpolate(method='linear', limit_direction='both'))\n",
            "C:\\Users\\organ\\AppData\\Local\\Temp\\ipykernel_18720\\1778600730.py:3: FutureWarning: DataFrame.interpolate with object dtype is deprecated and will raise in a future version. Call obj.infer_objects(copy=False) before interpolating instead.\n",
            "  df = df.groupby('country').apply(lambda group: group.interpolate(method='linear', limit_direction='both'))\n",
            "C:\\Users\\organ\\AppData\\Local\\Temp\\ipykernel_18720\\1778600730.py:3: FutureWarning: DataFrame.interpolate with object dtype is deprecated and will raise in a future version. Call obj.infer_objects(copy=False) before interpolating instead.\n",
            "  df = df.groupby('country').apply(lambda group: group.interpolate(method='linear', limit_direction='both'))\n",
            "C:\\Users\\organ\\AppData\\Local\\Temp\\ipykernel_18720\\1778600730.py:3: FutureWarning: DataFrame.interpolate with object dtype is deprecated and will raise in a future version. Call obj.infer_objects(copy=False) before interpolating instead.\n",
            "  df = df.groupby('country').apply(lambda group: group.interpolate(method='linear', limit_direction='both'))\n",
            "C:\\Users\\organ\\AppData\\Local\\Temp\\ipykernel_18720\\1778600730.py:3: FutureWarning: DataFrame.interpolate with object dtype is deprecated and will raise in a future version. Call obj.infer_objects(copy=False) before interpolating instead.\n",
            "  df = df.groupby('country').apply(lambda group: group.interpolate(method='linear', limit_direction='both'))\n",
            "C:\\Users\\organ\\AppData\\Local\\Temp\\ipykernel_18720\\1778600730.py:3: FutureWarning: DataFrame.interpolate with object dtype is deprecated and will raise in a future version. Call obj.infer_objects(copy=False) before interpolating instead.\n",
            "  df = df.groupby('country').apply(lambda group: group.interpolate(method='linear', limit_direction='both'))\n",
            "C:\\Users\\organ\\AppData\\Local\\Temp\\ipykernel_18720\\1778600730.py:3: FutureWarning: DataFrame.interpolate with object dtype is deprecated and will raise in a future version. Call obj.infer_objects(copy=False) before interpolating instead.\n",
            "  df = df.groupby('country').apply(lambda group: group.interpolate(method='linear', limit_direction='both'))\n",
            "C:\\Users\\organ\\AppData\\Local\\Temp\\ipykernel_18720\\1778600730.py:3: FutureWarning: DataFrame.interpolate with object dtype is deprecated and will raise in a future version. Call obj.infer_objects(copy=False) before interpolating instead.\n",
            "  df = df.groupby('country').apply(lambda group: group.interpolate(method='linear', limit_direction='both'))\n",
            "C:\\Users\\organ\\AppData\\Local\\Temp\\ipykernel_18720\\1778600730.py:3: FutureWarning: DataFrame.interpolate with object dtype is deprecated and will raise in a future version. Call obj.infer_objects(copy=False) before interpolating instead.\n",
            "  df = df.groupby('country').apply(lambda group: group.interpolate(method='linear', limit_direction='both'))\n",
            "C:\\Users\\organ\\AppData\\Local\\Temp\\ipykernel_18720\\1778600730.py:3: FutureWarning: DataFrame.interpolate with object dtype is deprecated and will raise in a future version. Call obj.infer_objects(copy=False) before interpolating instead.\n",
            "  df = df.groupby('country').apply(lambda group: group.interpolate(method='linear', limit_direction='both'))\n",
            "C:\\Users\\organ\\AppData\\Local\\Temp\\ipykernel_18720\\1778600730.py:3: FutureWarning: DataFrame.interpolate with object dtype is deprecated and will raise in a future version. Call obj.infer_objects(copy=False) before interpolating instead.\n",
            "  df = df.groupby('country').apply(lambda group: group.interpolate(method='linear', limit_direction='both'))\n",
            "C:\\Users\\organ\\AppData\\Local\\Temp\\ipykernel_18720\\1778600730.py:3: FutureWarning: DataFrame.interpolate with object dtype is deprecated and will raise in a future version. Call obj.infer_objects(copy=False) before interpolating instead.\n",
            "  df = df.groupby('country').apply(lambda group: group.interpolate(method='linear', limit_direction='both'))\n",
            "C:\\Users\\organ\\AppData\\Local\\Temp\\ipykernel_18720\\1778600730.py:3: FutureWarning: DataFrame.interpolate with object dtype is deprecated and will raise in a future version. Call obj.infer_objects(copy=False) before interpolating instead.\n",
            "  df = df.groupby('country').apply(lambda group: group.interpolate(method='linear', limit_direction='both'))\n",
            "C:\\Users\\organ\\AppData\\Local\\Temp\\ipykernel_18720\\1778600730.py:3: FutureWarning: DataFrame.interpolate with object dtype is deprecated and will raise in a future version. Call obj.infer_objects(copy=False) before interpolating instead.\n",
            "  df = df.groupby('country').apply(lambda group: group.interpolate(method='linear', limit_direction='both'))\n",
            "C:\\Users\\organ\\AppData\\Local\\Temp\\ipykernel_18720\\1778600730.py:3: FutureWarning: DataFrame.interpolate with object dtype is deprecated and will raise in a future version. Call obj.infer_objects(copy=False) before interpolating instead.\n",
            "  df = df.groupby('country').apply(lambda group: group.interpolate(method='linear', limit_direction='both'))\n",
            "C:\\Users\\organ\\AppData\\Local\\Temp\\ipykernel_18720\\1778600730.py:3: FutureWarning: DataFrame.interpolate with object dtype is deprecated and will raise in a future version. Call obj.infer_objects(copy=False) before interpolating instead.\n",
            "  df = df.groupby('country').apply(lambda group: group.interpolate(method='linear', limit_direction='both'))\n",
            "C:\\Users\\organ\\AppData\\Local\\Temp\\ipykernel_18720\\1778600730.py:3: FutureWarning: DataFrame.interpolate with object dtype is deprecated and will raise in a future version. Call obj.infer_objects(copy=False) before interpolating instead.\n",
            "  df = df.groupby('country').apply(lambda group: group.interpolate(method='linear', limit_direction='both'))\n",
            "C:\\Users\\organ\\AppData\\Local\\Temp\\ipykernel_18720\\1778600730.py:3: FutureWarning: DataFrame.interpolate with object dtype is deprecated and will raise in a future version. Call obj.infer_objects(copy=False) before interpolating instead.\n",
            "  df = df.groupby('country').apply(lambda group: group.interpolate(method='linear', limit_direction='both'))\n",
            "C:\\Users\\organ\\AppData\\Local\\Temp\\ipykernel_18720\\1778600730.py:3: FutureWarning: DataFrame.interpolate with object dtype is deprecated and will raise in a future version. Call obj.infer_objects(copy=False) before interpolating instead.\n",
            "  df = df.groupby('country').apply(lambda group: group.interpolate(method='linear', limit_direction='both'))\n",
            "C:\\Users\\organ\\AppData\\Local\\Temp\\ipykernel_18720\\1778600730.py:3: FutureWarning: DataFrame.interpolate with object dtype is deprecated and will raise in a future version. Call obj.infer_objects(copy=False) before interpolating instead.\n",
            "  df = df.groupby('country').apply(lambda group: group.interpolate(method='linear', limit_direction='both'))\n",
            "C:\\Users\\organ\\AppData\\Local\\Temp\\ipykernel_18720\\1778600730.py:3: FutureWarning: DataFrame.interpolate with object dtype is deprecated and will raise in a future version. Call obj.infer_objects(copy=False) before interpolating instead.\n",
            "  df = df.groupby('country').apply(lambda group: group.interpolate(method='linear', limit_direction='both'))\n",
            "C:\\Users\\organ\\AppData\\Local\\Temp\\ipykernel_18720\\1778600730.py:3: FutureWarning: DataFrame.interpolate with object dtype is deprecated and will raise in a future version. Call obj.infer_objects(copy=False) before interpolating instead.\n",
            "  df = df.groupby('country').apply(lambda group: group.interpolate(method='linear', limit_direction='both'))\n",
            "C:\\Users\\organ\\AppData\\Local\\Temp\\ipykernel_18720\\1778600730.py:3: FutureWarning: DataFrame.interpolate with object dtype is deprecated and will raise in a future version. Call obj.infer_objects(copy=False) before interpolating instead.\n",
            "  df = df.groupby('country').apply(lambda group: group.interpolate(method='linear', limit_direction='both'))\n",
            "C:\\Users\\organ\\AppData\\Local\\Temp\\ipykernel_18720\\1778600730.py:3: FutureWarning: DataFrame.interpolate with object dtype is deprecated and will raise in a future version. Call obj.infer_objects(copy=False) before interpolating instead.\n",
            "  df = df.groupby('country').apply(lambda group: group.interpolate(method='linear', limit_direction='both'))\n",
            "C:\\Users\\organ\\AppData\\Local\\Temp\\ipykernel_18720\\1778600730.py:3: FutureWarning: DataFrame.interpolate with object dtype is deprecated and will raise in a future version. Call obj.infer_objects(copy=False) before interpolating instead.\n",
            "  df = df.groupby('country').apply(lambda group: group.interpolate(method='linear', limit_direction='both'))\n",
            "C:\\Users\\organ\\AppData\\Local\\Temp\\ipykernel_18720\\1778600730.py:3: FutureWarning: DataFrame.interpolate with object dtype is deprecated and will raise in a future version. Call obj.infer_objects(copy=False) before interpolating instead.\n",
            "  df = df.groupby('country').apply(lambda group: group.interpolate(method='linear', limit_direction='both'))\n",
            "C:\\Users\\organ\\AppData\\Local\\Temp\\ipykernel_18720\\1778600730.py:3: FutureWarning: DataFrame.interpolate with object dtype is deprecated and will raise in a future version. Call obj.infer_objects(copy=False) before interpolating instead.\n",
            "  df = df.groupby('country').apply(lambda group: group.interpolate(method='linear', limit_direction='both'))\n",
            "C:\\Users\\organ\\AppData\\Local\\Temp\\ipykernel_18720\\1778600730.py:3: FutureWarning: DataFrame.interpolate with object dtype is deprecated and will raise in a future version. Call obj.infer_objects(copy=False) before interpolating instead.\n",
            "  df = df.groupby('country').apply(lambda group: group.interpolate(method='linear', limit_direction='both'))\n",
            "C:\\Users\\organ\\AppData\\Local\\Temp\\ipykernel_18720\\1778600730.py:3: FutureWarning: DataFrame.interpolate with object dtype is deprecated and will raise in a future version. Call obj.infer_objects(copy=False) before interpolating instead.\n",
            "  df = df.groupby('country').apply(lambda group: group.interpolate(method='linear', limit_direction='both'))\n",
            "C:\\Users\\organ\\AppData\\Local\\Temp\\ipykernel_18720\\1778600730.py:3: FutureWarning: DataFrame.interpolate with object dtype is deprecated and will raise in a future version. Call obj.infer_objects(copy=False) before interpolating instead.\n",
            "  df = df.groupby('country').apply(lambda group: group.interpolate(method='linear', limit_direction='both'))\n",
            "C:\\Users\\organ\\AppData\\Local\\Temp\\ipykernel_18720\\1778600730.py:3: FutureWarning: DataFrame.interpolate with object dtype is deprecated and will raise in a future version. Call obj.infer_objects(copy=False) before interpolating instead.\n",
            "  df = df.groupby('country').apply(lambda group: group.interpolate(method='linear', limit_direction='both'))\n",
            "C:\\Users\\organ\\AppData\\Local\\Temp\\ipykernel_18720\\1778600730.py:3: FutureWarning: DataFrame.interpolate with object dtype is deprecated and will raise in a future version. Call obj.infer_objects(copy=False) before interpolating instead.\n",
            "  df = df.groupby('country').apply(lambda group: group.interpolate(method='linear', limit_direction='both'))\n",
            "C:\\Users\\organ\\AppData\\Local\\Temp\\ipykernel_18720\\1778600730.py:3: FutureWarning: DataFrame.interpolate with object dtype is deprecated and will raise in a future version. Call obj.infer_objects(copy=False) before interpolating instead.\n",
            "  df = df.groupby('country').apply(lambda group: group.interpolate(method='linear', limit_direction='both'))\n"
          ]
        },
        {
          "name": "stdout",
          "output_type": "stream",
          "text": [
            "country                          0\n",
            "year                             0\n",
            "access_to_electricity            0\n",
            "access_to_clean_fuels            0\n",
            "renewable_capacity_per_capita    0\n",
            "renewable_energy_share           0\n",
            "fossil_electricity               0\n",
            "nuclear_electricity              0\n",
            "renewable_electricity            0\n",
            "low_carbon_electricity_pct       0\n",
            "primary_energy_per_capita        0\n",
            "energy_intensity                 0\n",
            "co2_emissions_kt                 0\n",
            "gdp_growth                       0\n",
            "gdp_per_capita                   0\n",
            "dtype: int64\n"
          ]
        }
      ],
      "source": [
        "df.interpolate(method='linear', inplace=True)\n",
        "df = df.sort_values(by=['country', 'year'])\n",
        "df = df.groupby('country').apply(lambda group: group.interpolate(method='linear', limit_direction='both'))\n",
        "null_columns = df.isnull().sum()\n",
        "print(null_columns)"
      ]
    },
    {
      "cell_type": "markdown",
      "metadata": {},
      "source": [
        "**Save the dataset as a clean csv**"
      ]
    },
    {
      "cell_type": "code",
      "execution_count": null,
      "metadata": {},
      "outputs": [
        {
          "name": "stdout",
          "output_type": "stream",
          "text": [
            "Processed data saved to: Data/Processed/global-data-on-sustainable-energy-processed.csv\n"
          ]
        }
      ],
      "source": [
        "processed_path = \"Data/Processed/global-data-on-sustainable-energy-processed.csv\"\n",
        "df.to_csv(processed_path, index=False)\n",
        "print(\"Processed data saved to:\", processed_path)"
      ]
    },
    {
      "cell_type": "code",
      "execution_count": null,
      "metadata": {},
      "outputs": [
        {
          "name": "stdout",
          "output_type": "stream",
          "text": [
            "Processed data loaded successfully.\n"
          ]
        },
        {
          "data": {
            "text/html": [
              "<div>\n",
              "<style scoped>\n",
              "    .dataframe tbody tr th:only-of-type {\n",
              "        vertical-align: middle;\n",
              "    }\n",
              "\n",
              "    .dataframe tbody tr th {\n",
              "        vertical-align: top;\n",
              "    }\n",
              "\n",
              "    .dataframe thead th {\n",
              "        text-align: right;\n",
              "    }\n",
              "</style>\n",
              "<table border=\"1\" class=\"dataframe\">\n",
              "  <thead>\n",
              "    <tr style=\"text-align: right;\">\n",
              "      <th></th>\n",
              "      <th>country</th>\n",
              "      <th>year</th>\n",
              "      <th>access_to_electricity</th>\n",
              "      <th>access_to_clean_fuels</th>\n",
              "      <th>renewable_capacity_per_capita</th>\n",
              "      <th>renewable_energy_share</th>\n",
              "      <th>fossil_electricity</th>\n",
              "      <th>nuclear_electricity</th>\n",
              "      <th>renewable_electricity</th>\n",
              "      <th>low_carbon_electricity_pct</th>\n",
              "      <th>primary_energy_per_capita</th>\n",
              "      <th>energy_intensity</th>\n",
              "      <th>co2_emissions_kt</th>\n",
              "      <th>gdp_growth</th>\n",
              "      <th>gdp_per_capita</th>\n",
              "    </tr>\n",
              "  </thead>\n",
              "  <tbody>\n",
              "    <tr>\n",
              "      <th>0</th>\n",
              "      <td>Afghanistan</td>\n",
              "      <td>2000</td>\n",
              "      <td>1.613591</td>\n",
              "      <td>6.2</td>\n",
              "      <td>9.22</td>\n",
              "      <td>44.99</td>\n",
              "      <td>0.16</td>\n",
              "      <td>0.0</td>\n",
              "      <td>0.31</td>\n",
              "      <td>65.957440</td>\n",
              "      <td>302.59482</td>\n",
              "      <td>1.64</td>\n",
              "      <td>760.000000</td>\n",
              "      <td>8.832278</td>\n",
              "      <td>179.426579</td>\n",
              "    </tr>\n",
              "    <tr>\n",
              "      <th>1</th>\n",
              "      <td>Afghanistan</td>\n",
              "      <td>2001</td>\n",
              "      <td>4.074574</td>\n",
              "      <td>7.2</td>\n",
              "      <td>8.86</td>\n",
              "      <td>45.60</td>\n",
              "      <td>0.09</td>\n",
              "      <td>0.0</td>\n",
              "      <td>0.50</td>\n",
              "      <td>84.745766</td>\n",
              "      <td>236.89185</td>\n",
              "      <td>1.74</td>\n",
              "      <td>730.000000</td>\n",
              "      <td>8.832278</td>\n",
              "      <td>179.426579</td>\n",
              "    </tr>\n",
              "    <tr>\n",
              "      <th>2</th>\n",
              "      <td>Afghanistan</td>\n",
              "      <td>2002</td>\n",
              "      <td>9.409158</td>\n",
              "      <td>8.2</td>\n",
              "      <td>8.47</td>\n",
              "      <td>37.83</td>\n",
              "      <td>0.13</td>\n",
              "      <td>0.0</td>\n",
              "      <td>0.56</td>\n",
              "      <td>81.159424</td>\n",
              "      <td>210.86215</td>\n",
              "      <td>1.40</td>\n",
              "      <td>1029.999971</td>\n",
              "      <td>8.832278</td>\n",
              "      <td>179.426579</td>\n",
              "    </tr>\n",
              "    <tr>\n",
              "      <th>3</th>\n",
              "      <td>Afghanistan</td>\n",
              "      <td>2003</td>\n",
              "      <td>14.738506</td>\n",
              "      <td>9.5</td>\n",
              "      <td>8.09</td>\n",
              "      <td>36.66</td>\n",
              "      <td>0.31</td>\n",
              "      <td>0.0</td>\n",
              "      <td>0.63</td>\n",
              "      <td>67.021280</td>\n",
              "      <td>229.96822</td>\n",
              "      <td>1.40</td>\n",
              "      <td>1220.000029</td>\n",
              "      <td>8.832278</td>\n",
              "      <td>190.683814</td>\n",
              "    </tr>\n",
              "    <tr>\n",
              "      <th>4</th>\n",
              "      <td>Afghanistan</td>\n",
              "      <td>2004</td>\n",
              "      <td>20.064968</td>\n",
              "      <td>10.9</td>\n",
              "      <td>7.75</td>\n",
              "      <td>44.24</td>\n",
              "      <td>0.33</td>\n",
              "      <td>0.0</td>\n",
              "      <td>0.56</td>\n",
              "      <td>62.921350</td>\n",
              "      <td>204.23125</td>\n",
              "      <td>1.20</td>\n",
              "      <td>1029.999971</td>\n",
              "      <td>1.414118</td>\n",
              "      <td>211.382074</td>\n",
              "    </tr>\n",
              "  </tbody>\n",
              "</table>\n",
              "</div>"
            ],
            "text/plain": [
              "       country  year  access_to_electricity  access_to_clean_fuels  \\\n",
              "0  Afghanistan  2000               1.613591                    6.2   \n",
              "1  Afghanistan  2001               4.074574                    7.2   \n",
              "2  Afghanistan  2002               9.409158                    8.2   \n",
              "3  Afghanistan  2003              14.738506                    9.5   \n",
              "4  Afghanistan  2004              20.064968                   10.9   \n",
              "\n",
              "   renewable_capacity_per_capita  renewable_energy_share  fossil_electricity  \\\n",
              "0                           9.22                   44.99                0.16   \n",
              "1                           8.86                   45.60                0.09   \n",
              "2                           8.47                   37.83                0.13   \n",
              "3                           8.09                   36.66                0.31   \n",
              "4                           7.75                   44.24                0.33   \n",
              "\n",
              "   nuclear_electricity  renewable_electricity  low_carbon_electricity_pct  \\\n",
              "0                  0.0                   0.31                   65.957440   \n",
              "1                  0.0                   0.50                   84.745766   \n",
              "2                  0.0                   0.56                   81.159424   \n",
              "3                  0.0                   0.63                   67.021280   \n",
              "4                  0.0                   0.56                   62.921350   \n",
              "\n",
              "   primary_energy_per_capita  energy_intensity  co2_emissions_kt  gdp_growth  \\\n",
              "0                  302.59482              1.64        760.000000    8.832278   \n",
              "1                  236.89185              1.74        730.000000    8.832278   \n",
              "2                  210.86215              1.40       1029.999971    8.832278   \n",
              "3                  229.96822              1.40       1220.000029    8.832278   \n",
              "4                  204.23125              1.20       1029.999971    1.414118   \n",
              "\n",
              "   gdp_per_capita  \n",
              "0      179.426579  \n",
              "1      179.426579  \n",
              "2      179.426579  \n",
              "3      190.683814  \n",
              "4      211.382074  "
            ]
          },
          "execution_count": 13,
          "metadata": {},
          "output_type": "execute_result"
        }
      ],
      "source": [
        "processed_df = pd.read_csv(processed_path)\n",
        "print(\"Processed data loaded successfully.\")\n",
        "processed_df.head()"
      ]
    },
    {
      "cell_type": "markdown",
      "metadata": {
        "id": "-mavJ8DibrcQ"
      },
      "source": [
        "### EDA\n",
        "\n",
        "Exploratory Data Analysis\n",
        "We explore trends, outliers and potential correlations across the dataset.\n",
        "\n",
        "I aim to:\n",
        "- Understand global trends in electricity access and energy development.\n",
        "- Identify countries with the lowest access.\n",
        "- Evaluate how indicators correlate (GDP per capita, clean fuels etc)\n",
        "- Build the foundation for hypothesis testing and modeling."
      ]
    },
    {
      "cell_type": "markdown",
      "metadata": {},
      "source": [
        "Visual check"
      ]
    },
    {
      "cell_type": "code",
      "execution_count": null,
      "metadata": {},
      "outputs": [
        {
          "name": "stdout",
          "output_type": "stream",
          "text": [
            "<class 'pandas.core.frame.DataFrame'>\n",
            "RangeIndex: 3649 entries, 0 to 3648\n",
            "Data columns (total 15 columns):\n",
            " #   Column                         Non-Null Count  Dtype  \n",
            "---  ------                         --------------  -----  \n",
            " 0   country                        3649 non-null   object \n",
            " 1   year                           3649 non-null   int64  \n",
            " 2   access_to_electricity          3649 non-null   float64\n",
            " 3   access_to_clean_fuels          3649 non-null   float64\n",
            " 4   renewable_capacity_per_capita  3649 non-null   float64\n",
            " 5   renewable_energy_share         3649 non-null   float64\n",
            " 6   fossil_electricity             3649 non-null   float64\n",
            " 7   nuclear_electricity            3649 non-null   float64\n",
            " 8   renewable_electricity          3649 non-null   float64\n",
            " 9   low_carbon_electricity_pct     3649 non-null   float64\n",
            " 10  primary_energy_per_capita      3649 non-null   float64\n",
            " 11  energy_intensity               3649 non-null   float64\n",
            " 12  co2_emissions_kt               3649 non-null   float64\n",
            " 13  gdp_growth                     3649 non-null   float64\n",
            " 14  gdp_per_capita                 3649 non-null   float64\n",
            "dtypes: float64(13), int64(1), object(1)\n",
            "memory usage: 427.7+ KB\n"
          ]
        }
      ],
      "source": [
        "processed_df.info()\n"
      ]
    },
    {
      "cell_type": "markdown",
      "metadata": {},
      "source": [
        "Basic statistics"
      ]
    },
    {
      "cell_type": "code",
      "execution_count": null,
      "metadata": {},
      "outputs": [],
      "source": [
        "processed_df.describe().T\n",
        "df = processed_df.copy() # Creating a copy of the processed DataFrame for further analysis"
      ]
    },
    {
      "cell_type": "markdown",
      "metadata": {},
      "source": [
        "### 1. Global Trend in Access to Electricity"
      ]
    },
    {
      "cell_type": "markdown",
      "metadata": {},
      "source": [
        "This plot shows the average global access to electricity from 2000 to 2020. The trend is upward, which reflects the overall global effort toward achieving SDG 7 targets.\n"
      ]
    },
    {
      "cell_type": "code",
      "execution_count": null,
      "metadata": {},
      "outputs": [
        {
          "data": {
            "image/png": "[encoded data removed]",
            "text/plain": [
              "<Figure size 640x480 with 1 Axes>"
            ]
          },
          "metadata": {},
          "output_type": "display_data"
        }
      ],
      "source": [
        "global_access = processed_df.groupby('year')['access_to_electricity'].mean().reset_index()\n",
        "\n",
        "plt.plot(global_access['year'], global_access['access_to_electricity'], marker='o')\n",
        "plt.title('Global Access to Electricity Over Time')\n",
        "plt.xlabel('Year')\n",
        "plt.ylabel('Access to Electricity (% of Population)')\n",
        "plt.grid()\n",
        "plt.show()"
      ]
    },
    {
      "cell_type": "markdown",
      "metadata": {},
      "source": [
        "We can observe a steady global improvement, from approximately 73% in 2000 to over 85% by 2020. However, this global average may hide severe disparities among regions and countries.\n"
      ]
    },
    {
      "cell_type": "markdown",
      "metadata": {},
      "source": [
        "### 2. Countries with the Lowest Electricity Access in 2020\n",
        "\n",
        "This horizontal bar chart displays the bottom 10 countries in terms of electricity access percentage. All values are below 30%, highlighting critical energy poverty.\n"
      ]
    },
    {
      "cell_type": "code",
      "execution_count": null,
      "metadata": {},
      "outputs": [
        {
          "name": "stderr",
          "output_type": "stream",
          "text": [
            "C:\\Users\\organ\\AppData\\Local\\Temp\\ipykernel_18720\\3216834047.py:4: FutureWarning: \n",
            "\n",
            "Passing `palette` without assigning `hue` is deprecated and will be removed in v0.14.0. Assign the `y` variable to `hue` and set `legend=False` for the same effect.\n",
            "\n",
            "  sns.barplot(data=bottom_10_countries, x='access_to_electricity', y='country', palette='viridis')\n"
          ]
        },
        {
          "data": {
            "image/png": "[encoded data removed]",
            "text/plain": [
              "<Figure size 640x480 with 1 Axes>"
            ]
          },
          "metadata": {},
          "output_type": "display_data"
        }
      ],
      "source": [
        "latest_year = processed_df['year'].max()\n",
        "bottom_10_countries = processed_df[processed_df['year'] == latest_year].nsmallest(10, 'access_to_electricity')\n",
        "\n",
        "sns.barplot(data=bottom_10_countries, x='access_to_electricity', y='country', palette='viridis')\n",
        "plt.title(f'Bottom 10 Countries by Access to Electricity in {latest_year}')\n",
        "plt.xlabel('Access to Electricity (% of Population)')\n",
        "plt.ylabel('Country')\n",
        "plt.show()"
      ]
    },
    {
      "cell_type": "markdown",
      "metadata": {},
      "source": [
        "South Sudan, Chad, and Burundi have the lowest access rates, many below 10%. These countries are in Sub-Saharan Africa, where infrastructure and political instability are major limiting factors.\n"
      ]
    },
    {
      "cell_type": "markdown",
      "metadata": {},
      "source": [
        "### 3. Correlation Between Key Energy and Development Indicators\n",
        "\n",
        "This correlation matrix helps us understand the relationships between electricity access, clean fuels, renewables, energy intensity, emissions, and GDP per capita."
      ]
    },
    {
      "cell_type": "code",
      "execution_count": null,
      "metadata": {},
      "outputs": [
        {
          "data": {
            "image/png": "[encoded data removed]",
            "text/plain": [
              "<Figure size 640x480 with 2 Axes>"
            ]
          },
          "metadata": {},
          "output_type": "display_data"
        }
      ],
      "source": [
        "correlation_cols = ['access_to_electricity', 'access_to_clean_fuels', 'renewable_capacity_per_capita',\n",
        "                    'renewable_energy_share', 'fossil_electricity', 'nuclear_electricity',\n",
        "                    'energy_intensity', 'co2_emissions_kt', 'gdp_per_capita']\n",
        "\n",
        "correlation_matrix = processed_df[correlation_cols].corr()\n",
        "sns.heatmap(correlation_matrix, annot=True, fmt='.2f', cmap='coolwarm', square=True)\n",
        "plt.title('Correlation Matrix of Key Variables')\n",
        "plt.show()"
      ]
    },
    {
      "cell_type": "markdown",
      "metadata": {},
      "source": [
        "There is a strong positive correlation between access to electricity and clean fuels (0.84), as expected. Interestingly, renewable energy share has a strong **negative correlation** with access indicators, which may suggest that countries with high renewables still struggle with universal access — potentially due to underdeveloped grids. GDP per capita shows a moderate positive correlation with electricity access (0.41).\n"
      ]
    },
    {
      "cell_type": "markdown",
      "metadata": {
        "id": "ZY3l0-AxO93d"
      },
      "source": [
        "---"
      ]
    },
    {
      "cell_type": "markdown",
      "metadata": {},
      "source": [
        "### 4. Choropleth Map: Access to Electricity by Country (2020)\n",
        "\n",
        "This interactive choropleth map displays global disparities in access to electricity. Each country is shaded according to the percentage of its population with access to electricity in the year 2020.\n",
        "\n",
        "The map helps identify geographic patterns of energy inequality. Sub-Saharan Africa shows notably lower access levels, while most developed regions are above 95%.\n"
      ]
    },
    {
      "cell_type": "code",
      "execution_count": 31,
      "metadata": {},
      "outputs": [
        {
          "data": {
            "application/vnd.plotly.v1+json": {
              "config": {
                "plotlyServerURL": "https://plot.ly"
              },
              "data": [
                {
                  "coloraxis": "coloraxis",
                  "geo": "geo",
                  "hovertemplate": "<b>%{hovertext}</b><br><br>country=%{location}<br>% Electricity Access=%{z}<extra></extra>",
                  "hovertext": [
                    "Afghanistan",
                    "Albania",
                    "Algeria",
                    "Angola",
                    "Antigua and Barbuda",
                    "Argentina",
                    "Armenia",
                    "Aruba",
                    "Australia",
                    "Austria",
                    "Azerbaijan",
                    "Bahamas",
                    "Bahrain",
                    "Bangladesh",
                    "Barbados",
                    "Belarus",
                    "Belgium",
                    "Belize",
                    "Benin",
                    "Bermuda",
                    "Bhutan",
                    "Bosnia and Herzegovina",
                    "Botswana",
                    "Brazil",
                    "Bulgaria",
                    "Burkina Faso",
                    "Burundi",
                    "Cambodia",
                    "Cameroon",
                    "Canada",
                    "Cayman Islands",
                    "Central African Republic",
                    "Chad",
                    "Chile",
                    "China",
                    "Colombia",
                    "Comoros",
                    "Congo",
                    "Costa Rica",
                    "Croatia",
                    "Cuba",
                    "Cyprus",
                    "Czechia",
                    "Denmark",
                    "Djibouti",
                    "Dominica",
                    "Dominican Republic",
                    "Ecuador",
                    "Egypt",
                    "El Salvador",
                    "Equatorial Guinea",
                    "Eritrea",
                    "Estonia",
                    "Eswatini",
                    "Ethiopia",
                    "Fiji",
                    "Finland",
                    "France",
                    "French Guiana",
                    "Gabon",
                    "Gambia",
                    "Georgia",
                    "Germany",
                    "Ghana",
                    "Greece",
                    "Grenada",
                    "Guatemala",
                    "Guinea",
                    "Guinea-Bissau",
                    "Guyana",
                    "Haiti",
                    "Honduras",
                    "Hungary",
                    "Iceland",
                    "India",
                    "Indonesia",
                    "Iraq",
                    "Ireland",
                    "Israel",
                    "Italy",
                    "Jamaica",
                    "Japan",
                    "Jordan",
                    "Kazakhstan",
                    "Kenya",
                    "Kiribati",
                    "Kuwait",
                    "Kyrgyzstan",
                    "Latvia",
                    "Lebanon",
                    "Lesotho",
                    "Liberia",
                    "Libya",
                    "Lithuania",
                    "Luxembourg",
                    "Madagascar",
                    "Malawi",
                    "Malaysia",
                    "Maldives",
                    "Mali",
                    "Malta",
                    "Mauritania",
                    "Mauritius",
                    "Mexico",
                    "Mongolia",
                    "Morocco",
                    "Mozambique",
                    "Myanmar",
                    "Namibia",
                    "Nauru",
                    "Nepal",
                    "Netherlands",
                    "New Caledonia",
                    "New Zealand",
                    "Nicaragua",
                    "Niger",
                    "Nigeria",
                    "North Macedonia",
                    "Norway",
                    "Oman",
                    "Pakistan",
                    "Panama",
                    "Papua New Guinea",
                    "Paraguay",
                    "Peru",
                    "Philippines",
                    "Poland",
                    "Portugal",
                    "Puerto Rico",
                    "Qatar",
                    "Romania",
                    "Rwanda",
                    "Saint Kitts and Nevis",
                    "Saint Lucia",
                    "Saint Vincent and the Grenadines",
                    "Samoa",
                    "Sao Tome and Principe",
                    "Saudi Arabia",
                    "Senegal",
                    "Seychelles",
                    "Sierra Leone",
                    "Singapore",
                    "Slovakia",
                    "Slovenia",
                    "Solomon Islands",
                    "Somalia",
                    "South Africa",
                    "Spain",
                    "Sri Lanka",
                    "Sudan",
                    "Suriname",
                    "Sweden",
                    "Switzerland",
                    "Tajikistan",
                    "Thailand",
                    "Togo",
                    "Tonga",
                    "Trinidad and Tobago",
                    "Tunisia",
                    "Turkey",
                    "Turkmenistan",
                    "Tuvalu",
                    "Uganda",
                    "Ukraine",
                    "United Arab Emirates",
                    "United Kingdom",
                    "United States",
                    "Uruguay",
                    "Uzbekistan",
                    "Vanuatu",
                    "Yemen",
                    "Zambia",
                    "Zimbabwe"
                  ],
                  "locationmode": "country names",
                  "locations": [
                    "Afghanistan",
                    "Albania",
                    "Algeria",
                    "Angola",
                    "Antigua and Barbuda",
                    "Argentina",
                    "Armenia",
                    "Aruba",
                    "Australia",
                    "Austria",
                    "Azerbaijan",
                    "Bahamas",
                    "Bahrain",
                    "Bangladesh",
                    "Barbados",
                    "Belarus",
                    "Belgium",
                    "Belize",
                    "Benin",
                    "Bermuda",
                    "Bhutan",
                    "Bosnia and Herzegovina",
                    "Botswana",
                    "Brazil",
                    "Bulgaria",
                    "Burkina Faso",
                    "Burundi",
                    "Cambodia",
                    "Cameroon",
                    "Canada",
                    "Cayman Islands",
                    "Central African Republic",
                    "Chad",
                    "Chile",
                    "China",
                    "Colombia",
                    "Comoros",
                    "Congo",
                    "Costa Rica",
                    "Croatia",
                    "Cuba",
                    "Cyprus",
                    "Czechia",
                    "Denmark",
                    "Djibouti",
                    "Dominica",
                    "Dominican Republic",
                    "Ecuador",
                    "Egypt",
                    "El Salvador",
                    "Equatorial Guinea",
                    "Eritrea",
                    "Estonia",
                    "Eswatini",
                    "Ethiopia",
                    "Fiji",
                    "Finland",
                    "France",
                    "French Guiana",
                    "Gabon",
                    "Gambia",
                    "Georgia",
                    "Germany",
                    "Ghana",
                    "Greece",
                    "Grenada",
                    "Guatemala",
                    "Guinea",
                    "Guinea-Bissau",
                    "Guyana",
                    "Haiti",
                    "Honduras",
                    "Hungary",
                    "Iceland",
                    "India",
                    "Indonesia",
                    "Iraq",
                    "Ireland",
                    "Israel",
                    "Italy",
                    "Jamaica",
                    "Japan",
                    "Jordan",
                    "Kazakhstan",
                    "Kenya",
                    "Kiribati",
                    "Kuwait",
                    "Kyrgyzstan",
                    "Latvia",
                    "Lebanon",
                    "Lesotho",
                    "Liberia",
                    "Libya",
                    "Lithuania",
                    "Luxembourg",
                    "Madagascar",
                    "Malawi",
                    "Malaysia",
                    "Maldives",
                    "Mali",
                    "Malta",
                    "Mauritania",
                    "Mauritius",
                    "Mexico",
                    "Mongolia",
                    "Morocco",
                    "Mozambique",
                    "Myanmar",
                    "Namibia",
                    "Nauru",
                    "Nepal",
                    "Netherlands",
                    "New Caledonia",
                    "New Zealand",
                    "Nicaragua",
                    "Niger",
                    "Nigeria",
                    "North Macedonia",
                    "Norway",
                    "Oman",
                    "Pakistan",
                    "Panama",
                    "Papua New Guinea",
                    "Paraguay",
                    "Peru",
                    "Philippines",
                    "Poland",
                    "Portugal",
                    "Puerto Rico",
                    "Qatar",
                    "Romania",
                    "Rwanda",
                    "Saint Kitts and Nevis",
                    "Saint Lucia",
                    "Saint Vincent and the Grenadines",
                    "Samoa",
                    "Sao Tome and Principe",
                    "Saudi Arabia",
                    "Senegal",
                    "Seychelles",
                    "Sierra Leone",
                    "Singapore",
                    "Slovakia",
                    "Slovenia",
                    "Solomon Islands",
                    "Somalia",
                    "South Africa",
                    "Spain",
                    "Sri Lanka",
                    "Sudan",
                    "Suriname",
                    "Sweden",
                    "Switzerland",
                    "Tajikistan",
                    "Thailand",
                    "Togo",
                    "Tonga",
                    "Trinidad and Tobago",
                    "Tunisia",
                    "Turkey",
                    "Turkmenistan",
                    "Tuvalu",
                    "Uganda",
                    "Ukraine",
                    "United Arab Emirates",
                    "United Kingdom",
                    "United States",
                    "Uruguay",
                    "Uzbekistan",
                    "Vanuatu",
                    "Yemen",
                    "Zambia",
                    "Zimbabwe"
                  ],
                  "name": "",
                  "type": "choropleth",
                  "z": [
                    1.613591,
                    100,
                    98.9731,
                    24.212744,
                    97.68926,
                    95.78329,
                    98.9,
                    91.6604,
                    100,
                    100,
                    98.908226,
                    100,
                    100,
                    32,
                    100,
                    100,
                    100,
                    79,
                    21.531084,
                    100,
                    31.15,
                    100,
                    26.40898,
                    94.391716,
                    100,
                    9.07502,
                    2.4632368,
                    16.6,
                    41,
                    100,
                    100,
                    6,
                    3.1798813,
                    97.93869,
                    97.0218,
                    95.2,
                    39.715355,
                    29.090015,
                    96.94,
                    100,
                    97,
                    100,
                    100,
                    100,
                    56.37995,
                    80.95181,
                    88.76493,
                    93.73226,
                    97.7,
                    84.51925,
                    65.55956,
                    29.25451,
                    100,
                    20.195763,
                    12.7,
                    75.72492,
                    100,
                    100,
                    86.8,
                    73.6,
                    34.3,
                    99.81181,
                    100,
                    43.7,
                    100,
                    86.04223,
                    73.31821,
                    15.146257,
                    30.197021900000003,
                    74.51728,
                    33.7,
                    67.383354,
                    100,
                    100,
                    58.721474,
                    86.3,
                    96.92168,
                    100,
                    100,
                    100,
                    84.394135,
                    100,
                    98.93427,
                    99.50956,
                    15.131171,
                    55.124897,
                    100,
                    99.610245,
                    100,
                    99.35159,
                    4.25876,
                    41.808644875,
                    99.8,
                    100,
                    100,
                    12.72419,
                    4.8,
                    99.10397,
                    83.8,
                    9.5932,
                    100,
                    18.746132,
                    99,
                    98.00713,
                    67.3,
                    69.56738,
                    6.096311,
                    41.83379,
                    36.5,
                    99.43709,
                    29.046267,
                    100,
                    100,
                    100,
                    72.78157,
                    6.4814816,
                    43.12146,
                    100,
                    100,
                    100,
                    70.3106,
                    81.40141,
                    7.577014,
                    89.42114,
                    72.4965,
                    74.66169,
                    100,
                    100,
                    100,
                    100,
                    100,
                    6.2,
                    95.28154,
                    89.387436,
                    79.881775,
                    87.85783,
                    52.9,
                    100,
                    37.74,
                    94.08934,
                    7.7881427,
                    100,
                    100,
                    100,
                    4.5170293,
                    1.8925012,
                    72.28246,
                    100,
                    70.2628,
                    23,
                    95.49438,
                    100,
                    100,
                    98.46774,
                    82.1,
                    16.956234,
                    85.57863,
                    91.29,
                    94.8,
                    100,
                    99.6,
                    94.63068,
                    7.3511305,
                    100,
                    100,
                    100,
                    100,
                    97.676865,
                    99.59327,
                    22.14308,
                    49.187256,
                    16.7,
                    33.65489
                  ]
                }
              ],
              "layout": {
                "coloraxis": {
                  "colorbar": {
                    "title": {
                      "text": "% Electricity Access"
                    }
                  },
                  "colorscale": [
                    [
                      0,
                      "rgb(255,255,217)"
                    ],
                    [
                      0.125,
                      "rgb(237,248,177)"
                    ],
                    [
                      0.25,
                      "rgb(199,233,180)"
                    ],
                    [
                      0.375,
                      "rgb(127,205,187)"
                    ],
                    [
                      0.5,
                      "rgb(65,182,196)"
                    ],
                    [
                      0.625,
                      "rgb(29,145,192)"
                    ],
                    [
                      0.75,
                      "rgb(34,94,168)"
                    ],
                    [
                      0.875,
                      "rgb(37,52,148)"
                    ],
                    [
                      1,
                      "rgb(8,29,88)"
                    ]
                  ]
                },
                "geo": {
                  "center": {},
                  "domain": {
                    "x": [
                      0,
                      1
                    ],
                    "y": [
                      0,
                      1
                    ]
                  }
                },
                "legend": {
                  "tracegroupgap": 0
                },
                "template": {
                  "data": {
                    "bar": [
                      {
                        "error_x": {
                          "color": "#2a3f5f"
                        },
                        "error_y": {
                          "color": "#2a3f5f"
                        },
                        "marker": {
                          "line": {
                            "color": "#E5ECF6",
                            "width": 0.5
                          },
                          "pattern": {
                            "fillmode": "overlay",
                            "size": 10,
                            "solidity": 0.2
                          }
                        },
                        "type": "bar"
                      }
                    ],
                    "barpolar": [
                      {
                        "marker": {
                          "line": {
                            "color": "#E5ECF6",
                            "width": 0.5
                          },
                          "pattern": {
                            "fillmode": "overlay",
                            "size": 10,
                            "solidity": 0.2
                          }
                        },
                        "type": "barpolar"
                      }
                    ],
                    "carpet": [
                      {
                        "aaxis": {
                          "endlinecolor": "#2a3f5f",
                          "gridcolor": "white",
                          "linecolor": "white",
                          "minorgridcolor": "white",
                          "startlinecolor": "#2a3f5f"
                        },
                        "baxis": {
                          "endlinecolor": "#2a3f5f",
                          "gridcolor": "white",
                          "linecolor": "white",
                          "minorgridcolor": "white",
                          "startlinecolor": "#2a3f5f"
                        },
                        "type": "carpet"
                      }
                    ],
                    "choropleth": [
                      {
                        "colorbar": {
                          "outlinewidth": 0,
                          "ticks": ""
                        },
                        "type": "choropleth"
                      }
                    ],
                    "contour": [
                      {
                        "colorbar": {
                          "outlinewidth": 0,
                          "ticks": ""
                        },
                        "colorscale": [
                          [
                            0,
                            "#0d0887"
                          ],
                          [
                            0.1111111111111111,
                            "#46039f"
                          ],
                          [
                            0.2222222222222222,
                            "#7201a8"
                          ],
                          [
                            0.3333333333333333,
                            "#9c179e"
                          ],
                          [
                            0.4444444444444444,
                            "#bd3786"
                          ],
                          [
                            0.5555555555555556,
                            "#d8576b"
                          ],
                          [
                            0.6666666666666666,
                            "#ed7953"
                          ],
                          [
                            0.7777777777777778,
                            "#fb9f3a"
                          ],
                          [
                            0.8888888888888888,
                            "#fdca26"
                          ],
                          [
                            1,
                            "#f0f921"
                          ]
                        ],
                        "type": "contour"
                      }
                    ],
                    "contourcarpet": [
                      {
                        "colorbar": {
                          "outlinewidth": 0,
                          "ticks": ""
                        },
                        "type": "contourcarpet"
                      }
                    ],
                    "heatmap": [
                      {
                        "colorbar": {
                          "outlinewidth": 0,
                          "ticks": ""
                        },
                        "colorscale": [
                          [
                            0,
                            "#0d0887"
                          ],
                          [
                            0.1111111111111111,
                            "#46039f"
                          ],
                          [
                            0.2222222222222222,
                            "#7201a8"
                          ],
                          [
                            0.3333333333333333,
                            "#9c179e"
                          ],
                          [
                            0.4444444444444444,
                            "#bd3786"
                          ],
                          [
                            0.5555555555555556,
                            "#d8576b"
                          ],
                          [
                            0.6666666666666666,
                            "#ed7953"
                          ],
                          [
                            0.7777777777777778,
                            "#fb9f3a"
                          ],
                          [
                            0.8888888888888888,
                            "#fdca26"
                          ],
                          [
                            1,
                            "#f0f921"
                          ]
                        ],
                        "type": "heatmap"
                      }
                    ],
                    "heatmapgl": [
                      {
                        "colorbar": {
                          "outlinewidth": 0,
                          "ticks": ""
                        },
                        "colorscale": [
                          [
                            0,
                            "#0d0887"
                          ],
                          [
                            0.1111111111111111,
                            "#46039f"
                          ],
                          [
                            0.2222222222222222,
                            "#7201a8"
                          ],
                          [
                            0.3333333333333333,
                            "#9c179e"
                          ],
                          [
                            0.4444444444444444,
                            "#bd3786"
                          ],
                          [
                            0.5555555555555556,
                            "#d8576b"
                          ],
                          [
                            0.6666666666666666,
                            "#ed7953"
                          ],
                          [
                            0.7777777777777778,
                            "#fb9f3a"
                          ],
                          [
                            0.8888888888888888,
                            "#fdca26"
                          ],
                          [
                            1,
                            "#f0f921"
                          ]
                        ],
                        "type": "heatmapgl"
                      }
                    ],
                    "histogram": [
                      {
                        "marker": {
                          "pattern": {
                            "fillmode": "overlay",
                            "size": 10,
                            "solidity": 0.2
                          }
                        },
                        "type": "histogram"
                      }
                    ],
                    "histogram2d": [
                      {
                        "colorbar": {
                          "outlinewidth": 0,
                          "ticks": ""
                        },
                        "colorscale": [
                          [
                            0,
                            "#0d0887"
                          ],
                          [
                            0.1111111111111111,
                            "#46039f"
                          ],
                          [
                            0.2222222222222222,
                            "#7201a8"
                          ],
                          [
                            0.3333333333333333,
                            "#9c179e"
                          ],
                          [
                            0.4444444444444444,
                            "#bd3786"
                          ],
                          [
                            0.5555555555555556,
                            "#d8576b"
                          ],
                          [
                            0.6666666666666666,
                            "#ed7953"
                          ],
                          [
                            0.7777777777777778,
                            "#fb9f3a"
                          ],
                          [
                            0.8888888888888888,
                            "#fdca26"
                          ],
                          [
                            1,
                            "#f0f921"
                          ]
                        ],
                        "type": "histogram2d"
                      }
                    ],
                    "histogram2dcontour": [
                      {
                        "colorbar": {
                          "outlinewidth": 0,
                          "ticks": ""
                        },
                        "colorscale": [
                          [
                            0,
                            "#0d0887"
                          ],
                          [
                            0.1111111111111111,
                            "#46039f"
                          ],
                          [
                            0.2222222222222222,
                            "#7201a8"
                          ],
                          [
                            0.3333333333333333,
                            "#9c179e"
                          ],
                          [
                            0.4444444444444444,
                            "#bd3786"
                          ],
                          [
                            0.5555555555555556,
                            "#d8576b"
                          ],
                          [
                            0.6666666666666666,
                            "#ed7953"
                          ],
                          [
                            0.7777777777777778,
                            "#fb9f3a"
                          ],
                          [
                            0.8888888888888888,
                            "#fdca26"
                          ],
                          [
                            1,
                            "#f0f921"
                          ]
                        ],
                        "type": "histogram2dcontour"
                      }
                    ],
                    "mesh3d": [
                      {
                        "colorbar": {
                          "outlinewidth": 0,
                          "ticks": ""
                        },
                        "type": "mesh3d"
                      }
                    ],
                    "parcoords": [
                      {
                        "line": {
                          "colorbar": {
                            "outlinewidth": 0,
                            "ticks": ""
                          }
                        },
                        "type": "parcoords"
                      }
                    ],
                    "pie": [
                      {
                        "automargin": true,
                        "type": "pie"
                      }
                    ],
                    "scatter": [
                      {
                        "fillpattern": {
                          "fillmode": "overlay",
                          "size": 10,
                          "solidity": 0.2
                        },
                        "type": "scatter"
                      }
                    ],
                    "scatter3d": [
                      {
                        "line": {
                          "colorbar": {
                            "outlinewidth": 0,
                            "ticks": ""
                          }
                        },
                        "marker": {
                          "colorbar": {
                            "outlinewidth": 0,
                            "ticks": ""
                          }
                        },
                        "type": "scatter3d"
                      }
                    ],
                    "scattercarpet": [
                      {
                        "marker": {
                          "colorbar": {
                            "outlinewidth": 0,
                            "ticks": ""
                          }
                        },
                        "type": "scattercarpet"
                      }
                    ],
                    "scattergeo": [
                      {
                        "marker": {
                          "colorbar": {
                            "outlinewidth": 0,
                            "ticks": ""
                          }
                        },
                        "type": "scattergeo"
                      }
                    ],
                    "scattergl": [
                      {
                        "marker": {
                          "colorbar": {
                            "outlinewidth": 0,
                            "ticks": ""
                          }
                        },
                        "type": "scattergl"
                      }
                    ],
                    "scattermapbox": [
                      {
                        "marker": {
                          "colorbar": {
                            "outlinewidth": 0,
                            "ticks": ""
                          }
                        },
                        "type": "scattermapbox"
                      }
                    ],
                    "scatterpolar": [
                      {
                        "marker": {
                          "colorbar": {
                            "outlinewidth": 0,
                            "ticks": ""
                          }
                        },
                        "type": "scatterpolar"
                      }
                    ],
                    "scatterpolargl": [
                      {
                        "marker": {
                          "colorbar": {
                            "outlinewidth": 0,
                            "ticks": ""
                          }
                        },
                        "type": "scatterpolargl"
                      }
                    ],
                    "scatterternary": [
                      {
                        "marker": {
                          "colorbar": {
                            "outlinewidth": 0,
                            "ticks": ""
                          }
                        },
                        "type": "scatterternary"
                      }
                    ],
                    "surface": [
                      {
                        "colorbar": {
                          "outlinewidth": 0,
                          "ticks": ""
                        },
                        "colorscale": [
                          [
                            0,
                            "#0d0887"
                          ],
                          [
                            0.1111111111111111,
                            "#46039f"
                          ],
                          [
                            0.2222222222222222,
                            "#7201a8"
                          ],
                          [
                            0.3333333333333333,
                            "#9c179e"
                          ],
                          [
                            0.4444444444444444,
                            "#bd3786"
                          ],
                          [
                            0.5555555555555556,
                            "#d8576b"
                          ],
                          [
                            0.6666666666666666,
                            "#ed7953"
                          ],
                          [
                            0.7777777777777778,
                            "#fb9f3a"
                          ],
                          [
                            0.8888888888888888,
                            "#fdca26"
                          ],
                          [
                            1,
                            "#f0f921"
                          ]
                        ],
                        "type": "surface"
                      }
                    ],
                    "table": [
                      {
                        "cells": {
                          "fill": {
                            "color": "#EBF0F8"
                          },
                          "line": {
                            "color": "white"
                          }
                        },
                        "header": {
                          "fill": {
                            "color": "#C8D4E3"
                          },
                          "line": {
                            "color": "white"
                          }
                        },
                        "type": "table"
                      }
                    ]
                  },
                  "layout": {
                    "annotationdefaults": {
                      "arrowcolor": "#2a3f5f",
                      "arrowhead": 0,
                      "arrowwidth": 1
                    },
                    "autotypenumbers": "strict",
                    "coloraxis": {
                      "colorbar": {
                        "outlinewidth": 0,
                        "ticks": ""
                      }
                    },
                    "colorscale": {
                      "diverging": [
                        [
                          0,
                          "#8e0152"
                        ],
                        [
                          0.1,
                          "#c51b7d"
                        ],
                        [
                          0.2,
                          "#de77ae"
                        ],
                        [
                          0.3,
                          "#f1b6da"
                        ],
                        [
                          0.4,
                          "#fde0ef"
                        ],
                        [
                          0.5,
                          "#f7f7f7"
                        ],
                        [
                          0.6,
                          "#e6f5d0"
                        ],
                        [
                          0.7,
                          "#b8e186"
                        ],
                        [
                          0.8,
                          "#7fbc41"
                        ],
                        [
                          0.9,
                          "#4d9221"
                        ],
                        [
                          1,
                          "#276419"
                        ]
                      ],
                      "sequential": [
                        [
                          0,
                          "#0d0887"
                        ],
                        [
                          0.1111111111111111,
                          "#46039f"
                        ],
                        [
                          0.2222222222222222,
                          "#7201a8"
                        ],
                        [
                          0.3333333333333333,
                          "#9c179e"
                        ],
                        [
                          0.4444444444444444,
                          "#bd3786"
                        ],
                        [
                          0.5555555555555556,
                          "#d8576b"
                        ],
                        [
                          0.6666666666666666,
                          "#ed7953"
                        ],
                        [
                          0.7777777777777778,
                          "#fb9f3a"
                        ],
                        [
                          0.8888888888888888,
                          "#fdca26"
                        ],
                        [
                          1,
                          "#f0f921"
                        ]
                      ],
                      "sequentialminus": [
                        [
                          0,
                          "#0d0887"
                        ],
                        [
                          0.1111111111111111,
                          "#46039f"
                        ],
                        [
                          0.2222222222222222,
                          "#7201a8"
                        ],
                        [
                          0.3333333333333333,
                          "#9c179e"
                        ],
                        [
                          0.4444444444444444,
                          "#bd3786"
                        ],
                        [
                          0.5555555555555556,
                          "#d8576b"
                        ],
                        [
                          0.6666666666666666,
                          "#ed7953"
                        ],
                        [
                          0.7777777777777778,
                          "#fb9f3a"
                        ],
                        [
                          0.8888888888888888,
                          "#fdca26"
                        ],
                        [
                          1,
                          "#f0f921"
                        ]
                      ]
                    },
                    "colorway": [
                      "#636efa",
                      "#EF553B",
                      "#00cc96",
                      "#ab63fa",
                      "#FFA15A",
                      "#19d3f3",
                      "#FF6692",
                      "#B6E880",
                      "#FF97FF",
                      "#FECB52"
                    ],
                    "font": {
                      "color": "#2a3f5f"
                    },
                    "geo": {
                      "bgcolor": "white",
                      "lakecolor": "white",
                      "landcolor": "#E5ECF6",
                      "showlakes": true,
                      "showland": true,
                      "subunitcolor": "white"
                    },
                    "hoverlabel": {
                      "align": "left"
                    },
                    "hovermode": "closest",
                    "mapbox": {
                      "style": "light"
                    },
                    "paper_bgcolor": "white",
                    "plot_bgcolor": "#E5ECF6",
                    "polar": {
                      "angularaxis": {
                        "gridcolor": "white",
                        "linecolor": "white",
                        "ticks": ""
                      },
                      "bgcolor": "#E5ECF6",
                      "radialaxis": {
                        "gridcolor": "white",
                        "linecolor": "white",
                        "ticks": ""
                      }
                    },
                    "scene": {
                      "xaxis": {
                        "backgroundcolor": "#E5ECF6",
                        "gridcolor": "white",
                        "gridwidth": 2,
                        "linecolor": "white",
                        "showbackground": true,
                        "ticks": "",
                        "zerolinecolor": "white"
                      },
                      "yaxis": {
                        "backgroundcolor": "#E5ECF6",
                        "gridcolor": "white",
                        "gridwidth": 2,
                        "linecolor": "white",
                        "showbackground": true,
                        "ticks": "",
                        "zerolinecolor": "white"
                      },
                      "zaxis": {
                        "backgroundcolor": "#E5ECF6",
                        "gridcolor": "white",
                        "gridwidth": 2,
                        "linecolor": "white",
                        "showbackground": true,
                        "ticks": "",
                        "zerolinecolor": "white"
                      }
                    },
                    "shapedefaults": {
                      "line": {
                        "color": "#2a3f5f"
                      }
                    },
                    "ternary": {
                      "aaxis": {
                        "gridcolor": "white",
                        "linecolor": "white",
                        "ticks": ""
                      },
                      "baxis": {
                        "gridcolor": "white",
                        "linecolor": "white",
                        "ticks": ""
                      },
                      "bgcolor": "#E5ECF6",
                      "caxis": {
                        "gridcolor": "white",
                        "linecolor": "white",
                        "ticks": ""
                      }
                    },
                    "title": {
                      "x": 0.05
                    },
                    "xaxis": {
                      "automargin": true,
                      "gridcolor": "white",
                      "linecolor": "white",
                      "ticks": "",
                      "title": {
                        "standoff": 15
                      },
                      "zerolinecolor": "white",
                      "zerolinewidth": 2
                    },
                    "yaxis": {
                      "automargin": true,
                      "gridcolor": "white",
                      "linecolor": "white",
                      "ticks": "",
                      "title": {
                        "standoff": 15
                      },
                      "zerolinecolor": "white",
                      "zerolinewidth": 2
                    }
                  }
                },
                "title": {
                  "text": "Global Electricity Access – 2000"
                }
              }
            }
          },
          "metadata": {},
          "output_type": "display_data"
        },
        {
          "data": {
            "application/vnd.plotly.v1+json": {
              "config": {
                "plotlyServerURL": "https://plot.ly"
              },
              "data": [
                {
                  "coloraxis": "coloraxis",
                  "geo": "geo",
                  "hovertemplate": "<b>%{hovertext}</b><br><br>country=%{location}<br>% Electricity Access=%{z}<extra></extra>",
                  "hovertext": [
                    "Afghanistan",
                    "Albania",
                    "Algeria",
                    "Angola",
                    "Antigua and Barbuda",
                    "Argentina",
                    "Armenia",
                    "Aruba",
                    "Australia",
                    "Austria",
                    "Azerbaijan",
                    "Bahamas",
                    "Bahrain",
                    "Bangladesh",
                    "Barbados",
                    "Belarus",
                    "Belgium",
                    "Belize",
                    "Benin",
                    "Bermuda",
                    "Bhutan",
                    "Bosnia and Herzegovina",
                    "Botswana",
                    "Brazil",
                    "Bulgaria",
                    "Burkina Faso",
                    "Burundi",
                    "Cambodia",
                    "Cameroon",
                    "Canada",
                    "Cayman Islands",
                    "Central African Republic",
                    "Chad",
                    "Chile",
                    "China",
                    "Colombia",
                    "Comoros",
                    "Congo",
                    "Costa Rica",
                    "Croatia",
                    "Cuba",
                    "Cyprus",
                    "Czechia",
                    "Denmark",
                    "Djibouti",
                    "Dominica",
                    "Dominican Republic",
                    "Ecuador",
                    "Egypt",
                    "El Salvador",
                    "Equatorial Guinea",
                    "Eritrea",
                    "Estonia",
                    "Eswatini",
                    "Ethiopia",
                    "Fiji",
                    "Finland",
                    "France",
                    "Gabon",
                    "Gambia",
                    "Georgia",
                    "Germany",
                    "Ghana",
                    "Greece",
                    "Grenada",
                    "Guatemala",
                    "Guinea",
                    "Guinea-Bissau",
                    "Guyana",
                    "Haiti",
                    "Honduras",
                    "Hungary",
                    "Iceland",
                    "India",
                    "Indonesia",
                    "Iraq",
                    "Ireland",
                    "Israel",
                    "Italy",
                    "Jamaica",
                    "Japan",
                    "Jordan",
                    "Kazakhstan",
                    "Kenya",
                    "Kiribati",
                    "Kuwait",
                    "Kyrgyzstan",
                    "Latvia",
                    "Lebanon",
                    "Lesotho",
                    "Liberia",
                    "Libya",
                    "Lithuania",
                    "Luxembourg",
                    "Madagascar",
                    "Malawi",
                    "Malaysia",
                    "Maldives",
                    "Mali",
                    "Malta",
                    "Mauritania",
                    "Mauritius",
                    "Mexico",
                    "Mongolia",
                    "Montenegro",
                    "Morocco",
                    "Mozambique",
                    "Myanmar",
                    "Namibia",
                    "Nauru",
                    "Nepal",
                    "Netherlands",
                    "New Caledonia",
                    "New Zealand",
                    "Nicaragua",
                    "Niger",
                    "Nigeria",
                    "North Macedonia",
                    "Norway",
                    "Oman",
                    "Pakistan",
                    "Panama",
                    "Papua New Guinea",
                    "Paraguay",
                    "Peru",
                    "Philippines",
                    "Poland",
                    "Portugal",
                    "Puerto Rico",
                    "Qatar",
                    "Romania",
                    "Rwanda",
                    "Saint Kitts and Nevis",
                    "Saint Lucia",
                    "Saint Vincent and the Grenadines",
                    "Samoa",
                    "Sao Tome and Principe",
                    "Saudi Arabia",
                    "Senegal",
                    "Serbia",
                    "Seychelles",
                    "Sierra Leone",
                    "Singapore",
                    "Slovakia",
                    "Slovenia",
                    "Solomon Islands",
                    "Somalia",
                    "South Africa",
                    "Spain",
                    "Sri Lanka",
                    "Sudan",
                    "Suriname",
                    "Sweden",
                    "Switzerland",
                    "Tajikistan",
                    "Thailand",
                    "Togo",
                    "Tonga",
                    "Trinidad and Tobago",
                    "Tunisia",
                    "Turkey",
                    "Turkmenistan",
                    "Tuvalu",
                    "Uganda",
                    "Ukraine",
                    "United Arab Emirates",
                    "United Kingdom",
                    "United States",
                    "Uruguay",
                    "Uzbekistan",
                    "Vanuatu",
                    "Yemen",
                    "Zambia",
                    "Zimbabwe"
                  ],
                  "locationmode": "country names",
                  "locations": [
                    "Afghanistan",
                    "Albania",
                    "Algeria",
                    "Angola",
                    "Antigua and Barbuda",
                    "Argentina",
                    "Armenia",
                    "Aruba",
                    "Australia",
                    "Austria",
                    "Azerbaijan",
                    "Bahamas",
                    "Bahrain",
                    "Bangladesh",
                    "Barbados",
                    "Belarus",
                    "Belgium",
                    "Belize",
                    "Benin",
                    "Bermuda",
                    "Bhutan",
                    "Bosnia and Herzegovina",
                    "Botswana",
                    "Brazil",
                    "Bulgaria",
                    "Burkina Faso",
                    "Burundi",
                    "Cambodia",
                    "Cameroon",
                    "Canada",
                    "Cayman Islands",
                    "Central African Republic",
                    "Chad",
                    "Chile",
                    "China",
                    "Colombia",
                    "Comoros",
                    "Congo",
                    "Costa Rica",
                    "Croatia",
                    "Cuba",
                    "Cyprus",
                    "Czechia",
                    "Denmark",
                    "Djibouti",
                    "Dominica",
                    "Dominican Republic",
                    "Ecuador",
                    "Egypt",
                    "El Salvador",
                    "Equatorial Guinea",
                    "Eritrea",
                    "Estonia",
                    "Eswatini",
                    "Ethiopia",
                    "Fiji",
                    "Finland",
                    "France",
                    "Gabon",
                    "Gambia",
                    "Georgia",
                    "Germany",
                    "Ghana",
                    "Greece",
                    "Grenada",
                    "Guatemala",
                    "Guinea",
                    "Guinea-Bissau",
                    "Guyana",
                    "Haiti",
                    "Honduras",
                    "Hungary",
                    "Iceland",
                    "India",
                    "Indonesia",
                    "Iraq",
                    "Ireland",
                    "Israel",
                    "Italy",
                    "Jamaica",
                    "Japan",
                    "Jordan",
                    "Kazakhstan",
                    "Kenya",
                    "Kiribati",
                    "Kuwait",
                    "Kyrgyzstan",
                    "Latvia",
                    "Lebanon",
                    "Lesotho",
                    "Liberia",
                    "Libya",
                    "Lithuania",
                    "Luxembourg",
                    "Madagascar",
                    "Malawi",
                    "Malaysia",
                    "Maldives",
                    "Mali",
                    "Malta",
                    "Mauritania",
                    "Mauritius",
                    "Mexico",
                    "Mongolia",
                    "Montenegro",
                    "Morocco",
                    "Mozambique",
                    "Myanmar",
                    "Namibia",
                    "Nauru",
                    "Nepal",
                    "Netherlands",
                    "New Caledonia",
                    "New Zealand",
                    "Nicaragua",
                    "Niger",
                    "Nigeria",
                    "North Macedonia",
                    "Norway",
                    "Oman",
                    "Pakistan",
                    "Panama",
                    "Papua New Guinea",
                    "Paraguay",
                    "Peru",
                    "Philippines",
                    "Poland",
                    "Portugal",
                    "Puerto Rico",
                    "Qatar",
                    "Romania",
                    "Rwanda",
                    "Saint Kitts and Nevis",
                    "Saint Lucia",
                    "Saint Vincent and the Grenadines",
                    "Samoa",
                    "Sao Tome and Principe",
                    "Saudi Arabia",
                    "Senegal",
                    "Serbia",
                    "Seychelles",
                    "Sierra Leone",
                    "Singapore",
                    "Slovakia",
                    "Slovenia",
                    "Solomon Islands",
                    "Somalia",
                    "South Africa",
                    "Spain",
                    "Sri Lanka",
                    "Sudan",
                    "Suriname",
                    "Sweden",
                    "Switzerland",
                    "Tajikistan",
                    "Thailand",
                    "Togo",
                    "Tonga",
                    "Trinidad and Tobago",
                    "Tunisia",
                    "Turkey",
                    "Turkmenistan",
                    "Tuvalu",
                    "Uganda",
                    "Ukraine",
                    "United Arab Emirates",
                    "United Kingdom",
                    "United States",
                    "Uruguay",
                    "Uzbekistan",
                    "Vanuatu",
                    "Yemen",
                    "Zambia",
                    "Zimbabwe"
                  ],
                  "name": "",
                  "type": "choropleth",
                  "z": [
                    42.7,
                    100,
                    98.85893,
                    34.895638,
                    98.59724,
                    98.82,
                    99.8,
                    93.35629,
                    100,
                    100,
                    99.943794,
                    100,
                    100,
                    55.26,
                    100,
                    100,
                    100,
                    89.91722,
                    34.2,
                    100,
                    73.28291,
                    100,
                    52.01778,
                    98.6,
                    100,
                    13.1,
                    5.3,
                    31.1,
                    52.759556,
                    100,
                    100,
                    9.8,
                    6.4,
                    99.53839,
                    99.7,
                    96.788994,
                    69.80771,
                    39.78862,
                    98.995735,
                    100,
                    97.55665,
                    100,
                    100,
                    100,
                    56.17995,
                    94.17394,
                    98.14542,
                    97.46214,
                    99.394554,
                    91.58024,
                    66.157265,
                    40.18312,
                    100,
                    45.552338,
                    25.409937,
                    89.24858,
                    100,
                    100,
                    89.46172,
                    46.655277,
                    100,
                    100,
                    64.2,
                    100,
                    89.28466,
                    84.27571,
                    27.955624,
                    6,
                    83.09163,
                    37.055622,
                    80.984665,
                    100,
                    100,
                    76.3,
                    94.15,
                    98.28097,
                    100,
                    100,
                    100,
                    92.2,
                    100,
                    100,
                    100,
                    19.2,
                    63.167736,
                    100,
                    99,
                    100,
                    99.47441,
                    17,
                    5.1626644,
                    81.65022,
                    100,
                    100,
                    12.3,
                    8.7,
                    99.374054,
                    99.15686,
                    26.91205,
                    100,
                    33.959515,
                    99.69,
                    99.236694,
                    78.50208,
                    100,
                    92.67138,
                    18.802736,
                    48.8,
                    44.610737,
                    99.17063,
                    68.6,
                    100,
                    100,
                    100,
                    78.151215,
                    13.277493,
                    48,
                    100,
                    100,
                    100,
                    70.76802,
                    86.85,
                    19.5,
                    97.43086,
                    88.12306,
                    85.397644,
                    100,
                    100,
                    100,
                    100,
                    100,
                    9.7,
                    99.84339,
                    94.2,
                    92.79956,
                    96.36105,
                    61.372158,
                    100,
                    56.5,
                    99.7184,
                    97,
                    11.462173,
                    100,
                    100,
                    100,
                    34.774807,
                    52.163345,
                    82.9,
                    100,
                    85.3,
                    38.039776,
                    91.19752,
                    100,
                    100,
                    98.6715,
                    99.7,
                    30.791744,
                    92.67672,
                    100,
                    99.5,
                    100,
                    100,
                    96.63027,
                    12.1,
                    100,
                    100,
                    100,
                    100,
                    99.3,
                    99.91289,
                    44.1,
                    60.675194,
                    22,
                    38.78255
                  ]
                }
              ],
              "layout": {
                "coloraxis": {
                  "colorbar": {
                    "title": {
                      "text": "% Electricity Access"
                    }
                  },
                  "colorscale": [
                    [
                      0,
                      "rgb(255,255,217)"
                    ],
                    [
                      0.125,
                      "rgb(237,248,177)"
                    ],
                    [
                      0.25,
                      "rgb(199,233,180)"
                    ],
                    [
                      0.375,
                      "rgb(127,205,187)"
                    ],
                    [
                      0.5,
                      "rgb(65,182,196)"
                    ],
                    [
                      0.625,
                      "rgb(29,145,192)"
                    ],
                    [
                      0.75,
                      "rgb(34,94,168)"
                    ],
                    [
                      0.875,
                      "rgb(37,52,148)"
                    ],
                    [
                      1,
                      "rgb(8,29,88)"
                    ]
                  ]
                },
                "geo": {
                  "center": {},
                  "domain": {
                    "x": [
                      0,
                      1
                    ],
                    "y": [
                      0,
                      1
                    ]
                  }
                },
                "legend": {
                  "tracegroupgap": 0
                },
                "template": {
                  "data": {
                    "bar": [
                      {
                        "error_x": {
                          "color": "#2a3f5f"
                        },
                        "error_y": {
                          "color": "#2a3f5f"
                        },
                        "marker": {
                          "line": {
                            "color": "#E5ECF6",
                            "width": 0.5
                          },
                          "pattern": {
                            "fillmode": "overlay",
                            "size": 10,
                            "solidity": 0.2
                          }
                        },
                        "type": "bar"
                      }
                    ],
                    "barpolar": [
                      {
                        "marker": {
                          "line": {
                            "color": "#E5ECF6",
                            "width": 0.5
                          },
                          "pattern": {
                            "fillmode": "overlay",
                            "size": 10,
                            "solidity": 0.2
                          }
                        },
                        "type": "barpolar"
                      }
                    ],
                    "carpet": [
                      {
                        "aaxis": {
                          "endlinecolor": "#2a3f5f",
                          "gridcolor": "white",
                          "linecolor": "white",
                          "minorgridcolor": "white",
                          "startlinecolor": "#2a3f5f"
                        },
                        "baxis": {
                          "endlinecolor": "#2a3f5f",
                          "gridcolor": "white",
                          "linecolor": "white",
                          "minorgridcolor": "white",
                          "startlinecolor": "#2a3f5f"
                        },
                        "type": "carpet"
                      }
                    ],
                    "choropleth": [
                      {
                        "colorbar": {
                          "outlinewidth": 0,
                          "ticks": ""
                        },
                        "type": "choropleth"
                      }
                    ],
                    "contour": [
                      {
                        "colorbar": {
                          "outlinewidth": 0,
                          "ticks": ""
                        },
                        "colorscale": [
                          [
                            0,
                            "#0d0887"
                          ],
                          [
                            0.1111111111111111,
                            "#46039f"
                          ],
                          [
                            0.2222222222222222,
                            "#7201a8"
                          ],
                          [
                            0.3333333333333333,
                            "#9c179e"
                          ],
                          [
                            0.4444444444444444,
                            "#bd3786"
                          ],
                          [
                            0.5555555555555556,
                            "#d8576b"
                          ],
                          [
                            0.6666666666666666,
                            "#ed7953"
                          ],
                          [
                            0.7777777777777778,
                            "#fb9f3a"
                          ],
                          [
                            0.8888888888888888,
                            "#fdca26"
                          ],
                          [
                            1,
                            "#f0f921"
                          ]
                        ],
                        "type": "contour"
                      }
                    ],
                    "contourcarpet": [
                      {
                        "colorbar": {
                          "outlinewidth": 0,
                          "ticks": ""
                        },
                        "type": "contourcarpet"
                      }
                    ],
                    "heatmap": [
                      {
                        "colorbar": {
                          "outlinewidth": 0,
                          "ticks": ""
                        },
                        "colorscale": [
                          [
                            0,
                            "#0d0887"
                          ],
                          [
                            0.1111111111111111,
                            "#46039f"
                          ],
                          [
                            0.2222222222222222,
                            "#7201a8"
                          ],
                          [
                            0.3333333333333333,
                            "#9c179e"
                          ],
                          [
                            0.4444444444444444,
                            "#bd3786"
                          ],
                          [
                            0.5555555555555556,
                            "#d8576b"
                          ],
                          [
                            0.6666666666666666,
                            "#ed7953"
                          ],
                          [
                            0.7777777777777778,
                            "#fb9f3a"
                          ],
                          [
                            0.8888888888888888,
                            "#fdca26"
                          ],
                          [
                            1,
                            "#f0f921"
                          ]
                        ],
                        "type": "heatmap"
                      }
                    ],
                    "heatmapgl": [
                      {
                        "colorbar": {
                          "outlinewidth": 0,
                          "ticks": ""
                        },
                        "colorscale": [
                          [
                            0,
                            "#0d0887"
                          ],
                          [
                            0.1111111111111111,
                            "#46039f"
                          ],
                          [
                            0.2222222222222222,
                            "#7201a8"
                          ],
                          [
                            0.3333333333333333,
                            "#9c179e"
                          ],
                          [
                            0.4444444444444444,
                            "#bd3786"
                          ],
                          [
                            0.5555555555555556,
                            "#d8576b"
                          ],
                          [
                            0.6666666666666666,
                            "#ed7953"
                          ],
                          [
                            0.7777777777777778,
                            "#fb9f3a"
                          ],
                          [
                            0.8888888888888888,
                            "#fdca26"
                          ],
                          [
                            1,
                            "#f0f921"
                          ]
                        ],
                        "type": "heatmapgl"
                      }
                    ],
                    "histogram": [
                      {
                        "marker": {
                          "pattern": {
                            "fillmode": "overlay",
                            "size": 10,
                            "solidity": 0.2
                          }
                        },
                        "type": "histogram"
                      }
                    ],
                    "histogram2d": [
                      {
                        "colorbar": {
                          "outlinewidth": 0,
                          "ticks": ""
                        },
                        "colorscale": [
                          [
                            0,
                            "#0d0887"
                          ],
                          [
                            0.1111111111111111,
                            "#46039f"
                          ],
                          [
                            0.2222222222222222,
                            "#7201a8"
                          ],
                          [
                            0.3333333333333333,
                            "#9c179e"
                          ],
                          [
                            0.4444444444444444,
                            "#bd3786"
                          ],
                          [
                            0.5555555555555556,
                            "#d8576b"
                          ],
                          [
                            0.6666666666666666,
                            "#ed7953"
                          ],
                          [
                            0.7777777777777778,
                            "#fb9f3a"
                          ],
                          [
                            0.8888888888888888,
                            "#fdca26"
                          ],
                          [
                            1,
                            "#f0f921"
                          ]
                        ],
                        "type": "histogram2d"
                      }
                    ],
                    "histogram2dcontour": [
                      {
                        "colorbar": {
                          "outlinewidth": 0,
                          "ticks": ""
                        },
                        "colorscale": [
                          [
                            0,
                            "#0d0887"
                          ],
                          [
                            0.1111111111111111,
                            "#46039f"
                          ],
                          [
                            0.2222222222222222,
                            "#7201a8"
                          ],
                          [
                            0.3333333333333333,
                            "#9c179e"
                          ],
                          [
                            0.4444444444444444,
                            "#bd3786"
                          ],
                          [
                            0.5555555555555556,
                            "#d8576b"
                          ],
                          [
                            0.6666666666666666,
                            "#ed7953"
                          ],
                          [
                            0.7777777777777778,
                            "#fb9f3a"
                          ],
                          [
                            0.8888888888888888,
                            "#fdca26"
                          ],
                          [
                            1,
                            "#f0f921"
                          ]
                        ],
                        "type": "histogram2dcontour"
                      }
                    ],
                    "mesh3d": [
                      {
                        "colorbar": {
                          "outlinewidth": 0,
                          "ticks": ""
                        },
                        "type": "mesh3d"
                      }
                    ],
                    "parcoords": [
                      {
                        "line": {
                          "colorbar": {
                            "outlinewidth": 0,
                            "ticks": ""
                          }
                        },
                        "type": "parcoords"
                      }
                    ],
                    "pie": [
                      {
                        "automargin": true,
                        "type": "pie"
                      }
                    ],
                    "scatter": [
                      {
                        "fillpattern": {
                          "fillmode": "overlay",
                          "size": 10,
                          "solidity": 0.2
                        },
                        "type": "scatter"
                      }
                    ],
                    "scatter3d": [
                      {
                        "line": {
                          "colorbar": {
                            "outlinewidth": 0,
                            "ticks": ""
                          }
                        },
                        "marker": {
                          "colorbar": {
                            "outlinewidth": 0,
                            "ticks": ""
                          }
                        },
                        "type": "scatter3d"
                      }
                    ],
                    "scattercarpet": [
                      {
                        "marker": {
                          "colorbar": {
                            "outlinewidth": 0,
                            "ticks": ""
                          }
                        },
                        "type": "scattercarpet"
                      }
                    ],
                    "scattergeo": [
                      {
                        "marker": {
                          "colorbar": {
                            "outlinewidth": 0,
                            "ticks": ""
                          }
                        },
                        "type": "scattergeo"
                      }
                    ],
                    "scattergl": [
                      {
                        "marker": {
                          "colorbar": {
                            "outlinewidth": 0,
                            "ticks": ""
                          }
                        },
                        "type": "scattergl"
                      }
                    ],
                    "scattermapbox": [
                      {
                        "marker": {
                          "colorbar": {
                            "outlinewidth": 0,
                            "ticks": ""
                          }
                        },
                        "type": "scattermapbox"
                      }
                    ],
                    "scatterpolar": [
                      {
                        "marker": {
                          "colorbar": {
                            "outlinewidth": 0,
                            "ticks": ""
                          }
                        },
                        "type": "scatterpolar"
                      }
                    ],
                    "scatterpolargl": [
                      {
                        "marker": {
                          "colorbar": {
                            "outlinewidth": 0,
                            "ticks": ""
                          }
                        },
                        "type": "scatterpolargl"
                      }
                    ],
                    "scatterternary": [
                      {
                        "marker": {
                          "colorbar": {
                            "outlinewidth": 0,
                            "ticks": ""
                          }
                        },
                        "type": "scatterternary"
                      }
                    ],
                    "surface": [
                      {
                        "colorbar": {
                          "outlinewidth": 0,
                          "ticks": ""
                        },
                        "colorscale": [
                          [
                            0,
                            "#0d0887"
                          ],
                          [
                            0.1111111111111111,
                            "#46039f"
                          ],
                          [
                            0.2222222222222222,
                            "#7201a8"
                          ],
                          [
                            0.3333333333333333,
                            "#9c179e"
                          ],
                          [
                            0.4444444444444444,
                            "#bd3786"
                          ],
                          [
                            0.5555555555555556,
                            "#d8576b"
                          ],
                          [
                            0.6666666666666666,
                            "#ed7953"
                          ],
                          [
                            0.7777777777777778,
                            "#fb9f3a"
                          ],
                          [
                            0.8888888888888888,
                            "#fdca26"
                          ],
                          [
                            1,
                            "#f0f921"
                          ]
                        ],
                        "type": "surface"
                      }
                    ],
                    "table": [
                      {
                        "cells": {
                          "fill": {
                            "color": "#EBF0F8"
                          },
                          "line": {
                            "color": "white"
                          }
                        },
                        "header": {
                          "fill": {
                            "color": "#C8D4E3"
                          },
                          "line": {
                            "color": "white"
                          }
                        },
                        "type": "table"
                      }
                    ]
                  },
                  "layout": {
                    "annotationdefaults": {
                      "arrowcolor": "#2a3f5f",
                      "arrowhead": 0,
                      "arrowwidth": 1
                    },
                    "autotypenumbers": "strict",
                    "coloraxis": {
                      "colorbar": {
                        "outlinewidth": 0,
                        "ticks": ""
                      }
                    },
                    "colorscale": {
                      "diverging": [
                        [
                          0,
                          "#8e0152"
                        ],
                        [
                          0.1,
                          "#c51b7d"
                        ],
                        [
                          0.2,
                          "#de77ae"
                        ],
                        [
                          0.3,
                          "#f1b6da"
                        ],
                        [
                          0.4,
                          "#fde0ef"
                        ],
                        [
                          0.5,
                          "#f7f7f7"
                        ],
                        [
                          0.6,
                          "#e6f5d0"
                        ],
                        [
                          0.7,
                          "#b8e186"
                        ],
                        [
                          0.8,
                          "#7fbc41"
                        ],
                        [
                          0.9,
                          "#4d9221"
                        ],
                        [
                          1,
                          "#276419"
                        ]
                      ],
                      "sequential": [
                        [
                          0,
                          "#0d0887"
                        ],
                        [
                          0.1111111111111111,
                          "#46039f"
                        ],
                        [
                          0.2222222222222222,
                          "#7201a8"
                        ],
                        [
                          0.3333333333333333,
                          "#9c179e"
                        ],
                        [
                          0.4444444444444444,
                          "#bd3786"
                        ],
                        [
                          0.5555555555555556,
                          "#d8576b"
                        ],
                        [
                          0.6666666666666666,
                          "#ed7953"
                        ],
                        [
                          0.7777777777777778,
                          "#fb9f3a"
                        ],
                        [
                          0.8888888888888888,
                          "#fdca26"
                        ],
                        [
                          1,
                          "#f0f921"
                        ]
                      ],
                      "sequentialminus": [
                        [
                          0,
                          "#0d0887"
                        ],
                        [
                          0.1111111111111111,
                          "#46039f"
                        ],
                        [
                          0.2222222222222222,
                          "#7201a8"
                        ],
                        [
                          0.3333333333333333,
                          "#9c179e"
                        ],
                        [
                          0.4444444444444444,
                          "#bd3786"
                        ],
                        [
                          0.5555555555555556,
                          "#d8576b"
                        ],
                        [
                          0.6666666666666666,
                          "#ed7953"
                        ],
                        [
                          0.7777777777777778,
                          "#fb9f3a"
                        ],
                        [
                          0.8888888888888888,
                          "#fdca26"
                        ],
                        [
                          1,
                          "#f0f921"
                        ]
                      ]
                    },
                    "colorway": [
                      "#636efa",
                      "#EF553B",
                      "#00cc96",
                      "#ab63fa",
                      "#FFA15A",
                      "#19d3f3",
                      "#FF6692",
                      "#B6E880",
                      "#FF97FF",
                      "#FECB52"
                    ],
                    "font": {
                      "color": "#2a3f5f"
                    },
                    "geo": {
                      "bgcolor": "white",
                      "lakecolor": "white",
                      "landcolor": "#E5ECF6",
                      "showlakes": true,
                      "showland": true,
                      "subunitcolor": "white"
                    },
                    "hoverlabel": {
                      "align": "left"
                    },
                    "hovermode": "closest",
                    "mapbox": {
                      "style": "light"
                    },
                    "paper_bgcolor": "white",
                    "plot_bgcolor": "#E5ECF6",
                    "polar": {
                      "angularaxis": {
                        "gridcolor": "white",
                        "linecolor": "white",
                        "ticks": ""
                      },
                      "bgcolor": "#E5ECF6",
                      "radialaxis": {
                        "gridcolor": "white",
                        "linecolor": "white",
                        "ticks": ""
                      }
                    },
                    "scene": {
                      "xaxis": {
                        "backgroundcolor": "#E5ECF6",
                        "gridcolor": "white",
                        "gridwidth": 2,
                        "linecolor": "white",
                        "showbackground": true,
                        "ticks": "",
                        "zerolinecolor": "white"
                      },
                      "yaxis": {
                        "backgroundcolor": "#E5ECF6",
                        "gridcolor": "white",
                        "gridwidth": 2,
                        "linecolor": "white",
                        "showbackground": true,
                        "ticks": "",
                        "zerolinecolor": "white"
                      },
                      "zaxis": {
                        "backgroundcolor": "#E5ECF6",
                        "gridcolor": "white",
                        "gridwidth": 2,
                        "linecolor": "white",
                        "showbackground": true,
                        "ticks": "",
                        "zerolinecolor": "white"
                      }
                    },
                    "shapedefaults": {
                      "line": {
                        "color": "#2a3f5f"
                      }
                    },
                    "ternary": {
                      "aaxis": {
                        "gridcolor": "white",
                        "linecolor": "white",
                        "ticks": ""
                      },
                      "baxis": {
                        "gridcolor": "white",
                        "linecolor": "white",
                        "ticks": ""
                      },
                      "bgcolor": "#E5ECF6",
                      "caxis": {
                        "gridcolor": "white",
                        "linecolor": "white",
                        "ticks": ""
                      }
                    },
                    "title": {
                      "x": 0.05
                    },
                    "xaxis": {
                      "automargin": true,
                      "gridcolor": "white",
                      "linecolor": "white",
                      "ticks": "",
                      "title": {
                        "standoff": 15
                      },
                      "zerolinecolor": "white",
                      "zerolinewidth": 2
                    },
                    "yaxis": {
                      "automargin": true,
                      "gridcolor": "white",
                      "linecolor": "white",
                      "ticks": "",
                      "title": {
                        "standoff": 15
                      },
                      "zerolinecolor": "white",
                      "zerolinewidth": 2
                    }
                  }
                },
                "title": {
                  "text": "Global Electricity Access – 2010"
                }
              }
            }
          },
          "metadata": {},
          "output_type": "display_data"
        },
        {
          "data": {
            "application/vnd.plotly.v1+json": {
              "config": {
                "plotlyServerURL": "https://plot.ly"
              },
              "data": [
                {
                  "coloraxis": "coloraxis",
                  "geo": "geo",
                  "hovertemplate": "<b>%{hovertext}</b><br><br>country=%{location}<br>% Electricity Access=%{z}<extra></extra>",
                  "hovertext": [
                    "Afghanistan",
                    "Albania",
                    "Algeria",
                    "Angola",
                    "Antigua and Barbuda",
                    "Argentina",
                    "Armenia",
                    "Aruba",
                    "Australia",
                    "Austria",
                    "Azerbaijan",
                    "Bahamas",
                    "Bahrain",
                    "Bangladesh",
                    "Barbados",
                    "Belarus",
                    "Belgium",
                    "Belize",
                    "Benin",
                    "Bermuda",
                    "Bhutan",
                    "Bosnia and Herzegovina",
                    "Botswana",
                    "Brazil",
                    "Bulgaria",
                    "Burkina Faso",
                    "Burundi",
                    "Cambodia",
                    "Cameroon",
                    "Canada",
                    "Cayman Islands",
                    "Central African Republic",
                    "Chad",
                    "Chile",
                    "China",
                    "Colombia",
                    "Comoros",
                    "Congo",
                    "Costa Rica",
                    "Croatia",
                    "Cuba",
                    "Cyprus",
                    "Czechia",
                    "Denmark",
                    "Djibouti",
                    "Dominica",
                    "Dominican Republic",
                    "Ecuador",
                    "Egypt",
                    "El Salvador",
                    "Equatorial Guinea",
                    "Eritrea",
                    "Estonia",
                    "Eswatini",
                    "Ethiopia",
                    "Fiji",
                    "Finland",
                    "France",
                    "Gabon",
                    "Gambia",
                    "Georgia",
                    "Germany",
                    "Ghana",
                    "Greece",
                    "Grenada",
                    "Guatemala",
                    "Guinea",
                    "Guinea-Bissau",
                    "Guyana",
                    "Haiti",
                    "Honduras",
                    "Hungary",
                    "Iceland",
                    "India",
                    "Indonesia",
                    "Iraq",
                    "Ireland",
                    "Israel",
                    "Italy",
                    "Jamaica",
                    "Japan",
                    "Jordan",
                    "Kazakhstan",
                    "Kenya",
                    "Kiribati",
                    "Kuwait",
                    "Kyrgyzstan",
                    "Latvia",
                    "Lebanon",
                    "Lesotho",
                    "Liberia",
                    "Libya",
                    "Lithuania",
                    "Luxembourg",
                    "Madagascar",
                    "Malawi",
                    "Malaysia",
                    "Maldives",
                    "Mali",
                    "Malta",
                    "Mauritania",
                    "Mauritius",
                    "Mexico",
                    "Mongolia",
                    "Montenegro",
                    "Morocco",
                    "Mozambique",
                    "Myanmar",
                    "Namibia",
                    "Nauru",
                    "Nepal",
                    "Netherlands",
                    "New Caledonia",
                    "New Zealand",
                    "Nicaragua",
                    "Niger",
                    "Nigeria",
                    "North Macedonia",
                    "Norway",
                    "Oman",
                    "Pakistan",
                    "Panama",
                    "Papua New Guinea",
                    "Paraguay",
                    "Peru",
                    "Philippines",
                    "Poland",
                    "Portugal",
                    "Puerto Rico",
                    "Qatar",
                    "Romania",
                    "Rwanda",
                    "Saint Kitts and Nevis",
                    "Saint Lucia",
                    "Saint Vincent and the Grenadines",
                    "Samoa",
                    "Sao Tome and Principe",
                    "Saudi Arabia",
                    "Senegal",
                    "Serbia",
                    "Seychelles",
                    "Sierra Leone",
                    "Singapore",
                    "Slovakia",
                    "Slovenia",
                    "Solomon Islands",
                    "Somalia",
                    "South Africa",
                    "South Sudan",
                    "Spain",
                    "Sri Lanka",
                    "Sudan",
                    "Suriname",
                    "Sweden",
                    "Switzerland",
                    "Tajikistan",
                    "Thailand",
                    "Togo",
                    "Tonga",
                    "Trinidad and Tobago",
                    "Tunisia",
                    "Turkey",
                    "Turkmenistan",
                    "Tuvalu",
                    "Uganda",
                    "Ukraine",
                    "United Arab Emirates",
                    "United Kingdom",
                    "United States",
                    "Uruguay",
                    "Uzbekistan",
                    "Vanuatu",
                    "Yemen",
                    "Zambia",
                    "Zimbabwe"
                  ],
                  "locationmode": "country names",
                  "locations": [
                    "Afghanistan",
                    "Albania",
                    "Algeria",
                    "Angola",
                    "Antigua and Barbuda",
                    "Argentina",
                    "Armenia",
                    "Aruba",
                    "Australia",
                    "Austria",
                    "Azerbaijan",
                    "Bahamas",
                    "Bahrain",
                    "Bangladesh",
                    "Barbados",
                    "Belarus",
                    "Belgium",
                    "Belize",
                    "Benin",
                    "Bermuda",
                    "Bhutan",
                    "Bosnia and Herzegovina",
                    "Botswana",
                    "Brazil",
                    "Bulgaria",
                    "Burkina Faso",
                    "Burundi",
                    "Cambodia",
                    "Cameroon",
                    "Canada",
                    "Cayman Islands",
                    "Central African Republic",
                    "Chad",
                    "Chile",
                    "China",
                    "Colombia",
                    "Comoros",
                    "Congo",
                    "Costa Rica",
                    "Croatia",
                    "Cuba",
                    "Cyprus",
                    "Czechia",
                    "Denmark",
                    "Djibouti",
                    "Dominica",
                    "Dominican Republic",
                    "Ecuador",
                    "Egypt",
                    "El Salvador",
                    "Equatorial Guinea",
                    "Eritrea",
                    "Estonia",
                    "Eswatini",
                    "Ethiopia",
                    "Fiji",
                    "Finland",
                    "France",
                    "Gabon",
                    "Gambia",
                    "Georgia",
                    "Germany",
                    "Ghana",
                    "Greece",
                    "Grenada",
                    "Guatemala",
                    "Guinea",
                    "Guinea-Bissau",
                    "Guyana",
                    "Haiti",
                    "Honduras",
                    "Hungary",
                    "Iceland",
                    "India",
                    "Indonesia",
                    "Iraq",
                    "Ireland",
                    "Israel",
                    "Italy",
                    "Jamaica",
                    "Japan",
                    "Jordan",
                    "Kazakhstan",
                    "Kenya",
                    "Kiribati",
                    "Kuwait",
                    "Kyrgyzstan",
                    "Latvia",
                    "Lebanon",
                    "Lesotho",
                    "Liberia",
                    "Libya",
                    "Lithuania",
                    "Luxembourg",
                    "Madagascar",
                    "Malawi",
                    "Malaysia",
                    "Maldives",
                    "Mali",
                    "Malta",
                    "Mauritania",
                    "Mauritius",
                    "Mexico",
                    "Mongolia",
                    "Montenegro",
                    "Morocco",
                    "Mozambique",
                    "Myanmar",
                    "Namibia",
                    "Nauru",
                    "Nepal",
                    "Netherlands",
                    "New Caledonia",
                    "New Zealand",
                    "Nicaragua",
                    "Niger",
                    "Nigeria",
                    "North Macedonia",
                    "Norway",
                    "Oman",
                    "Pakistan",
                    "Panama",
                    "Papua New Guinea",
                    "Paraguay",
                    "Peru",
                    "Philippines",
                    "Poland",
                    "Portugal",
                    "Puerto Rico",
                    "Qatar",
                    "Romania",
                    "Rwanda",
                    "Saint Kitts and Nevis",
                    "Saint Lucia",
                    "Saint Vincent and the Grenadines",
                    "Samoa",
                    "Sao Tome and Principe",
                    "Saudi Arabia",
                    "Senegal",
                    "Serbia",
                    "Seychelles",
                    "Sierra Leone",
                    "Singapore",
                    "Slovakia",
                    "Slovenia",
                    "Solomon Islands",
                    "Somalia",
                    "South Africa",
                    "South Sudan",
                    "Spain",
                    "Sri Lanka",
                    "Sudan",
                    "Suriname",
                    "Sweden",
                    "Switzerland",
                    "Tajikistan",
                    "Thailand",
                    "Togo",
                    "Tonga",
                    "Trinidad and Tobago",
                    "Tunisia",
                    "Turkey",
                    "Turkmenistan",
                    "Tuvalu",
                    "Uganda",
                    "Ukraine",
                    "United Arab Emirates",
                    "United Kingdom",
                    "United States",
                    "Uruguay",
                    "Uzbekistan",
                    "Vanuatu",
                    "Yemen",
                    "Zambia",
                    "Zimbabwe"
                  ],
                  "name": "",
                  "type": "choropleth",
                  "z": [
                    97.7,
                    100,
                    99.80413,
                    46.89061,
                    100,
                    100,
                    100,
                    100,
                    100,
                    100,
                    100,
                    100,
                    100,
                    96.2,
                    100,
                    100,
                    100,
                    97.113335,
                    41.410957,
                    100,
                    100,
                    100,
                    71.99476,
                    100,
                    99.7,
                    18.95724,
                    11.735556,
                    86.4,
                    64.72137,
                    100,
                    100,
                    15.465084,
                    11.080117,
                    100,
                    100,
                    100,
                    86.73714,
                    49.5171,
                    99.9,
                    100,
                    100,
                    100,
                    100,
                    100,
                    61.767082,
                    100,
                    100,
                    98.85,
                    100,
                    100,
                    66.74773,
                    52.171097,
                    100,
                    79.7305,
                    51.093983,
                    100,
                    100,
                    100,
                    91.57156,
                    62.273067,
                    100,
                    100,
                    85.87355,
                    100,
                    93.58645,
                    97.05527,
                    44.66868,
                    33.33547,
                    92.54054,
                    46.925533,
                    93.20671,
                    100,
                    100,
                    99,
                    96.95,
                    100,
                    100,
                    100,
                    100,
                    100,
                    100,
                    99.9,
                    100,
                    71.43794,
                    91.96303,
                    100,
                    99.98105,
                    100,
                    100,
                    47.352737,
                    27.53471,
                    69.70735,
                    100,
                    100,
                    33.735077,
                    14.866769,
                    100,
                    100,
                    50.561417,
                    100,
                    47.34842,
                    99.66165,
                    99.4,
                    98.1,
                    100,
                    100,
                    30.603832,
                    70.397194,
                    56.258694,
                    100,
                    89.9,
                    100,
                    100,
                    100,
                    88.90738,
                    19.25191,
                    55.4,
                    100,
                    100,
                    100,
                    75.37969,
                    96.704636,
                    60.4,
                    100,
                    99.31181,
                    96.842384,
                    100,
                    100,
                    100,
                    100,
                    100,
                    46.6,
                    100,
                    100,
                    100,
                    100,
                    76.55909,
                    100,
                    70.36894,
                    100,
                    100,
                    26.200886,
                    100,
                    100,
                    100,
                    73.34648,
                    49.73087,
                    84.38554,
                    7.2413383,
                    100,
                    100,
                    55.3897,
                    98.20477,
                    100,
                    100,
                    99.7793,
                    100,
                    53.997433,
                    100,
                    100,
                    100,
                    100,
                    100,
                    99.68923,
                    42.074417,
                    100,
                    100,
                    100,
                    100,
                    100,
                    100,
                    67.33327,
                    73.75793,
                    44.524475,
                    52.74767
                  ]
                }
              ],
              "layout": {
                "coloraxis": {
                  "colorbar": {
                    "title": {
                      "text": "% Electricity Access"
                    }
                  },
                  "colorscale": [
                    [
                      0,
                      "rgb(255,255,217)"
                    ],
                    [
                      0.125,
                      "rgb(237,248,177)"
                    ],
                    [
                      0.25,
                      "rgb(199,233,180)"
                    ],
                    [
                      0.375,
                      "rgb(127,205,187)"
                    ],
                    [
                      0.5,
                      "rgb(65,182,196)"
                    ],
                    [
                      0.625,
                      "rgb(29,145,192)"
                    ],
                    [
                      0.75,
                      "rgb(34,94,168)"
                    ],
                    [
                      0.875,
                      "rgb(37,52,148)"
                    ],
                    [
                      1,
                      "rgb(8,29,88)"
                    ]
                  ]
                },
                "geo": {
                  "center": {},
                  "domain": {
                    "x": [
                      0,
                      1
                    ],
                    "y": [
                      0,
                      1
                    ]
                  }
                },
                "legend": {
                  "tracegroupgap": 0
                },
                "template": {
                  "data": {
                    "bar": [
                      {
                        "error_x": {
                          "color": "#2a3f5f"
                        },
                        "error_y": {
                          "color": "#2a3f5f"
                        },
                        "marker": {
                          "line": {
                            "color": "#E5ECF6",
                            "width": 0.5
                          },
                          "pattern": {
                            "fillmode": "overlay",
                            "size": 10,
                            "solidity": 0.2
                          }
                        },
                        "type": "bar"
                      }
                    ],
                    "barpolar": [
                      {
                        "marker": {
                          "line": {
                            "color": "#E5ECF6",
                            "width": 0.5
                          },
                          "pattern": {
                            "fillmode": "overlay",
                            "size": 10,
                            "solidity": 0.2
                          }
                        },
                        "type": "barpolar"
                      }
                    ],
                    "carpet": [
                      {
                        "aaxis": {
                          "endlinecolor": "#2a3f5f",
                          "gridcolor": "white",
                          "linecolor": "white",
                          "minorgridcolor": "white",
                          "startlinecolor": "#2a3f5f"
                        },
                        "baxis": {
                          "endlinecolor": "#2a3f5f",
                          "gridcolor": "white",
                          "linecolor": "white",
                          "minorgridcolor": "white",
                          "startlinecolor": "#2a3f5f"
                        },
                        "type": "carpet"
                      }
                    ],
                    "choropleth": [
                      {
                        "colorbar": {
                          "outlinewidth": 0,
                          "ticks": ""
                        },
                        "type": "choropleth"
                      }
                    ],
                    "contour": [
                      {
                        "colorbar": {
                          "outlinewidth": 0,
                          "ticks": ""
                        },
                        "colorscale": [
                          [
                            0,
                            "#0d0887"
                          ],
                          [
                            0.1111111111111111,
                            "#46039f"
                          ],
                          [
                            0.2222222222222222,
                            "#7201a8"
                          ],
                          [
                            0.3333333333333333,
                            "#9c179e"
                          ],
                          [
                            0.4444444444444444,
                            "#bd3786"
                          ],
                          [
                            0.5555555555555556,
                            "#d8576b"
                          ],
                          [
                            0.6666666666666666,
                            "#ed7953"
                          ],
                          [
                            0.7777777777777778,
                            "#fb9f3a"
                          ],
                          [
                            0.8888888888888888,
                            "#fdca26"
                          ],
                          [
                            1,
                            "#f0f921"
                          ]
                        ],
                        "type": "contour"
                      }
                    ],
                    "contourcarpet": [
                      {
                        "colorbar": {
                          "outlinewidth": 0,
                          "ticks": ""
                        },
                        "type": "contourcarpet"
                      }
                    ],
                    "heatmap": [
                      {
                        "colorbar": {
                          "outlinewidth": 0,
                          "ticks": ""
                        },
                        "colorscale": [
                          [
                            0,
                            "#0d0887"
                          ],
                          [
                            0.1111111111111111,
                            "#46039f"
                          ],
                          [
                            0.2222222222222222,
                            "#7201a8"
                          ],
                          [
                            0.3333333333333333,
                            "#9c179e"
                          ],
                          [
                            0.4444444444444444,
                            "#bd3786"
                          ],
                          [
                            0.5555555555555556,
                            "#d8576b"
                          ],
                          [
                            0.6666666666666666,
                            "#ed7953"
                          ],
                          [
                            0.7777777777777778,
                            "#fb9f3a"
                          ],
                          [
                            0.8888888888888888,
                            "#fdca26"
                          ],
                          [
                            1,
                            "#f0f921"
                          ]
                        ],
                        "type": "heatmap"
                      }
                    ],
                    "heatmapgl": [
                      {
                        "colorbar": {
                          "outlinewidth": 0,
                          "ticks": ""
                        },
                        "colorscale": [
                          [
                            0,
                            "#0d0887"
                          ],
                          [
                            0.1111111111111111,
                            "#46039f"
                          ],
                          [
                            0.2222222222222222,
                            "#7201a8"
                          ],
                          [
                            0.3333333333333333,
                            "#9c179e"
                          ],
                          [
                            0.4444444444444444,
                            "#bd3786"
                          ],
                          [
                            0.5555555555555556,
                            "#d8576b"
                          ],
                          [
                            0.6666666666666666,
                            "#ed7953"
                          ],
                          [
                            0.7777777777777778,
                            "#fb9f3a"
                          ],
                          [
                            0.8888888888888888,
                            "#fdca26"
                          ],
                          [
                            1,
                            "#f0f921"
                          ]
                        ],
                        "type": "heatmapgl"
                      }
                    ],
                    "histogram": [
                      {
                        "marker": {
                          "pattern": {
                            "fillmode": "overlay",
                            "size": 10,
                            "solidity": 0.2
                          }
                        },
                        "type": "histogram"
                      }
                    ],
                    "histogram2d": [
                      {
                        "colorbar": {
                          "outlinewidth": 0,
                          "ticks": ""
                        },
                        "colorscale": [
                          [
                            0,
                            "#0d0887"
                          ],
                          [
                            0.1111111111111111,
                            "#46039f"
                          ],
                          [
                            0.2222222222222222,
                            "#7201a8"
                          ],
                          [
                            0.3333333333333333,
                            "#9c179e"
                          ],
                          [
                            0.4444444444444444,
                            "#bd3786"
                          ],
                          [
                            0.5555555555555556,
                            "#d8576b"
                          ],
                          [
                            0.6666666666666666,
                            "#ed7953"
                          ],
                          [
                            0.7777777777777778,
                            "#fb9f3a"
                          ],
                          [
                            0.8888888888888888,
                            "#fdca26"
                          ],
                          [
                            1,
                            "#f0f921"
                          ]
                        ],
                        "type": "histogram2d"
                      }
                    ],
                    "histogram2dcontour": [
                      {
                        "colorbar": {
                          "outlinewidth": 0,
                          "ticks": ""
                        },
                        "colorscale": [
                          [
                            0,
                            "#0d0887"
                          ],
                          [
                            0.1111111111111111,
                            "#46039f"
                          ],
                          [
                            0.2222222222222222,
                            "#7201a8"
                          ],
                          [
                            0.3333333333333333,
                            "#9c179e"
                          ],
                          [
                            0.4444444444444444,
                            "#bd3786"
                          ],
                          [
                            0.5555555555555556,
                            "#d8576b"
                          ],
                          [
                            0.6666666666666666,
                            "#ed7953"
                          ],
                          [
                            0.7777777777777778,
                            "#fb9f3a"
                          ],
                          [
                            0.8888888888888888,
                            "#fdca26"
                          ],
                          [
                            1,
                            "#f0f921"
                          ]
                        ],
                        "type": "histogram2dcontour"
                      }
                    ],
                    "mesh3d": [
                      {
                        "colorbar": {
                          "outlinewidth": 0,
                          "ticks": ""
                        },
                        "type": "mesh3d"
                      }
                    ],
                    "parcoords": [
                      {
                        "line": {
                          "colorbar": {
                            "outlinewidth": 0,
                            "ticks": ""
                          }
                        },
                        "type": "parcoords"
                      }
                    ],
                    "pie": [
                      {
                        "automargin": true,
                        "type": "pie"
                      }
                    ],
                    "scatter": [
                      {
                        "fillpattern": {
                          "fillmode": "overlay",
                          "size": 10,
                          "solidity": 0.2
                        },
                        "type": "scatter"
                      }
                    ],
                    "scatter3d": [
                      {
                        "line": {
                          "colorbar": {
                            "outlinewidth": 0,
                            "ticks": ""
                          }
                        },
                        "marker": {
                          "colorbar": {
                            "outlinewidth": 0,
                            "ticks": ""
                          }
                        },
                        "type": "scatter3d"
                      }
                    ],
                    "scattercarpet": [
                      {
                        "marker": {
                          "colorbar": {
                            "outlinewidth": 0,
                            "ticks": ""
                          }
                        },
                        "type": "scattercarpet"
                      }
                    ],
                    "scattergeo": [
                      {
                        "marker": {
                          "colorbar": {
                            "outlinewidth": 0,
                            "ticks": ""
                          }
                        },
                        "type": "scattergeo"
                      }
                    ],
                    "scattergl": [
                      {
                        "marker": {
                          "colorbar": {
                            "outlinewidth": 0,
                            "ticks": ""
                          }
                        },
                        "type": "scattergl"
                      }
                    ],
                    "scattermapbox": [
                      {
                        "marker": {
                          "colorbar": {
                            "outlinewidth": 0,
                            "ticks": ""
                          }
                        },
                        "type": "scattermapbox"
                      }
                    ],
                    "scatterpolar": [
                      {
                        "marker": {
                          "colorbar": {
                            "outlinewidth": 0,
                            "ticks": ""
                          }
                        },
                        "type": "scatterpolar"
                      }
                    ],
                    "scatterpolargl": [
                      {
                        "marker": {
                          "colorbar": {
                            "outlinewidth": 0,
                            "ticks": ""
                          }
                        },
                        "type": "scatterpolargl"
                      }
                    ],
                    "scatterternary": [
                      {
                        "marker": {
                          "colorbar": {
                            "outlinewidth": 0,
                            "ticks": ""
                          }
                        },
                        "type": "scatterternary"
                      }
                    ],
                    "surface": [
                      {
                        "colorbar": {
                          "outlinewidth": 0,
                          "ticks": ""
                        },
                        "colorscale": [
                          [
                            0,
                            "#0d0887"
                          ],
                          [
                            0.1111111111111111,
                            "#46039f"
                          ],
                          [
                            0.2222222222222222,
                            "#7201a8"
                          ],
                          [
                            0.3333333333333333,
                            "#9c179e"
                          ],
                          [
                            0.4444444444444444,
                            "#bd3786"
                          ],
                          [
                            0.5555555555555556,
                            "#d8576b"
                          ],
                          [
                            0.6666666666666666,
                            "#ed7953"
                          ],
                          [
                            0.7777777777777778,
                            "#fb9f3a"
                          ],
                          [
                            0.8888888888888888,
                            "#fdca26"
                          ],
                          [
                            1,
                            "#f0f921"
                          ]
                        ],
                        "type": "surface"
                      }
                    ],
                    "table": [
                      {
                        "cells": {
                          "fill": {
                            "color": "#EBF0F8"
                          },
                          "line": {
                            "color": "white"
                          }
                        },
                        "header": {
                          "fill": {
                            "color": "#C8D4E3"
                          },
                          "line": {
                            "color": "white"
                          }
                        },
                        "type": "table"
                      }
                    ]
                  },
                  "layout": {
                    "annotationdefaults": {
                      "arrowcolor": "#2a3f5f",
                      "arrowhead": 0,
                      "arrowwidth": 1
                    },
                    "autotypenumbers": "strict",
                    "coloraxis": {
                      "colorbar": {
                        "outlinewidth": 0,
                        "ticks": ""
                      }
                    },
                    "colorscale": {
                      "diverging": [
                        [
                          0,
                          "#8e0152"
                        ],
                        [
                          0.1,
                          "#c51b7d"
                        ],
                        [
                          0.2,
                          "#de77ae"
                        ],
                        [
                          0.3,
                          "#f1b6da"
                        ],
                        [
                          0.4,
                          "#fde0ef"
                        ],
                        [
                          0.5,
                          "#f7f7f7"
                        ],
                        [
                          0.6,
                          "#e6f5d0"
                        ],
                        [
                          0.7,
                          "#b8e186"
                        ],
                        [
                          0.8,
                          "#7fbc41"
                        ],
                        [
                          0.9,
                          "#4d9221"
                        ],
                        [
                          1,
                          "#276419"
                        ]
                      ],
                      "sequential": [
                        [
                          0,
                          "#0d0887"
                        ],
                        [
                          0.1111111111111111,
                          "#46039f"
                        ],
                        [
                          0.2222222222222222,
                          "#7201a8"
                        ],
                        [
                          0.3333333333333333,
                          "#9c179e"
                        ],
                        [
                          0.4444444444444444,
                          "#bd3786"
                        ],
                        [
                          0.5555555555555556,
                          "#d8576b"
                        ],
                        [
                          0.6666666666666666,
                          "#ed7953"
                        ],
                        [
                          0.7777777777777778,
                          "#fb9f3a"
                        ],
                        [
                          0.8888888888888888,
                          "#fdca26"
                        ],
                        [
                          1,
                          "#f0f921"
                        ]
                      ],
                      "sequentialminus": [
                        [
                          0,
                          "#0d0887"
                        ],
                        [
                          0.1111111111111111,
                          "#46039f"
                        ],
                        [
                          0.2222222222222222,
                          "#7201a8"
                        ],
                        [
                          0.3333333333333333,
                          "#9c179e"
                        ],
                        [
                          0.4444444444444444,
                          "#bd3786"
                        ],
                        [
                          0.5555555555555556,
                          "#d8576b"
                        ],
                        [
                          0.6666666666666666,
                          "#ed7953"
                        ],
                        [
                          0.7777777777777778,
                          "#fb9f3a"
                        ],
                        [
                          0.8888888888888888,
                          "#fdca26"
                        ],
                        [
                          1,
                          "#f0f921"
                        ]
                      ]
                    },
                    "colorway": [
                      "#636efa",
                      "#EF553B",
                      "#00cc96",
                      "#ab63fa",
                      "#FFA15A",
                      "#19d3f3",
                      "#FF6692",
                      "#B6E880",
                      "#FF97FF",
                      "#FECB52"
                    ],
                    "font": {
                      "color": "#2a3f5f"
                    },
                    "geo": {
                      "bgcolor": "white",
                      "lakecolor": "white",
                      "landcolor": "#E5ECF6",
                      "showlakes": true,
                      "showland": true,
                      "subunitcolor": "white"
                    },
                    "hoverlabel": {
                      "align": "left"
                    },
                    "hovermode": "closest",
                    "mapbox": {
                      "style": "light"
                    },
                    "paper_bgcolor": "white",
                    "plot_bgcolor": "#E5ECF6",
                    "polar": {
                      "angularaxis": {
                        "gridcolor": "white",
                        "linecolor": "white",
                        "ticks": ""
                      },
                      "bgcolor": "#E5ECF6",
                      "radialaxis": {
                        "gridcolor": "white",
                        "linecolor": "white",
                        "ticks": ""
                      }
                    },
                    "scene": {
                      "xaxis": {
                        "backgroundcolor": "#E5ECF6",
                        "gridcolor": "white",
                        "gridwidth": 2,
                        "linecolor": "white",
                        "showbackground": true,
                        "ticks": "",
                        "zerolinecolor": "white"
                      },
                      "yaxis": {
                        "backgroundcolor": "#E5ECF6",
                        "gridcolor": "white",
                        "gridwidth": 2,
                        "linecolor": "white",
                        "showbackground": true,
                        "ticks": "",
                        "zerolinecolor": "white"
                      },
                      "zaxis": {
                        "backgroundcolor": "#E5ECF6",
                        "gridcolor": "white",
                        "gridwidth": 2,
                        "linecolor": "white",
                        "showbackground": true,
                        "ticks": "",
                        "zerolinecolor": "white"
                      }
                    },
                    "shapedefaults": {
                      "line": {
                        "color": "#2a3f5f"
                      }
                    },
                    "ternary": {
                      "aaxis": {
                        "gridcolor": "white",
                        "linecolor": "white",
                        "ticks": ""
                      },
                      "baxis": {
                        "gridcolor": "white",
                        "linecolor": "white",
                        "ticks": ""
                      },
                      "bgcolor": "#E5ECF6",
                      "caxis": {
                        "gridcolor": "white",
                        "linecolor": "white",
                        "ticks": ""
                      }
                    },
                    "title": {
                      "x": 0.05
                    },
                    "xaxis": {
                      "automargin": true,
                      "gridcolor": "white",
                      "linecolor": "white",
                      "ticks": "",
                      "title": {
                        "standoff": 15
                      },
                      "zerolinecolor": "white",
                      "zerolinewidth": 2
                    },
                    "yaxis": {
                      "automargin": true,
                      "gridcolor": "white",
                      "linecolor": "white",
                      "ticks": "",
                      "title": {
                        "standoff": 15
                      },
                      "zerolinecolor": "white",
                      "zerolinewidth": 2
                    }
                  }
                },
                "title": {
                  "text": "Global Electricity Access – 2020"
                }
              }
            }
          },
          "metadata": {},
          "output_type": "display_data"
        },
        {
          "data": {
            "application/vnd.plotly.v1+json": {
              "config": {
                "plotlyServerURL": "https://plot.ly"
              },
              "data": [
                {
                  "coloraxis": "coloraxis",
                  "geo": "geo",
                  "hovertemplate": "<b>%{hovertext}</b><br><br>country=%{location}<br>% Electricity Access=%{z}<extra></extra>",
                  "hovertext": [
                    "Afghanistan",
                    "Albania",
                    "Algeria",
                    "Angola",
                    "Antigua and Barbuda",
                    "Argentina",
                    "Armenia",
                    "Aruba",
                    "Australia",
                    "Austria",
                    "Azerbaijan",
                    "Bahamas",
                    "Bahrain",
                    "Bangladesh",
                    "Barbados",
                    "Belarus",
                    "Belgium",
                    "Belize",
                    "Benin",
                    "Bermuda",
                    "Bhutan",
                    "Bosnia and Herzegovina",
                    "Botswana",
                    "Brazil",
                    "Bulgaria",
                    "Burkina Faso",
                    "Burundi",
                    "Cambodia",
                    "Cameroon",
                    "Canada",
                    "Cayman Islands",
                    "Central African Republic",
                    "Chad",
                    "Chile",
                    "China",
                    "Colombia",
                    "Comoros",
                    "Congo",
                    "Costa Rica",
                    "Croatia",
                    "Cuba",
                    "Cyprus",
                    "Czechia",
                    "Denmark",
                    "Djibouti",
                    "Dominica",
                    "Dominican Republic",
                    "Ecuador",
                    "Egypt",
                    "El Salvador",
                    "Equatorial Guinea",
                    "Eritrea",
                    "Estonia",
                    "Eswatini",
                    "Ethiopia",
                    "Fiji",
                    "Finland",
                    "France",
                    "Gabon",
                    "Gambia",
                    "Georgia",
                    "Germany",
                    "Ghana",
                    "Greece",
                    "Grenada",
                    "Guatemala",
                    "Guinea",
                    "Guinea-Bissau",
                    "Guyana",
                    "Haiti",
                    "Honduras",
                    "Hungary",
                    "Iceland",
                    "India",
                    "Indonesia",
                    "Iraq",
                    "Ireland",
                    "Israel",
                    "Italy",
                    "Jamaica",
                    "Japan",
                    "Jordan",
                    "Kazakhstan",
                    "Kenya",
                    "Kiribati",
                    "Kuwait",
                    "Kyrgyzstan",
                    "Latvia",
                    "Lebanon",
                    "Lesotho",
                    "Liberia",
                    "Libya",
                    "Lithuania",
                    "Luxembourg",
                    "Madagascar",
                    "Malawi",
                    "Malaysia",
                    "Maldives",
                    "Mali",
                    "Malta",
                    "Mauritania",
                    "Mauritius",
                    "Mexico",
                    "Mongolia",
                    "Montenegro",
                    "Morocco",
                    "Mozambique",
                    "Myanmar",
                    "Namibia",
                    "Nauru",
                    "Nepal",
                    "Netherlands",
                    "New Caledonia",
                    "New Zealand",
                    "Nicaragua",
                    "Niger",
                    "Nigeria",
                    "North Macedonia",
                    "Norway",
                    "Oman",
                    "Pakistan",
                    "Panama",
                    "Papua New Guinea",
                    "Paraguay",
                    "Peru",
                    "Philippines",
                    "Poland",
                    "Portugal",
                    "Puerto Rico",
                    "Qatar",
                    "Romania",
                    "Rwanda",
                    "Saint Kitts and Nevis",
                    "Saint Lucia",
                    "Saint Vincent and the Grenadines",
                    "Samoa",
                    "Sao Tome and Principe",
                    "Saudi Arabia",
                    "Senegal",
                    "Serbia",
                    "Seychelles",
                    "Sierra Leone",
                    "Singapore",
                    "Slovakia",
                    "Slovenia",
                    "Solomon Islands",
                    "Somalia",
                    "South Africa",
                    "South Sudan",
                    "Spain",
                    "Sri Lanka",
                    "Sudan",
                    "Suriname",
                    "Sweden",
                    "Switzerland",
                    "Tajikistan",
                    "Thailand",
                    "Togo",
                    "Tonga",
                    "Trinidad and Tobago",
                    "Tunisia",
                    "Turkey",
                    "Turkmenistan",
                    "Tuvalu",
                    "Uganda",
                    "Ukraine",
                    "United Arab Emirates",
                    "United Kingdom",
                    "United States",
                    "Uruguay",
                    "Uzbekistan",
                    "Vanuatu",
                    "Yemen",
                    "Zambia",
                    "Zimbabwe"
                  ],
                  "locationmode": "country names",
                  "locations": [
                    "Afghanistan",
                    "Albania",
                    "Algeria",
                    "Angola",
                    "Antigua and Barbuda",
                    "Argentina",
                    "Armenia",
                    "Aruba",
                    "Australia",
                    "Austria",
                    "Azerbaijan",
                    "Bahamas",
                    "Bahrain",
                    "Bangladesh",
                    "Barbados",
                    "Belarus",
                    "Belgium",
                    "Belize",
                    "Benin",
                    "Bermuda",
                    "Bhutan",
                    "Bosnia and Herzegovina",
                    "Botswana",
                    "Brazil",
                    "Bulgaria",
                    "Burkina Faso",
                    "Burundi",
                    "Cambodia",
                    "Cameroon",
                    "Canada",
                    "Cayman Islands",
                    "Central African Republic",
                    "Chad",
                    "Chile",
                    "China",
                    "Colombia",
                    "Comoros",
                    "Congo",
                    "Costa Rica",
                    "Croatia",
                    "Cuba",
                    "Cyprus",
                    "Czechia",
                    "Denmark",
                    "Djibouti",
                    "Dominica",
                    "Dominican Republic",
                    "Ecuador",
                    "Egypt",
                    "El Salvador",
                    "Equatorial Guinea",
                    "Eritrea",
                    "Estonia",
                    "Eswatini",
                    "Ethiopia",
                    "Fiji",
                    "Finland",
                    "France",
                    "Gabon",
                    "Gambia",
                    "Georgia",
                    "Germany",
                    "Ghana",
                    "Greece",
                    "Grenada",
                    "Guatemala",
                    "Guinea",
                    "Guinea-Bissau",
                    "Guyana",
                    "Haiti",
                    "Honduras",
                    "Hungary",
                    "Iceland",
                    "India",
                    "Indonesia",
                    "Iraq",
                    "Ireland",
                    "Israel",
                    "Italy",
                    "Jamaica",
                    "Japan",
                    "Jordan",
                    "Kazakhstan",
                    "Kenya",
                    "Kiribati",
                    "Kuwait",
                    "Kyrgyzstan",
                    "Latvia",
                    "Lebanon",
                    "Lesotho",
                    "Liberia",
                    "Libya",
                    "Lithuania",
                    "Luxembourg",
                    "Madagascar",
                    "Malawi",
                    "Malaysia",
                    "Maldives",
                    "Mali",
                    "Malta",
                    "Mauritania",
                    "Mauritius",
                    "Mexico",
                    "Mongolia",
                    "Montenegro",
                    "Morocco",
                    "Mozambique",
                    "Myanmar",
                    "Namibia",
                    "Nauru",
                    "Nepal",
                    "Netherlands",
                    "New Caledonia",
                    "New Zealand",
                    "Nicaragua",
                    "Niger",
                    "Nigeria",
                    "North Macedonia",
                    "Norway",
                    "Oman",
                    "Pakistan",
                    "Panama",
                    "Papua New Guinea",
                    "Paraguay",
                    "Peru",
                    "Philippines",
                    "Poland",
                    "Portugal",
                    "Puerto Rico",
                    "Qatar",
                    "Romania",
                    "Rwanda",
                    "Saint Kitts and Nevis",
                    "Saint Lucia",
                    "Saint Vincent and the Grenadines",
                    "Samoa",
                    "Sao Tome and Principe",
                    "Saudi Arabia",
                    "Senegal",
                    "Serbia",
                    "Seychelles",
                    "Sierra Leone",
                    "Singapore",
                    "Slovakia",
                    "Slovenia",
                    "Solomon Islands",
                    "Somalia",
                    "South Africa",
                    "South Sudan",
                    "Spain",
                    "Sri Lanka",
                    "Sudan",
                    "Suriname",
                    "Sweden",
                    "Switzerland",
                    "Tajikistan",
                    "Thailand",
                    "Togo",
                    "Tonga",
                    "Trinidad and Tobago",
                    "Tunisia",
                    "Turkey",
                    "Turkmenistan",
                    "Tuvalu",
                    "Uganda",
                    "Ukraine",
                    "United Arab Emirates",
                    "United Kingdom",
                    "United States",
                    "Uruguay",
                    "Uzbekistan",
                    "Vanuatu",
                    "Yemen",
                    "Zambia",
                    "Zimbabwe"
                  ],
                  "name": "",
                  "type": "choropleth",
                  "z": [
                    97.7,
                    100,
                    99.80413,
                    46.89061,
                    100,
                    100,
                    100,
                    100,
                    100,
                    100,
                    100,
                    100,
                    100,
                    96.2,
                    100,
                    100,
                    100,
                    97.113335,
                    41.410957,
                    100,
                    100,
                    100,
                    71.99476,
                    100,
                    99.7,
                    18.95724,
                    11.735556,
                    86.4,
                    64.72137,
                    100,
                    100,
                    15.465084,
                    11.080117,
                    100,
                    100,
                    100,
                    86.73714,
                    49.5171,
                    99.9,
                    100,
                    100,
                    100,
                    100,
                    100,
                    61.767082,
                    100,
                    100,
                    98.85,
                    100,
                    100,
                    66.74773,
                    52.171097,
                    100,
                    79.7305,
                    51.093983,
                    100,
                    100,
                    100,
                    91.57156,
                    62.273067,
                    100,
                    100,
                    85.87355,
                    100,
                    93.58645,
                    97.05527,
                    44.66868,
                    33.33547,
                    92.54054,
                    46.925533,
                    93.20671,
                    100,
                    100,
                    99,
                    96.95,
                    100,
                    100,
                    100,
                    100,
                    100,
                    100,
                    99.9,
                    100,
                    71.43794,
                    91.96303,
                    100,
                    99.98105,
                    100,
                    100,
                    47.352737,
                    27.53471,
                    69.70735,
                    100,
                    100,
                    33.735077,
                    14.866769,
                    100,
                    100,
                    50.561417,
                    100,
                    47.34842,
                    99.66165,
                    99.4,
                    98.1,
                    100,
                    100,
                    30.603832,
                    70.397194,
                    56.258694,
                    100,
                    89.9,
                    100,
                    100,
                    100,
                    88.90738,
                    19.25191,
                    55.4,
                    100,
                    100,
                    100,
                    75.37969,
                    96.704636,
                    60.4,
                    100,
                    99.31181,
                    96.842384,
                    100,
                    100,
                    100,
                    100,
                    100,
                    46.6,
                    100,
                    100,
                    100,
                    100,
                    76.55909,
                    100,
                    70.36894,
                    100,
                    100,
                    26.200886,
                    100,
                    100,
                    100,
                    73.34648,
                    49.73087,
                    84.38554,
                    7.2413383,
                    100,
                    100,
                    55.3897,
                    98.20477,
                    100,
                    100,
                    99.7793,
                    100,
                    53.997433,
                    100,
                    100,
                    100,
                    100,
                    100,
                    99.68923,
                    42.074417,
                    100,
                    100,
                    100,
                    100,
                    100,
                    100,
                    67.33327,
                    73.75793,
                    44.524475,
                    52.74767
                  ]
                }
              ],
              "layout": {
                "coloraxis": {
                  "colorbar": {
                    "title": {
                      "text": "Access to Electricity (%)"
                    }
                  },
                  "colorscale": [
                    [
                      0,
                      "rgb(255,255,217)"
                    ],
                    [
                      0.125,
                      "rgb(237,248,177)"
                    ],
                    [
                      0.25,
                      "rgb(199,233,180)"
                    ],
                    [
                      0.375,
                      "rgb(127,205,187)"
                    ],
                    [
                      0.5,
                      "rgb(65,182,196)"
                    ],
                    [
                      0.625,
                      "rgb(29,145,192)"
                    ],
                    [
                      0.75,
                      "rgb(34,94,168)"
                    ],
                    [
                      0.875,
                      "rgb(37,52,148)"
                    ],
                    [
                      1,
                      "rgb(8,29,88)"
                    ]
                  ]
                },
                "geo": {
                  "center": {},
                  "coastlinecolor": "Black",
                  "domain": {
                    "x": [
                      0,
                      1
                    ],
                    "y": [
                      0,
                      1
                    ]
                  },
                  "showcoastlines": true,
                  "showframe": false
                },
                "legend": {
                  "tracegroupgap": 0
                },
                "margin": {
                  "b": 0,
                  "l": 0,
                  "r": 0,
                  "t": 50
                },
                "template": {
                  "data": {
                    "bar": [
                      {
                        "error_x": {
                          "color": "#2a3f5f"
                        },
                        "error_y": {
                          "color": "#2a3f5f"
                        },
                        "marker": {
                          "line": {
                            "color": "#E5ECF6",
                            "width": 0.5
                          },
                          "pattern": {
                            "fillmode": "overlay",
                            "size": 10,
                            "solidity": 0.2
                          }
                        },
                        "type": "bar"
                      }
                    ],
                    "barpolar": [
                      {
                        "marker": {
                          "line": {
                            "color": "#E5ECF6",
                            "width": 0.5
                          },
                          "pattern": {
                            "fillmode": "overlay",
                            "size": 10,
                            "solidity": 0.2
                          }
                        },
                        "type": "barpolar"
                      }
                    ],
                    "carpet": [
                      {
                        "aaxis": {
                          "endlinecolor": "#2a3f5f",
                          "gridcolor": "white",
                          "linecolor": "white",
                          "minorgridcolor": "white",
                          "startlinecolor": "#2a3f5f"
                        },
                        "baxis": {
                          "endlinecolor": "#2a3f5f",
                          "gridcolor": "white",
                          "linecolor": "white",
                          "minorgridcolor": "white",
                          "startlinecolor": "#2a3f5f"
                        },
                        "type": "carpet"
                      }
                    ],
                    "choropleth": [
                      {
                        "colorbar": {
                          "outlinewidth": 0,
                          "ticks": ""
                        },
                        "type": "choropleth"
                      }
                    ],
                    "contour": [
                      {
                        "colorbar": {
                          "outlinewidth": 0,
                          "ticks": ""
                        },
                        "colorscale": [
                          [
                            0,
                            "#0d0887"
                          ],
                          [
                            0.1111111111111111,
                            "#46039f"
                          ],
                          [
                            0.2222222222222222,
                            "#7201a8"
                          ],
                          [
                            0.3333333333333333,
                            "#9c179e"
                          ],
                          [
                            0.4444444444444444,
                            "#bd3786"
                          ],
                          [
                            0.5555555555555556,
                            "#d8576b"
                          ],
                          [
                            0.6666666666666666,
                            "#ed7953"
                          ],
                          [
                            0.7777777777777778,
                            "#fb9f3a"
                          ],
                          [
                            0.8888888888888888,
                            "#fdca26"
                          ],
                          [
                            1,
                            "#f0f921"
                          ]
                        ],
                        "type": "contour"
                      }
                    ],
                    "contourcarpet": [
                      {
                        "colorbar": {
                          "outlinewidth": 0,
                          "ticks": ""
                        },
                        "type": "contourcarpet"
                      }
                    ],
                    "heatmap": [
                      {
                        "colorbar": {
                          "outlinewidth": 0,
                          "ticks": ""
                        },
                        "colorscale": [
                          [
                            0,
                            "#0d0887"
                          ],
                          [
                            0.1111111111111111,
                            "#46039f"
                          ],
                          [
                            0.2222222222222222,
                            "#7201a8"
                          ],
                          [
                            0.3333333333333333,
                            "#9c179e"
                          ],
                          [
                            0.4444444444444444,
                            "#bd3786"
                          ],
                          [
                            0.5555555555555556,
                            "#d8576b"
                          ],
                          [
                            0.6666666666666666,
                            "#ed7953"
                          ],
                          [
                            0.7777777777777778,
                            "#fb9f3a"
                          ],
                          [
                            0.8888888888888888,
                            "#fdca26"
                          ],
                          [
                            1,
                            "#f0f921"
                          ]
                        ],
                        "type": "heatmap"
                      }
                    ],
                    "heatmapgl": [
                      {
                        "colorbar": {
                          "outlinewidth": 0,
                          "ticks": ""
                        },
                        "colorscale": [
                          [
                            0,
                            "#0d0887"
                          ],
                          [
                            0.1111111111111111,
                            "#46039f"
                          ],
                          [
                            0.2222222222222222,
                            "#7201a8"
                          ],
                          [
                            0.3333333333333333,
                            "#9c179e"
                          ],
                          [
                            0.4444444444444444,
                            "#bd3786"
                          ],
                          [
                            0.5555555555555556,
                            "#d8576b"
                          ],
                          [
                            0.6666666666666666,
                            "#ed7953"
                          ],
                          [
                            0.7777777777777778,
                            "#fb9f3a"
                          ],
                          [
                            0.8888888888888888,
                            "#fdca26"
                          ],
                          [
                            1,
                            "#f0f921"
                          ]
                        ],
                        "type": "heatmapgl"
                      }
                    ],
                    "histogram": [
                      {
                        "marker": {
                          "pattern": {
                            "fillmode": "overlay",
                            "size": 10,
                            "solidity": 0.2
                          }
                        },
                        "type": "histogram"
                      }
                    ],
                    "histogram2d": [
                      {
                        "colorbar": {
                          "outlinewidth": 0,
                          "ticks": ""
                        },
                        "colorscale": [
                          [
                            0,
                            "#0d0887"
                          ],
                          [
                            0.1111111111111111,
                            "#46039f"
                          ],
                          [
                            0.2222222222222222,
                            "#7201a8"
                          ],
                          [
                            0.3333333333333333,
                            "#9c179e"
                          ],
                          [
                            0.4444444444444444,
                            "#bd3786"
                          ],
                          [
                            0.5555555555555556,
                            "#d8576b"
                          ],
                          [
                            0.6666666666666666,
                            "#ed7953"
                          ],
                          [
                            0.7777777777777778,
                            "#fb9f3a"
                          ],
                          [
                            0.8888888888888888,
                            "#fdca26"
                          ],
                          [
                            1,
                            "#f0f921"
                          ]
                        ],
                        "type": "histogram2d"
                      }
                    ],
                    "histogram2dcontour": [
                      {
                        "colorbar": {
                          "outlinewidth": 0,
                          "ticks": ""
                        },
                        "colorscale": [
                          [
                            0,
                            "#0d0887"
                          ],
                          [
                            0.1111111111111111,
                            "#46039f"
                          ],
                          [
                            0.2222222222222222,
                            "#7201a8"
                          ],
                          [
                            0.3333333333333333,
                            "#9c179e"
                          ],
                          [
                            0.4444444444444444,
                            "#bd3786"
                          ],
                          [
                            0.5555555555555556,
                            "#d8576b"
                          ],
                          [
                            0.6666666666666666,
                            "#ed7953"
                          ],
                          [
                            0.7777777777777778,
                            "#fb9f3a"
                          ],
                          [
                            0.8888888888888888,
                            "#fdca26"
                          ],
                          [
                            1,
                            "#f0f921"
                          ]
                        ],
                        "type": "histogram2dcontour"
                      }
                    ],
                    "mesh3d": [
                      {
                        "colorbar": {
                          "outlinewidth": 0,
                          "ticks": ""
                        },
                        "type": "mesh3d"
                      }
                    ],
                    "parcoords": [
                      {
                        "line": {
                          "colorbar": {
                            "outlinewidth": 0,
                            "ticks": ""
                          }
                        },
                        "type": "parcoords"
                      }
                    ],
                    "pie": [
                      {
                        "automargin": true,
                        "type": "pie"
                      }
                    ],
                    "scatter": [
                      {
                        "fillpattern": {
                          "fillmode": "overlay",
                          "size": 10,
                          "solidity": 0.2
                        },
                        "type": "scatter"
                      }
                    ],
                    "scatter3d": [
                      {
                        "line": {
                          "colorbar": {
                            "outlinewidth": 0,
                            "ticks": ""
                          }
                        },
                        "marker": {
                          "colorbar": {
                            "outlinewidth": 0,
                            "ticks": ""
                          }
                        },
                        "type": "scatter3d"
                      }
                    ],
                    "scattercarpet": [
                      {
                        "marker": {
                          "colorbar": {
                            "outlinewidth": 0,
                            "ticks": ""
                          }
                        },
                        "type": "scattercarpet"
                      }
                    ],
                    "scattergeo": [
                      {
                        "marker": {
                          "colorbar": {
                            "outlinewidth": 0,
                            "ticks": ""
                          }
                        },
                        "type": "scattergeo"
                      }
                    ],
                    "scattergl": [
                      {
                        "marker": {
                          "colorbar": {
                            "outlinewidth": 0,
                            "ticks": ""
                          }
                        },
                        "type": "scattergl"
                      }
                    ],
                    "scattermapbox": [
                      {
                        "marker": {
                          "colorbar": {
                            "outlinewidth": 0,
                            "ticks": ""
                          }
                        },
                        "type": "scattermapbox"
                      }
                    ],
                    "scatterpolar": [
                      {
                        "marker": {
                          "colorbar": {
                            "outlinewidth": 0,
                            "ticks": ""
                          }
                        },
                        "type": "scatterpolar"
                      }
                    ],
                    "scatterpolargl": [
                      {
                        "marker": {
                          "colorbar": {
                            "outlinewidth": 0,
                            "ticks": ""
                          }
                        },
                        "type": "scatterpolargl"
                      }
                    ],
                    "scatterternary": [
                      {
                        "marker": {
                          "colorbar": {
                            "outlinewidth": 0,
                            "ticks": ""
                          }
                        },
                        "type": "scatterternary"
                      }
                    ],
                    "surface": [
                      {
                        "colorbar": {
                          "outlinewidth": 0,
                          "ticks": ""
                        },
                        "colorscale": [
                          [
                            0,
                            "#0d0887"
                          ],
                          [
                            0.1111111111111111,
                            "#46039f"
                          ],
                          [
                            0.2222222222222222,
                            "#7201a8"
                          ],
                          [
                            0.3333333333333333,
                            "#9c179e"
                          ],
                          [
                            0.4444444444444444,
                            "#bd3786"
                          ],
                          [
                            0.5555555555555556,
                            "#d8576b"
                          ],
                          [
                            0.6666666666666666,
                            "#ed7953"
                          ],
                          [
                            0.7777777777777778,
                            "#fb9f3a"
                          ],
                          [
                            0.8888888888888888,
                            "#fdca26"
                          ],
                          [
                            1,
                            "#f0f921"
                          ]
                        ],
                        "type": "surface"
                      }
                    ],
                    "table": [
                      {
                        "cells": {
                          "fill": {
                            "color": "#EBF0F8"
                          },
                          "line": {
                            "color": "white"
                          }
                        },
                        "header": {
                          "fill": {
                            "color": "#C8D4E3"
                          },
                          "line": {
                            "color": "white"
                          }
                        },
                        "type": "table"
                      }
                    ]
                  },
                  "layout": {
                    "annotationdefaults": {
                      "arrowcolor": "#2a3f5f",
                      "arrowhead": 0,
                      "arrowwidth": 1
                    },
                    "autotypenumbers": "strict",
                    "coloraxis": {
                      "colorbar": {
                        "outlinewidth": 0,
                        "ticks": ""
                      }
                    },
                    "colorscale": {
                      "diverging": [
                        [
                          0,
                          "#8e0152"
                        ],
                        [
                          0.1,
                          "#c51b7d"
                        ],
                        [
                          0.2,
                          "#de77ae"
                        ],
                        [
                          0.3,
                          "#f1b6da"
                        ],
                        [
                          0.4,
                          "#fde0ef"
                        ],
                        [
                          0.5,
                          "#f7f7f7"
                        ],
                        [
                          0.6,
                          "#e6f5d0"
                        ],
                        [
                          0.7,
                          "#b8e186"
                        ],
                        [
                          0.8,
                          "#7fbc41"
                        ],
                        [
                          0.9,
                          "#4d9221"
                        ],
                        [
                          1,
                          "#276419"
                        ]
                      ],
                      "sequential": [
                        [
                          0,
                          "#0d0887"
                        ],
                        [
                          0.1111111111111111,
                          "#46039f"
                        ],
                        [
                          0.2222222222222222,
                          "#7201a8"
                        ],
                        [
                          0.3333333333333333,
                          "#9c179e"
                        ],
                        [
                          0.4444444444444444,
                          "#bd3786"
                        ],
                        [
                          0.5555555555555556,
                          "#d8576b"
                        ],
                        [
                          0.6666666666666666,
                          "#ed7953"
                        ],
                        [
                          0.7777777777777778,
                          "#fb9f3a"
                        ],
                        [
                          0.8888888888888888,
                          "#fdca26"
                        ],
                        [
                          1,
                          "#f0f921"
                        ]
                      ],
                      "sequentialminus": [
                        [
                          0,
                          "#0d0887"
                        ],
                        [
                          0.1111111111111111,
                          "#46039f"
                        ],
                        [
                          0.2222222222222222,
                          "#7201a8"
                        ],
                        [
                          0.3333333333333333,
                          "#9c179e"
                        ],
                        [
                          0.4444444444444444,
                          "#bd3786"
                        ],
                        [
                          0.5555555555555556,
                          "#d8576b"
                        ],
                        [
                          0.6666666666666666,
                          "#ed7953"
                        ],
                        [
                          0.7777777777777778,
                          "#fb9f3a"
                        ],
                        [
                          0.8888888888888888,
                          "#fdca26"
                        ],
                        [
                          1,
                          "#f0f921"
                        ]
                      ]
                    },
                    "colorway": [
                      "#636efa",
                      "#EF553B",
                      "#00cc96",
                      "#ab63fa",
                      "#FFA15A",
                      "#19d3f3",
                      "#FF6692",
                      "#B6E880",
                      "#FF97FF",
                      "#FECB52"
                    ],
                    "font": {
                      "color": "#2a3f5f"
                    },
                    "geo": {
                      "bgcolor": "white",
                      "lakecolor": "white",
                      "landcolor": "#E5ECF6",
                      "showlakes": true,
                      "showland": true,
                      "subunitcolor": "white"
                    },
                    "hoverlabel": {
                      "align": "left"
                    },
                    "hovermode": "closest",
                    "mapbox": {
                      "style": "light"
                    },
                    "paper_bgcolor": "white",
                    "plot_bgcolor": "#E5ECF6",
                    "polar": {
                      "angularaxis": {
                        "gridcolor": "white",
                        "linecolor": "white",
                        "ticks": ""
                      },
                      "bgcolor": "#E5ECF6",
                      "radialaxis": {
                        "gridcolor": "white",
                        "linecolor": "white",
                        "ticks": ""
                      }
                    },
                    "scene": {
                      "xaxis": {
                        "backgroundcolor": "#E5ECF6",
                        "gridcolor": "white",
                        "gridwidth": 2,
                        "linecolor": "white",
                        "showbackground": true,
                        "ticks": "",
                        "zerolinecolor": "white"
                      },
                      "yaxis": {
                        "backgroundcolor": "#E5ECF6",
                        "gridcolor": "white",
                        "gridwidth": 2,
                        "linecolor": "white",
                        "showbackground": true,
                        "ticks": "",
                        "zerolinecolor": "white"
                      },
                      "zaxis": {
                        "backgroundcolor": "#E5ECF6",
                        "gridcolor": "white",
                        "gridwidth": 2,
                        "linecolor": "white",
                        "showbackground": true,
                        "ticks": "",
                        "zerolinecolor": "white"
                      }
                    },
                    "shapedefaults": {
                      "line": {
                        "color": "#2a3f5f"
                      }
                    },
                    "ternary": {
                      "aaxis": {
                        "gridcolor": "white",
                        "linecolor": "white",
                        "ticks": ""
                      },
                      "baxis": {
                        "gridcolor": "white",
                        "linecolor": "white",
                        "ticks": ""
                      },
                      "bgcolor": "#E5ECF6",
                      "caxis": {
                        "gridcolor": "white",
                        "linecolor": "white",
                        "ticks": ""
                      }
                    },
                    "title": {
                      "x": 0.05
                    },
                    "xaxis": {
                      "automargin": true,
                      "gridcolor": "white",
                      "linecolor": "white",
                      "ticks": "",
                      "title": {
                        "standoff": 15
                      },
                      "zerolinecolor": "white",
                      "zerolinewidth": 2
                    },
                    "yaxis": {
                      "automargin": true,
                      "gridcolor": "white",
                      "linecolor": "white",
                      "ticks": "",
                      "title": {
                        "standoff": 15
                      },
                      "zerolinecolor": "white",
                      "zerolinewidth": 2
                    }
                  }
                },
                "title": {
                  "text": "Global Electricity Access – 2020"
                }
              }
            }
          },
          "metadata": {},
          "output_type": "display_data"
        }
      ],
      "source": [
        "# filter by year\n",
        "\n",
        "for year in [2000, 2010, 2020]:\n",
        "    df_year = processed_df[processed_df[\"year\"] == year]\n",
        "    fig = px.choropleth(\n",
        "        df_year,\n",
        "        locations=\"country\",\n",
        "        locationmode=\"country names\",\n",
        "        color=\"access_to_electricity\",\n",
        "        hover_name=\"country\",\n",
        "        color_continuous_scale=\"YlGnBu\",\n",
        "        title=f\"Global Electricity Access – {year}\",\n",
        "        labels={'access_to_electricity': '% Electricity Access'}\n",
        "    )\n",
        "    fig.show()\n",
        "\n",
        "fig.update_layout(\n",
        "    geo=dict(showframe=False, showcoastlines=True, coastlinecolor='Black'),\n",
        "    margin=dict(l=0, r=0, t=50, b=0),\n",
        "    coloraxis_colorbar=dict(title='Access to Electricity (%)') )"
      ]
    },
    {
      "cell_type": "markdown",
      "metadata": {},
      "source": [
        "The visualization confirms the critical need for investment in electricity infrastructure across many African countries. This spatial insight supports the focus of SDG 7 on closing energy access gaps globally. The countries that did not appear on the map are missing due to the absence of data.\n",
        "\n"
      ]
    },
    {
      "cell_type": "markdown",
      "metadata": {
        "id": "uFQo3ycuO-v6"
      },
      "source": [
        "### Hypothesis"
      ]
    },
    {
      "cell_type": "markdown",
      "metadata": {},
      "source": [
        "### GDP per Capita vs Access to clean Energy\n",
        "\n",
        "countries with lower GDP per capita tend to have lower access to clean energy\n",
        "- Access to electriciy\n",
        "- access to clean fuels for cooking\n",
        "\n",
        "this will be analysed using scatter plots and correlation coefficients.\n"
      ]
    },
    {
      "cell_type": "code",
      "execution_count": null,
      "metadata": {},
      "outputs": [
        {
          "data": {
            "image/png": "[encoded data removed]",
            "text/plain": [
              "<Figure size 640x480 with 1 Axes>"
            ]
          },
          "metadata": {},
          "output_type": "display_data"
        }
      ],
      "source": [
        "# Filter by year\n",
        "latest_year = processed_df['year'].max()\n",
        "\n",
        "\n",
        "# Scatter plot: GDP per capita vs Access to Electricity\n",
        "sns.scatterplot(\n",
        "    data=df_year,\n",
        "    x='gdp_per_capita',\n",
        "    y='access_to_electricity'\n",
        ")\n",
        "plt.title('GDP per Capita vs Access to Electricity (2020)')\n",
        "plt.xlabel('GDP per Capita (USD)')\n",
        "plt.ylabel('Access to Electricity (%)')\n",
        "plt.grid(True)\n",
        "plt.show()"
      ]
    },
    {
      "cell_type": "code",
      "execution_count": null,
      "metadata": {},
      "outputs": [
        {
          "name": "stderr",
          "output_type": "stream",
          "text": [
            "C:\\Users\\organ\\AppData\\Local\\Temp\\ipykernel_18720\\290658529.py:12: FutureWarning:\n",
            "\n",
            "\n",
            "\n",
            "Passing `palette` without assigning `hue` is deprecated and will be removed in v0.14.0. Assign the `x` variable to `hue` and set `legend=False` for the same effect.\n",
            "\n",
            "\n"
          ]
        },
        {
          "data": {
            "image/png": "[encoded data removed]",
            "text/plain": [
              "<Figure size 1000x600 with 1 Axes>"
            ]
          },
          "metadata": {},
          "output_type": "display_data"
        }
      ],
      "source": [
        "# Filter by year\n",
        "latest_year = processed_df['year'].max()\n",
        "\n",
        "# 5 countries with lowest access to electricity\n",
        "bottom5 = df_year.sort_values(\"access_to_electricity\").head(5)[\"country\"].unique()\n",
        "\n",
        "# Filter the DataFrame for the bottom 5 countries\n",
        "df_violin = processed_df[processed_df[\"country\"].isin(bottom5)]\n",
        "\n",
        "# Create a violin plot for GDP per capita in the bottom 5 countries\n",
        "plt.figure(figsize=(10, 6))\n",
        "sns.violinplot(\n",
        "    data=df_violin,\n",
        "    x=\"country\",\n",
        "    y=\"gdp_per_capita\",\n",
        "    palette=\"Set2\"\n",
        ")\n",
        "\n",
        "plt.title(\"GDP per Capita Distribution in Countries with Lowest Electricity Access\")\n",
        "plt.xlabel(\"Country\")\n",
        "plt.ylabel(\"GDP per Capita (USD)\")\n",
        "plt.grid(True)\n",
        "plt.tight_layout()\n",
        "plt.show()\n",
        "\n",
        "\n"
      ]
    },
    {
      "cell_type": "code",
      "execution_count": 28,
      "metadata": {},
      "outputs": [
        {
          "name": "stderr",
          "output_type": "stream",
          "text": [
            "C:\\Users\\organ\\AppData\\Local\\Temp\\ipykernel_18720\\1770875444.py:6: SettingWithCopyWarning:\n",
            "\n",
            "\n",
            "A value is trying to be set on a copy of a slice from a DataFrame.\n",
            "Try using .loc[row_indexer,col_indexer] = value instead\n",
            "\n",
            "See the caveats in the documentation: https://pandas.pydata.org/pandas-docs/stable/user_guide/indexing.html#returning-a-view-versus-a-copy\n",
            "\n",
            "C:\\Users\\organ\\AppData\\Local\\Temp\\ipykernel_18720\\1770875444.py:15: FutureWarning:\n",
            "\n",
            "\n",
            "\n",
            "Passing `palette` without assigning `hue` is deprecated and will be removed in v0.14.0. Assign the `x` variable to `hue` and set `legend=False` for the same effect.\n",
            "\n",
            "\n"
          ]
        },
        {
          "data": {
            "image/png": "[encoded data removed]",
            "text/plain": [
              "<Figure size 1000x600 with 1 Axes>"
            ]
          },
          "metadata": {},
          "output_type": "display_data"
        }
      ],
      "source": [
        "# select the countries with the highest and lowest access to electricity\n",
        "bottom5 = df_year.sort_values(\"access_to_electricity\").head(5)[\"country\"].unique()\n",
        "top5 = df_year.sort_values(\"access_to_electricity\", ascending=False).head(5)[\"country\"].unique()\n",
        "\n",
        "# create a new column to categorize countries based on their access to electricity\n",
        "df_year[\"access_group\"] = df_year[\"country\"].apply(\n",
        "    lambda x: \"High Access\" if x in top5 else (\"Low Access\" if x in bottom5 else \"Other\")\n",
        ")\n",
        "\n",
        "# filter the DataFrame to include only the high and low access groups\n",
        "df_violin = df_year[df_year[\"access_group\"].isin([\"High Access\", \"Low Access\"])]\n",
        "\n",
        "# create a violin plot for GDP per capita in high vs low electricity access countries\n",
        "plt.figure(figsize=(10, 6))\n",
        "sns.violinplot(\n",
        "    data=df_violin,\n",
        "    x=\"access_group\",\n",
        "    y=\"gdp_per_capita\",\n",
        "    palette=\"Set2\"\n",
        ")\n",
        "plt.title(\"GDP per Capita Distribution in High vs Low Electricity Access Countries (2020)\")\n",
        "plt.xlabel(\"Electricity Access Group\")\n",
        "plt.ylabel(\"GDP per Capita (USD)\")\n",
        "plt.grid(True)\n",
        "plt.tight_layout()\n",
        "plt.show()\n"
      ]
    },
    {
      "cell_type": "markdown",
      "metadata": {},
      "source": [
        "### Interpretation of Violinplot: GDP per Capita in High vs Low Electricity Access Countries\n",
        "\n",
        "This violinplot compares the distribution of GDP per capita in 2020 for countries with the **highest** and **lowest** electricity access.\n",
        "\n",
        "- **High Access countries** show a wider and higher distribution, with most values above $10,000, suggesting stronger economies.\n",
        "- **Low Access countries** are more concentrated below $2,000, indicating lower economic development.\n",
        "\n",
        "This reinforces the idea that **economic capability supports infrastructure investment**, though as seen before, **exceptions exist**.\n",
        "\n",
        "The **violinplot** was chosen because it:\n",
        "- Shows the **full distribution** (unlike boxplots),\n",
        "- Allows us to spot **outliers, skewness, and spread**,\n",
        "- Is more informative than a simple barplot or mean comparison.\n"
      ]
    },
    {
      "cell_type": "code",
      "execution_count": 29,
      "metadata": {},
      "outputs": [
        {
          "data": {
            "image/png": "[encoded data removed]",
            "text/plain": [
              "<Figure size 640x480 with 1 Axes>"
            ]
          },
          "metadata": {},
          "output_type": "display_data"
        }
      ],
      "source": [
        "# scatter plot: gdp per capita vs access to clean fuels\n",
        "sns.scatterplot(\n",
        "    data=df_year,\n",
        "    x='gdp_per_capita',\n",
        "    y='access_to_clean_fuels'\n",
        ")\n",
        "plt.title('GDP per Capita vs Access to Clean Fuels (2020)')\n",
        "plt.xlabel('GDP per Capita (USD)')  \n",
        "plt.ylabel('Access to Clean Fuels (%)')\n",
        "plt.grid(True)\n",
        "plt.show()"
      ]
    },
    {
      "cell_type": "code",
      "execution_count": null,
      "metadata": {},
      "outputs": [],
      "source": [
        "# correlation between gdp per capita and access to electricity\n",
        "gdp_access_corr = df_year[['gdp_per_capita', 'access_to_electricity']].corr().iloc[0, 1]\n",
        "fuels_access_corr = df_year[['gdp_per_capita', 'access_to_clean_fuels']].corr().iloc[0, 1]\n",
        "print(f\"Correlation between GDP per Capita and Access to Electricity: {gdp_access_corr:.2f}\")\n",
        "print(f\"Correlation between GDP per Capita and Access to Clean Fuels: {fuels_access_corr:.2f}\")"
      ]
    },
    {
      "cell_type": "markdown",
      "metadata": {},
      "source": [
        "**Interpretation of Hypothesis 1:**\n",
        "\n",
        "The data shows a **moderate positive correlation** between GDP per capita and access to electricity (**0.36**) and to clean fuels (**0.38**). This supports the hypothesis that economic development facilitates energy access.\n",
        "\n",
        "However, exceptions exist. For example:\n",
        "- **Vietnam** has a relatively low GDP per capita, but nearly **100% access to electricity and clean fuels**, showing effective energy policies despite modest income levels.\n",
        "- Conversely, **Chad** or **South Sudan**, with similar income levels, show access below **10%**, highlighting the influence of governance, infrastructure, and conflict.\n",
        "\n",
        "**Conclusion**: GDP per capita is a relevant factor but **not sufficient**. Other socioeconomic and political variables greatly impact energy access."
      ]
    },
    {
      "cell_type": "markdown",
      "metadata": {},
      "source": [
        "### Hypothesis 2: Renewable Growth vs Electricity Access Improvement\n",
        "\n",
        "This analysis compares the percentage growth in renewable electricity capacity per capita and the growth in access to electricity between 2000 and 2020.\n",
        "\n",
        "Note: Countries with 100% electricity access in the base year (2000) are going to be excluded from this analysis\n",
        "\n",
        "A scatter plot and correlation are used to evaluate whether increasing renewable capacity leads to better electricity access.\n"
      ]
    },
    {
      "cell_type": "code",
      "execution_count": null,
      "metadata": {},
      "outputs": [],
      "source": [
        "# select initial and final years\n",
        "initial_year = 2000\n",
        "final_year = 2020\n",
        "\n",
        "df_start = processed_df[processed_df['year'] == initial_year]\n",
        "df_end = processed_df[processed_df['year'] == final_year]\n",
        "\n",
        "# Merge the two DataFrames on 'country'\n",
        "df_merged = pd.merge(df_start[['country', 'access_to_electricity', 'renewable_capacity_per_capita']],\n",
        "                     df_end[['country', 'access_to_electricity', 'renewable_capacity_per_capita']],\n",
        "                     on='country', suffixes=('_start', '_end')\n",
        ")\n",
        "\n",
        "# filter out countries with 100% acess to electricity \n",
        "df_merged = df_merged[df_merged['access_to_electricity_start'] < 100]\n",
        "\n",
        "# calculate grow porcentage\n",
        "df_merged['access_to_electricity_growth'] = (\n",
        "    df_merged['access_to_electricity_end'] - df_merged['access_to_electricity_start']\n",
        ") / df_merged['access_to_electricity_start'] * 100\n",
        "\n",
        "df_merged['renewable_capacity_growth'] = (\n",
        "    df_merged['renewable_capacity_per_capita_end'] - df_merged['renewable_capacity_per_capita_start']\n",
        ") / df_merged['renewable_capacity_per_capita_start'] * 100\n",
        "\n",
        "# select top 10 countries with highest growth in access to electricity\n",
        "top10 = df_merged.sort_values(\"access_to_electricity_growth\", ascending=False).head(10)\n",
        "\n",
        "sns.scatterplot(\n",
        "    data=top10,\n",
        "    x='renewable_capacity_growth',\n",
        "    y='access_to_electricity_growth',\n",
        "    hue='country',\n",
        "    s=100,\n",
        "    palette='tab10'\n",
        ")\n",
        "\n",
        "# correlation\n",
        "correlation = df_merged[['renewable_capacity_growth', 'access_to_electricity_growth']].corr().iloc[0, 1]\n",
        "print(f\"Correlation between renewable capacity growth and electricity access growth: {correlation:.2f}\")"
      ]
    },
    {
      "cell_type": "markdown",
      "metadata": {},
      "source": [
        "**Interpretation of Hypothesis 2:**\n",
        "\n",
        "When comparing the percentage growth in **renewable electricity capacity per capita** with the growth in **access to electricity** between 2000 and 2020, the correlation is **very weak (-0.03)**.\n",
        "\n",
        "For instance:\n",
        "- **Ethiopia** saw an increase in electricity access of over **70%**, but with only moderate growth in renewable capacity.\n",
        "- **Paraguay**, despite high renewable capacity (mostly hydroelectric), shows minimal change in access rates, suggesting **existing saturation**.\n",
        "\n",
        "This indicates that renewable expansion **alone** does not explain improvements in electricity access. Factors like:\n",
        "- National grid development,\n",
        "- Rural electrification programs,\n",
        "- Fossil-based solutions (e.g., diesel),\n",
        "- Government intervention\n",
        "\n",
        "are also critical.\n",
        "\n",
        "**Conclusion**: The hypothesis is **not supported** by the data — renewable capacity growth **does not directly predict** improvements in energy access.\n"
      ]
    },
    {
      "cell_type": "markdown",
      "metadata": {},
      "source": [
        "### Hypothesis 3: Renewable energy share vs energy intensity\n",
        "\n",
        "This Hypothesis explores wether countries with a higher share of renewable energy tend to have lower intensity levels. \n",
        "Energy intensity measures how much energy is required to generate one unit of GDP. A lower value Indicates higher efficiency\n",
        "\n",
        "We use 2020 data and perform both visual and statistical analysis"
      ]
    },
    {
      "cell_type": "code",
      "execution_count": 32,
      "metadata": {},
      "outputs": [
        {
          "name": "stdout",
          "output_type": "stream",
          "text": [
            "Correlation between renewable energy share and energy intensity: 0.29\n"
          ]
        },
        {
          "data": {
            "image/png": "[encoded data removed]",
            "text/plain": [
              "<Figure size 640x480 with 1 Axes>"
            ]
          },
          "metadata": {},
          "output_type": "display_data"
        }
      ],
      "source": [
        "# filter data for the selected year\n",
        "df_year = processed_df[processed_df['year'] == year]\n",
        "\n",
        "# Calculate correlation between renewable energy share and energy intensity\n",
        "correlation = df_year['renewable_energy_share'].corr(df_year['energy_intensity'])\n",
        "print(f\"Correlation between renewable energy share and energy intensity: {correlation:.2f}\")\n",
        "\n",
        "# filter 10 random countries\n",
        "df_year = df_year.sample(n=10, random_state=42)\n",
        "\n",
        "# Create a scatter plot for renewable energy share  vs energy intensity\n",
        "plt.title(f'Renewable Energy Share vs Energy Intensity ({year})')\n",
        "sns.scatterplot(\n",
        "    data=df_year,\n",
        "    x='renewable_energy_share',\n",
        "    y='energy_intensity',\n",
        "    hue='country',\n",
        "    palette='viridis',\n",
        "    s=100\n",
        ")\n",
        "plt.xlabel('Renewable Energy Share (%)')\n",
        "plt.ylabel('Energy Intensity (MJ/$2017 PPP GDP)')\n",
        "plt.grid(True)\n",
        "plt.tight_layout()\n",
        "plt.show()\n",
        "\n"
      ]
    },
    {
      "cell_type": "markdown",
      "metadata": {},
      "source": [
        "**Interpretation of Hypothesis 3 (Global Data):**\n",
        "\n",
        "Using all available countries in 2020, the correlation between renewable energy share and energy intensity is **positive but weak (0.29)**.\n",
        "\n",
        "This contradicts the original hypothesis, which assumed that higher renewable share would correlate with lower energy intensity (greater efficiency). The data instead suggests that many countries with a strong renewable presence still consume relatively high energy per unit of GDP, likely due to structural or economic inefficiencies.\n",
        "\n",
        "*Note:* The visualization is limited to 10 countries \n",
        "\n",
        "The hypothesis is **not supported** by global data.\n"
      ]
    },
    {
      "cell_type": "markdown",
      "metadata": {},
      "source": [
        "### Hypothesis 4: Renewable capacity growth vs CO2 emissions growth\n",
        "\n",
        "THis hypothesis investigates whether countries that have significantly increased their renewable electricity capacity per capita between 2000 and 2020 have alse experienced a decrease in CO2 emissions.\n",
        "\n"
      ]
    },
    {
      "cell_type": "code",
      "execution_count": 33,
      "metadata": {},
      "outputs": [
        {
          "name": "stdout",
          "output_type": "stream",
          "text": [
            "Correlation between renewable capacity growth and CO2 emissions growth: 0.00\n"
          ]
        },
        {
          "data": {
            "image/png": "[encoded data removed]",
            "text/plain": [
              "<Figure size 640x480 with 1 Axes>"
            ]
          },
          "metadata": {},
          "output_type": "display_data"
        },
        {
          "data": {
            "image/png": "[encoded data removed]",
            "text/plain": [
              "<Figure size 1000x600 with 1 Axes>"
            ]
          },
          "metadata": {},
          "output_type": "display_data"
        },
        {
          "name": "stdout",
          "output_type": "stream",
          "text": [
            "Correlation between renewable capacity growth and CO2 emissions growth: 0.00\n"
          ]
        }
      ],
      "source": [
        "# select initial and final years\n",
        "initial_year = 2000\n",
        "final_year = 2020\n",
        "\n",
        "# filter data for initial and final years\n",
        "df_start = processed_df[processed_df['year'] == initial_year]\n",
        "df_end = processed_df[processed_df['year'] == final_year]\n",
        "\n",
        "\n",
        "\n",
        "\n",
        "# Merge the two DataFrames on 'country'\n",
        "df_merged = pd.merge(df_start[['country', 'renewable_capacity_per_capita', 'co2_emissions_kt']],\n",
        "                     df_end[['country', 'renewable_capacity_per_capita', 'co2_emissions_kt']],\n",
        "                     on='country', suffixes=('_start', '_end')\n",
        ")\n",
        "\n",
        "# There is a problem with the data, some countries have 0 renewable capacity per capita in the initial year and \n",
        "# this causes division by zero in the growth calculation. We will filter these out.\n",
        "df_merged = df_merged[df_merged['renewable_capacity_per_capita_start'] > 0]\n",
        "\n",
        "# calculate growth percentage\n",
        "df_merged['renewable_capacity_growth'] = (\n",
        "    df_merged['renewable_capacity_per_capita_end'] - df_merged['renewable_capacity_per_capita_start']\n",
        ") / df_merged['renewable_capacity_per_capita_start'] * 100\n",
        "\n",
        "df_merged['co2_emissions_growth'] = (\n",
        "    df_merged['co2_emissions_kt_end'] - df_merged['co2_emissions_kt_start']\n",
        ") / df_merged['co2_emissions_kt_start'] * 100\n",
        "\n",
        "# Calculate correlation between renewable capacity growth and CO2 emissions growth\n",
        "correlation = df_merged[['renewable_capacity_growth', 'co2_emissions_growth']].corr().iloc[0, 1]\n",
        "print(f\"Correlation between renewable capacity growth and CO2 emissions growth: {correlation:.2f}\")\n",
        "\n",
        "# select top 10 countries with highest growth in renewable capacity\n",
        "top10 = df_merged.sort_values(\"renewable_capacity_growth\", ascending=False).head(10)\n",
        "sns.scatterplot(\n",
        "    data=top10,\n",
        "    x='renewable_capacity_growth',\n",
        "    y='co2_emissions_growth',\n",
        "    hue='country',\n",
        "    s=100,\n",
        "    palette='tab10'\n",
        ")\n",
        "plt.title('Renewable Capacity Growth vs CO2 Emissions Growth (2000-2020)')\n",
        "plt.xlabel('Renewable Capacity Growth (%)')\n",
        "plt.ylabel('CO2 Emissions Growth (%)')\n",
        "plt.grid(True)\n",
        "plt.tight_layout()\n",
        "plt.show()\n",
        "\n",
        "# Create a scatter plot for renewable capacity growth vs CO2 emissions growth\n",
        "plt.figure(figsize=(10, 6))\n",
        "sns.scatterplot(\n",
        "    data=df_merged,\n",
        "    x='renewable_capacity_growth',\n",
        "    y='co2_emissions_growth',\n",
        "    s=80,\n",
        "    color='dodgerblue',\n",
        "    edgecolor='black'\n",
        ")\n",
        "plt.title('Renewable Capacity Growth vs CO₂ Emissions Growth (2000–2020)')\n",
        "plt.xlabel('Renewable Capacity Growth (%)')\n",
        "plt.ylabel('CO₂ Emissions Growth (%)')\n",
        "plt.grid(True)\n",
        "plt.tight_layout()\n",
        "plt.show()\n",
        "\n",
        "\n",
        "# Calculate correlation between renewable capacity growth and CO2 emissions growth\n",
        "correlation = df_merged[['renewable_capacity_growth', 'co2_emissions_growth']].corr().iloc[0, 1]\n",
        "print(f\"Correlation between renewable capacity growth and CO2 emissions growth: {correlation:.2f}\")"
      ]
    },
    {
      "cell_type": "markdown",
      "metadata": {},
      "source": [
        "### Hypothesis 4: Renewable Growth vs CO₂ Emissions Reduction\n",
        "\n",
        "This hypothesis proposed that countries increasing their renewable electricity capacity per capita would also reduce their CO₂ emissions over time.\n",
        "\n",
        "However, analysis of data from 2000 to 2020 shows **no meaningful correlation** between these two variables (r = 0.00). Many countries that expanded renewable infrastructure also increased emissions, likely due to:\n",
        "\n",
        "- Parallel expansion of fossil fuel energy,\n",
        "- Industrial growth outpacing decarbonization,\n",
        "- Or use of renewables without displacing carbon-intensive sources.\n",
        "\n",
        "Therefore, the hypothesis is **not supported** by the global data. A renewable energy transition alone does not guarantee reduced emissions — broader systemic changes are needed.\n"
      ]
    },
    {
      "cell_type": "markdown",
      "metadata": {},
      "source": [
        "### Predictive model"
      ]
    },
    {
      "cell_type": "markdown",
      "metadata": {},
      "source": [
        "---"
      ]
    },
    {
      "cell_type": "markdown",
      "metadata": {},
      "source": [
        "NOTE"
      ]
    },
    {
      "cell_type": "markdown",
      "metadata": {},
      "source": [
        "* You may add as many sections as you want, as long as it supports your project workflow.\n",
        "* All notebook's cells should be run top-down (you can't create a dynamic wherein a given point you need to go back to a previous cell to execute some task, like go back to a previous cell and refresh a variable content)"
      ]
    },
    {
      "cell_type": "markdown",
      "metadata": {},
      "source": [
        "---"
      ]
    },
    {
      "cell_type": "markdown",
      "metadata": {
        "id": "ltNetd085qHf"
      },
      "source": [
        "# Push files to Repo"
      ]
    },
    {
      "cell_type": "markdown",
      "metadata": {},
      "source": [
        "* In cases where you don't need to push files to Repo, you may replace this section with \"Conclusions and Next Steps\" and state your conclusions and next steps."
      ]
    },
    {
      "cell_type": "code",
      "execution_count": null,
      "metadata": {
        "id": "aKlnIozA4eQO",
        "outputId": "fd09bc1f-adb1-4511-f6ce-492a6af570c0"
      },
      "outputs": [],
      "source": [
        "import os\n",
        "try:\n",
        "  # create your folder here\n",
        "  # os.makedirs(name='')\n",
        "except Exception as e:\n",
        "  print(e)\n"
      ]
    }
  ],
  "metadata": {
    "accelerator": "GPU",
    "colab": {
      "name": "Data Practitioner Jupyter Notebook.ipynb",
      "provenance": [],
      "toc_visible": true
    },
    "kernelspec": {
      "display_name": ".venv",
      "language": "python",
      "name": "python3"
    },
    "language_info": {
      "codemirror_mode": {
        "name": "ipython",
        "version": 3
      },
      "file_extension": ".py",
      "mimetype": "text/x-python",
      "name": "python",
      "nbconvert_exporter": "python",
      "pygments_lexer": "ipython3",
      "version": "3.12.10"
    },
    "orig_nbformat": 2
  },
  "nbformat": 4,
  "nbformat_minor": 2
}
